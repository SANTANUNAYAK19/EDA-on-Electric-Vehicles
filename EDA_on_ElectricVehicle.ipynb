{
 "cells": [
  {
   "cell_type": "code",
   "execution_count": 12,
   "id": "35d27ff2-1d05-4917-8bc3-93fec94c3d0b",
   "metadata": {},
   "outputs": [
    {
     "name": "stdout",
     "output_type": "stream",
     "text": [
      "Requirement already satisfied: plotly in c:\\users\\hp\\anaconda3\\lib\\site-packages (5.22.0)\n",
      "Requirement already satisfied: tenacity>=6.2.0 in c:\\users\\hp\\anaconda3\\lib\\site-packages (from plotly) (8.2.2)\n",
      "Requirement already satisfied: packaging in c:\\users\\hp\\anaconda3\\lib\\site-packages (from plotly) (23.2)\n"
     ]
    }
   ],
   "source": [
    "!pip install plotly"
   ]
  },
  {
   "cell_type": "code",
   "execution_count": 13,
   "id": "1cbc1e99-ac8b-43f0-b765-d7feab4a5207",
   "metadata": {},
   "outputs": [
    {
     "name": "stdout",
     "output_type": "stream",
     "text": [
      "Collecting bar-chart-race\n",
      "  Downloading bar_chart_race-0.1.0-py3-none-any.whl.metadata (4.2 kB)\n",
      "Requirement already satisfied: pandas>=0.24 in c:\\users\\hp\\anaconda3\\lib\\site-packages (from bar-chart-race) (2.2.2)\n",
      "Requirement already satisfied: matplotlib>=3.1 in c:\\users\\hp\\anaconda3\\lib\\site-packages (from bar-chart-race) (3.8.4)\n",
      "Requirement already satisfied: contourpy>=1.0.1 in c:\\users\\hp\\anaconda3\\lib\\site-packages (from matplotlib>=3.1->bar-chart-race) (1.2.0)\n",
      "Requirement already satisfied: cycler>=0.10 in c:\\users\\hp\\anaconda3\\lib\\site-packages (from matplotlib>=3.1->bar-chart-race) (0.11.0)\n",
      "Requirement already satisfied: fonttools>=4.22.0 in c:\\users\\hp\\anaconda3\\lib\\site-packages (from matplotlib>=3.1->bar-chart-race) (4.51.0)\n",
      "Requirement already satisfied: kiwisolver>=1.3.1 in c:\\users\\hp\\anaconda3\\lib\\site-packages (from matplotlib>=3.1->bar-chart-race) (1.4.4)\n",
      "Requirement already satisfied: numpy>=1.21 in c:\\users\\hp\\anaconda3\\lib\\site-packages (from matplotlib>=3.1->bar-chart-race) (1.26.4)\n",
      "Requirement already satisfied: packaging>=20.0 in c:\\users\\hp\\anaconda3\\lib\\site-packages (from matplotlib>=3.1->bar-chart-race) (23.2)\n",
      "Requirement already satisfied: pillow>=8 in c:\\users\\hp\\anaconda3\\lib\\site-packages (from matplotlib>=3.1->bar-chart-race) (10.3.0)\n",
      "Requirement already satisfied: pyparsing>=2.3.1 in c:\\users\\hp\\anaconda3\\lib\\site-packages (from matplotlib>=3.1->bar-chart-race) (3.0.9)\n",
      "Requirement already satisfied: python-dateutil>=2.7 in c:\\users\\hp\\anaconda3\\lib\\site-packages (from matplotlib>=3.1->bar-chart-race) (2.9.0.post0)\n",
      "Requirement already satisfied: pytz>=2020.1 in c:\\users\\hp\\anaconda3\\lib\\site-packages (from pandas>=0.24->bar-chart-race) (2024.1)\n",
      "Requirement already satisfied: tzdata>=2022.7 in c:\\users\\hp\\anaconda3\\lib\\site-packages (from pandas>=0.24->bar-chart-race) (2023.3)\n",
      "Requirement already satisfied: six>=1.5 in c:\\users\\hp\\anaconda3\\lib\\site-packages (from python-dateutil>=2.7->matplotlib>=3.1->bar-chart-race) (1.16.0)\n",
      "Downloading bar_chart_race-0.1.0-py3-none-any.whl (156 kB)\n",
      "   ---------------------------------------- 0.0/156.8 kB ? eta -:--:--\n",
      "   ---------------------------------------- 0.0/156.8 kB ? eta -:--:--\n",
      "   ---------------------------------------- 0.0/156.8 kB ? eta -:--:--\n",
      "   ------- -------------------------------- 30.7/156.8 kB ? eta -:--:--\n",
      "   ------- -------------------------------- 30.7/156.8 kB ? eta -:--:--\n",
      "   ------- -------------------------------- 30.7/156.8 kB ? eta -:--:--\n",
      "   ------- -------------------------------- 30.7/156.8 kB ? eta -:--:--\n",
      "   ------- -------------------------------- 30.7/156.8 kB ? eta -:--:--\n",
      "   ------- -------------------------------- 30.7/156.8 kB ? eta -:--:--\n",
      "   ------- -------------------------------- 30.7/156.8 kB ? eta -:--:--\n",
      "   ------- -------------------------------- 30.7/156.8 kB ? eta -:--:--\n",
      "   ---------- ----------------------------- 41.0/156.8 kB 81.9 kB/s eta 0:00:02\n",
      "   --------------- ----------------------- 61.4/156.8 kB 126.1 kB/s eta 0:00:01\n",
      "   --------------- ----------------------- 61.4/156.8 kB 126.1 kB/s eta 0:00:01\n",
      "   --------------- ----------------------- 61.4/156.8 kB 126.1 kB/s eta 0:00:01\n",
      "   --------------- ----------------------- 61.4/156.8 kB 126.1 kB/s eta 0:00:01\n",
      "   -------------------- ------------------ 81.9/156.8 kB 117.7 kB/s eta 0:00:01\n",
      "   ---------------------- ---------------- 92.2/156.8 kB 124.9 kB/s eta 0:00:01\n",
      "   ---------------------- ---------------- 92.2/156.8 kB 124.9 kB/s eta 0:00:01\n",
      "   ---------------------- ---------------- 92.2/156.8 kB 124.9 kB/s eta 0:00:01\n",
      "   ---------------------- ---------------- 92.2/156.8 kB 124.9 kB/s eta 0:00:01\n",
      "   ---------------------- ---------------- 92.2/156.8 kB 124.9 kB/s eta 0:00:01\n",
      "   ---------------------- ---------------- 92.2/156.8 kB 124.9 kB/s eta 0:00:01\n",
      "   ---------------------- ---------------- 92.2/156.8 kB 124.9 kB/s eta 0:00:01\n",
      "   --------------------------- ---------- 112.6/156.8 kB 105.8 kB/s eta 0:00:01\n",
      "   --------------------------- ---------- 112.6/156.8 kB 105.8 kB/s eta 0:00:01\n",
      "   --------------------------- ---------- 112.6/156.8 kB 105.8 kB/s eta 0:00:01\n",
      "   ----------------------------- -------- 122.9/156.8 kB 100.1 kB/s eta 0:00:01\n",
      "   ----------------------------- -------- 122.9/156.8 kB 100.1 kB/s eta 0:00:01\n",
      "   -------------------------------------  153.6/156.8 kB 117.7 kB/s eta 0:00:01\n",
      "   -------------------------------------- 156.8/156.8 kB 117.3 kB/s eta 0:00:00\n",
      "Installing collected packages: bar-chart-race\n",
      "Successfully installed bar-chart-race-0.1.0\n"
     ]
    }
   ],
   "source": [
    "!pip install bar-chart-race"
   ]
  },
  {
   "cell_type": "code",
   "execution_count": 53,
   "id": "fa98a4b5-f015-4892-b2d6-97c3b1c34fa7",
   "metadata": {},
   "outputs": [],
   "source": [
    "import pandas as pd\n",
    "import numpy as np\n",
    "import matplotlib.pyplot as plt\n",
    "import seaborn as sns\n",
    "import warnings\n",
    "warnings.filterwarnings('ignore')"
   ]
  },
  {
   "cell_type": "code",
   "execution_count": 18,
   "id": "e53ac06d-34f2-466f-9870-9f45be01a217",
   "metadata": {},
   "outputs": [],
   "source": [
    "df = pd.read_csv(r\"C:\\Users\\HP\\Downloads\\Electric Vehicle.csv\")"
   ]
  },
  {
   "cell_type": "markdown",
   "id": "a3ad5713-6610-4654-bd7a-50602b28ebac",
   "metadata": {},
   "source": [
    "### Task -1 (EDA)"
   ]
  },
  {
   "cell_type": "code",
   "execution_count": 19,
   "id": "3a5b8cd4-3b70-416e-8ee3-d6779f0b4313",
   "metadata": {},
   "outputs": [
    {
     "data": {
      "text/html": [
       "<div>\n",
       "<style scoped>\n",
       "    .dataframe tbody tr th:only-of-type {\n",
       "        vertical-align: middle;\n",
       "    }\n",
       "\n",
       "    .dataframe tbody tr th {\n",
       "        vertical-align: top;\n",
       "    }\n",
       "\n",
       "    .dataframe thead th {\n",
       "        text-align: right;\n",
       "    }\n",
       "</style>\n",
       "<table border=\"1\" class=\"dataframe\">\n",
       "  <thead>\n",
       "    <tr style=\"text-align: right;\">\n",
       "      <th></th>\n",
       "      <th>VIN (1-10)</th>\n",
       "      <th>County</th>\n",
       "      <th>City</th>\n",
       "      <th>State</th>\n",
       "      <th>Postal Code</th>\n",
       "      <th>Model Year</th>\n",
       "      <th>Make</th>\n",
       "      <th>Model</th>\n",
       "      <th>Electric Vehicle Type</th>\n",
       "      <th>Clean Alternative Fuel Vehicle (CAFV) Eligibility</th>\n",
       "      <th>Electric Range</th>\n",
       "      <th>Base MSRP</th>\n",
       "      <th>Legislative District</th>\n",
       "      <th>DOL Vehicle ID</th>\n",
       "      <th>Vehicle Location</th>\n",
       "      <th>Electric Utility</th>\n",
       "      <th>2020 Census Tract</th>\n",
       "    </tr>\n",
       "  </thead>\n",
       "  <tbody>\n",
       "    <tr>\n",
       "      <th>0</th>\n",
       "      <td>JTMEB3FV6N</td>\n",
       "      <td>Monroe</td>\n",
       "      <td>Key West</td>\n",
       "      <td>FL</td>\n",
       "      <td>33040</td>\n",
       "      <td>2022</td>\n",
       "      <td>TOYOTA</td>\n",
       "      <td>RAV4 PRIME</td>\n",
       "      <td>Plug-in Hybrid Electric Vehicle (PHEV)</td>\n",
       "      <td>Clean Alternative Fuel Vehicle Eligible</td>\n",
       "      <td>42</td>\n",
       "      <td>0</td>\n",
       "      <td>NaN</td>\n",
       "      <td>198968248</td>\n",
       "      <td>POINT (-81.80023 24.5545)</td>\n",
       "      <td>NaN</td>\n",
       "      <td>12087972100</td>\n",
       "    </tr>\n",
       "    <tr>\n",
       "      <th>1</th>\n",
       "      <td>1G1RD6E45D</td>\n",
       "      <td>Clark</td>\n",
       "      <td>Laughlin</td>\n",
       "      <td>NV</td>\n",
       "      <td>89029</td>\n",
       "      <td>2013</td>\n",
       "      <td>CHEVROLET</td>\n",
       "      <td>VOLT</td>\n",
       "      <td>Plug-in Hybrid Electric Vehicle (PHEV)</td>\n",
       "      <td>Clean Alternative Fuel Vehicle Eligible</td>\n",
       "      <td>38</td>\n",
       "      <td>0</td>\n",
       "      <td>NaN</td>\n",
       "      <td>5204412</td>\n",
       "      <td>POINT (-114.57245 35.16815)</td>\n",
       "      <td>NaN</td>\n",
       "      <td>32003005702</td>\n",
       "    </tr>\n",
       "    <tr>\n",
       "      <th>2</th>\n",
       "      <td>JN1AZ0CP8B</td>\n",
       "      <td>Yakima</td>\n",
       "      <td>Yakima</td>\n",
       "      <td>WA</td>\n",
       "      <td>98901</td>\n",
       "      <td>2011</td>\n",
       "      <td>NISSAN</td>\n",
       "      <td>LEAF</td>\n",
       "      <td>Battery Electric Vehicle (BEV)</td>\n",
       "      <td>Clean Alternative Fuel Vehicle Eligible</td>\n",
       "      <td>73</td>\n",
       "      <td>0</td>\n",
       "      <td>15.0</td>\n",
       "      <td>218972519</td>\n",
       "      <td>POINT (-120.50721 46.60448)</td>\n",
       "      <td>PACIFICORP</td>\n",
       "      <td>53077001602</td>\n",
       "    </tr>\n",
       "    <tr>\n",
       "      <th>3</th>\n",
       "      <td>1G1FW6S08H</td>\n",
       "      <td>Skagit</td>\n",
       "      <td>Concrete</td>\n",
       "      <td>WA</td>\n",
       "      <td>98237</td>\n",
       "      <td>2017</td>\n",
       "      <td>CHEVROLET</td>\n",
       "      <td>BOLT EV</td>\n",
       "      <td>Battery Electric Vehicle (BEV)</td>\n",
       "      <td>Clean Alternative Fuel Vehicle Eligible</td>\n",
       "      <td>238</td>\n",
       "      <td>0</td>\n",
       "      <td>39.0</td>\n",
       "      <td>186750406</td>\n",
       "      <td>POINT (-121.7515 48.53892)</td>\n",
       "      <td>PUGET SOUND ENERGY INC</td>\n",
       "      <td>53057951101</td>\n",
       "    </tr>\n",
       "    <tr>\n",
       "      <th>4</th>\n",
       "      <td>3FA6P0SU1K</td>\n",
       "      <td>Snohomish</td>\n",
       "      <td>Everett</td>\n",
       "      <td>WA</td>\n",
       "      <td>98201</td>\n",
       "      <td>2019</td>\n",
       "      <td>FORD</td>\n",
       "      <td>FUSION</td>\n",
       "      <td>Plug-in Hybrid Electric Vehicle (PHEV)</td>\n",
       "      <td>Not eligible due to low battery range</td>\n",
       "      <td>26</td>\n",
       "      <td>0</td>\n",
       "      <td>38.0</td>\n",
       "      <td>2006714</td>\n",
       "      <td>POINT (-122.20596 47.97659)</td>\n",
       "      <td>PUGET SOUND ENERGY INC</td>\n",
       "      <td>53061041500</td>\n",
       "    </tr>\n",
       "  </tbody>\n",
       "</table>\n",
       "</div>"
      ],
      "text/plain": [
       "   VIN (1-10)     County      City State  Postal Code  Model Year       Make  \\\n",
       "0  JTMEB3FV6N     Monroe  Key West    FL        33040        2022     TOYOTA   \n",
       "1  1G1RD6E45D      Clark  Laughlin    NV        89029        2013  CHEVROLET   \n",
       "2  JN1AZ0CP8B     Yakima    Yakima    WA        98901        2011     NISSAN   \n",
       "3  1G1FW6S08H     Skagit  Concrete    WA        98237        2017  CHEVROLET   \n",
       "4  3FA6P0SU1K  Snohomish   Everett    WA        98201        2019       FORD   \n",
       "\n",
       "        Model                   Electric Vehicle Type  \\\n",
       "0  RAV4 PRIME  Plug-in Hybrid Electric Vehicle (PHEV)   \n",
       "1        VOLT  Plug-in Hybrid Electric Vehicle (PHEV)   \n",
       "2        LEAF          Battery Electric Vehicle (BEV)   \n",
       "3     BOLT EV          Battery Electric Vehicle (BEV)   \n",
       "4      FUSION  Plug-in Hybrid Electric Vehicle (PHEV)   \n",
       "\n",
       "  Clean Alternative Fuel Vehicle (CAFV) Eligibility  Electric Range  \\\n",
       "0           Clean Alternative Fuel Vehicle Eligible              42   \n",
       "1           Clean Alternative Fuel Vehicle Eligible              38   \n",
       "2           Clean Alternative Fuel Vehicle Eligible              73   \n",
       "3           Clean Alternative Fuel Vehicle Eligible             238   \n",
       "4             Not eligible due to low battery range              26   \n",
       "\n",
       "   Base MSRP  Legislative District  DOL Vehicle ID  \\\n",
       "0          0                   NaN       198968248   \n",
       "1          0                   NaN         5204412   \n",
       "2          0                  15.0       218972519   \n",
       "3          0                  39.0       186750406   \n",
       "4          0                  38.0         2006714   \n",
       "\n",
       "              Vehicle Location        Electric Utility  2020 Census Tract  \n",
       "0    POINT (-81.80023 24.5545)                     NaN        12087972100  \n",
       "1  POINT (-114.57245 35.16815)                     NaN        32003005702  \n",
       "2  POINT (-120.50721 46.60448)              PACIFICORP        53077001602  \n",
       "3   POINT (-121.7515 48.53892)  PUGET SOUND ENERGY INC        53057951101  \n",
       "4  POINT (-122.20596 47.97659)  PUGET SOUND ENERGY INC        53061041500  "
      ]
     },
     "execution_count": 19,
     "metadata": {},
     "output_type": "execute_result"
    }
   ],
   "source": [
    "df.head()"
   ]
  },
  {
   "cell_type": "code",
   "execution_count": 20,
   "id": "7ca72e4d-6a3f-471a-a53a-833abb8339fa",
   "metadata": {},
   "outputs": [
    {
     "data": {
      "text/plain": [
       "(112634, 17)"
      ]
     },
     "execution_count": 20,
     "metadata": {},
     "output_type": "execute_result"
    }
   ],
   "source": [
    "df.shape"
   ]
  },
  {
   "cell_type": "code",
   "execution_count": 21,
   "id": "de9b7e6d-c7d5-47e9-ae59-0e0c7158f608",
   "metadata": {},
   "outputs": [
    {
     "data": {
      "text/html": [
       "<div>\n",
       "<style scoped>\n",
       "    .dataframe tbody tr th:only-of-type {\n",
       "        vertical-align: middle;\n",
       "    }\n",
       "\n",
       "    .dataframe tbody tr th {\n",
       "        vertical-align: top;\n",
       "    }\n",
       "\n",
       "    .dataframe thead th {\n",
       "        text-align: right;\n",
       "    }\n",
       "</style>\n",
       "<table border=\"1\" class=\"dataframe\">\n",
       "  <thead>\n",
       "    <tr style=\"text-align: right;\">\n",
       "      <th></th>\n",
       "      <th>Postal Code</th>\n",
       "      <th>Model Year</th>\n",
       "      <th>Electric Range</th>\n",
       "      <th>Base MSRP</th>\n",
       "      <th>Legislative District</th>\n",
       "      <th>DOL Vehicle ID</th>\n",
       "      <th>2020 Census Tract</th>\n",
       "    </tr>\n",
       "  </thead>\n",
       "  <tbody>\n",
       "    <tr>\n",
       "      <th>count</th>\n",
       "      <td>112634.000000</td>\n",
       "      <td>112634.000000</td>\n",
       "      <td>112634.000000</td>\n",
       "      <td>112634.000000</td>\n",
       "      <td>112348.000000</td>\n",
       "      <td>1.126340e+05</td>\n",
       "      <td>1.126340e+05</td>\n",
       "    </tr>\n",
       "    <tr>\n",
       "      <th>mean</th>\n",
       "      <td>98156.226850</td>\n",
       "      <td>2019.003365</td>\n",
       "      <td>87.812987</td>\n",
       "      <td>1793.439681</td>\n",
       "      <td>29.805604</td>\n",
       "      <td>1.994567e+08</td>\n",
       "      <td>5.296650e+10</td>\n",
       "    </tr>\n",
       "    <tr>\n",
       "      <th>std</th>\n",
       "      <td>2648.733064</td>\n",
       "      <td>2.892364</td>\n",
       "      <td>102.334216</td>\n",
       "      <td>10783.753486</td>\n",
       "      <td>14.700545</td>\n",
       "      <td>9.398427e+07</td>\n",
       "      <td>1.699104e+09</td>\n",
       "    </tr>\n",
       "    <tr>\n",
       "      <th>min</th>\n",
       "      <td>1730.000000</td>\n",
       "      <td>1997.000000</td>\n",
       "      <td>0.000000</td>\n",
       "      <td>0.000000</td>\n",
       "      <td>1.000000</td>\n",
       "      <td>4.777000e+03</td>\n",
       "      <td>1.101001e+09</td>\n",
       "    </tr>\n",
       "    <tr>\n",
       "      <th>25%</th>\n",
       "      <td>98052.000000</td>\n",
       "      <td>2017.000000</td>\n",
       "      <td>0.000000</td>\n",
       "      <td>0.000000</td>\n",
       "      <td>18.000000</td>\n",
       "      <td>1.484142e+08</td>\n",
       "      <td>5.303301e+10</td>\n",
       "    </tr>\n",
       "    <tr>\n",
       "      <th>50%</th>\n",
       "      <td>98119.000000</td>\n",
       "      <td>2020.000000</td>\n",
       "      <td>32.000000</td>\n",
       "      <td>0.000000</td>\n",
       "      <td>34.000000</td>\n",
       "      <td>1.923896e+08</td>\n",
       "      <td>5.303303e+10</td>\n",
       "    </tr>\n",
       "    <tr>\n",
       "      <th>75%</th>\n",
       "      <td>98370.000000</td>\n",
       "      <td>2022.000000</td>\n",
       "      <td>208.000000</td>\n",
       "      <td>0.000000</td>\n",
       "      <td>43.000000</td>\n",
       "      <td>2.191899e+08</td>\n",
       "      <td>5.305307e+10</td>\n",
       "    </tr>\n",
       "    <tr>\n",
       "      <th>max</th>\n",
       "      <td>99701.000000</td>\n",
       "      <td>2023.000000</td>\n",
       "      <td>337.000000</td>\n",
       "      <td>845000.000000</td>\n",
       "      <td>49.000000</td>\n",
       "      <td>4.792548e+08</td>\n",
       "      <td>5.603300e+10</td>\n",
       "    </tr>\n",
       "  </tbody>\n",
       "</table>\n",
       "</div>"
      ],
      "text/plain": [
       "         Postal Code     Model Year  Electric Range      Base MSRP  \\\n",
       "count  112634.000000  112634.000000   112634.000000  112634.000000   \n",
       "mean    98156.226850    2019.003365       87.812987    1793.439681   \n",
       "std      2648.733064       2.892364      102.334216   10783.753486   \n",
       "min      1730.000000    1997.000000        0.000000       0.000000   \n",
       "25%     98052.000000    2017.000000        0.000000       0.000000   \n",
       "50%     98119.000000    2020.000000       32.000000       0.000000   \n",
       "75%     98370.000000    2022.000000      208.000000       0.000000   \n",
       "max     99701.000000    2023.000000      337.000000  845000.000000   \n",
       "\n",
       "       Legislative District  DOL Vehicle ID  2020 Census Tract  \n",
       "count         112348.000000    1.126340e+05       1.126340e+05  \n",
       "mean              29.805604    1.994567e+08       5.296650e+10  \n",
       "std               14.700545    9.398427e+07       1.699104e+09  \n",
       "min                1.000000    4.777000e+03       1.101001e+09  \n",
       "25%               18.000000    1.484142e+08       5.303301e+10  \n",
       "50%               34.000000    1.923896e+08       5.303303e+10  \n",
       "75%               43.000000    2.191899e+08       5.305307e+10  \n",
       "max               49.000000    4.792548e+08       5.603300e+10  "
      ]
     },
     "execution_count": 21,
     "metadata": {},
     "output_type": "execute_result"
    }
   ],
   "source": [
    "df.describe()"
   ]
  },
  {
   "cell_type": "code",
   "execution_count": 22,
   "id": "60cf6213-8405-4ee0-b824-62a0a514eee0",
   "metadata": {},
   "outputs": [
    {
     "name": "stdout",
     "output_type": "stream",
     "text": [
      "<class 'pandas.core.frame.DataFrame'>\n",
      "RangeIndex: 112634 entries, 0 to 112633\n",
      "Data columns (total 17 columns):\n",
      " #   Column                                             Non-Null Count   Dtype  \n",
      "---  ------                                             --------------   -----  \n",
      " 0   VIN (1-10)                                         112634 non-null  object \n",
      " 1   County                                             112634 non-null  object \n",
      " 2   City                                               112634 non-null  object \n",
      " 3   State                                              112634 non-null  object \n",
      " 4   Postal Code                                        112634 non-null  int64  \n",
      " 5   Model Year                                         112634 non-null  int64  \n",
      " 6   Make                                               112634 non-null  object \n",
      " 7   Model                                              112614 non-null  object \n",
      " 8   Electric Vehicle Type                              112634 non-null  object \n",
      " 9   Clean Alternative Fuel Vehicle (CAFV) Eligibility  112634 non-null  object \n",
      " 10  Electric Range                                     112634 non-null  int64  \n",
      " 11  Base MSRP                                          112634 non-null  int64  \n",
      " 12  Legislative District                               112348 non-null  float64\n",
      " 13  DOL Vehicle ID                                     112634 non-null  int64  \n",
      " 14  Vehicle Location                                   112610 non-null  object \n",
      " 15  Electric Utility                                   112191 non-null  object \n",
      " 16  2020 Census Tract                                  112634 non-null  int64  \n",
      "dtypes: float64(1), int64(6), object(10)\n",
      "memory usage: 14.6+ MB\n"
     ]
    }
   ],
   "source": [
    "df.info()"
   ]
  },
  {
   "cell_type": "code",
   "execution_count": 23,
   "id": "7e20fb50-89df-47b9-92ba-1cd9a585a256",
   "metadata": {},
   "outputs": [
    {
     "data": {
      "text/plain": [
       "VIN (1-10)                                             0\n",
       "County                                                 0\n",
       "City                                                   0\n",
       "State                                                  0\n",
       "Postal Code                                            0\n",
       "Model Year                                             0\n",
       "Make                                                   0\n",
       "Model                                                 20\n",
       "Electric Vehicle Type                                  0\n",
       "Clean Alternative Fuel Vehicle (CAFV) Eligibility      0\n",
       "Electric Range                                         0\n",
       "Base MSRP                                              0\n",
       "Legislative District                                 286\n",
       "DOL Vehicle ID                                         0\n",
       "Vehicle Location                                      24\n",
       "Electric Utility                                     443\n",
       "2020 Census Tract                                      0\n",
       "dtype: int64"
      ]
     },
     "execution_count": 23,
     "metadata": {},
     "output_type": "execute_result"
    }
   ],
   "source": [
    "df.isnull().sum()"
   ]
  },
  {
   "cell_type": "code",
   "execution_count": 24,
   "id": "bb2ed663-11b9-486b-9435-b7f1c9f2118d",
   "metadata": {},
   "outputs": [
    {
     "data": {
      "text/plain": [
       "0"
      ]
     },
     "execution_count": 24,
     "metadata": {},
     "output_type": "execute_result"
    }
   ],
   "source": [
    "df.duplicated().sum()"
   ]
  },
  {
   "cell_type": "code",
   "execution_count": 25,
   "id": "913df155-a4d2-4917-a1f2-500913cae66c",
   "metadata": {},
   "outputs": [],
   "source": [
    "df['Model'] = df['Model'].fillna(df['Model'].mode()[0])\n",
    "df['Legislative District'] = df['Legislative District'].fillna(df['Legislative District'].mean())\n",
    "df['Vehicle Location'] = df['Vehicle Location'].fillna(df['Vehicle Location'].mode()[0])\n",
    "df['Electric Utility'] = df['Electric Utility'].fillna(df['Electric Utility'].mode()[0])"
   ]
  },
  {
   "cell_type": "code",
   "execution_count": 26,
   "id": "f929313d-5099-49f1-8be2-c43f8c60f93d",
   "metadata": {},
   "outputs": [
    {
     "data": {
      "text/plain": [
       "VIN (1-10)                                           0\n",
       "County                                               0\n",
       "City                                                 0\n",
       "State                                                0\n",
       "Postal Code                                          0\n",
       "Model Year                                           0\n",
       "Make                                                 0\n",
       "Model                                                0\n",
       "Electric Vehicle Type                                0\n",
       "Clean Alternative Fuel Vehicle (CAFV) Eligibility    0\n",
       "Electric Range                                       0\n",
       "Base MSRP                                            0\n",
       "Legislative District                                 0\n",
       "DOL Vehicle ID                                       0\n",
       "Vehicle Location                                     0\n",
       "Electric Utility                                     0\n",
       "2020 Census Tract                                    0\n",
       "dtype: int64"
      ]
     },
     "execution_count": 26,
     "metadata": {},
     "output_type": "execute_result"
    }
   ],
   "source": [
    "df.isnull().sum()"
   ]
  },
  {
   "cell_type": "code",
   "execution_count": 27,
   "id": "55f11a2c-d2eb-4bf4-b4ab-e2f665beb15d",
   "metadata": {},
   "outputs": [
    {
     "data": {
      "text/plain": [
       "Index(['VIN (1-10)', 'County', 'City', 'State', 'Postal Code', 'Model Year',\n",
       "       'Make', 'Model', 'Electric Vehicle Type',\n",
       "       'Clean Alternative Fuel Vehicle (CAFV) Eligibility', 'Electric Range',\n",
       "       'Base MSRP', 'Legislative District', 'DOL Vehicle ID',\n",
       "       'Vehicle Location', 'Electric Utility', '2020 Census Tract'],\n",
       "      dtype='object')"
      ]
     },
     "execution_count": 27,
     "metadata": {},
     "output_type": "execute_result"
    }
   ],
   "source": [
    "df.columns"
   ]
  },
  {
   "cell_type": "markdown",
   "id": "6c3a55f3-f162-4a2f-bf77-1199e7d192a3",
   "metadata": {},
   "source": [
    "### Univariate Analysis"
   ]
  },
  {
   "cell_type": "code",
   "execution_count": 52,
   "id": "1de9ab75-c751-452c-af38-b7c235db667b",
   "metadata": {},
   "outputs": [
    {
     "data": {
      "image/png": "[encoded data removed]",
      "text/plain": [
       "<Figure size 800x600 with 1 Axes>"
      ]
     },
     "metadata": {},
     "output_type": "display_data"
    }
   ],
   "source": [
    "plt.figure(figsize=(8, 6))\n",
    "sns.histplot(df['Electric Range'], bins=20, color='green', edgecolor='black')\n",
    "plt.title('Distribution of Electric Range', fontsize=16, fontweight='bold', color='#333')\n",
    "plt.xlabel('Electric Range (Miles)', fontsize=12, fontweight='medium')\n",
    "plt.ylabel('Frequency', fontsize=12, fontweight='medium')\n",
    "plt.xticks(rotation=90, fontsize=10)\n",
    "plt.yticks(fontsize=10)\n",
    "plt.grid(True, linestyle='--', alpha=0.6)\n",
    "plt.show()"
   ]
  },
  {
   "cell_type": "code",
   "execution_count": 51,
   "id": "c634bc54-9204-48c7-9f5f-a460b3b5cfab",
   "metadata": {},
   "outputs": [
    {
     "data": {
      "image/png": "[encoded data removed]",
      "text/plain": [
       "<Figure size 800x600 with 1 Axes>"
      ]
     },
     "metadata": {},
     "output_type": "display_data"
    }
   ],
   "source": [
    "plt.figure(figsize=(8, 6)) \n",
    "\n",
    "sns.histplot(df['Model Year'], bins=20, color='blue', edgecolor='black')\n",
    "plt.title('Distribution of Model Year', fontsize=16, fontweight='bold', color='#333')\n",
    "plt.xlabel('Model Year', fontsize=12, fontweight='medium')\n",
    "plt.ylabel('Frequency', fontsize=12, fontweight='medium')\n",
    "plt.xticks(fontsize=10)\n",
    "plt.yticks(fontsize=10)\n",
    "plt.grid(True, linestyle='--', alpha=0.6)\n",
    "plt.show()"
   ]
  },
  {
   "cell_type": "code",
   "execution_count": 50,
   "id": "9e558d14-f2cc-460a-aea4-b6f4b453b355",
   "metadata": {},
   "outputs": [
    {
     "data": {
      "image/png": "[encoded data removed]",
      "text/plain": [
       "<Figure size 800x600 with 1 Axes>"
      ]
     },
     "metadata": {},
     "output_type": "display_data"
    }
   ],
   "source": [
    "plt.figure(figsize=(8, 6))\n",
    "sns.histplot(df['Base MSRP'], bins=20, color='orange', edgecolor='black') \n",
    "plt.title('Distribution of Base MSRP', fontsize=16, fontweight='bold', color='#333')\n",
    "plt.xlabel('Base MSRP ($)', fontsize=12, fontweight='medium')\n",
    "plt.ylabel('Frequency', fontsize=12, fontweight='medium')\n",
    "plt.xticks(fontsize=10)\n",
    "plt.yticks(fontsize=10)\n",
    "plt.grid(True, linestyle='--', alpha=0.6)\n",
    "plt.show()"
   ]
  },
  {
   "cell_type": "code",
   "execution_count": 49,
   "id": "789f53ef-dfb0-4419-a51a-f5b138ff7dff",
   "metadata": {},
   "outputs": [
    {
     "data": {
      "image/png": "[encoded data removed]",
      "text/plain": [
       "<Figure size 800x600 with 1 Axes>"
      ]
     },
     "metadata": {},
     "output_type": "display_data"
    }
   ],
   "source": [
    "plt.figure(figsize=(8, 6))\n",
    "sns.histplot(df['2020 Census Tract'], bins=20, kde=True, color='green', edgecolor='black')\n",
    "plt.title('Distribution of 2020 Census Tract', fontsize=16, fontweight='bold', color='#333')\n",
    "plt.xlabel('2020 Census Tract', fontsize=12, fontweight='medium')\n",
    "plt.ylabel('Frequency', fontsize=12, fontweight='medium')\n",
    "plt.xticks(fontsize=10)\n",
    "plt.yticks(fontsize=10)\n",
    "plt.grid(True, linestyle='--', alpha=0.6)\n",
    "plt.show()"
   ]
  },
  {
   "cell_type": "markdown",
   "id": "2487c99d-4895-4101-8325-e7400f5fc664",
   "metadata": {},
   "source": [
    "### Bivariate Analysis"
   ]
  },
  {
   "cell_type": "code",
   "execution_count": 41,
   "id": "de8367a8-aa07-4aa3-99df-b48674e52abb",
   "metadata": {},
   "outputs": [
    {
     "data": {
      "image/png": "[encoded data removed]",
      "text/plain": [
       "<Figure size 800x600 with 1 Axes>"
      ]
     },
     "metadata": {},
     "output_type": "display_data"
    }
   ],
   "source": [
    "plt.figure(figsize=(8, 6))\n",
    "sns.barplot(x='Electric Vehicle Type', y='Base MSRP', data=df)\n",
    "plt.title('Distribution of Electric Vehicle Type based on Base MSRP', fontsize=16, fontweight='bold', color='black')\n",
    "plt.xlabel('Electric Vehicle Type', fontsize=12, fontweight='medium')\n",
    "plt.ylabel('Base MSRP ($)', fontsize=12, fontweight='medium')\n",
    "plt.xticks(rotation=90, fontsize=10)\n",
    "plt.grid(True, linestyle='--', alpha=0.6)\n",
    "plt.show()"
   ]
  },
  {
   "cell_type": "code",
   "execution_count": 48,
   "id": "cb30a396-9448-4f73-91ed-4e3ad25a9465",
   "metadata": {},
   "outputs": [
    {
     "data": {
      "image/png": "[encoded data removed]",
      "text/plain": [
       "<Figure size 800x600 with 1 Axes>"
      ]
     },
     "metadata": {},
     "output_type": "display_data"
    }
   ],
   "source": [
    "plt.figure(figsize=(8, 6))\n",
    "sns.boxplot(x='Electric Vehicle Type', y='Electric Range', data=df)\n",
    "plt.title('Electric Vehicle Type vs Electric Range', fontsize=16, fontweight='bold', color='black')\n",
    "plt.xlabel('Electric Vehicle Type', fontsize=12, fontweight='medium')\n",
    "plt.ylabel('Electric Range (Miles)', fontsize=12, fontweight='medium')\n",
    "plt.xticks(rotation=90, fontsize=10)\n",
    "plt.grid(True, linestyle='--', alpha=0.6)\n",
    "plt.show()"
   ]
  },
  {
   "cell_type": "code",
   "execution_count": 47,
   "id": "430d4bbf-b4e5-42d5-9ebc-7937b91afd21",
   "metadata": {},
   "outputs": [
    {
     "data": {
      "image/png": "[encoded data removed]",
      "text/plain": [
       "<Figure size 800x500 with 1 Axes>"
      ]
     },
     "metadata": {},
     "output_type": "display_data"
    }
   ],
   "source": [
    "plt.figure(figsize=(8, 5))\n",
    "sns.barplot(x='Electric Vehicle Type', y='Model Year', data=df)\n",
    "plt.title('Distribution of Electric Vehicle Type based on Model Year', fontsize=16, fontweight='bold', color='black')\n",
    "plt.xlabel('Electric Vehicle Type', fontsize=12, fontweight='medium')\n",
    "plt.ylabel('Model Year', fontsize=12, fontweight='medium')\n",
    "plt.xticks(rotation=90, fontsize=10)\n",
    "plt.grid(axis='y', linestyle='--', alpha=0.6)\n",
    "plt.show()"
   ]
  },
  {
   "cell_type": "markdown",
   "id": "8430916e-8f70-4aad-bdd0-b60d193b2e0c",
   "metadata": {},
   "source": [
    "### Task - 2 (Choropleth Plot)"
   ]
  },
  {
   "cell_type": "code",
   "execution_count": 58,
   "id": "6271ffce-704c-40f4-96db-29477532b0e1",
   "metadata": {},
   "outputs": [
    {
     "data": {
      "application/vnd.plotly.v1+json": {
       "config": {
        "plotlyServerURL": "https://plot.ly"
       },
       "data": [
        {
         "coloraxis": "coloraxis",
         "geo": "geo",
         "hovertemplate": "State=%{location}<br>EV Count=%{z}<extra></extra>",
         "locationmode": "USA-states",
         "locations": [
          "AK",
          "AL",
          "AR",
          "AZ",
          "CA",
          "CO",
          "CT",
          "DC",
          "DE",
          "FL",
          "GA",
          "HI",
          "ID",
          "IL",
          "KS",
          "KY",
          "LA",
          "MA",
          "MD",
          "ME",
          "MN",
          "MO",
          "MS",
          "NC",
          "ND",
          "NE",
          "NH",
          "NJ",
          "NM",
          "NV",
          "NY",
          "OH",
          "OK",
          "OR",
          "PA",
          "RI",
          "SC",
          "SD",
          "TN",
          "TX",
          "UT",
          "VA",
          "WA",
          "WI",
          "WY"
         ],
         "name": "",
         "type": "choropleth",
         "z": [
          1,
          1,
          4,
          6,
          76,
          9,
          6,
          6,
          1,
          6,
          7,
          4,
          2,
          6,
          3,
          1,
          3,
          3,
          26,
          1,
          1,
          3,
          1,
          7,
          1,
          5,
          2,
          3,
          1,
          8,
          4,
          2,
          1,
          5,
          3,
          1,
          5,
          1,
          3,
          14,
          4,
          36,
          112348,
          1,
          2
         ]
        }
       ],
       "layout": {
        "autosize": true,
        "coloraxis": {
         "colorbar": {
          "title": {
           "text": "EV Count"
          }
         },
         "colorscale": [
          [
           0,
           "#440154"
          ],
          [
           0.1111111111111111,
           "#482878"
          ],
          [
           0.2222222222222222,
           "#3e4989"
          ],
          [
           0.3333333333333333,
           "#31688e"
          ],
          [
           0.4444444444444444,
           "#26828e"
          ],
          [
           0.5555555555555556,
           "#1f9e89"
          ],
          [
           0.6666666666666666,
           "#35b779"
          ],
          [
           0.7777777777777778,
           "#6ece58"
          ],
          [
           0.8888888888888888,
           "#b5de2b"
          ],
          [
           1,
           "#fde725"
          ]
         ]
        },
        "geo": {
         "center": {
          "lat": 37.53711156747503,
          "lon": -99.44628944371861
         },
         "domain": {
          "x": [
           0,
           1
          ],
          "y": [
           0,
           1
          ]
         },
         "projection": {
          "scale": 0.9393795581499396
         },
         "scope": "usa"
        },
        "legend": {
         "tracegroupgap": 0
        },
        "template": {
         "data": {
          "bar": [
           {
            "error_x": {
             "color": "#2a3f5f"
            },
            "error_y": {
             "color": "#2a3f5f"
            },
            "marker": {
             "line": {
              "color": "#E5ECF6",
              "width": 0.5
             },
             "pattern": {
              "fillmode": "overlay",
              "size": 10,
              "solidity": 0.2
             }
            },
            "type": "bar"
           }
          ],
          "barpolar": [
           {
            "marker": {
             "line": {
              "color": "#E5ECF6",
              "width": 0.5
             },
             "pattern": {
              "fillmode": "overlay",
              "size": 10,
              "solidity": 0.2
             }
            },
            "type": "barpolar"
           }
          ],
          "carpet": [
           {
            "aaxis": {
             "endlinecolor": "#2a3f5f",
             "gridcolor": "white",
             "linecolor": "white",
             "minorgridcolor": "white",
             "startlinecolor": "#2a3f5f"
            },
            "baxis": {
             "endlinecolor": "#2a3f5f",
             "gridcolor": "white",
             "linecolor": "white",
             "minorgridcolor": "white",
             "startlinecolor": "#2a3f5f"
            },
            "type": "carpet"
           }
          ],
          "choropleth": [
           {
            "colorbar": {
             "outlinewidth": 0,
             "ticks": ""
            },
            "type": "choropleth"
           }
          ],
          "contour": [
           {
            "colorbar": {
             "outlinewidth": 0,
             "ticks": ""
            },
            "colorscale": [
             [
              0,
              "#0d0887"
             ],
             [
              0.1111111111111111,
              "#46039f"
             ],
             [
              0.2222222222222222,
              "#7201a8"
             ],
             [
              0.3333333333333333,
              "#9c179e"
             ],
             [
              0.4444444444444444,
              "#bd3786"
             ],
             [
              0.5555555555555556,
              "#d8576b"
             ],
             [
              0.6666666666666666,
              "#ed7953"
             ],
             [
              0.7777777777777778,
              "#fb9f3a"
             ],
             [
              0.8888888888888888,
              "#fdca26"
             ],
             [
              1,
              "#f0f921"
             ]
            ],
            "type": "contour"
           }
          ],
          "contourcarpet": [
           {
            "colorbar": {
             "outlinewidth": 0,
             "ticks": ""
            },
            "type": "contourcarpet"
           }
          ],
          "heatmap": [
           {
            "colorbar": {
             "outlinewidth": 0,
             "ticks": ""
            },
            "colorscale": [
             [
              0,
              "#0d0887"
             ],
             [
              0.1111111111111111,
              "#46039f"
             ],
             [
              0.2222222222222222,
              "#7201a8"
             ],
             [
              0.3333333333333333,
              "#9c179e"
             ],
             [
              0.4444444444444444,
              "#bd3786"
             ],
             [
              0.5555555555555556,
              "#d8576b"
             ],
             [
              0.6666666666666666,
              "#ed7953"
             ],
             [
              0.7777777777777778,
              "#fb9f3a"
             ],
             [
              0.8888888888888888,
              "#fdca26"
             ],
             [
              1,
              "#f0f921"
             ]
            ],
            "type": "heatmap"
           }
          ],
          "heatmapgl": [
           {
            "colorbar": {
             "outlinewidth": 0,
             "ticks": ""
            },
            "colorscale": [
             [
              0,
              "#0d0887"
             ],
             [
              0.1111111111111111,
              "#46039f"
             ],
             [
              0.2222222222222222,
              "#7201a8"
             ],
             [
              0.3333333333333333,
              "#9c179e"
             ],
             [
              0.4444444444444444,
              "#bd3786"
             ],
             [
              0.5555555555555556,
              "#d8576b"
             ],
             [
              0.6666666666666666,
              "#ed7953"
             ],
             [
              0.7777777777777778,
              "#fb9f3a"
             ],
             [
              0.8888888888888888,
              "#fdca26"
             ],
             [
              1,
              "#f0f921"
             ]
            ],
            "type": "heatmapgl"
           }
          ],
          "histogram": [
           {
            "marker": {
             "pattern": {
              "fillmode": "overlay",
              "size": 10,
              "solidity": 0.2
             }
            },
            "type": "histogram"
           }
          ],
          "histogram2d": [
           {
            "colorbar": {
             "outlinewidth": 0,
             "ticks": ""
            },
            "colorscale": [
             [
              0,
              "#0d0887"
             ],
             [
              0.1111111111111111,
              "#46039f"
             ],
             [
              0.2222222222222222,
              "#7201a8"
             ],
             [
              0.3333333333333333,
              "#9c179e"
             ],
             [
              0.4444444444444444,
              "#bd3786"
             ],
             [
              0.5555555555555556,
              "#d8576b"
             ],
             [
              0.6666666666666666,
              "#ed7953"
             ],
             [
              0.7777777777777778,
              "#fb9f3a"
             ],
             [
              0.8888888888888888,
              "#fdca26"
             ],
             [
              1,
              "#f0f921"
             ]
            ],
            "type": "histogram2d"
           }
          ],
          "histogram2dcontour": [
           {
            "colorbar": {
             "outlinewidth": 0,
             "ticks": ""
            },
            "colorscale": [
             [
              0,
              "#0d0887"
             ],
             [
              0.1111111111111111,
              "#46039f"
             ],
             [
              0.2222222222222222,
              "#7201a8"
             ],
             [
              0.3333333333333333,
              "#9c179e"
             ],
             [
              0.4444444444444444,
              "#bd3786"
             ],
             [
              0.5555555555555556,
              "#d8576b"
             ],
             [
              0.6666666666666666,
              "#ed7953"
             ],
             [
              0.7777777777777778,
              "#fb9f3a"
             ],
             [
              0.8888888888888888,
              "#fdca26"
             ],
             [
              1,
              "#f0f921"
             ]
            ],
            "type": "histogram2dcontour"
           }
          ],
          "mesh3d": [
           {
            "colorbar": {
             "outlinewidth": 0,
             "ticks": ""
            },
            "type": "mesh3d"
           }
          ],
          "parcoords": [
           {
            "line": {
             "colorbar": {
              "outlinewidth": 0,
              "ticks": ""
             }
            },
            "type": "parcoords"
           }
          ],
          "pie": [
           {
            "automargin": true,
            "type": "pie"
           }
          ],
          "scatter": [
           {
            "fillpattern": {
             "fillmode": "overlay",
             "size": 10,
             "solidity": 0.2
            },
            "type": "scatter"
           }
          ],
          "scatter3d": [
           {
            "line": {
             "colorbar": {
              "outlinewidth": 0,
              "ticks": ""
             }
            },
            "marker": {
             "colorbar": {
              "outlinewidth": 0,
              "ticks": ""
             }
            },
            "type": "scatter3d"
           }
          ],
          "scattercarpet": [
           {
            "marker": {
             "colorbar": {
              "outlinewidth": 0,
              "ticks": ""
             }
            },
            "type": "scattercarpet"
           }
          ],
          "scattergeo": [
           {
            "marker": {
             "colorbar": {
              "outlinewidth": 0,
              "ticks": ""
             }
            },
            "type": "scattergeo"
           }
          ],
          "scattergl": [
           {
            "marker": {
             "colorbar": {
              "outlinewidth": 0,
              "ticks": ""
             }
            },
            "type": "scattergl"
           }
          ],
          "scattermapbox": [
           {
            "marker": {
             "colorbar": {
              "outlinewidth": 0,
              "ticks": ""
             }
            },
            "type": "scattermapbox"
           }
          ],
          "scatterpolar": [
           {
            "marker": {
             "colorbar": {
              "outlinewidth": 0,
              "ticks": ""
             }
            },
            "type": "scatterpolar"
           }
          ],
          "scatterpolargl": [
           {
            "marker": {
             "colorbar": {
              "outlinewidth": 0,
              "ticks": ""
             }
            },
            "type": "scatterpolargl"
           }
          ],
          "scatterternary": [
           {
            "marker": {
             "colorbar": {
              "outlinewidth": 0,
              "ticks": ""
             }
            },
            "type": "scatterternary"
           }
          ],
          "surface": [
           {
            "colorbar": {
             "outlinewidth": 0,
             "ticks": ""
            },
            "colorscale": [
             [
              0,
              "#0d0887"
             ],
             [
              0.1111111111111111,
              "#46039f"
             ],
             [
              0.2222222222222222,
              "#7201a8"
             ],
             [
              0.3333333333333333,
              "#9c179e"
             ],
             [
              0.4444444444444444,
              "#bd3786"
             ],
             [
              0.5555555555555556,
              "#d8576b"
             ],
             [
              0.6666666666666666,
              "#ed7953"
             ],
             [
              0.7777777777777778,
              "#fb9f3a"
             ],
             [
              0.8888888888888888,
              "#fdca26"
             ],
             [
              1,
              "#f0f921"
             ]
            ],
            "type": "surface"
           }
          ],
          "table": [
           {
            "cells": {
             "fill": {
              "color": "#EBF0F8"
             },
             "line": {
              "color": "white"
             }
            },
            "header": {
             "fill": {
              "color": "#C8D4E3"
             },
             "line": {
              "color": "white"
             }
            },
            "type": "table"
           }
          ]
         },
         "layout": {
          "annotationdefaults": {
           "arrowcolor": "#2a3f5f",
           "arrowhead": 0,
           "arrowwidth": 1
          },
          "autotypenumbers": "strict",
          "coloraxis": {
           "colorbar": {
            "outlinewidth": 0,
            "ticks": ""
           }
          },
          "colorscale": {
           "diverging": [
            [
             0,
             "#8e0152"
            ],
            [
             0.1,
             "#c51b7d"
            ],
            [
             0.2,
             "#de77ae"
            ],
            [
             0.3,
             "#f1b6da"
            ],
            [
             0.4,
             "#fde0ef"
            ],
            [
             0.5,
             "#f7f7f7"
            ],
            [
             0.6,
             "#e6f5d0"
            ],
            [
             0.7,
             "#b8e186"
            ],
            [
             0.8,
             "#7fbc41"
            ],
            [
             0.9,
             "#4d9221"
            ],
            [
             1,
             "#276419"
            ]
           ],
           "sequential": [
            [
             0,
             "#0d0887"
            ],
            [
             0.1111111111111111,
             "#46039f"
            ],
            [
             0.2222222222222222,
             "#7201a8"
            ],
            [
             0.3333333333333333,
             "#9c179e"
            ],
            [
             0.4444444444444444,
             "#bd3786"
            ],
            [
             0.5555555555555556,
             "#d8576b"
            ],
            [
             0.6666666666666666,
             "#ed7953"
            ],
            [
             0.7777777777777778,
             "#fb9f3a"
            ],
            [
             0.8888888888888888,
             "#fdca26"
            ],
            [
             1,
             "#f0f921"
            ]
           ],
           "sequentialminus": [
            [
             0,
             "#0d0887"
            ],
            [
             0.1111111111111111,
             "#46039f"
            ],
            [
             0.2222222222222222,
             "#7201a8"
            ],
            [
             0.3333333333333333,
             "#9c179e"
            ],
            [
             0.4444444444444444,
             "#bd3786"
            ],
            [
             0.5555555555555556,
             "#d8576b"
            ],
            [
             0.6666666666666666,
             "#ed7953"
            ],
            [
             0.7777777777777778,
             "#fb9f3a"
            ],
            [
             0.8888888888888888,
             "#fdca26"
            ],
            [
             1,
             "#f0f921"
            ]
           ]
          },
          "colorway": [
           "#636efa",
           "#EF553B",
           "#00cc96",
           "#ab63fa",
           "#FFA15A",
           "#19d3f3",
           "#FF6692",
           "#B6E880",
           "#FF97FF",
           "#FECB52"
          ],
          "font": {
           "color": "#2a3f5f"
          },
          "geo": {
           "bgcolor": "white",
           "lakecolor": "white",
           "landcolor": "#E5ECF6",
           "showlakes": true,
           "showland": true,
           "subunitcolor": "white"
          },
          "hoverlabel": {
           "align": "left"
          },
          "hovermode": "closest",
          "mapbox": {
           "style": "light"
          },
          "paper_bgcolor": "white",
          "plot_bgcolor": "#E5ECF6",
          "polar": {
           "angularaxis": {
            "gridcolor": "white",
            "linecolor": "white",
            "ticks": ""
           },
           "bgcolor": "#E5ECF6",
           "radialaxis": {
            "gridcolor": "white",
            "linecolor": "white",
            "ticks": ""
           }
          },
          "scene": {
           "xaxis": {
            "backgroundcolor": "#E5ECF6",
            "gridcolor": "white",
            "gridwidth": 2,
            "linecolor": "white",
            "showbackground": true,
            "ticks": "",
            "zerolinecolor": "white"
           },
           "yaxis": {
            "backgroundcolor": "#E5ECF6",
            "gridcolor": "white",
            "gridwidth": 2,
            "linecolor": "white",
            "showbackground": true,
            "ticks": "",
            "zerolinecolor": "white"
           },
           "zaxis": {
            "backgroundcolor": "#E5ECF6",
            "gridcolor": "white",
            "gridwidth": 2,
            "linecolor": "white",
            "showbackground": true,
            "ticks": "",
            "zerolinecolor": "white"
           }
          },
          "shapedefaults": {
           "line": {
            "color": "#2a3f5f"
           }
          },
          "ternary": {
           "aaxis": {
            "gridcolor": "white",
            "linecolor": "white",
            "ticks": ""
           },
           "baxis": {
            "gridcolor": "white",
            "linecolor": "white",
            "ticks": ""
           },
           "bgcolor": "#E5ECF6",
           "caxis": {
            "gridcolor": "white",
            "linecolor": "white",
            "ticks": ""
           }
          },
          "title": {
           "x": 0.05
          },
          "xaxis": {
           "automargin": true,
           "gridcolor": "white",
           "linecolor": "white",
           "ticks": "",
           "title": {
            "standoff": 15
           },
           "zerolinecolor": "white",
           "zerolinewidth": 2
          },
          "yaxis": {
           "automargin": true,
           "gridcolor": "white",
           "linecolor": "white",
           "ticks": "",
           "title": {
            "standoff": 15
           },
           "zerolinecolor": "white",
           "zerolinewidth": 2
          }
         }
        },
        "title": {
         "text": "Number of Electric Vehicles by State"
        }
       }
      },
      "image/png": "[encoded data removed]",
      "text/html": [
       "<div>                            <div id=\"05fc7bf4-74ad-4842-b570-efe4b6ac7692\" class=\"plotly-graph-div\" style=\"height:525px; width:100%;\"></div>            <script type=\"text/javascript\">                require([\"plotly\"], function(Plotly) {                    window.PLOTLYENV=window.PLOTLYENV || {};                                    if (document.getElementById(\"05fc7bf4-74ad-4842-b570-efe4b6ac7692\")) {                    Plotly.newPlot(                        \"05fc7bf4-74ad-4842-b570-efe4b6ac7692\",                        [{\"coloraxis\":\"coloraxis\",\"geo\":\"geo\",\"hovertemplate\":\"State=%{location}\\u003cbr\\u003eEV Count=%{z}\\u003cextra\\u003e\\u003c\\u002fextra\\u003e\",\"locationmode\":\"USA-states\",\"locations\":[\"AK\",\"AL\",\"AR\",\"AZ\",\"CA\",\"CO\",\"CT\",\"DC\",\"DE\",\"FL\",\"GA\",\"HI\",\"ID\",\"IL\",\"KS\",\"KY\",\"LA\",\"MA\",\"MD\",\"ME\",\"MN\",\"MO\",\"MS\",\"NC\",\"ND\",\"NE\",\"NH\",\"NJ\",\"NM\",\"NV\",\"NY\",\"OH\",\"OK\",\"OR\",\"PA\",\"RI\",\"SC\",\"SD\",\"TN\",\"TX\",\"UT\",\"VA\",\"WA\",\"WI\",\"WY\"],\"name\":\"\",\"z\":[1,1,4,6,76,9,6,6,1,6,7,4,2,6,3,1,3,3,26,1,1,3,1,7,1,5,2,3,1,8,4,2,1,5,3,1,5,1,3,14,4,36,112348,1,2],\"type\":\"choropleth\"}],                        {\"template\":{\"data\":{\"histogram2dcontour\":[{\"type\":\"histogram2dcontour\",\"colorbar\":{\"outlinewidth\":0,\"ticks\":\"\"},\"colorscale\":[[0.0,\"#0d0887\"],[0.1111111111111111,\"#46039f\"],[0.2222222222222222,\"#7201a8\"],[0.3333333333333333,\"#9c179e\"],[0.4444444444444444,\"#bd3786\"],[0.5555555555555556,\"#d8576b\"],[0.6666666666666666,\"#ed7953\"],[0.7777777777777778,\"#fb9f3a\"],[0.8888888888888888,\"#fdca26\"],[1.0,\"#f0f921\"]]}],\"choropleth\":[{\"type\":\"choropleth\",\"colorbar\":{\"outlinewidth\":0,\"ticks\":\"\"}}],\"histogram2d\":[{\"type\":\"histogram2d\",\"colorbar\":{\"outlinewidth\":0,\"ticks\":\"\"},\"colorscale\":[[0.0,\"#0d0887\"],[0.1111111111111111,\"#46039f\"],[0.2222222222222222,\"#7201a8\"],[0.3333333333333333,\"#9c179e\"],[0.4444444444444444,\"#bd3786\"],[0.5555555555555556,\"#d8576b\"],[0.6666666666666666,\"#ed7953\"],[0.7777777777777778,\"#fb9f3a\"],[0.8888888888888888,\"#fdca26\"],[1.0,\"#f0f921\"]]}],\"heatmap\":[{\"type\":\"heatmap\",\"colorbar\":{\"outlinewidth\":0,\"ticks\":\"\"},\"colorscale\":[[0.0,\"#0d0887\"],[0.1111111111111111,\"#46039f\"],[0.2222222222222222,\"#7201a8\"],[0.3333333333333333,\"#9c179e\"],[0.4444444444444444,\"#bd3786\"],[0.5555555555555556,\"#d8576b\"],[0.6666666666666666,\"#ed7953\"],[0.7777777777777778,\"#fb9f3a\"],[0.8888888888888888,\"#fdca26\"],[1.0,\"#f0f921\"]]}],\"heatmapgl\":[{\"type\":\"heatmapgl\",\"colorbar\":{\"outlinewidth\":0,\"ticks\":\"\"},\"colorscale\":[[0.0,\"#0d0887\"],[0.1111111111111111,\"#46039f\"],[0.2222222222222222,\"#7201a8\"],[0.3333333333333333,\"#9c179e\"],[0.4444444444444444,\"#bd3786\"],[0.5555555555555556,\"#d8576b\"],[0.6666666666666666,\"#ed7953\"],[0.7777777777777778,\"#fb9f3a\"],[0.8888888888888888,\"#fdca26\"],[1.0,\"#f0f921\"]]}],\"contourcarpet\":[{\"type\":\"contourcarpet\",\"colorbar\":{\"outlinewidth\":0,\"ticks\":\"\"}}],\"contour\":[{\"type\":\"contour\",\"colorbar\":{\"outlinewidth\":0,\"ticks\":\"\"},\"colorscale\":[[0.0,\"#0d0887\"],[0.1111111111111111,\"#46039f\"],[0.2222222222222222,\"#7201a8\"],[0.3333333333333333,\"#9c179e\"],[0.4444444444444444,\"#bd3786\"],[0.5555555555555556,\"#d8576b\"],[0.6666666666666666,\"#ed7953\"],[0.7777777777777778,\"#fb9f3a\"],[0.8888888888888888,\"#fdca26\"],[1.0,\"#f0f921\"]]}],\"surface\":[{\"type\":\"surface\",\"colorbar\":{\"outlinewidth\":0,\"ticks\":\"\"},\"colorscale\":[[0.0,\"#0d0887\"],[0.1111111111111111,\"#46039f\"],[0.2222222222222222,\"#7201a8\"],[0.3333333333333333,\"#9c179e\"],[0.4444444444444444,\"#bd3786\"],[0.5555555555555556,\"#d8576b\"],[0.6666666666666666,\"#ed7953\"],[0.7777777777777778,\"#fb9f3a\"],[0.8888888888888888,\"#fdca26\"],[1.0,\"#f0f921\"]]}],\"mesh3d\":[{\"type\":\"mesh3d\",\"colorbar\":{\"outlinewidth\":0,\"ticks\":\"\"}}],\"scatter\":[{\"fillpattern\":{\"fillmode\":\"overlay\",\"size\":10,\"solidity\":0.2},\"type\":\"scatter\"}],\"parcoords\":[{\"type\":\"parcoords\",\"line\":{\"colorbar\":{\"outlinewidth\":0,\"ticks\":\"\"}}}],\"scatterpolargl\":[{\"type\":\"scatterpolargl\",\"marker\":{\"colorbar\":{\"outlinewidth\":0,\"ticks\":\"\"}}}],\"bar\":[{\"error_x\":{\"color\":\"#2a3f5f\"},\"error_y\":{\"color\":\"#2a3f5f\"},\"marker\":{\"line\":{\"color\":\"#E5ECF6\",\"width\":0.5},\"pattern\":{\"fillmode\":\"overlay\",\"size\":10,\"solidity\":0.2}},\"type\":\"bar\"}],\"scattergeo\":[{\"type\":\"scattergeo\",\"marker\":{\"colorbar\":{\"outlinewidth\":0,\"ticks\":\"\"}}}],\"scatterpolar\":[{\"type\":\"scatterpolar\",\"marker\":{\"colorbar\":{\"outlinewidth\":0,\"ticks\":\"\"}}}],\"histogram\":[{\"marker\":{\"pattern\":{\"fillmode\":\"overlay\",\"size\":10,\"solidity\":0.2}},\"type\":\"histogram\"}],\"scattergl\":[{\"type\":\"scattergl\",\"marker\":{\"colorbar\":{\"outlinewidth\":0,\"ticks\":\"\"}}}],\"scatter3d\":[{\"type\":\"scatter3d\",\"line\":{\"colorbar\":{\"outlinewidth\":0,\"ticks\":\"\"}},\"marker\":{\"colorbar\":{\"outlinewidth\":0,\"ticks\":\"\"}}}],\"scattermapbox\":[{\"type\":\"scattermapbox\",\"marker\":{\"colorbar\":{\"outlinewidth\":0,\"ticks\":\"\"}}}],\"scatterternary\":[{\"type\":\"scatterternary\",\"marker\":{\"colorbar\":{\"outlinewidth\":0,\"ticks\":\"\"}}}],\"scattercarpet\":[{\"type\":\"scattercarpet\",\"marker\":{\"colorbar\":{\"outlinewidth\":0,\"ticks\":\"\"}}}],\"carpet\":[{\"aaxis\":{\"endlinecolor\":\"#2a3f5f\",\"gridcolor\":\"white\",\"linecolor\":\"white\",\"minorgridcolor\":\"white\",\"startlinecolor\":\"#2a3f5f\"},\"baxis\":{\"endlinecolor\":\"#2a3f5f\",\"gridcolor\":\"white\",\"linecolor\":\"white\",\"minorgridcolor\":\"white\",\"startlinecolor\":\"#2a3f5f\"},\"type\":\"carpet\"}],\"table\":[{\"cells\":{\"fill\":{\"color\":\"#EBF0F8\"},\"line\":{\"color\":\"white\"}},\"header\":{\"fill\":{\"color\":\"#C8D4E3\"},\"line\":{\"color\":\"white\"}},\"type\":\"table\"}],\"barpolar\":[{\"marker\":{\"line\":{\"color\":\"#E5ECF6\",\"width\":0.5},\"pattern\":{\"fillmode\":\"overlay\",\"size\":10,\"solidity\":0.2}},\"type\":\"barpolar\"}],\"pie\":[{\"automargin\":true,\"type\":\"pie\"}]},\"layout\":{\"autotypenumbers\":\"strict\",\"colorway\":[\"#636efa\",\"#EF553B\",\"#00cc96\",\"#ab63fa\",\"#FFA15A\",\"#19d3f3\",\"#FF6692\",\"#B6E880\",\"#FF97FF\",\"#FECB52\"],\"font\":{\"color\":\"#2a3f5f\"},\"hovermode\":\"closest\",\"hoverlabel\":{\"align\":\"left\"},\"paper_bgcolor\":\"white\",\"plot_bgcolor\":\"#E5ECF6\",\"polar\":{\"bgcolor\":\"#E5ECF6\",\"angularaxis\":{\"gridcolor\":\"white\",\"linecolor\":\"white\",\"ticks\":\"\"},\"radialaxis\":{\"gridcolor\":\"white\",\"linecolor\":\"white\",\"ticks\":\"\"}},\"ternary\":{\"bgcolor\":\"#E5ECF6\",\"aaxis\":{\"gridcolor\":\"white\",\"linecolor\":\"white\",\"ticks\":\"\"},\"baxis\":{\"gridcolor\":\"white\",\"linecolor\":\"white\",\"ticks\":\"\"},\"caxis\":{\"gridcolor\":\"white\",\"linecolor\":\"white\",\"ticks\":\"\"}},\"coloraxis\":{\"colorbar\":{\"outlinewidth\":0,\"ticks\":\"\"}},\"colorscale\":{\"sequential\":[[0.0,\"#0d0887\"],[0.1111111111111111,\"#46039f\"],[0.2222222222222222,\"#7201a8\"],[0.3333333333333333,\"#9c179e\"],[0.4444444444444444,\"#bd3786\"],[0.5555555555555556,\"#d8576b\"],[0.6666666666666666,\"#ed7953\"],[0.7777777777777778,\"#fb9f3a\"],[0.8888888888888888,\"#fdca26\"],[1.0,\"#f0f921\"]],\"sequentialminus\":[[0.0,\"#0d0887\"],[0.1111111111111111,\"#46039f\"],[0.2222222222222222,\"#7201a8\"],[0.3333333333333333,\"#9c179e\"],[0.4444444444444444,\"#bd3786\"],[0.5555555555555556,\"#d8576b\"],[0.6666666666666666,\"#ed7953\"],[0.7777777777777778,\"#fb9f3a\"],[0.8888888888888888,\"#fdca26\"],[1.0,\"#f0f921\"]],\"diverging\":[[0,\"#8e0152\"],[0.1,\"#c51b7d\"],[0.2,\"#de77ae\"],[0.3,\"#f1b6da\"],[0.4,\"#fde0ef\"],[0.5,\"#f7f7f7\"],[0.6,\"#e6f5d0\"],[0.7,\"#b8e186\"],[0.8,\"#7fbc41\"],[0.9,\"#4d9221\"],[1,\"#276419\"]]},\"xaxis\":{\"gridcolor\":\"white\",\"linecolor\":\"white\",\"ticks\":\"\",\"title\":{\"standoff\":15},\"zerolinecolor\":\"white\",\"automargin\":true,\"zerolinewidth\":2},\"yaxis\":{\"gridcolor\":\"white\",\"linecolor\":\"white\",\"ticks\":\"\",\"title\":{\"standoff\":15},\"zerolinecolor\":\"white\",\"automargin\":true,\"zerolinewidth\":2},\"scene\":{\"xaxis\":{\"backgroundcolor\":\"#E5ECF6\",\"gridcolor\":\"white\",\"linecolor\":\"white\",\"showbackground\":true,\"ticks\":\"\",\"zerolinecolor\":\"white\",\"gridwidth\":2},\"yaxis\":{\"backgroundcolor\":\"#E5ECF6\",\"gridcolor\":\"white\",\"linecolor\":\"white\",\"showbackground\":true,\"ticks\":\"\",\"zerolinecolor\":\"white\",\"gridwidth\":2},\"zaxis\":{\"backgroundcolor\":\"#E5ECF6\",\"gridcolor\":\"white\",\"linecolor\":\"white\",\"showbackground\":true,\"ticks\":\"\",\"zerolinecolor\":\"white\",\"gridwidth\":2}},\"shapedefaults\":{\"line\":{\"color\":\"#2a3f5f\"}},\"annotationdefaults\":{\"arrowcolor\":\"#2a3f5f\",\"arrowhead\":0,\"arrowwidth\":1},\"geo\":{\"bgcolor\":\"white\",\"landcolor\":\"#E5ECF6\",\"subunitcolor\":\"white\",\"showland\":true,\"showlakes\":true,\"lakecolor\":\"white\"},\"title\":{\"x\":0.05},\"mapbox\":{\"style\":\"light\"}}},\"geo\":{\"domain\":{\"x\":[0.0,1.0],\"y\":[0.0,1.0]},\"center\":{},\"scope\":\"usa\"},\"coloraxis\":{\"colorbar\":{\"title\":{\"text\":\"EV Count\"}},\"colorscale\":[[0.0,\"#440154\"],[0.1111111111111111,\"#482878\"],[0.2222222222222222,\"#3e4989\"],[0.3333333333333333,\"#31688e\"],[0.4444444444444444,\"#26828e\"],[0.5555555555555556,\"#1f9e89\"],[0.6666666666666666,\"#35b779\"],[0.7777777777777778,\"#6ece58\"],[0.8888888888888888,\"#b5de2b\"],[1.0,\"#fde725\"]]},\"legend\":{\"tracegroupgap\":0},\"title\":{\"text\":\"Number of Electric Vehicles by State\"}},                        {\"responsive\": true}                    ).then(function(){\n",
       "                            \n",
       "var gd = document.getElementById('05fc7bf4-74ad-4842-b570-efe4b6ac7692');\n",
       "var x = new MutationObserver(function (mutations, observer) {{\n",
       "        var display = window.getComputedStyle(gd).display;\n",
       "        if (!display || display === 'none') {{\n",
       "            console.log([gd, 'removed!']);\n",
       "            Plotly.purge(gd);\n",
       "            observer.disconnect();\n",
       "        }}\n",
       "}});\n",
       "\n",
       "// Listen for the removal of the full notebook cells\n",
       "var notebookContainer = gd.closest('#notebook-container');\n",
       "if (notebookContainer) {{\n",
       "    x.observe(notebookContainer, {childList: true});\n",
       "}}\n",
       "\n",
       "// Listen for the clearing of the current output cell\n",
       "var outputEl = gd.closest('.output');\n",
       "if (outputEl) {{\n",
       "    x.observe(outputEl, {childList: true});\n",
       "}}\n",
       "\n",
       "                        })                };                });            </script>        </div>"
      ]
     },
     "metadata": {},
     "output_type": "display_data"
    }
   ],
   "source": [
    "\n",
    "# Prepare data for the choropleth plot (aggregate by state)\n",
    "state_ev_count = df.groupby('State').size().reset_index(name='EV Count')\n",
    "\n",
    "# Create a choropleth plot using plotly express\n",
    "fig = px.choropleth(\n",
    "    state_ev_count,\n",
    "    locations='State',\n",
    "    locationmode=\"USA-states\",\n",
    "    color='EV Count',\n",
    "    color_continuous_scale=\"Viridis\",\n",
    "    scope=\"usa\",\n",
    "    title='Number of Electric Vehicles by State'\n",
    ")\n",
    "\n",
    "# Show the plot\n",
    "fig.show()"
   ]
  },
  {
   "cell_type": "markdown",
   "id": "14d9cbce-763f-4f13-b9ae-5c8a1e18317e",
   "metadata": {},
   "source": [
    "### Task - 3 (Racing bar plot)"
   ]
  },
  {
   "cell_type": "code",
   "execution_count": 59,
   "id": "8f4e02ce-339b-4f96-a6c9-89c96e58ace2",
   "metadata": {},
   "outputs": [],
   "source": [
    "import bar_chart_race as bcr"
   ]
  },
  {
   "cell_type": "code",
   "execution_count": 66,
   "id": "dd1658b6-5f5e-4894-8286-4e76e2891e50",
   "metadata": {},
   "outputs": [
    {
     "name": "stdout",
     "output_type": "stream",
     "text": [
      "      Make  Model Year  number_of_Vehicles\n",
      "0     AUDI        2016                 214\n",
      "1     AUDI        2017                 187\n",
      "2     AUDI        2018                 174\n",
      "3     AUDI        2019                 392\n",
      "4     AUDI        2020                 224\n",
      "..     ...         ...                 ...\n",
      "204  VOLVO        2019                 190\n",
      "205  VOLVO        2020                 162\n",
      "206  VOLVO        2021                 580\n",
      "207  VOLVO        2022                 882\n",
      "208  VOLVO        2023                  21\n",
      "\n",
      "[209 rows x 3 columns]\n"
     ]
    }
   ],
   "source": [
    "evcar_per_year = df.groupby(['Make', 'Model Year']).size().reset_index(name='number_of_Vehicles')\n",
    "\n",
    "print(evcar_per_year)"
   ]
  },
  {
   "cell_type": "code",
   "execution_count": 70,
   "id": "e959fbc1-041c-4e5a-9df4-8a505d934e41",
   "metadata": {},
   "outputs": [
    {
     "data": {
      "application/vnd.plotly.v1+json": {
       "config": {
        "plotlyServerURL": "https://plot.ly"
       },
       "data": [
        {
         "alignmentgroup": "True",
         "hovertemplate": "Make=%{y}<br>Model Year=2002<br>number_of_Vehicles=%{x}<extra></extra>",
         "legendgroup": "TOYOTA",
         "marker": {
          "color": "#EF553B",
          "pattern": {
           "shape": ""
          }
         },
         "name": "TOYOTA",
         "offsetgroup": "TOYOTA",
         "orientation": "h",
         "showlegend": true,
         "textfont": {
          "size": 16
         },
         "textposition": "auto",
         "texttemplate": "%{x}",
         "type": "bar",
         "x": [
          2
         ],
         "xaxis": "x",
         "y": [
          "TOYOTA"
         ],
         "yaxis": "y"
        },
        {
         "alignmentgroup": "True",
         "hovertemplate": "Make=%{y}<br>Model Year=2013<br>number_of_Vehicles=%{x}<extra></extra>",
         "legendgroup": "FIAT",
         "marker": {
          "color": "#B6E880",
          "pattern": {
           "shape": ""
          }
         },
         "name": "FIAT",
         "offsetgroup": "FIAT",
         "orientation": "h",
         "showlegend": true,
         "textfont": {
          "size": 16
         },
         "textposition": "auto",
         "texttemplate": "%{x}",
         "type": "bar",
         "x": [
          106
         ],
         "xaxis": "x",
         "y": [
          "FIAT"
         ],
         "yaxis": "y"
        },
        {
         "alignmentgroup": "True",
         "hovertemplate": "Make=%{y}<br>Model Year=2013<br>number_of_Vehicles=%{x}<extra></extra>",
         "legendgroup": "FORD",
         "marker": {
          "color": "#FECB52",
          "pattern": {
           "shape": ""
          }
         },
         "name": "FORD",
         "offsetgroup": "FORD",
         "orientation": "h",
         "showlegend": true,
         "textfont": {
          "size": 16
         },
         "textposition": "auto",
         "texttemplate": "%{x}",
         "type": "bar",
         "x": [
          662
         ],
         "xaxis": "x",
         "y": [
          "FORD"
         ],
         "yaxis": "y"
        },
        {
         "alignmentgroup": "True",
         "hovertemplate": "Make=%{y}<br>Model Year=2013<br>number_of_Vehicles=%{x}<extra></extra>",
         "legendgroup": "NISSAN",
         "marker": {
          "color": "#ab63fa",
          "pattern": {
           "shape": ""
          }
         },
         "name": "NISSAN",
         "offsetgroup": "NISSAN",
         "orientation": "h",
         "showlegend": true,
         "textfont": {
          "size": 16
         },
         "textposition": "auto",
         "texttemplate": "%{x}",
         "type": "bar",
         "x": [
          1966
         ],
         "xaxis": "x",
         "y": [
          "NISSAN"
         ],
         "yaxis": "y"
        },
        {
         "alignmentgroup": "True",
         "hovertemplate": "Make=%{y}<br>Model Year=2013<br>number_of_Vehicles=%{x}<extra></extra>",
         "legendgroup": "SMART",
         "marker": {
          "color": "#B6E880",
          "pattern": {
           "shape": ""
          }
         },
         "name": "SMART",
         "offsetgroup": "SMART",
         "orientation": "h",
         "showlegend": true,
         "textfont": {
          "size": 16
         },
         "textposition": "auto",
         "texttemplate": "%{x}",
         "type": "bar",
         "x": [
          29
         ],
         "xaxis": "x",
         "y": [
          "SMART"
         ],
         "yaxis": "y"
        },
        {
         "alignmentgroup": "True",
         "hovertemplate": "Make=%{y}<br>Model Year=2013<br>number_of_Vehicles=%{x}<extra></extra>",
         "legendgroup": "TESLA",
         "marker": {
          "color": "#FECB52",
          "pattern": {
           "shape": ""
          }
         },
         "name": "TESLA",
         "offsetgroup": "TESLA",
         "orientation": "h",
         "showlegend": true,
         "textfont": {
          "size": 16
         },
         "textposition": "auto",
         "texttemplate": "%{x}",
         "type": "bar",
         "x": [
          814
         ],
         "xaxis": "x",
         "y": [
          "TESLA"
         ],
         "yaxis": "y"
        },
        {
         "alignmentgroup": "True",
         "hovertemplate": "Make=%{y}<br>Model Year=2013<br>number_of_Vehicles=%{x}<extra></extra>",
         "legendgroup": "TOYOTA",
         "marker": {
          "color": "#EF553B",
          "pattern": {
           "shape": ""
          }
         },
         "name": "TOYOTA",
         "offsetgroup": "TOYOTA",
         "orientation": "h",
         "showlegend": true,
         "textfont": {
          "size": 16
         },
         "textposition": "auto",
         "texttemplate": "%{x}",
         "type": "bar",
         "x": [
          296
         ],
         "xaxis": "x",
         "y": [
          "TOYOTA"
         ],
         "yaxis": "y"
        },
        {
         "alignmentgroup": "True",
         "hovertemplate": "Make=%{y}<br>Model Year=2015<br>number_of_Vehicles=%{x}<extra></extra>",
         "legendgroup": "PORSCHE",
         "marker": {
          "color": "#19d3f3",
          "pattern": {
           "shape": ""
          }
         },
         "name": "PORSCHE",
         "offsetgroup": "PORSCHE",
         "orientation": "h",
         "showlegend": true,
         "textfont": {
          "size": 16
         },
         "textposition": "auto",
         "texttemplate": "%{x}",
         "type": "bar",
         "x": [
          33
         ],
         "xaxis": "x",
         "y": [
          "PORSCHE"
         ],
         "yaxis": "y"
        },
        {
         "alignmentgroup": "True",
         "hovertemplate": "Make=%{y}<br>Model Year=2015<br>number_of_Vehicles=%{x}<extra></extra>",
         "legendgroup": "SMART",
         "marker": {
          "color": "#B6E880",
          "pattern": {
           "shape": ""
          }
         },
         "name": "SMART",
         "offsetgroup": "SMART",
         "orientation": "h",
         "showlegend": true,
         "textfont": {
          "size": 16
         },
         "textposition": "auto",
         "texttemplate": "%{x}",
         "type": "bar",
         "x": [
          52
         ],
         "xaxis": "x",
         "y": [
          "SMART"
         ],
         "yaxis": "y"
        },
        {
         "alignmentgroup": "True",
         "hovertemplate": "Make=%{y}<br>Model Year=2015<br>number_of_Vehicles=%{x}<extra></extra>",
         "legendgroup": "TESLA",
         "marker": {
          "color": "#FECB52",
          "pattern": {
           "shape": ""
          }
         },
         "name": "TESLA",
         "offsetgroup": "TESLA",
         "orientation": "h",
         "showlegend": true,
         "textfont": {
          "size": 16
         },
         "textposition": "auto",
         "texttemplate": "%{x}",
         "type": "bar",
         "x": [
          1089
         ],
         "xaxis": "x",
         "y": [
          "TESLA"
         ],
         "yaxis": "y"
        },
        {
         "alignmentgroup": "True",
         "hovertemplate": "Make=%{y}<br>Model Year=2015<br>number_of_Vehicles=%{x}<extra></extra>",
         "legendgroup": "TOYOTA",
         "marker": {
          "color": "#EF553B",
          "pattern": {
           "shape": ""
          }
         },
         "name": "TOYOTA",
         "offsetgroup": "TOYOTA",
         "orientation": "h",
         "showlegend": true,
         "textfont": {
          "size": 16
         },
         "textposition": "auto",
         "texttemplate": "%{x}",
         "type": "bar",
         "x": [
          89
         ],
         "xaxis": "x",
         "y": [
          "TOYOTA"
         ],
         "yaxis": "y"
        },
        {
         "alignmentgroup": "True",
         "hovertemplate": "Make=%{y}<br>Model Year=2015<br>number_of_Vehicles=%{x}<extra></extra>",
         "legendgroup": "VOLKSWAGEN",
         "marker": {
          "color": "#00cc96",
          "pattern": {
           "shape": ""
          }
         },
         "name": "VOLKSWAGEN",
         "offsetgroup": "VOLKSWAGEN",
         "orientation": "h",
         "showlegend": true,
         "textfont": {
          "size": 16
         },
         "textposition": "auto",
         "texttemplate": "%{x}",
         "type": "bar",
         "x": [
          124
         ],
         "xaxis": "x",
         "y": [
          "VOLKSWAGEN"
         ],
         "yaxis": "y"
        },
        {
         "alignmentgroup": "True",
         "hovertemplate": "Make=%{y}<br>Model Year=2014<br>number_of_Vehicles=%{x}<extra></extra>",
         "legendgroup": "TOYOTA",
         "marker": {
          "color": "#EF553B",
          "pattern": {
           "shape": ""
          }
         },
         "name": "TOYOTA",
         "offsetgroup": "TOYOTA",
         "orientation": "h",
         "showlegend": true,
         "textfont": {
          "size": 16
         },
         "textposition": "auto",
         "texttemplate": "%{x}",
         "type": "bar",
         "x": [
          215
         ],
         "xaxis": "x",
         "y": [
          "TOYOTA"
         ],
         "yaxis": "y"
        },
        {
         "alignmentgroup": "True",
         "hovertemplate": "Make=%{y}<br>Model Year=2023<br>number_of_Vehicles=%{x}<extra></extra>",
         "legendgroup": "TESLA",
         "marker": {
          "color": "#FECB52",
          "pattern": {
           "shape": ""
          }
         },
         "name": "TESLA",
         "offsetgroup": "TESLA",
         "orientation": "h",
         "showlegend": true,
         "textfont": {
          "size": 16
         },
         "textposition": "auto",
         "texttemplate": "%{x}",
         "type": "bar",
         "x": [
          890
         ],
         "xaxis": "x",
         "y": [
          "TESLA"
         ],
         "yaxis": "y"
        },
        {
         "alignmentgroup": "True",
         "hovertemplate": "Make=%{y}<br>Model Year=2023<br>number_of_Vehicles=%{x}<extra></extra>",
         "legendgroup": "VOLKSWAGEN",
         "marker": {
          "color": "#00cc96",
          "pattern": {
           "shape": ""
          }
         },
         "name": "VOLKSWAGEN",
         "offsetgroup": "VOLKSWAGEN",
         "orientation": "h",
         "showlegend": true,
         "textfont": {
          "size": 16
         },
         "textposition": "auto",
         "texttemplate": "%{x}",
         "type": "bar",
         "x": [
          69
         ],
         "xaxis": "x",
         "y": [
          "VOLKSWAGEN"
         ],
         "yaxis": "y"
        },
        {
         "alignmentgroup": "True",
         "hovertemplate": "Make=%{y}<br>Model Year=2023<br>number_of_Vehicles=%{x}<extra></extra>",
         "legendgroup": "VOLVO",
         "marker": {
          "color": "#ab63fa",
          "pattern": {
           "shape": ""
          }
         },
         "name": "VOLVO",
         "offsetgroup": "VOLVO",
         "orientation": "h",
         "showlegend": true,
         "textfont": {
          "size": 16
         },
         "textposition": "auto",
         "texttemplate": "%{x}",
         "type": "bar",
         "x": [
          21
         ],
         "xaxis": "x",
         "y": [
          "VOLVO"
         ],
         "yaxis": "y"
        }
       ],
       "frames": [
        {
         "data": [
          {
           "alignmentgroup": "True",
           "hovertemplate": "Make=%{y}<br>Model Year=2016<br>number_of_Vehicles=%{x}<extra></extra>",
           "legendgroup": "AUDI",
           "marker": {
            "color": "#636efa",
            "pattern": {
             "shape": ""
            }
           },
           "name": "AUDI",
           "offsetgroup": "AUDI",
           "orientation": "h",
           "showlegend": true,
           "textposition": "auto",
           "type": "bar",
           "x": [
            214
           ],
           "xaxis": "x",
           "y": [
            "AUDI"
           ],
           "yaxis": "y"
          },
          {
           "alignmentgroup": "True",
           "hovertemplate": "Make=%{y}<br>Model Year=2016<br>number_of_Vehicles=%{x}<extra></extra>",
           "legendgroup": "BMW",
           "marker": {
            "color": "#ab63fa",
            "pattern": {
             "shape": ""
            }
           },
           "name": "BMW",
           "offsetgroup": "BMW",
           "orientation": "h",
           "showlegend": true,
           "textposition": "auto",
           "type": "bar",
           "x": [
            383
           ],
           "xaxis": "x",
           "y": [
            "BMW"
           ],
           "yaxis": "y"
          },
          {
           "alignmentgroup": "True",
           "hovertemplate": "Make=%{y}<br>Model Year=2016<br>number_of_Vehicles=%{x}<extra></extra>",
           "legendgroup": "CADILLAC",
           "marker": {
            "color": "#FFA15A",
            "pattern": {
             "shape": ""
            }
           },
           "name": "CADILLAC",
           "offsetgroup": "CADILLAC",
           "orientation": "h",
           "showlegend": true,
           "textposition": "auto",
           "type": "bar",
           "x": [
            18
           ],
           "xaxis": "x",
           "y": [
            "CADILLAC"
           ],
           "yaxis": "y"
          },
          {
           "alignmentgroup": "True",
           "hovertemplate": "Make=%{y}<br>Model Year=2016<br>number_of_Vehicles=%{x}<extra></extra>",
           "legendgroup": "CHEVROLET",
           "marker": {
            "color": "#19d3f3",
            "pattern": {
             "shape": ""
            }
           },
           "name": "CHEVROLET",
           "offsetgroup": "CHEVROLET",
           "orientation": "h",
           "showlegend": true,
           "textposition": "auto",
           "type": "bar",
           "x": [
            309
           ],
           "xaxis": "x",
           "y": [
            "CHEVROLET"
           ],
           "yaxis": "y"
          },
          {
           "alignmentgroup": "True",
           "hovertemplate": "Make=%{y}<br>Model Year=2016<br>number_of_Vehicles=%{x}<extra></extra>",
           "legendgroup": "FIAT",
           "marker": {
            "color": "#B6E880",
            "pattern": {
             "shape": ""
            }
           },
           "name": "FIAT",
           "offsetgroup": "FIAT",
           "orientation": "h",
           "showlegend": true,
           "textposition": "auto",
           "type": "bar",
           "x": [
            148
           ],
           "xaxis": "x",
           "y": [
            "FIAT"
           ],
           "yaxis": "y"
          },
          {
           "alignmentgroup": "True",
           "hovertemplate": "Make=%{y}<br>Model Year=2016<br>number_of_Vehicles=%{x}<extra></extra>",
           "legendgroup": "FORD",
           "marker": {
            "color": "#FECB52",
            "pattern": {
             "shape": ""
            }
           },
           "name": "FORD",
           "offsetgroup": "FORD",
           "orientation": "h",
           "showlegend": true,
           "textposition": "auto",
           "type": "bar",
           "x": [
            778
           ],
           "xaxis": "x",
           "y": [
            "FORD"
           ],
           "yaxis": "y"
          },
          {
           "alignmentgroup": "True",
           "hovertemplate": "Make=%{y}<br>Model Year=2016<br>number_of_Vehicles=%{x}<extra></extra>",
           "legendgroup": "HYUNDAI",
           "marker": {
            "color": "#00cc96",
            "pattern": {
             "shape": ""
            }
           },
           "name": "HYUNDAI",
           "offsetgroup": "HYUNDAI",
           "orientation": "h",
           "showlegend": true,
           "textposition": "auto",
           "type": "bar",
           "x": [
            44
           ],
           "xaxis": "x",
           "y": [
            "HYUNDAI"
           ],
           "yaxis": "y"
          },
          {
           "alignmentgroup": "True",
           "hovertemplate": "Make=%{y}<br>Model Year=2016<br>number_of_Vehicles=%{x}<extra></extra>",
           "legendgroup": "KIA",
           "marker": {
            "color": "#19d3f3",
            "pattern": {
             "shape": ""
            }
           },
           "name": "KIA",
           "offsetgroup": "KIA",
           "orientation": "h",
           "showlegend": true,
           "textposition": "auto",
           "type": "bar",
           "x": [
            407
           ],
           "xaxis": "x",
           "y": [
            "KIA"
           ],
           "yaxis": "y"
          },
          {
           "alignmentgroup": "True",
           "hovertemplate": "Make=%{y}<br>Model Year=2016<br>number_of_Vehicles=%{x}<extra></extra>",
           "legendgroup": "MERCEDES-BENZ",
           "marker": {
            "color": "#636efa",
            "pattern": {
             "shape": ""
            }
           },
           "name": "MERCEDES-BENZ",
           "offsetgroup": "MERCEDES-BENZ",
           "orientation": "h",
           "showlegend": true,
           "textposition": "auto",
           "type": "bar",
           "x": [
            35
           ],
           "xaxis": "x",
           "y": [
            "MERCEDES-BENZ"
           ],
           "yaxis": "y"
          },
          {
           "alignmentgroup": "True",
           "hovertemplate": "Make=%{y}<br>Model Year=2016<br>number_of_Vehicles=%{x}<extra></extra>",
           "legendgroup": "MITSUBISHI",
           "marker": {
            "color": "#00cc96",
            "pattern": {
             "shape": ""
            }
           },
           "name": "MITSUBISHI",
           "offsetgroup": "MITSUBISHI",
           "orientation": "h",
           "showlegend": true,
           "textposition": "auto",
           "type": "bar",
           "x": [
            12
           ],
           "xaxis": "x",
           "y": [
            "MITSUBISHI"
           ],
           "yaxis": "y"
          },
          {
           "alignmentgroup": "True",
           "hovertemplate": "Make=%{y}<br>Model Year=2016<br>number_of_Vehicles=%{x}<extra></extra>",
           "legendgroup": "NISSAN",
           "marker": {
            "color": "#ab63fa",
            "pattern": {
             "shape": ""
            }
           },
           "name": "NISSAN",
           "offsetgroup": "NISSAN",
           "orientation": "h",
           "showlegend": true,
           "textposition": "auto",
           "type": "bar",
           "x": [
            1208
           ],
           "xaxis": "x",
           "y": [
            "NISSAN"
           ],
           "yaxis": "y"
          },
          {
           "alignmentgroup": "True",
           "hovertemplate": "Make=%{y}<br>Model Year=2016<br>number_of_Vehicles=%{x}<extra></extra>",
           "legendgroup": "PORSCHE",
           "marker": {
            "color": "#19d3f3",
            "pattern": {
             "shape": ""
            }
           },
           "name": "PORSCHE",
           "offsetgroup": "PORSCHE",
           "orientation": "h",
           "showlegend": true,
           "textposition": "auto",
           "type": "bar",
           "x": [
            78
           ],
           "xaxis": "x",
           "y": [
            "PORSCHE"
           ],
           "yaxis": "y"
          },
          {
           "alignmentgroup": "True",
           "hovertemplate": "Make=%{y}<br>Model Year=2016<br>number_of_Vehicles=%{x}<extra></extra>",
           "legendgroup": "SMART",
           "marker": {
            "color": "#B6E880",
            "pattern": {
             "shape": ""
            }
           },
           "name": "SMART",
           "offsetgroup": "SMART",
           "orientation": "h",
           "showlegend": true,
           "textposition": "auto",
           "type": "bar",
           "x": [
            31
           ],
           "xaxis": "x",
           "y": [
            "SMART"
           ],
           "yaxis": "y"
          },
          {
           "alignmentgroup": "True",
           "hovertemplate": "Make=%{y}<br>Model Year=2016<br>number_of_Vehicles=%{x}<extra></extra>",
           "legendgroup": "TESLA",
           "marker": {
            "color": "#FECB52",
            "pattern": {
             "shape": ""
            }
           },
           "name": "TESLA",
           "offsetgroup": "TESLA",
           "orientation": "h",
           "showlegend": true,
           "textposition": "auto",
           "type": "bar",
           "x": [
            1639
           ],
           "xaxis": "x",
           "y": [
            "TESLA"
           ],
           "yaxis": "y"
          },
          {
           "alignmentgroup": "True",
           "hovertemplate": "Make=%{y}<br>Model Year=2016<br>number_of_Vehicles=%{x}<extra></extra>",
           "legendgroup": "VOLKSWAGEN",
           "marker": {
            "color": "#00cc96",
            "pattern": {
             "shape": ""
            }
           },
           "name": "VOLKSWAGEN",
           "offsetgroup": "VOLKSWAGEN",
           "orientation": "h",
           "showlegend": true,
           "textposition": "auto",
           "type": "bar",
           "x": [
            319
           ],
           "xaxis": "x",
           "y": [
            "VOLKSWAGEN"
           ],
           "yaxis": "y"
          },
          {
           "alignmentgroup": "True",
           "hovertemplate": "Make=%{y}<br>Model Year=2016<br>number_of_Vehicles=%{x}<extra></extra>",
           "legendgroup": "VOLVO",
           "marker": {
            "color": "#ab63fa",
            "pattern": {
             "shape": ""
            }
           },
           "name": "VOLVO",
           "offsetgroup": "VOLVO",
           "orientation": "h",
           "showlegend": true,
           "textposition": "auto",
           "type": "bar",
           "x": [
            112
           ],
           "xaxis": "x",
           "y": [
            "VOLVO"
           ],
           "yaxis": "y"
          }
         ],
         "name": "2016"
        },
        {
         "data": [
          {
           "alignmentgroup": "True",
           "hovertemplate": "Make=%{y}<br>Model Year=2017<br>number_of_Vehicles=%{x}<extra></extra>",
           "legendgroup": "AUDI",
           "marker": {
            "color": "#636efa",
            "pattern": {
             "shape": ""
            }
           },
           "name": "AUDI",
           "offsetgroup": "AUDI",
           "orientation": "h",
           "showlegend": true,
           "textposition": "auto",
           "type": "bar",
           "x": [
            187
           ],
           "xaxis": "x",
           "y": [
            "AUDI"
           ],
           "yaxis": "y"
          },
          {
           "alignmentgroup": "True",
           "hovertemplate": "Make=%{y}<br>Model Year=2017<br>number_of_Vehicles=%{x}<extra></extra>",
           "legendgroup": "BMW",
           "marker": {
            "color": "#ab63fa",
            "pattern": {
             "shape": ""
            }
           },
           "name": "BMW",
           "offsetgroup": "BMW",
           "orientation": "h",
           "showlegend": true,
           "textposition": "auto",
           "type": "bar",
           "x": [
            692
           ],
           "xaxis": "x",
           "y": [
            "BMW"
           ],
           "yaxis": "y"
          },
          {
           "alignmentgroup": "True",
           "hovertemplate": "Make=%{y}<br>Model Year=2017<br>number_of_Vehicles=%{x}<extra></extra>",
           "legendgroup": "CADILLAC",
           "marker": {
            "color": "#FFA15A",
            "pattern": {
             "shape": ""
            }
           },
           "name": "CADILLAC",
           "offsetgroup": "CADILLAC",
           "orientation": "h",
           "showlegend": true,
           "textposition": "auto",
           "type": "bar",
           "x": [
            15
           ],
           "xaxis": "x",
           "y": [
            "CADILLAC"
           ],
           "yaxis": "y"
          },
          {
           "alignmentgroup": "True",
           "hovertemplate": "Make=%{y}<br>Model Year=2017<br>number_of_Vehicles=%{x}<extra></extra>",
           "legendgroup": "CHEVROLET",
           "marker": {
            "color": "#19d3f3",
            "pattern": {
             "shape": ""
            }
           },
           "name": "CHEVROLET",
           "offsetgroup": "CHEVROLET",
           "orientation": "h",
           "showlegend": true,
           "textposition": "auto",
           "type": "bar",
           "x": [
            2744
           ],
           "xaxis": "x",
           "y": [
            "CHEVROLET"
           ],
           "yaxis": "y"
          },
          {
           "alignmentgroup": "True",
           "hovertemplate": "Make=%{y}<br>Model Year=2017<br>number_of_Vehicles=%{x}<extra></extra>",
           "legendgroup": "CHRYSLER",
           "marker": {
            "color": "#FF6692",
            "pattern": {
             "shape": ""
            }
           },
           "name": "CHRYSLER",
           "offsetgroup": "CHRYSLER",
           "orientation": "h",
           "showlegend": true,
           "textposition": "auto",
           "type": "bar",
           "x": [
            94
           ],
           "xaxis": "x",
           "y": [
            "CHRYSLER"
           ],
           "yaxis": "y"
          },
          {
           "alignmentgroup": "True",
           "hovertemplate": "Make=%{y}<br>Model Year=2017<br>number_of_Vehicles=%{x}<extra></extra>",
           "legendgroup": "FIAT",
           "marker": {
            "color": "#B6E880",
            "pattern": {
             "shape": ""
            }
           },
           "name": "FIAT",
           "offsetgroup": "FIAT",
           "orientation": "h",
           "showlegend": true,
           "textposition": "auto",
           "type": "bar",
           "x": [
            167
           ],
           "xaxis": "x",
           "y": [
            "FIAT"
           ],
           "yaxis": "y"
          },
          {
           "alignmentgroup": "True",
           "hovertemplate": "Make=%{y}<br>Model Year=2017<br>number_of_Vehicles=%{x}<extra></extra>",
           "legendgroup": "FORD",
           "marker": {
            "color": "#FECB52",
            "pattern": {
             "shape": ""
            }
           },
           "name": "FORD",
           "offsetgroup": "FORD",
           "orientation": "h",
           "showlegend": true,
           "textposition": "auto",
           "type": "bar",
           "x": [
            659
           ],
           "xaxis": "x",
           "y": [
            "FORD"
           ],
           "yaxis": "y"
          },
          {
           "alignmentgroup": "True",
           "hovertemplate": "Make=%{y}<br>Model Year=2017<br>number_of_Vehicles=%{x}<extra></extra>",
           "legendgroup": "HYUNDAI",
           "marker": {
            "color": "#00cc96",
            "pattern": {
             "shape": ""
            }
           },
           "name": "HYUNDAI",
           "offsetgroup": "HYUNDAI",
           "orientation": "h",
           "showlegend": true,
           "textposition": "auto",
           "type": "bar",
           "x": [
            46
           ],
           "xaxis": "x",
           "y": [
            "HYUNDAI"
           ],
           "yaxis": "y"
          },
          {
           "alignmentgroup": "True",
           "hovertemplate": "Make=%{y}<br>Model Year=2017<br>number_of_Vehicles=%{x}<extra></extra>",
           "legendgroup": "KIA",
           "marker": {
            "color": "#19d3f3",
            "pattern": {
             "shape": ""
            }
           },
           "name": "KIA",
           "offsetgroup": "KIA",
           "orientation": "h",
           "showlegend": true,
           "textposition": "auto",
           "type": "bar",
           "x": [
            210
           ],
           "xaxis": "x",
           "y": [
            "KIA"
           ],
           "yaxis": "y"
          },
          {
           "alignmentgroup": "True",
           "hovertemplate": "Make=%{y}<br>Model Year=2017<br>number_of_Vehicles=%{x}<extra></extra>",
           "legendgroup": "MERCEDES-BENZ",
           "marker": {
            "color": "#636efa",
            "pattern": {
             "shape": ""
            }
           },
           "name": "MERCEDES-BENZ",
           "offsetgroup": "MERCEDES-BENZ",
           "orientation": "h",
           "showlegend": true,
           "textposition": "auto",
           "type": "bar",
           "x": [
            45
           ],
           "xaxis": "x",
           "y": [
            "MERCEDES-BENZ"
           ],
           "yaxis": "y"
          },
          {
           "alignmentgroup": "True",
           "hovertemplate": "Make=%{y}<br>Model Year=2017<br>number_of_Vehicles=%{x}<extra></extra>",
           "legendgroup": "MITSUBISHI",
           "marker": {
            "color": "#00cc96",
            "pattern": {
             "shape": ""
            }
           },
           "name": "MITSUBISHI",
           "offsetgroup": "MITSUBISHI",
           "orientation": "h",
           "showlegend": true,
           "textposition": "auto",
           "type": "bar",
           "x": [
            1
           ],
           "xaxis": "x",
           "y": [
            "MITSUBISHI"
           ],
           "yaxis": "y"
          },
          {
           "alignmentgroup": "True",
           "hovertemplate": "Make=%{y}<br>Model Year=2017<br>number_of_Vehicles=%{x}<extra></extra>",
           "legendgroup": "NISSAN",
           "marker": {
            "color": "#ab63fa",
            "pattern": {
             "shape": ""
            }
           },
           "name": "NISSAN",
           "offsetgroup": "NISSAN",
           "orientation": "h",
           "showlegend": true,
           "textposition": "auto",
           "type": "bar",
           "x": [
            934
           ],
           "xaxis": "x",
           "y": [
            "NISSAN"
           ],
           "yaxis": "y"
          },
          {
           "alignmentgroup": "True",
           "hovertemplate": "Make=%{y}<br>Model Year=2017<br>number_of_Vehicles=%{x}<extra></extra>",
           "legendgroup": "PORSCHE",
           "marker": {
            "color": "#19d3f3",
            "pattern": {
             "shape": ""
            }
           },
           "name": "PORSCHE",
           "offsetgroup": "PORSCHE",
           "orientation": "h",
           "showlegend": true,
           "textposition": "auto",
           "type": "bar",
           "x": [
            71
           ],
           "xaxis": "x",
           "y": [
            "PORSCHE"
           ],
           "yaxis": "y"
          },
          {
           "alignmentgroup": "True",
           "hovertemplate": "Make=%{y}<br>Model Year=2017<br>number_of_Vehicles=%{x}<extra></extra>",
           "legendgroup": "SMART",
           "marker": {
            "color": "#B6E880",
            "pattern": {
             "shape": ""
            }
           },
           "name": "SMART",
           "offsetgroup": "SMART",
           "orientation": "h",
           "showlegend": true,
           "textposition": "auto",
           "type": "bar",
           "x": [
            34
           ],
           "xaxis": "x",
           "y": [
            "SMART"
           ],
           "yaxis": "y"
          },
          {
           "alignmentgroup": "True",
           "hovertemplate": "Make=%{y}<br>Model Year=2017<br>number_of_Vehicles=%{x}<extra></extra>",
           "legendgroup": "TESLA",
           "marker": {
            "color": "#FECB52",
            "pattern": {
             "shape": ""
            }
           },
           "name": "TESLA",
           "offsetgroup": "TESLA",
           "orientation": "h",
           "showlegend": true,
           "textposition": "auto",
           "type": "bar",
           "x": [
            1679
           ],
           "xaxis": "x",
           "y": [
            "TESLA"
           ],
           "yaxis": "y"
          },
          {
           "alignmentgroup": "True",
           "hovertemplate": "Make=%{y}<br>Model Year=2017<br>number_of_Vehicles=%{x}<extra></extra>",
           "legendgroup": "TOYOTA",
           "marker": {
            "color": "#EF553B",
            "pattern": {
             "shape": ""
            }
           },
           "name": "TOYOTA",
           "offsetgroup": "TOYOTA",
           "orientation": "h",
           "showlegend": true,
           "textposition": "auto",
           "type": "bar",
           "x": [
            899
           ],
           "xaxis": "x",
           "y": [
            "TOYOTA"
           ],
           "yaxis": "y"
          },
          {
           "alignmentgroup": "True",
           "hovertemplate": "Make=%{y}<br>Model Year=2017<br>number_of_Vehicles=%{x}<extra></extra>",
           "legendgroup": "VOLKSWAGEN",
           "marker": {
            "color": "#00cc96",
            "pattern": {
             "shape": ""
            }
           },
           "name": "VOLKSWAGEN",
           "offsetgroup": "VOLKSWAGEN",
           "orientation": "h",
           "showlegend": true,
           "textposition": "auto",
           "type": "bar",
           "x": [
            52
           ],
           "xaxis": "x",
           "y": [
            "VOLKSWAGEN"
           ],
           "yaxis": "y"
          },
          {
           "alignmentgroup": "True",
           "hovertemplate": "Make=%{y}<br>Model Year=2017<br>number_of_Vehicles=%{x}<extra></extra>",
           "legendgroup": "VOLVO",
           "marker": {
            "color": "#ab63fa",
            "pattern": {
             "shape": ""
            }
           },
           "name": "VOLVO",
           "offsetgroup": "VOLVO",
           "orientation": "h",
           "showlegend": true,
           "textposition": "auto",
           "type": "bar",
           "x": [
            115
           ],
           "xaxis": "x",
           "y": [
            "VOLVO"
           ],
           "yaxis": "y"
          }
         ],
         "name": "2017"
        },
        {
         "data": [
          {
           "alignmentgroup": "True",
           "hovertemplate": "Make=%{y}<br>Model Year=2018<br>number_of_Vehicles=%{x}<extra></extra>",
           "legendgroup": "AUDI",
           "marker": {
            "color": "#636efa",
            "pattern": {
             "shape": ""
            }
           },
           "name": "AUDI",
           "offsetgroup": "AUDI",
           "orientation": "h",
           "showlegend": true,
           "textposition": "auto",
           "type": "bar",
           "x": [
            174
           ],
           "xaxis": "x",
           "y": [
            "AUDI"
           ],
           "yaxis": "y"
          },
          {
           "alignmentgroup": "True",
           "hovertemplate": "Make=%{y}<br>Model Year=2018<br>number_of_Vehicles=%{x}<extra></extra>",
           "legendgroup": "BMW",
           "marker": {
            "color": "#ab63fa",
            "pattern": {
             "shape": ""
            }
           },
           "name": "BMW",
           "offsetgroup": "BMW",
           "orientation": "h",
           "showlegend": true,
           "textposition": "auto",
           "type": "bar",
           "x": [
            710
           ],
           "xaxis": "x",
           "y": [
            "BMW"
           ],
           "yaxis": "y"
          },
          {
           "alignmentgroup": "True",
           "hovertemplate": "Make=%{y}<br>Model Year=2018<br>number_of_Vehicles=%{x}<extra></extra>",
           "legendgroup": "CADILLAC",
           "marker": {
            "color": "#FFA15A",
            "pattern": {
             "shape": ""
            }
           },
           "name": "CADILLAC",
           "offsetgroup": "CADILLAC",
           "orientation": "h",
           "showlegend": true,
           "textposition": "auto",
           "type": "bar",
           "x": [
            17
           ],
           "xaxis": "x",
           "y": [
            "CADILLAC"
           ],
           "yaxis": "y"
          },
          {
           "alignmentgroup": "True",
           "hovertemplate": "Make=%{y}<br>Model Year=2018<br>number_of_Vehicles=%{x}<extra></extra>",
           "legendgroup": "CHEVROLET",
           "marker": {
            "color": "#19d3f3",
            "pattern": {
             "shape": ""
            }
           },
           "name": "CHEVROLET",
           "offsetgroup": "CHEVROLET",
           "orientation": "h",
           "showlegend": true,
           "textposition": "auto",
           "type": "bar",
           "x": [
            1126
           ],
           "xaxis": "x",
           "y": [
            "CHEVROLET"
           ],
           "yaxis": "y"
          },
          {
           "alignmentgroup": "True",
           "hovertemplate": "Make=%{y}<br>Model Year=2018<br>number_of_Vehicles=%{x}<extra></extra>",
           "legendgroup": "CHRYSLER",
           "marker": {
            "color": "#FF6692",
            "pattern": {
             "shape": ""
            }
           },
           "name": "CHRYSLER",
           "offsetgroup": "CHRYSLER",
           "orientation": "h",
           "showlegend": true,
           "textposition": "auto",
           "type": "bar",
           "x": [
            554
           ],
           "xaxis": "x",
           "y": [
            "CHRYSLER"
           ],
           "yaxis": "y"
          },
          {
           "alignmentgroup": "True",
           "hovertemplate": "Make=%{y}<br>Model Year=2018<br>number_of_Vehicles=%{x}<extra></extra>",
           "legendgroup": "FIAT",
           "marker": {
            "color": "#B6E880",
            "pattern": {
             "shape": ""
            }
           },
           "name": "FIAT",
           "offsetgroup": "FIAT",
           "orientation": "h",
           "showlegend": true,
           "textposition": "auto",
           "type": "bar",
           "x": [
            53
           ],
           "xaxis": "x",
           "y": [
            "FIAT"
           ],
           "yaxis": "y"
          },
          {
           "alignmentgroup": "True",
           "hovertemplate": "Make=%{y}<br>Model Year=2018<br>number_of_Vehicles=%{x}<extra></extra>",
           "legendgroup": "FORD",
           "marker": {
            "color": "#FECB52",
            "pattern": {
             "shape": ""
            }
           },
           "name": "FORD",
           "offsetgroup": "FORD",
           "orientation": "h",
           "showlegend": true,
           "textposition": "auto",
           "type": "bar",
           "x": [
            170
           ],
           "xaxis": "x",
           "y": [
            "FORD"
           ],
           "yaxis": "y"
          },
          {
           "alignmentgroup": "True",
           "hovertemplate": "Make=%{y}<br>Model Year=2018<br>number_of_Vehicles=%{x}<extra></extra>",
           "legendgroup": "HONDA",
           "marker": {
            "color": "#EF553B",
            "pattern": {
             "shape": ""
            }
           },
           "name": "HONDA",
           "offsetgroup": "HONDA",
           "orientation": "h",
           "showlegend": true,
           "textposition": "auto",
           "type": "bar",
           "x": [
            614
           ],
           "xaxis": "x",
           "y": [
            "HONDA"
           ],
           "yaxis": "y"
          },
          {
           "alignmentgroup": "True",
           "hovertemplate": "Make=%{y}<br>Model Year=2018<br>number_of_Vehicles=%{x}<extra></extra>",
           "legendgroup": "HYUNDAI",
           "marker": {
            "color": "#00cc96",
            "pattern": {
             "shape": ""
            }
           },
           "name": "HYUNDAI",
           "offsetgroup": "HYUNDAI",
           "orientation": "h",
           "showlegend": true,
           "textposition": "auto",
           "type": "bar",
           "x": [
            20
           ],
           "xaxis": "x",
           "y": [
            "HYUNDAI"
           ],
           "yaxis": "y"
          },
          {
           "alignmentgroup": "True",
           "hovertemplate": "Make=%{y}<br>Model Year=2018<br>number_of_Vehicles=%{x}<extra></extra>",
           "legendgroup": "KIA",
           "marker": {
            "color": "#19d3f3",
            "pattern": {
             "shape": ""
            }
           },
           "name": "KIA",
           "offsetgroup": "KIA",
           "orientation": "h",
           "showlegend": true,
           "textposition": "auto",
           "type": "bar",
           "x": [
            322
           ],
           "xaxis": "x",
           "y": [
            "KIA"
           ],
           "yaxis": "y"
          },
          {
           "alignmentgroup": "True",
           "hovertemplate": "Make=%{y}<br>Model Year=2018<br>number_of_Vehicles=%{x}<extra></extra>",
           "legendgroup": "MERCEDES-BENZ",
           "marker": {
            "color": "#636efa",
            "pattern": {
             "shape": ""
            }
           },
           "name": "MERCEDES-BENZ",
           "offsetgroup": "MERCEDES-BENZ",
           "orientation": "h",
           "showlegend": true,
           "textposition": "auto",
           "type": "bar",
           "x": [
            53
           ],
           "xaxis": "x",
           "y": [
            "MERCEDES-BENZ"
           ],
           "yaxis": "y"
          },
          {
           "alignmentgroup": "True",
           "hovertemplate": "Make=%{y}<br>Model Year=2018<br>number_of_Vehicles=%{x}<extra></extra>",
           "legendgroup": "MINI",
           "marker": {
            "color": "#EF553B",
            "pattern": {
             "shape": ""
            }
           },
           "name": "MINI",
           "offsetgroup": "MINI",
           "orientation": "h",
           "showlegend": true,
           "textposition": "auto",
           "type": "bar",
           "x": [
            50
           ],
           "xaxis": "x",
           "y": [
            "MINI"
           ],
           "yaxis": "y"
          },
          {
           "alignmentgroup": "True",
           "hovertemplate": "Make=%{y}<br>Model Year=2018<br>number_of_Vehicles=%{x}<extra></extra>",
           "legendgroup": "MITSUBISHI",
           "marker": {
            "color": "#00cc96",
            "pattern": {
             "shape": ""
            }
           },
           "name": "MITSUBISHI",
           "offsetgroup": "MITSUBISHI",
           "orientation": "h",
           "showlegend": true,
           "textposition": "auto",
           "type": "bar",
           "x": [
            183
           ],
           "xaxis": "x",
           "y": [
            "MITSUBISHI"
           ],
           "yaxis": "y"
          },
          {
           "alignmentgroup": "True",
           "hovertemplate": "Make=%{y}<br>Model Year=2018<br>number_of_Vehicles=%{x}<extra></extra>",
           "legendgroup": "NISSAN",
           "marker": {
            "color": "#ab63fa",
            "pattern": {
             "shape": ""
            }
           },
           "name": "NISSAN",
           "offsetgroup": "NISSAN",
           "orientation": "h",
           "showlegend": true,
           "textposition": "auto",
           "type": "bar",
           "x": [
            1232
           ],
           "xaxis": "x",
           "y": [
            "NISSAN"
           ],
           "yaxis": "y"
          },
          {
           "alignmentgroup": "True",
           "hovertemplate": "Make=%{y}<br>Model Year=2018<br>number_of_Vehicles=%{x}<extra></extra>",
           "legendgroup": "PORSCHE",
           "marker": {
            "color": "#19d3f3",
            "pattern": {
             "shape": ""
            }
           },
           "name": "PORSCHE",
           "offsetgroup": "PORSCHE",
           "orientation": "h",
           "showlegend": true,
           "textposition": "auto",
           "type": "bar",
           "x": [
            78
           ],
           "xaxis": "x",
           "y": [
            "PORSCHE"
           ],
           "yaxis": "y"
          },
          {
           "alignmentgroup": "True",
           "hovertemplate": "Make=%{y}<br>Model Year=2018<br>number_of_Vehicles=%{x}<extra></extra>",
           "legendgroup": "SMART",
           "marker": {
            "color": "#B6E880",
            "pattern": {
             "shape": ""
            }
           },
           "name": "SMART",
           "offsetgroup": "SMART",
           "orientation": "h",
           "showlegend": true,
           "textposition": "auto",
           "type": "bar",
           "x": [
            47
           ],
           "xaxis": "x",
           "y": [
            "SMART"
           ],
           "yaxis": "y"
          },
          {
           "alignmentgroup": "True",
           "hovertemplate": "Make=%{y}<br>Model Year=2018<br>number_of_Vehicles=%{x}<extra></extra>",
           "legendgroup": "TESLA",
           "marker": {
            "color": "#FECB52",
            "pattern": {
             "shape": ""
            }
           },
           "name": "TESLA",
           "offsetgroup": "TESLA",
           "orientation": "h",
           "showlegend": true,
           "textposition": "auto",
           "type": "bar",
           "x": [
            7919
           ],
           "xaxis": "x",
           "y": [
            "TESLA"
           ],
           "yaxis": "y"
          },
          {
           "alignmentgroup": "True",
           "hovertemplate": "Make=%{y}<br>Model Year=2018<br>number_of_Vehicles=%{x}<extra></extra>",
           "legendgroup": "TOYOTA",
           "marker": {
            "color": "#EF553B",
            "pattern": {
             "shape": ""
            }
           },
           "name": "TOYOTA",
           "offsetgroup": "TOYOTA",
           "orientation": "h",
           "showlegend": true,
           "textposition": "auto",
           "type": "bar",
           "x": [
            659
           ],
           "xaxis": "x",
           "y": [
            "TOYOTA"
           ],
           "yaxis": "y"
          },
          {
           "alignmentgroup": "True",
           "hovertemplate": "Make=%{y}<br>Model Year=2018<br>number_of_Vehicles=%{x}<extra></extra>",
           "legendgroup": "VOLKSWAGEN",
           "marker": {
            "color": "#00cc96",
            "pattern": {
             "shape": ""
            }
           },
           "name": "VOLKSWAGEN",
           "offsetgroup": "VOLKSWAGEN",
           "orientation": "h",
           "showlegend": true,
           "textposition": "auto",
           "type": "bar",
           "x": [
            39
           ],
           "xaxis": "x",
           "y": [
            "VOLKSWAGEN"
           ],
           "yaxis": "y"
          },
          {
           "alignmentgroup": "True",
           "hovertemplate": "Make=%{y}<br>Model Year=2018<br>number_of_Vehicles=%{x}<extra></extra>",
           "legendgroup": "VOLVO",
           "marker": {
            "color": "#ab63fa",
            "pattern": {
             "shape": ""
            }
           },
           "name": "VOLVO",
           "offsetgroup": "VOLVO",
           "orientation": "h",
           "showlegend": true,
           "textposition": "auto",
           "type": "bar",
           "x": [
            226
           ],
           "xaxis": "x",
           "y": [
            "VOLVO"
           ],
           "yaxis": "y"
          }
         ],
         "name": "2018"
        },
        {
         "data": [
          {
           "alignmentgroup": "True",
           "hovertemplate": "Make=%{y}<br>Model Year=2019<br>number_of_Vehicles=%{x}<extra></extra>",
           "legendgroup": "AUDI",
           "marker": {
            "color": "#636efa",
            "pattern": {
             "shape": ""
            }
           },
           "name": "AUDI",
           "offsetgroup": "AUDI",
           "orientation": "h",
           "showlegend": true,
           "textposition": "auto",
           "type": "bar",
           "x": [
            392
           ],
           "xaxis": "x",
           "y": [
            "AUDI"
           ],
           "yaxis": "y"
          },
          {
           "alignmentgroup": "True",
           "hovertemplate": "Make=%{y}<br>Model Year=2019<br>number_of_Vehicles=%{x}<extra></extra>",
           "legendgroup": "BMW",
           "marker": {
            "color": "#ab63fa",
            "pattern": {
             "shape": ""
            }
           },
           "name": "BMW",
           "offsetgroup": "BMW",
           "orientation": "h",
           "showlegend": true,
           "textposition": "auto",
           "type": "bar",
           "x": [
            279
           ],
           "xaxis": "x",
           "y": [
            "BMW"
           ],
           "yaxis": "y"
          },
          {
           "alignmentgroup": "True",
           "hovertemplate": "Make=%{y}<br>Model Year=2019<br>number_of_Vehicles=%{x}<extra></extra>",
           "legendgroup": "CHEVROLET",
           "marker": {
            "color": "#19d3f3",
            "pattern": {
             "shape": ""
            }
           },
           "name": "CHEVROLET",
           "offsetgroup": "CHEVROLET",
           "orientation": "h",
           "showlegend": true,
           "textposition": "auto",
           "type": "bar",
           "x": [
            966
           ],
           "xaxis": "x",
           "y": [
            "CHEVROLET"
           ],
           "yaxis": "y"
          },
          {
           "alignmentgroup": "True",
           "hovertemplate": "Make=%{y}<br>Model Year=2019<br>number_of_Vehicles=%{x}<extra></extra>",
           "legendgroup": "CHRYSLER",
           "marker": {
            "color": "#FF6692",
            "pattern": {
             "shape": ""
            }
           },
           "name": "CHRYSLER",
           "offsetgroup": "CHRYSLER",
           "orientation": "h",
           "showlegend": true,
           "textposition": "auto",
           "type": "bar",
           "x": [
            119
           ],
           "xaxis": "x",
           "y": [
            "CHRYSLER"
           ],
           "yaxis": "y"
          },
          {
           "alignmentgroup": "True",
           "hovertemplate": "Make=%{y}<br>Model Year=2019<br>number_of_Vehicles=%{x}<extra></extra>",
           "legendgroup": "FIAT",
           "marker": {
            "color": "#B6E880",
            "pattern": {
             "shape": ""
            }
           },
           "name": "FIAT",
           "offsetgroup": "FIAT",
           "orientation": "h",
           "showlegend": true,
           "textposition": "auto",
           "type": "bar",
           "x": [
            9
           ],
           "xaxis": "x",
           "y": [
            "FIAT"
           ],
           "yaxis": "y"
          },
          {
           "alignmentgroup": "True",
           "hovertemplate": "Make=%{y}<br>Model Year=2019<br>number_of_Vehicles=%{x}<extra></extra>",
           "legendgroup": "FORD",
           "marker": {
            "color": "#FECB52",
            "pattern": {
             "shape": ""
            }
           },
           "name": "FORD",
           "offsetgroup": "FORD",
           "orientation": "h",
           "showlegend": true,
           "textposition": "auto",
           "type": "bar",
           "x": [
            136
           ],
           "xaxis": "x",
           "y": [
            "FORD"
           ],
           "yaxis": "y"
          },
          {
           "alignmentgroup": "True",
           "hovertemplate": "Make=%{y}<br>Model Year=2019<br>number_of_Vehicles=%{x}<extra></extra>",
           "legendgroup": "HONDA",
           "marker": {
            "color": "#EF553B",
            "pattern": {
             "shape": ""
            }
           },
           "name": "HONDA",
           "offsetgroup": "HONDA",
           "orientation": "h",
           "showlegend": true,
           "textposition": "auto",
           "type": "bar",
           "x": [
            73
           ],
           "xaxis": "x",
           "y": [
            "HONDA"
           ],
           "yaxis": "y"
          },
          {
           "alignmentgroup": "True",
           "hovertemplate": "Make=%{y}<br>Model Year=2019<br>number_of_Vehicles=%{x}<extra></extra>",
           "legendgroup": "HYUNDAI",
           "marker": {
            "color": "#00cc96",
            "pattern": {
             "shape": ""
            }
           },
           "name": "HYUNDAI",
           "offsetgroup": "HYUNDAI",
           "orientation": "h",
           "showlegend": true,
           "textposition": "auto",
           "type": "bar",
           "x": [
            116
           ],
           "xaxis": "x",
           "y": [
            "HYUNDAI"
           ],
           "yaxis": "y"
          },
          {
           "alignmentgroup": "True",
           "hovertemplate": "Make=%{y}<br>Model Year=2019<br>number_of_Vehicles=%{x}<extra></extra>",
           "legendgroup": "JAGUAR",
           "marker": {
            "color": "#ab63fa",
            "pattern": {
             "shape": ""
            }
           },
           "name": "JAGUAR",
           "offsetgroup": "JAGUAR",
           "orientation": "h",
           "showlegend": true,
           "textposition": "auto",
           "type": "bar",
           "x": [
            120
           ],
           "xaxis": "x",
           "y": [
            "JAGUAR"
           ],
           "yaxis": "y"
          },
          {
           "alignmentgroup": "True",
           "hovertemplate": "Make=%{y}<br>Model Year=2019<br>number_of_Vehicles=%{x}<extra></extra>",
           "legendgroup": "KIA",
           "marker": {
            "color": "#19d3f3",
            "pattern": {
             "shape": ""
            }
           },
           "name": "KIA",
           "offsetgroup": "KIA",
           "orientation": "h",
           "showlegend": true,
           "textposition": "auto",
           "type": "bar",
           "x": [
            681
           ],
           "xaxis": "x",
           "y": [
            "KIA"
           ],
           "yaxis": "y"
          },
          {
           "alignmentgroup": "True",
           "hovertemplate": "Make=%{y}<br>Model Year=2019<br>number_of_Vehicles=%{x}<extra></extra>",
           "legendgroup": "MERCEDES-BENZ",
           "marker": {
            "color": "#636efa",
            "pattern": {
             "shape": ""
            }
           },
           "name": "MERCEDES-BENZ",
           "offsetgroup": "MERCEDES-BENZ",
           "orientation": "h",
           "showlegend": true,
           "textposition": "auto",
           "type": "bar",
           "x": [
            133
           ],
           "xaxis": "x",
           "y": [
            "MERCEDES-BENZ"
           ],
           "yaxis": "y"
          },
          {
           "alignmentgroup": "True",
           "hovertemplate": "Make=%{y}<br>Model Year=2019<br>number_of_Vehicles=%{x}<extra></extra>",
           "legendgroup": "MINI",
           "marker": {
            "color": "#EF553B",
            "pattern": {
             "shape": ""
            }
           },
           "name": "MINI",
           "offsetgroup": "MINI",
           "orientation": "h",
           "showlegend": true,
           "textposition": "auto",
           "type": "bar",
           "x": [
            100
           ],
           "xaxis": "x",
           "y": [
            "MINI"
           ],
           "yaxis": "y"
          },
          {
           "alignmentgroup": "True",
           "hovertemplate": "Make=%{y}<br>Model Year=2019<br>number_of_Vehicles=%{x}<extra></extra>",
           "legendgroup": "MITSUBISHI",
           "marker": {
            "color": "#00cc96",
            "pattern": {
             "shape": ""
            }
           },
           "name": "MITSUBISHI",
           "offsetgroup": "MITSUBISHI",
           "orientation": "h",
           "showlegend": true,
           "textposition": "auto",
           "type": "bar",
           "x": [
            146
           ],
           "xaxis": "x",
           "y": [
            "MITSUBISHI"
           ],
           "yaxis": "y"
          },
          {
           "alignmentgroup": "True",
           "hovertemplate": "Make=%{y}<br>Model Year=2019<br>number_of_Vehicles=%{x}<extra></extra>",
           "legendgroup": "NISSAN",
           "marker": {
            "color": "#ab63fa",
            "pattern": {
             "shape": ""
            }
           },
           "name": "NISSAN",
           "offsetgroup": "NISSAN",
           "orientation": "h",
           "showlegend": true,
           "textposition": "auto",
           "type": "bar",
           "x": [
            1409
           ],
           "xaxis": "x",
           "y": [
            "NISSAN"
           ],
           "yaxis": "y"
          },
          {
           "alignmentgroup": "True",
           "hovertemplate": "Make=%{y}<br>Model Year=2019<br>number_of_Vehicles=%{x}<extra></extra>",
           "legendgroup": "PORSCHE",
           "marker": {
            "color": "#19d3f3",
            "pattern": {
             "shape": ""
            }
           },
           "name": "PORSCHE",
           "offsetgroup": "PORSCHE",
           "orientation": "h",
           "showlegend": true,
           "textposition": "auto",
           "type": "bar",
           "x": [
            62
           ],
           "xaxis": "x",
           "y": [
            "PORSCHE"
           ],
           "yaxis": "y"
          },
          {
           "alignmentgroup": "True",
           "hovertemplate": "Make=%{y}<br>Model Year=2019<br>number_of_Vehicles=%{x}<extra></extra>",
           "legendgroup": "SMART",
           "marker": {
            "color": "#B6E880",
            "pattern": {
             "shape": ""
            }
           },
           "name": "SMART",
           "offsetgroup": "SMART",
           "orientation": "h",
           "showlegend": true,
           "textposition": "auto",
           "type": "bar",
           "x": [
            9
           ],
           "xaxis": "x",
           "y": [
            "SMART"
           ],
           "yaxis": "y"
          },
          {
           "alignmentgroup": "True",
           "hovertemplate": "Make=%{y}<br>Model Year=2019<br>number_of_Vehicles=%{x}<extra></extra>",
           "legendgroup": "SUBARU",
           "marker": {
            "color": "#FF97FF",
            "pattern": {
             "shape": ""
            }
           },
           "name": "SUBARU",
           "offsetgroup": "SUBARU",
           "orientation": "h",
           "showlegend": true,
           "textposition": "auto",
           "type": "bar",
           "x": [
            58
           ],
           "xaxis": "x",
           "y": [
            "SUBARU"
           ],
           "yaxis": "y"
          },
          {
           "alignmentgroup": "True",
           "hovertemplate": "Make=%{y}<br>Model Year=2019<br>number_of_Vehicles=%{x}<extra></extra>",
           "legendgroup": "TESLA",
           "marker": {
            "color": "#FECB52",
            "pattern": {
             "shape": ""
            }
           },
           "name": "TESLA",
           "offsetgroup": "TESLA",
           "orientation": "h",
           "showlegend": true,
           "textposition": "auto",
           "type": "bar",
           "x": [
            4583
           ],
           "xaxis": "x",
           "y": [
            "TESLA"
           ],
           "yaxis": "y"
          },
          {
           "alignmentgroup": "True",
           "hovertemplate": "Make=%{y}<br>Model Year=2019<br>number_of_Vehicles=%{x}<extra></extra>",
           "legendgroup": "TOYOTA",
           "marker": {
            "color": "#EF553B",
            "pattern": {
             "shape": ""
            }
           },
           "name": "TOYOTA",
           "offsetgroup": "TOYOTA",
           "orientation": "h",
           "showlegend": true,
           "textposition": "auto",
           "type": "bar",
           "x": [
            190
           ],
           "xaxis": "x",
           "y": [
            "TOYOTA"
           ],
           "yaxis": "y"
          },
          {
           "alignmentgroup": "True",
           "hovertemplate": "Make=%{y}<br>Model Year=2019<br>number_of_Vehicles=%{x}<extra></extra>",
           "legendgroup": "VOLKSWAGEN",
           "marker": {
            "color": "#00cc96",
            "pattern": {
             "shape": ""
            }
           },
           "name": "VOLKSWAGEN",
           "offsetgroup": "VOLKSWAGEN",
           "orientation": "h",
           "showlegend": true,
           "textposition": "auto",
           "type": "bar",
           "x": [
            495
           ],
           "xaxis": "x",
           "y": [
            "VOLKSWAGEN"
           ],
           "yaxis": "y"
          },
          {
           "alignmentgroup": "True",
           "hovertemplate": "Make=%{y}<br>Model Year=2019<br>number_of_Vehicles=%{x}<extra></extra>",
           "legendgroup": "VOLVO",
           "marker": {
            "color": "#ab63fa",
            "pattern": {
             "shape": ""
            }
           },
           "name": "VOLVO",
           "offsetgroup": "VOLVO",
           "orientation": "h",
           "showlegend": true,
           "textposition": "auto",
           "type": "bar",
           "x": [
            190
           ],
           "xaxis": "x",
           "y": [
            "VOLVO"
           ],
           "yaxis": "y"
          }
         ],
         "name": "2019"
        },
        {
         "data": [
          {
           "alignmentgroup": "True",
           "hovertemplate": "Make=%{y}<br>Model Year=2020<br>number_of_Vehicles=%{x}<extra></extra>",
           "legendgroup": "AUDI",
           "marker": {
            "color": "#636efa",
            "pattern": {
             "shape": ""
            }
           },
           "name": "AUDI",
           "offsetgroup": "AUDI",
           "orientation": "h",
           "showlegend": true,
           "textposition": "auto",
           "type": "bar",
           "x": [
            224
           ],
           "xaxis": "x",
           "y": [
            "AUDI"
           ],
           "yaxis": "y"
          },
          {
           "alignmentgroup": "True",
           "hovertemplate": "Make=%{y}<br>Model Year=2020<br>number_of_Vehicles=%{x}<extra></extra>",
           "legendgroup": "BENTLEY",
           "marker": {
            "color": "#00cc96",
            "pattern": {
             "shape": ""
            }
           },
           "name": "BENTLEY",
           "offsetgroup": "BENTLEY",
           "orientation": "h",
           "showlegend": true,
           "textposition": "auto",
           "type": "bar",
           "x": [
            1
           ],
           "xaxis": "x",
           "y": [
            "BENTLEY"
           ],
           "yaxis": "y"
          },
          {
           "alignmentgroup": "True",
           "hovertemplate": "Make=%{y}<br>Model Year=2020<br>number_of_Vehicles=%{x}<extra></extra>",
           "legendgroup": "BMW",
           "marker": {
            "color": "#ab63fa",
            "pattern": {
             "shape": ""
            }
           },
           "name": "BMW",
           "offsetgroup": "BMW",
           "orientation": "h",
           "showlegend": true,
           "textposition": "auto",
           "type": "bar",
           "x": [
            143
           ],
           "xaxis": "x",
           "y": [
            "BMW"
           ],
           "yaxis": "y"
          },
          {
           "alignmentgroup": "True",
           "hovertemplate": "Make=%{y}<br>Model Year=2020<br>number_of_Vehicles=%{x}<extra></extra>",
           "legendgroup": "CHEVROLET",
           "marker": {
            "color": "#19d3f3",
            "pattern": {
             "shape": ""
            }
           },
           "name": "CHEVROLET",
           "offsetgroup": "CHEVROLET",
           "orientation": "h",
           "showlegend": true,
           "textposition": "auto",
           "type": "bar",
           "x": [
            1014
           ],
           "xaxis": "x",
           "y": [
            "CHEVROLET"
           ],
           "yaxis": "y"
          },
          {
           "alignmentgroup": "True",
           "hovertemplate": "Make=%{y}<br>Model Year=2020<br>number_of_Vehicles=%{x}<extra></extra>",
           "legendgroup": "CHRYSLER",
           "marker": {
            "color": "#FF6692",
            "pattern": {
             "shape": ""
            }
           },
           "name": "CHRYSLER",
           "offsetgroup": "CHRYSLER",
           "orientation": "h",
           "showlegend": true,
           "textposition": "auto",
           "type": "bar",
           "x": [
            286
           ],
           "xaxis": "x",
           "y": [
            "CHRYSLER"
           ],
           "yaxis": "y"
          },
          {
           "alignmentgroup": "True",
           "hovertemplate": "Make=%{y}<br>Model Year=2020<br>number_of_Vehicles=%{x}<extra></extra>",
           "legendgroup": "FORD",
           "marker": {
            "color": "#FECB52",
            "pattern": {
             "shape": ""
            }
           },
           "name": "FORD",
           "offsetgroup": "FORD",
           "orientation": "h",
           "showlegend": true,
           "textposition": "auto",
           "type": "bar",
           "x": [
            65
           ],
           "xaxis": "x",
           "y": [
            "FORD"
           ],
           "yaxis": "y"
          },
          {
           "alignmentgroup": "True",
           "hovertemplate": "Make=%{y}<br>Model Year=2020<br>number_of_Vehicles=%{x}<extra></extra>",
           "legendgroup": "HONDA",
           "marker": {
            "color": "#EF553B",
            "pattern": {
             "shape": ""
            }
           },
           "name": "HONDA",
           "offsetgroup": "HONDA",
           "orientation": "h",
           "showlegend": true,
           "textposition": "auto",
           "type": "bar",
           "x": [
            79
           ],
           "xaxis": "x",
           "y": [
            "HONDA"
           ],
           "yaxis": "y"
          },
          {
           "alignmentgroup": "True",
           "hovertemplate": "Make=%{y}<br>Model Year=2020<br>number_of_Vehicles=%{x}<extra></extra>",
           "legendgroup": "HYUNDAI",
           "marker": {
            "color": "#00cc96",
            "pattern": {
             "shape": ""
            }
           },
           "name": "HYUNDAI",
           "offsetgroup": "HYUNDAI",
           "orientation": "h",
           "showlegend": true,
           "textposition": "auto",
           "type": "bar",
           "x": [
            212
           ],
           "xaxis": "x",
           "y": [
            "HYUNDAI"
           ],
           "yaxis": "y"
          },
          {
           "alignmentgroup": "True",
           "hovertemplate": "Make=%{y}<br>Model Year=2020<br>number_of_Vehicles=%{x}<extra></extra>",
           "legendgroup": "JAGUAR",
           "marker": {
            "color": "#ab63fa",
            "pattern": {
             "shape": ""
            }
           },
           "name": "JAGUAR",
           "offsetgroup": "JAGUAR",
           "orientation": "h",
           "showlegend": true,
           "textposition": "auto",
           "type": "bar",
           "x": [
            74
           ],
           "xaxis": "x",
           "y": [
            "JAGUAR"
           ],
           "yaxis": "y"
          },
          {
           "alignmentgroup": "True",
           "hovertemplate": "Make=%{y}<br>Model Year=2020<br>number_of_Vehicles=%{x}<extra></extra>",
           "legendgroup": "KIA",
           "marker": {
            "color": "#19d3f3",
            "pattern": {
             "shape": ""
            }
           },
           "name": "KIA",
           "offsetgroup": "KIA",
           "orientation": "h",
           "showlegend": true,
           "textposition": "auto",
           "type": "bar",
           "x": [
            535
           ],
           "xaxis": "x",
           "y": [
            "KIA"
           ],
           "yaxis": "y"
          },
          {
           "alignmentgroup": "True",
           "hovertemplate": "Make=%{y}<br>Model Year=2020<br>number_of_Vehicles=%{x}<extra></extra>",
           "legendgroup": "LAND ROVER",
           "marker": {
            "color": "#FF6692",
            "pattern": {
             "shape": ""
            }
           },
           "name": "LAND ROVER",
           "offsetgroup": "LAND ROVER",
           "orientation": "h",
           "showlegend": true,
           "textposition": "auto",
           "type": "bar",
           "x": [
            30
           ],
           "xaxis": "x",
           "y": [
            "LAND ROVER"
           ],
           "yaxis": "y"
          },
          {
           "alignmentgroup": "True",
           "hovertemplate": "Make=%{y}<br>Model Year=2020<br>number_of_Vehicles=%{x}<extra></extra>",
           "legendgroup": "LINCOLN",
           "marker": {
            "color": "#FF97FF",
            "pattern": {
             "shape": ""
            }
           },
           "name": "LINCOLN",
           "offsetgroup": "LINCOLN",
           "orientation": "h",
           "showlegend": true,
           "textposition": "auto",
           "type": "bar",
           "x": [
            29
           ],
           "xaxis": "x",
           "y": [
            "LINCOLN"
           ],
           "yaxis": "y"
          },
          {
           "alignmentgroup": "True",
           "hovertemplate": "Make=%{y}<br>Model Year=2020<br>number_of_Vehicles=%{x}<extra></extra>",
           "legendgroup": "MERCEDES-BENZ",
           "marker": {
            "color": "#636efa",
            "pattern": {
             "shape": ""
            }
           },
           "name": "MERCEDES-BENZ",
           "offsetgroup": "MERCEDES-BENZ",
           "orientation": "h",
           "showlegend": true,
           "textposition": "auto",
           "type": "bar",
           "x": [
            32
           ],
           "xaxis": "x",
           "y": [
            "MERCEDES-BENZ"
           ],
           "yaxis": "y"
          },
          {
           "alignmentgroup": "True",
           "hovertemplate": "Make=%{y}<br>Model Year=2020<br>number_of_Vehicles=%{x}<extra></extra>",
           "legendgroup": "MINI",
           "marker": {
            "color": "#EF553B",
            "pattern": {
             "shape": ""
            }
           },
           "name": "MINI",
           "offsetgroup": "MINI",
           "orientation": "h",
           "showlegend": true,
           "textposition": "auto",
           "type": "bar",
           "x": [
            3
           ],
           "xaxis": "x",
           "y": [
            "MINI"
           ],
           "yaxis": "y"
          },
          {
           "alignmentgroup": "True",
           "hovertemplate": "Make=%{y}<br>Model Year=2020<br>number_of_Vehicles=%{x}<extra></extra>",
           "legendgroup": "MITSUBISHI",
           "marker": {
            "color": "#00cc96",
            "pattern": {
             "shape": ""
            }
           },
           "name": "MITSUBISHI",
           "offsetgroup": "MITSUBISHI",
           "orientation": "h",
           "showlegend": true,
           "textposition": "auto",
           "type": "bar",
           "x": [
            97
           ],
           "xaxis": "x",
           "y": [
            "MITSUBISHI"
           ],
           "yaxis": "y"
          },
          {
           "alignmentgroup": "True",
           "hovertemplate": "Make=%{y}<br>Model Year=2020<br>number_of_Vehicles=%{x}<extra></extra>",
           "legendgroup": "NISSAN",
           "marker": {
            "color": "#ab63fa",
            "pattern": {
             "shape": ""
            }
           },
           "name": "NISSAN",
           "offsetgroup": "NISSAN",
           "orientation": "h",
           "showlegend": true,
           "textposition": "auto",
           "type": "bar",
           "x": [
            580
           ],
           "xaxis": "x",
           "y": [
            "NISSAN"
           ],
           "yaxis": "y"
          },
          {
           "alignmentgroup": "True",
           "hovertemplate": "Make=%{y}<br>Model Year=2020<br>number_of_Vehicles=%{x}<extra></extra>",
           "legendgroup": "PORSCHE",
           "marker": {
            "color": "#19d3f3",
            "pattern": {
             "shape": ""
            }
           },
           "name": "PORSCHE",
           "offsetgroup": "PORSCHE",
           "orientation": "h",
           "showlegend": true,
           "textposition": "auto",
           "type": "bar",
           "x": [
            143
           ],
           "xaxis": "x",
           "y": [
            "PORSCHE"
           ],
           "yaxis": "y"
          },
          {
           "alignmentgroup": "True",
           "hovertemplate": "Make=%{y}<br>Model Year=2020<br>number_of_Vehicles=%{x}<extra></extra>",
           "legendgroup": "TESLA",
           "marker": {
            "color": "#FECB52",
            "pattern": {
             "shape": ""
            }
           },
           "name": "TESLA",
           "offsetgroup": "TESLA",
           "orientation": "h",
           "showlegend": true,
           "textposition": "auto",
           "type": "bar",
           "x": [
            7018
           ],
           "xaxis": "x",
           "y": [
            "TESLA"
           ],
           "yaxis": "y"
          },
          {
           "alignmentgroup": "True",
           "hovertemplate": "Make=%{y}<br>Model Year=2020<br>number_of_Vehicles=%{x}<extra></extra>",
           "legendgroup": "TOYOTA",
           "marker": {
            "color": "#EF553B",
            "pattern": {
             "shape": ""
            }
           },
           "name": "TOYOTA",
           "offsetgroup": "TOYOTA",
           "orientation": "h",
           "showlegend": true,
           "textposition": "auto",
           "type": "bar",
           "x": [
            311
           ],
           "xaxis": "x",
           "y": [
            "TOYOTA"
           ],
           "yaxis": "y"
          },
          {
           "alignmentgroup": "True",
           "hovertemplate": "Make=%{y}<br>Model Year=2020<br>number_of_Vehicles=%{x}<extra></extra>",
           "legendgroup": "VOLVO",
           "marker": {
            "color": "#ab63fa",
            "pattern": {
             "shape": ""
            }
           },
           "name": "VOLVO",
           "offsetgroup": "VOLVO",
           "orientation": "h",
           "showlegend": true,
           "textposition": "auto",
           "type": "bar",
           "x": [
            162
           ],
           "xaxis": "x",
           "y": [
            "VOLVO"
           ],
           "yaxis": "y"
          }
         ],
         "name": "2020"
        },
        {
         "data": [
          {
           "alignmentgroup": "True",
           "hovertemplate": "Make=%{y}<br>Model Year=2021<br>number_of_Vehicles=%{x}<extra></extra>",
           "legendgroup": "AUDI",
           "marker": {
            "color": "#636efa",
            "pattern": {
             "shape": ""
            }
           },
           "name": "AUDI",
           "offsetgroup": "AUDI",
           "orientation": "h",
           "showlegend": true,
           "textposition": "auto",
           "type": "bar",
           "x": [
            544
           ],
           "xaxis": "x",
           "y": [
            "AUDI"
           ],
           "yaxis": "y"
          },
          {
           "alignmentgroup": "True",
           "hovertemplate": "Make=%{y}<br>Model Year=2021<br>number_of_Vehicles=%{x}<extra></extra>",
           "legendgroup": "BENTLEY",
           "marker": {
            "color": "#00cc96",
            "pattern": {
             "shape": ""
            }
           },
           "name": "BENTLEY",
           "offsetgroup": "BENTLEY",
           "orientation": "h",
           "showlegend": true,
           "textposition": "auto",
           "type": "bar",
           "x": [
            1
           ],
           "xaxis": "x",
           "y": [
            "BENTLEY"
           ],
           "yaxis": "y"
          },
          {
           "alignmentgroup": "True",
           "hovertemplate": "Make=%{y}<br>Model Year=2021<br>number_of_Vehicles=%{x}<extra></extra>",
           "legendgroup": "BMW",
           "marker": {
            "color": "#ab63fa",
            "pattern": {
             "shape": ""
            }
           },
           "name": "BMW",
           "offsetgroup": "BMW",
           "orientation": "h",
           "showlegend": true,
           "textposition": "auto",
           "type": "bar",
           "x": [
            635
           ],
           "xaxis": "x",
           "y": [
            "BMW"
           ],
           "yaxis": "y"
          },
          {
           "alignmentgroup": "True",
           "hovertemplate": "Make=%{y}<br>Model Year=2021<br>number_of_Vehicles=%{x}<extra></extra>",
           "legendgroup": "CHEVROLET",
           "marker": {
            "color": "#19d3f3",
            "pattern": {
             "shape": ""
            }
           },
           "name": "CHEVROLET",
           "offsetgroup": "CHEVROLET",
           "orientation": "h",
           "showlegend": true,
           "textposition": "auto",
           "type": "bar",
           "x": [
            377
           ],
           "xaxis": "x",
           "y": [
            "CHEVROLET"
           ],
           "yaxis": "y"
          },
          {
           "alignmentgroup": "True",
           "hovertemplate": "Make=%{y}<br>Model Year=2021<br>number_of_Vehicles=%{x}<extra></extra>",
           "legendgroup": "CHRYSLER",
           "marker": {
            "color": "#FF6692",
            "pattern": {
             "shape": ""
            }
           },
           "name": "CHRYSLER",
           "offsetgroup": "CHRYSLER",
           "orientation": "h",
           "showlegend": true,
           "textposition": "auto",
           "type": "bar",
           "x": [
            504
           ],
           "xaxis": "x",
           "y": [
            "CHRYSLER"
           ],
           "yaxis": "y"
          },
          {
           "alignmentgroup": "True",
           "hovertemplate": "Make=%{y}<br>Model Year=2021<br>number_of_Vehicles=%{x}<extra></extra>",
           "legendgroup": "FORD",
           "marker": {
            "color": "#FECB52",
            "pattern": {
             "shape": ""
            }
           },
           "name": "FORD",
           "offsetgroup": "FORD",
           "orientation": "h",
           "showlegend": true,
           "textposition": "auto",
           "type": "bar",
           "x": [
            882
           ],
           "xaxis": "x",
           "y": [
            "FORD"
           ],
           "yaxis": "y"
          },
          {
           "alignmentgroup": "True",
           "hovertemplate": "Make=%{y}<br>Model Year=2021<br>number_of_Vehicles=%{x}<extra></extra>",
           "legendgroup": "HONDA",
           "marker": {
            "color": "#EF553B",
            "pattern": {
             "shape": ""
            }
           },
           "name": "HONDA",
           "offsetgroup": "HONDA",
           "orientation": "h",
           "showlegend": true,
           "textposition": "auto",
           "type": "bar",
           "x": [
            17
           ],
           "xaxis": "x",
           "y": [
            "HONDA"
           ],
           "yaxis": "y"
          },
          {
           "alignmentgroup": "True",
           "hovertemplate": "Make=%{y}<br>Model Year=2021<br>number_of_Vehicles=%{x}<extra></extra>",
           "legendgroup": "HYUNDAI",
           "marker": {
            "color": "#00cc96",
            "pattern": {
             "shape": ""
            }
           },
           "name": "HYUNDAI",
           "offsetgroup": "HYUNDAI",
           "orientation": "h",
           "showlegend": true,
           "textposition": "auto",
           "type": "bar",
           "x": [
            187
           ],
           "xaxis": "x",
           "y": [
            "HYUNDAI"
           ],
           "yaxis": "y"
          },
          {
           "alignmentgroup": "True",
           "hovertemplate": "Make=%{y}<br>Model Year=2021<br>number_of_Vehicles=%{x}<extra></extra>",
           "legendgroup": "JAGUAR",
           "marker": {
            "color": "#ab63fa",
            "pattern": {
             "shape": ""
            }
           },
           "name": "JAGUAR",
           "offsetgroup": "JAGUAR",
           "orientation": "h",
           "showlegend": true,
           "textposition": "auto",
           "type": "bar",
           "x": [
            6
           ],
           "xaxis": "x",
           "y": [
            "JAGUAR"
           ],
           "yaxis": "y"
          },
          {
           "alignmentgroup": "True",
           "hovertemplate": "Make=%{y}<br>Model Year=2021<br>number_of_Vehicles=%{x}<extra></extra>",
           "legendgroup": "JEEP",
           "marker": {
            "color": "#FFA15A",
            "pattern": {
             "shape": ""
            }
           },
           "name": "JEEP",
           "offsetgroup": "JEEP",
           "orientation": "h",
           "showlegend": true,
           "textposition": "auto",
           "type": "bar",
           "x": [
            629
           ],
           "xaxis": "x",
           "y": [
            "JEEP"
           ],
           "yaxis": "y"
          },
          {
           "alignmentgroup": "True",
           "hovertemplate": "Make=%{y}<br>Model Year=2021<br>number_of_Vehicles=%{x}<extra></extra>",
           "legendgroup": "KIA",
           "marker": {
            "color": "#19d3f3",
            "pattern": {
             "shape": ""
            }
           },
           "name": "KIA",
           "offsetgroup": "KIA",
           "orientation": "h",
           "showlegend": true,
           "textposition": "auto",
           "type": "bar",
           "x": [
            74
           ],
           "xaxis": "x",
           "y": [
            "KIA"
           ],
           "yaxis": "y"
          },
          {
           "alignmentgroup": "True",
           "hovertemplate": "Make=%{y}<br>Model Year=2021<br>number_of_Vehicles=%{x}<extra></extra>",
           "legendgroup": "LAND ROVER",
           "marker": {
            "color": "#FF6692",
            "pattern": {
             "shape": ""
            }
           },
           "name": "LAND ROVER",
           "offsetgroup": "LAND ROVER",
           "orientation": "h",
           "showlegend": true,
           "textposition": "auto",
           "type": "bar",
           "x": [
            8
           ],
           "xaxis": "x",
           "y": [
            "LAND ROVER"
           ],
           "yaxis": "y"
          },
          {
           "alignmentgroup": "True",
           "hovertemplate": "Make=%{y}<br>Model Year=2021<br>number_of_Vehicles=%{x}<extra></extra>",
           "legendgroup": "LINCOLN",
           "marker": {
            "color": "#FF97FF",
            "pattern": {
             "shape": ""
            }
           },
           "name": "LINCOLN",
           "offsetgroup": "LINCOLN",
           "orientation": "h",
           "showlegend": true,
           "textposition": "auto",
           "type": "bar",
           "x": [
            41
           ],
           "xaxis": "x",
           "y": [
            "LINCOLN"
           ],
           "yaxis": "y"
          },
          {
           "alignmentgroup": "True",
           "hovertemplate": "Make=%{y}<br>Model Year=2021<br>number_of_Vehicles=%{x}<extra></extra>",
           "legendgroup": "MINI",
           "marker": {
            "color": "#EF553B",
            "pattern": {
             "shape": ""
            }
           },
           "name": "MINI",
           "offsetgroup": "MINI",
           "orientation": "h",
           "showlegend": true,
           "textposition": "auto",
           "type": "bar",
           "x": [
            143
           ],
           "xaxis": "x",
           "y": [
            "MINI"
           ],
           "yaxis": "y"
          },
          {
           "alignmentgroup": "True",
           "hovertemplate": "Make=%{y}<br>Model Year=2021<br>number_of_Vehicles=%{x}<extra></extra>",
           "legendgroup": "MITSUBISHI",
           "marker": {
            "color": "#00cc96",
            "pattern": {
             "shape": ""
            }
           },
           "name": "MITSUBISHI",
           "offsetgroup": "MITSUBISHI",
           "orientation": "h",
           "showlegend": true,
           "textposition": "auto",
           "type": "bar",
           "x": [
            8
           ],
           "xaxis": "x",
           "y": [
            "MITSUBISHI"
           ],
           "yaxis": "y"
          },
          {
           "alignmentgroup": "True",
           "hovertemplate": "Make=%{y}<br>Model Year=2021<br>number_of_Vehicles=%{x}<extra></extra>",
           "legendgroup": "NISSAN",
           "marker": {
            "color": "#ab63fa",
            "pattern": {
             "shape": ""
            }
           },
           "name": "NISSAN",
           "offsetgroup": "NISSAN",
           "orientation": "h",
           "showlegend": true,
           "textposition": "auto",
           "type": "bar",
           "x": [
            534
           ],
           "xaxis": "x",
           "y": [
            "NISSAN"
           ],
           "yaxis": "y"
          },
          {
           "alignmentgroup": "True",
           "hovertemplate": "Make=%{y}<br>Model Year=2021<br>number_of_Vehicles=%{x}<extra></extra>",
           "legendgroup": "POLESTAR",
           "marker": {
            "color": "#FFA15A",
            "pattern": {
             "shape": ""
            }
           },
           "name": "POLESTAR",
           "offsetgroup": "POLESTAR",
           "orientation": "h",
           "showlegend": true,
           "textposition": "auto",
           "type": "bar",
           "x": [
            98
           ],
           "xaxis": "x",
           "y": [
            "POLESTAR"
           ],
           "yaxis": "y"
          },
          {
           "alignmentgroup": "True",
           "hovertemplate": "Make=%{y}<br>Model Year=2021<br>number_of_Vehicles=%{x}<extra></extra>",
           "legendgroup": "PORSCHE",
           "marker": {
            "color": "#19d3f3",
            "pattern": {
             "shape": ""
            }
           },
           "name": "PORSCHE",
           "offsetgroup": "PORSCHE",
           "orientation": "h",
           "showlegend": true,
           "textposition": "auto",
           "type": "bar",
           "x": [
            145
           ],
           "xaxis": "x",
           "y": [
            "PORSCHE"
           ],
           "yaxis": "y"
          },
          {
           "alignmentgroup": "True",
           "hovertemplate": "Make=%{y}<br>Model Year=2021<br>number_of_Vehicles=%{x}<extra></extra>",
           "legendgroup": "TESLA",
           "marker": {
            "color": "#FECB52",
            "pattern": {
             "shape": ""
            }
           },
           "name": "TESLA",
           "offsetgroup": "TESLA",
           "orientation": "h",
           "showlegend": true,
           "textposition": "auto",
           "type": "bar",
           "x": [
            11028
           ],
           "xaxis": "x",
           "y": [
            "TESLA"
           ],
           "yaxis": "y"
          },
          {
           "alignmentgroup": "True",
           "hovertemplate": "Make=%{y}<br>Model Year=2021<br>number_of_Vehicles=%{x}<extra></extra>",
           "legendgroup": "TOYOTA",
           "marker": {
            "color": "#EF553B",
            "pattern": {
             "shape": ""
            }
           },
           "name": "TOYOTA",
           "offsetgroup": "TOYOTA",
           "orientation": "h",
           "showlegend": true,
           "textposition": "auto",
           "type": "bar",
           "x": [
            935
           ],
           "xaxis": "x",
           "y": [
            "TOYOTA"
           ],
           "yaxis": "y"
          },
          {
           "alignmentgroup": "True",
           "hovertemplate": "Make=%{y}<br>Model Year=2021<br>number_of_Vehicles=%{x}<extra></extra>",
           "legendgroup": "VOLKSWAGEN",
           "marker": {
            "color": "#00cc96",
            "pattern": {
             "shape": ""
            }
           },
           "name": "VOLKSWAGEN",
           "offsetgroup": "VOLKSWAGEN",
           "orientation": "h",
           "showlegend": true,
           "textposition": "auto",
           "type": "bar",
           "x": [
            988
           ],
           "xaxis": "x",
           "y": [
            "VOLKSWAGEN"
           ],
           "yaxis": "y"
          },
          {
           "alignmentgroup": "True",
           "hovertemplate": "Make=%{y}<br>Model Year=2021<br>number_of_Vehicles=%{x}<extra></extra>",
           "legendgroup": "VOLVO",
           "marker": {
            "color": "#ab63fa",
            "pattern": {
             "shape": ""
            }
           },
           "name": "VOLVO",
           "offsetgroup": "VOLVO",
           "orientation": "h",
           "showlegend": true,
           "textposition": "auto",
           "type": "bar",
           "x": [
            580
           ],
           "xaxis": "x",
           "y": [
            "VOLVO"
           ],
           "yaxis": "y"
          }
         ],
         "name": "2021"
        },
        {
         "data": [
          {
           "alignmentgroup": "True",
           "hovertemplate": "Make=%{y}<br>Model Year=2022<br>number_of_Vehicles=%{x}<extra></extra>",
           "legendgroup": "AUDI",
           "marker": {
            "color": "#636efa",
            "pattern": {
             "shape": ""
            }
           },
           "name": "AUDI",
           "offsetgroup": "AUDI",
           "orientation": "h",
           "showlegend": true,
           "textposition": "auto",
           "type": "bar",
           "x": [
            585
           ],
           "xaxis": "x",
           "y": [
            "AUDI"
           ],
           "yaxis": "y"
          },
          {
           "alignmentgroup": "True",
           "hovertemplate": "Make=%{y}<br>Model Year=2022<br>number_of_Vehicles=%{x}<extra></extra>",
           "legendgroup": "BENTLEY",
           "marker": {
            "color": "#00cc96",
            "pattern": {
             "shape": ""
            }
           },
           "name": "BENTLEY",
           "offsetgroup": "BENTLEY",
           "orientation": "h",
           "showlegend": true,
           "textposition": "auto",
           "type": "bar",
           "x": [
            1
           ],
           "xaxis": "x",
           "y": [
            "BENTLEY"
           ],
           "yaxis": "y"
          },
          {
           "alignmentgroup": "True",
           "hovertemplate": "Make=%{y}<br>Model Year=2022<br>number_of_Vehicles=%{x}<extra></extra>",
           "legendgroup": "BMW",
           "marker": {
            "color": "#ab63fa",
            "pattern": {
             "shape": ""
            }
           },
           "name": "BMW",
           "offsetgroup": "BMW",
           "orientation": "h",
           "showlegend": true,
           "textposition": "auto",
           "type": "bar",
           "x": [
            905
           ],
           "xaxis": "x",
           "y": [
            "BMW"
           ],
           "yaxis": "y"
          },
          {
           "alignmentgroup": "True",
           "hovertemplate": "Make=%{y}<br>Model Year=2022<br>number_of_Vehicles=%{x}<extra></extra>",
           "legendgroup": "CHEVROLET",
           "marker": {
            "color": "#19d3f3",
            "pattern": {
             "shape": ""
            }
           },
           "name": "CHEVROLET",
           "offsetgroup": "CHEVROLET",
           "orientation": "h",
           "showlegend": true,
           "textposition": "auto",
           "type": "bar",
           "x": [
            892
           ],
           "xaxis": "x",
           "y": [
            "CHEVROLET"
           ],
           "yaxis": "y"
          },
          {
           "alignmentgroup": "True",
           "hovertemplate": "Make=%{y}<br>Model Year=2022<br>number_of_Vehicles=%{x}<extra></extra>",
           "legendgroup": "CHRYSLER",
           "marker": {
            "color": "#FF6692",
            "pattern": {
             "shape": ""
            }
           },
           "name": "CHRYSLER",
           "offsetgroup": "CHRYSLER",
           "orientation": "h",
           "showlegend": true,
           "textposition": "auto",
           "type": "bar",
           "x": [
            237
           ],
           "xaxis": "x",
           "y": [
            "CHRYSLER"
           ],
           "yaxis": "y"
          },
          {
           "alignmentgroup": "True",
           "hovertemplate": "Make=%{y}<br>Model Year=2022<br>number_of_Vehicles=%{x}<extra></extra>",
           "legendgroup": "FORD",
           "marker": {
            "color": "#FECB52",
            "pattern": {
             "shape": ""
            }
           },
           "name": "FORD",
           "offsetgroup": "FORD",
           "orientation": "h",
           "showlegend": true,
           "textposition": "auto",
           "type": "bar",
           "x": [
            1250
           ],
           "xaxis": "x",
           "y": [
            "FORD"
           ],
           "yaxis": "y"
          },
          {
           "alignmentgroup": "True",
           "hovertemplate": "Make=%{y}<br>Model Year=2022<br>number_of_Vehicles=%{x}<extra></extra>",
           "legendgroup": "HYUNDAI",
           "marker": {
            "color": "#00cc96",
            "pattern": {
             "shape": ""
            }
           },
           "name": "HYUNDAI",
           "offsetgroup": "HYUNDAI",
           "orientation": "h",
           "showlegend": true,
           "textposition": "auto",
           "type": "bar",
           "x": [
            633
           ],
           "xaxis": "x",
           "y": [
            "HYUNDAI"
           ],
           "yaxis": "y"
          },
          {
           "alignmentgroup": "True",
           "hovertemplate": "Make=%{y}<br>Model Year=2022<br>number_of_Vehicles=%{x}<extra></extra>",
           "legendgroup": "JAGUAR",
           "marker": {
            "color": "#ab63fa",
            "pattern": {
             "shape": ""
            }
           },
           "name": "JAGUAR",
           "offsetgroup": "JAGUAR",
           "orientation": "h",
           "showlegend": true,
           "textposition": "auto",
           "type": "bar",
           "x": [
            19
           ],
           "xaxis": "x",
           "y": [
            "JAGUAR"
           ],
           "yaxis": "y"
          },
          {
           "alignmentgroup": "True",
           "hovertemplate": "Make=%{y}<br>Model Year=2022<br>number_of_Vehicles=%{x}<extra></extra>",
           "legendgroup": "JEEP",
           "marker": {
            "color": "#FFA15A",
            "pattern": {
             "shape": ""
            }
           },
           "name": "JEEP",
           "offsetgroup": "JEEP",
           "orientation": "h",
           "showlegend": true,
           "textposition": "auto",
           "type": "bar",
           "x": [
            523
           ],
           "xaxis": "x",
           "y": [
            "JEEP"
           ],
           "yaxis": "y"
          },
          {
           "alignmentgroup": "True",
           "hovertemplate": "Make=%{y}<br>Model Year=2022<br>number_of_Vehicles=%{x}<extra></extra>",
           "legendgroup": "KIA",
           "marker": {
            "color": "#19d3f3",
            "pattern": {
             "shape": ""
            }
           },
           "name": "KIA",
           "offsetgroup": "KIA",
           "orientation": "h",
           "showlegend": true,
           "textposition": "auto",
           "type": "bar",
           "x": [
            2153
           ],
           "xaxis": "x",
           "y": [
            "KIA"
           ],
           "yaxis": "y"
          },
          {
           "alignmentgroup": "True",
           "hovertemplate": "Make=%{y}<br>Model Year=2022<br>number_of_Vehicles=%{x}<extra></extra>",
           "legendgroup": "LEXUS",
           "marker": {
            "color": "#B6E880",
            "pattern": {
             "shape": ""
            }
           },
           "name": "LEXUS",
           "offsetgroup": "LEXUS",
           "orientation": "h",
           "showlegend": true,
           "textposition": "auto",
           "type": "bar",
           "x": [
            33
           ],
           "xaxis": "x",
           "y": [
            "LEXUS"
           ],
           "yaxis": "y"
          },
          {
           "alignmentgroup": "True",
           "hovertemplate": "Make=%{y}<br>Model Year=2022<br>number_of_Vehicles=%{x}<extra></extra>",
           "legendgroup": "LINCOLN",
           "marker": {
            "color": "#FF97FF",
            "pattern": {
             "shape": ""
            }
           },
           "name": "LINCOLN",
           "offsetgroup": "LINCOLN",
           "orientation": "h",
           "showlegend": true,
           "textposition": "auto",
           "type": "bar",
           "x": [
            94
           ],
           "xaxis": "x",
           "y": [
            "LINCOLN"
           ],
           "yaxis": "y"
          },
          {
           "alignmentgroup": "True",
           "hovertemplate": "Make=%{y}<br>Model Year=2022<br>number_of_Vehicles=%{x}<extra></extra>",
           "legendgroup": "LUCID MOTORS",
           "marker": {
            "color": "#FECB52",
            "pattern": {
             "shape": ""
            }
           },
           "name": "LUCID MOTORS",
           "offsetgroup": "LUCID MOTORS",
           "orientation": "h",
           "showlegend": true,
           "textposition": "auto",
           "type": "bar",
           "x": [
            65
           ],
           "xaxis": "x",
           "y": [
            "LUCID MOTORS"
           ],
           "yaxis": "y"
          },
          {
           "alignmentgroup": "True",
           "hovertemplate": "Make=%{y}<br>Model Year=2022<br>number_of_Vehicles=%{x}<extra></extra>",
           "legendgroup": "MERCEDES-BENZ",
           "marker": {
            "color": "#636efa",
            "pattern": {
             "shape": ""
            }
           },
           "name": "MERCEDES-BENZ",
           "offsetgroup": "MERCEDES-BENZ",
           "orientation": "h",
           "showlegend": true,
           "textposition": "auto",
           "type": "bar",
           "x": [
            130
           ],
           "xaxis": "x",
           "y": [
            "MERCEDES-BENZ"
           ],
           "yaxis": "y"
          },
          {
           "alignmentgroup": "True",
           "hovertemplate": "Make=%{y}<br>Model Year=2022<br>number_of_Vehicles=%{x}<extra></extra>",
           "legendgroup": "MINI",
           "marker": {
            "color": "#EF553B",
            "pattern": {
             "shape": ""
            }
           },
           "name": "MINI",
           "offsetgroup": "MINI",
           "orientation": "h",
           "showlegend": true,
           "textposition": "auto",
           "type": "bar",
           "x": [
            212
           ],
           "xaxis": "x",
           "y": [
            "MINI"
           ],
           "yaxis": "y"
          },
          {
           "alignmentgroup": "True",
           "hovertemplate": "Make=%{y}<br>Model Year=2022<br>number_of_Vehicles=%{x}<extra></extra>",
           "legendgroup": "MITSUBISHI",
           "marker": {
            "color": "#00cc96",
            "pattern": {
             "shape": ""
            }
           },
           "name": "MITSUBISHI",
           "offsetgroup": "MITSUBISHI",
           "orientation": "h",
           "showlegend": true,
           "textposition": "auto",
           "type": "bar",
           "x": [
            89
           ],
           "xaxis": "x",
           "y": [
            "MITSUBISHI"
           ],
           "yaxis": "y"
          },
          {
           "alignmentgroup": "True",
           "hovertemplate": "Make=%{y}<br>Model Year=2022<br>number_of_Vehicles=%{x}<extra></extra>",
           "legendgroup": "NISSAN",
           "marker": {
            "color": "#ab63fa",
            "pattern": {
             "shape": ""
            }
           },
           "name": "NISSAN",
           "offsetgroup": "NISSAN",
           "orientation": "h",
           "showlegend": true,
           "textposition": "auto",
           "type": "bar",
           "x": [
            970
           ],
           "xaxis": "x",
           "y": [
            "NISSAN"
           ],
           "yaxis": "y"
          },
          {
           "alignmentgroup": "True",
           "hovertemplate": "Make=%{y}<br>Model Year=2022<br>number_of_Vehicles=%{x}<extra></extra>",
           "legendgroup": "POLESTAR",
           "marker": {
            "color": "#FFA15A",
            "pattern": {
             "shape": ""
            }
           },
           "name": "POLESTAR",
           "offsetgroup": "POLESTAR",
           "orientation": "h",
           "showlegend": true,
           "textposition": "auto",
           "type": "bar",
           "x": [
            372
           ],
           "xaxis": "x",
           "y": [
            "POLESTAR"
           ],
           "yaxis": "y"
          },
          {
           "alignmentgroup": "True",
           "hovertemplate": "Make=%{y}<br>Model Year=2022<br>number_of_Vehicles=%{x}<extra></extra>",
           "legendgroup": "PORSCHE",
           "marker": {
            "color": "#19d3f3",
            "pattern": {
             "shape": ""
            }
           },
           "name": "PORSCHE",
           "offsetgroup": "PORSCHE",
           "orientation": "h",
           "showlegend": true,
           "textposition": "auto",
           "type": "bar",
           "x": [
            200
           ],
           "xaxis": "x",
           "y": [
            "PORSCHE"
           ],
           "yaxis": "y"
          },
          {
           "alignmentgroup": "True",
           "hovertemplate": "Make=%{y}<br>Model Year=2022<br>number_of_Vehicles=%{x}<extra></extra>",
           "legendgroup": "RIVIAN",
           "marker": {
            "color": "#FF6692",
            "pattern": {
             "shape": ""
            }
           },
           "name": "RIVIAN",
           "offsetgroup": "RIVIAN",
           "orientation": "h",
           "showlegend": true,
           "textposition": "auto",
           "type": "bar",
           "x": [
            885
           ],
           "xaxis": "x",
           "y": [
            "RIVIAN"
           ],
           "yaxis": "y"
          },
          {
           "alignmentgroup": "True",
           "hovertemplate": "Make=%{y}<br>Model Year=2022<br>number_of_Vehicles=%{x}<extra></extra>",
           "legendgroup": "TESLA",
           "marker": {
            "color": "#FECB52",
            "pattern": {
             "shape": ""
            }
           },
           "name": "TESLA",
           "offsetgroup": "TESLA",
           "orientation": "h",
           "showlegend": true,
           "textposition": "auto",
           "type": "bar",
           "x": [
            14548
           ],
           "xaxis": "x",
           "y": [
            "TESLA"
           ],
           "yaxis": "y"
          },
          {
           "alignmentgroup": "True",
           "hovertemplate": "Make=%{y}<br>Model Year=2022<br>number_of_Vehicles=%{x}<extra></extra>",
           "legendgroup": "TOYOTA",
           "marker": {
            "color": "#EF553B",
            "pattern": {
             "shape": ""
            }
           },
           "name": "TOYOTA",
           "offsetgroup": "TOYOTA",
           "orientation": "h",
           "showlegend": true,
           "textposition": "auto",
           "type": "bar",
           "x": [
            424
           ],
           "xaxis": "x",
           "y": [
            "TOYOTA"
           ],
           "yaxis": "y"
          },
          {
           "alignmentgroup": "True",
           "hovertemplate": "Make=%{y}<br>Model Year=2022<br>number_of_Vehicles=%{x}<extra></extra>",
           "legendgroup": "VOLKSWAGEN",
           "marker": {
            "color": "#00cc96",
            "pattern": {
             "shape": ""
            }
           },
           "name": "VOLKSWAGEN",
           "offsetgroup": "VOLKSWAGEN",
           "orientation": "h",
           "showlegend": true,
           "textposition": "auto",
           "type": "bar",
           "x": [
            428
           ],
           "xaxis": "x",
           "y": [
            "VOLKSWAGEN"
           ],
           "yaxis": "y"
          },
          {
           "alignmentgroup": "True",
           "hovertemplate": "Make=%{y}<br>Model Year=2022<br>number_of_Vehicles=%{x}<extra></extra>",
           "legendgroup": "VOLVO",
           "marker": {
            "color": "#ab63fa",
            "pattern": {
             "shape": ""
            }
           },
           "name": "VOLVO",
           "offsetgroup": "VOLVO",
           "orientation": "h",
           "showlegend": true,
           "textposition": "auto",
           "type": "bar",
           "x": [
            882
           ],
           "xaxis": "x",
           "y": [
            "VOLVO"
           ],
           "yaxis": "y"
          }
         ],
         "name": "2022"
        },
        {
         "data": [
          {
           "alignmentgroup": "True",
           "hovertemplate": "Make=%{y}<br>Model Year=2023<br>number_of_Vehicles=%{x}<extra></extra>",
           "legendgroup": "AUDI",
           "marker": {
            "color": "#636efa",
            "pattern": {
             "shape": ""
            }
           },
           "name": "AUDI",
           "offsetgroup": "AUDI",
           "orientation": "h",
           "showlegend": true,
           "textposition": "auto",
           "type": "bar",
           "x": [
            12
           ],
           "xaxis": "x",
           "y": [
            "AUDI"
           ],
           "yaxis": "y"
          },
          {
           "alignmentgroup": "True",
           "hovertemplate": "Make=%{y}<br>Model Year=2023<br>number_of_Vehicles=%{x}<extra></extra>",
           "legendgroup": "BMW",
           "marker": {
            "color": "#ab63fa",
            "pattern": {
             "shape": ""
            }
           },
           "name": "BMW",
           "offsetgroup": "BMW",
           "orientation": "h",
           "showlegend": true,
           "textposition": "auto",
           "type": "bar",
           "x": [
            73
           ],
           "xaxis": "x",
           "y": [
            "BMW"
           ],
           "yaxis": "y"
          },
          {
           "alignmentgroup": "True",
           "hovertemplate": "Make=%{y}<br>Model Year=2023<br>number_of_Vehicles=%{x}<extra></extra>",
           "legendgroup": "CHEVROLET",
           "marker": {
            "color": "#19d3f3",
            "pattern": {
             "shape": ""
            }
           },
           "name": "CHEVROLET",
           "offsetgroup": "CHEVROLET",
           "orientation": "h",
           "showlegend": true,
           "textposition": "auto",
           "type": "bar",
           "x": [
            177
           ],
           "xaxis": "x",
           "y": [
            "CHEVROLET"
           ],
           "yaxis": "y"
          },
          {
           "alignmentgroup": "True",
           "hovertemplate": "Make=%{y}<br>Model Year=2023<br>number_of_Vehicles=%{x}<extra></extra>",
           "legendgroup": "FORD",
           "marker": {
            "color": "#FECB52",
            "pattern": {
             "shape": ""
            }
           },
           "name": "FORD",
           "offsetgroup": "FORD",
           "orientation": "h",
           "showlegend": true,
           "textposition": "auto",
           "type": "bar",
           "x": [
            4
           ],
           "xaxis": "x",
           "y": [
            "FORD"
           ],
           "yaxis": "y"
          },
          {
           "alignmentgroup": "True",
           "hovertemplate": "Make=%{y}<br>Model Year=2023<br>number_of_Vehicles=%{x}<extra></extra>",
           "legendgroup": "GENESIS",
           "marker": {
            "color": "#636efa",
            "pattern": {
             "shape": ""
            }
           },
           "name": "GENESIS",
           "offsetgroup": "GENESIS",
           "orientation": "h",
           "showlegend": true,
           "textposition": "auto",
           "type": "bar",
           "x": [
            18
           ],
           "xaxis": "x",
           "y": [
            "GENESIS"
           ],
           "yaxis": "y"
          },
          {
           "alignmentgroup": "True",
           "hovertemplate": "Make=%{y}<br>Model Year=2023<br>number_of_Vehicles=%{x}<extra></extra>",
           "legendgroup": "HYUNDAI",
           "marker": {
            "color": "#00cc96",
            "pattern": {
             "shape": ""
            }
           },
           "name": "HYUNDAI",
           "offsetgroup": "HYUNDAI",
           "orientation": "h",
           "showlegend": true,
           "textposition": "auto",
           "type": "bar",
           "x": [
            154
           ],
           "xaxis": "x",
           "y": [
            "HYUNDAI"
           ],
           "yaxis": "y"
          },
          {
           "alignmentgroup": "True",
           "hovertemplate": "Make=%{y}<br>Model Year=2023<br>number_of_Vehicles=%{x}<extra></extra>",
           "legendgroup": "KIA",
           "marker": {
            "color": "#19d3f3",
            "pattern": {
             "shape": ""
            }
           },
           "name": "KIA",
           "offsetgroup": "KIA",
           "orientation": "h",
           "showlegend": true,
           "textposition": "auto",
           "type": "bar",
           "x": [
            79
           ],
           "xaxis": "x",
           "y": [
            "KIA"
           ],
           "yaxis": "y"
          },
          {
           "alignmentgroup": "True",
           "hovertemplate": "Make=%{y}<br>Model Year=2023<br>number_of_Vehicles=%{x}<extra></extra>",
           "legendgroup": "LINCOLN",
           "marker": {
            "color": "#FF97FF",
            "pattern": {
             "shape": ""
            }
           },
           "name": "LINCOLN",
           "offsetgroup": "LINCOLN",
           "orientation": "h",
           "showlegend": true,
           "textposition": "auto",
           "type": "bar",
           "x": [
            4
           ],
           "xaxis": "x",
           "y": [
            "LINCOLN"
           ],
           "yaxis": "y"
          },
          {
           "alignmentgroup": "True",
           "hovertemplate": "Make=%{y}<br>Model Year=2023<br>number_of_Vehicles=%{x}<extra></extra>",
           "legendgroup": "MERCEDES-BENZ",
           "marker": {
            "color": "#636efa",
            "pattern": {
             "shape": ""
            }
           },
           "name": "MERCEDES-BENZ",
           "offsetgroup": "MERCEDES-BENZ",
           "orientation": "h",
           "showlegend": true,
           "textposition": "auto",
           "type": "bar",
           "x": [
            23
           ],
           "xaxis": "x",
           "y": [
            "MERCEDES-BENZ"
           ],
           "yaxis": "y"
          },
          {
           "alignmentgroup": "True",
           "hovertemplate": "Make=%{y}<br>Model Year=2023<br>number_of_Vehicles=%{x}<extra></extra>",
           "legendgroup": "MINI",
           "marker": {
            "color": "#EF553B",
            "pattern": {
             "shape": ""
            }
           },
           "name": "MINI",
           "offsetgroup": "MINI",
           "orientation": "h",
           "showlegend": true,
           "textposition": "auto",
           "type": "bar",
           "x": [
            124
           ],
           "xaxis": "x",
           "y": [
            "MINI"
           ],
           "yaxis": "y"
          },
          {
           "alignmentgroup": "True",
           "hovertemplate": "Make=%{y}<br>Model Year=2023<br>number_of_Vehicles=%{x}<extra></extra>",
           "legendgroup": "NISSAN",
           "marker": {
            "color": "#ab63fa",
            "pattern": {
             "shape": ""
            }
           },
           "name": "NISSAN",
           "offsetgroup": "NISSAN",
           "orientation": "h",
           "showlegend": true,
           "textposition": "auto",
           "type": "bar",
           "x": [
            149
           ],
           "xaxis": "x",
           "y": [
            "NISSAN"
           ],
           "yaxis": "y"
          },
          {
           "alignmentgroup": "True",
           "hovertemplate": "Make=%{y}<br>Model Year=2023<br>number_of_Vehicles=%{x}<extra></extra>",
           "legendgroup": "POLESTAR",
           "marker": {
            "color": "#FFA15A",
            "pattern": {
             "shape": ""
            }
           },
           "name": "POLESTAR",
           "offsetgroup": "POLESTAR",
           "orientation": "h",
           "showlegend": true,
           "textposition": "auto",
           "type": "bar",
           "x": [
            88
           ],
           "xaxis": "x",
           "y": [
            "POLESTAR"
           ],
           "yaxis": "y"
          },
          {
           "alignmentgroup": "True",
           "hovertemplate": "Make=%{y}<br>Model Year=2023<br>number_of_Vehicles=%{x}<extra></extra>",
           "legendgroup": "SUBARU",
           "marker": {
            "color": "#FF97FF",
            "pattern": {
             "shape": ""
            }
           },
           "name": "SUBARU",
           "offsetgroup": "SUBARU",
           "orientation": "h",
           "showlegend": true,
           "textposition": "auto",
           "type": "bar",
           "x": [
            1
           ],
           "xaxis": "x",
           "y": [
            "SUBARU"
           ],
           "yaxis": "y"
          },
          {
           "alignmentgroup": "True",
           "hovertemplate": "Make=%{y}<br>Model Year=2023<br>number_of_Vehicles=%{x}<extra></extra>",
           "legendgroup": "TESLA",
           "marker": {
            "color": "#FECB52",
            "pattern": {
             "shape": ""
            }
           },
           "name": "TESLA",
           "offsetgroup": "TESLA",
           "orientation": "h",
           "showlegend": true,
           "textposition": "auto",
           "type": "bar",
           "x": [
            890
           ],
           "xaxis": "x",
           "y": [
            "TESLA"
           ],
           "yaxis": "y"
          },
          {
           "alignmentgroup": "True",
           "hovertemplate": "Make=%{y}<br>Model Year=2023<br>number_of_Vehicles=%{x}<extra></extra>",
           "legendgroup": "VOLKSWAGEN",
           "marker": {
            "color": "#00cc96",
            "pattern": {
             "shape": ""
            }
           },
           "name": "VOLKSWAGEN",
           "offsetgroup": "VOLKSWAGEN",
           "orientation": "h",
           "showlegend": true,
           "textposition": "auto",
           "type": "bar",
           "x": [
            69
           ],
           "xaxis": "x",
           "y": [
            "VOLKSWAGEN"
           ],
           "yaxis": "y"
          },
          {
           "alignmentgroup": "True",
           "hovertemplate": "Make=%{y}<br>Model Year=2023<br>number_of_Vehicles=%{x}<extra></extra>",
           "legendgroup": "VOLVO",
           "marker": {
            "color": "#ab63fa",
            "pattern": {
             "shape": ""
            }
           },
           "name": "VOLVO",
           "offsetgroup": "VOLVO",
           "orientation": "h",
           "showlegend": true,
           "textposition": "auto",
           "type": "bar",
           "x": [
            21
           ],
           "xaxis": "x",
           "y": [
            "VOLVO"
           ],
           "yaxis": "y"
          }
         ],
         "name": "2023"
        },
        {
         "data": [
          {
           "alignmentgroup": "True",
           "hovertemplate": "Make=%{y}<br>Model Year=2011<br>number_of_Vehicles=%{x}<extra></extra>",
           "legendgroup": "AZURE DYNAMICS",
           "marker": {
            "color": "#EF553B",
            "pattern": {
             "shape": ""
            }
           },
           "name": "AZURE DYNAMICS",
           "offsetgroup": "AZURE DYNAMICS",
           "orientation": "h",
           "showlegend": true,
           "textposition": "auto",
           "type": "bar",
           "x": [
            4
           ],
           "xaxis": "x",
           "y": [
            "AZURE DYNAMICS"
           ],
           "yaxis": "y"
          },
          {
           "alignmentgroup": "True",
           "hovertemplate": "Make=%{y}<br>Model Year=2011<br>number_of_Vehicles=%{x}<extra></extra>",
           "legendgroup": "CHEVROLET",
           "marker": {
            "color": "#19d3f3",
            "pattern": {
             "shape": ""
            }
           },
           "name": "CHEVROLET",
           "offsetgroup": "CHEVROLET",
           "orientation": "h",
           "showlegend": true,
           "textposition": "auto",
           "type": "bar",
           "x": [
            71
           ],
           "xaxis": "x",
           "y": [
            "CHEVROLET"
           ],
           "yaxis": "y"
          },
          {
           "alignmentgroup": "True",
           "hovertemplate": "Make=%{y}<br>Model Year=2011<br>number_of_Vehicles=%{x}<extra></extra>",
           "legendgroup": "NISSAN",
           "marker": {
            "color": "#ab63fa",
            "pattern": {
             "shape": ""
            }
           },
           "name": "NISSAN",
           "offsetgroup": "NISSAN",
           "orientation": "h",
           "showlegend": true,
           "textposition": "auto",
           "type": "bar",
           "x": [
            755
           ],
           "xaxis": "x",
           "y": [
            "NISSAN"
           ],
           "yaxis": "y"
          },
          {
           "alignmentgroup": "True",
           "hovertemplate": "Make=%{y}<br>Model Year=2011<br>number_of_Vehicles=%{x}<extra></extra>",
           "legendgroup": "TESLA",
           "marker": {
            "color": "#FECB52",
            "pattern": {
             "shape": ""
            }
           },
           "name": "TESLA",
           "offsetgroup": "TESLA",
           "orientation": "h",
           "showlegend": true,
           "textposition": "auto",
           "type": "bar",
           "x": [
            7
           ],
           "xaxis": "x",
           "y": [
            "TESLA"
           ],
           "yaxis": "y"
          },
          {
           "alignmentgroup": "True",
           "hovertemplate": "Make=%{y}<br>Model Year=2011<br>number_of_Vehicles=%{x}<extra></extra>",
           "legendgroup": "TH!NK",
           "marker": {
            "color": "#636efa",
            "pattern": {
             "shape": ""
            }
           },
           "name": "TH!NK",
           "offsetgroup": "TH!NK",
           "orientation": "h",
           "showlegend": true,
           "textposition": "auto",
           "type": "bar",
           "x": [
            3
           ],
           "xaxis": "x",
           "y": [
            "TH!NK"
           ],
           "yaxis": "y"
          }
         ],
         "name": "2011"
        },
        {
         "data": [
          {
           "alignmentgroup": "True",
           "hovertemplate": "Make=%{y}<br>Model Year=2012<br>number_of_Vehicles=%{x}<extra></extra>",
           "legendgroup": "AZURE DYNAMICS",
           "marker": {
            "color": "#EF553B",
            "pattern": {
             "shape": ""
            }
           },
           "name": "AZURE DYNAMICS",
           "offsetgroup": "AZURE DYNAMICS",
           "orientation": "h",
           "showlegend": true,
           "textposition": "auto",
           "type": "bar",
           "x": [
            3
           ],
           "xaxis": "x",
           "y": [
            "AZURE DYNAMICS"
           ],
           "yaxis": "y"
          },
          {
           "alignmentgroup": "True",
           "hovertemplate": "Make=%{y}<br>Model Year=2012<br>number_of_Vehicles=%{x}<extra></extra>",
           "legendgroup": "CHEVROLET",
           "marker": {
            "color": "#19d3f3",
            "pattern": {
             "shape": ""
            }
           },
           "name": "CHEVROLET",
           "offsetgroup": "CHEVROLET",
           "orientation": "h",
           "showlegend": true,
           "textposition": "auto",
           "type": "bar",
           "x": [
            496
           ],
           "xaxis": "x",
           "y": [
            "CHEVROLET"
           ],
           "yaxis": "y"
          },
          {
           "alignmentgroup": "True",
           "hovertemplate": "Make=%{y}<br>Model Year=2012<br>number_of_Vehicles=%{x}<extra></extra>",
           "legendgroup": "FISKER",
           "marker": {
            "color": "#FF97FF",
            "pattern": {
             "shape": ""
            }
           },
           "name": "FISKER",
           "offsetgroup": "FISKER",
           "orientation": "h",
           "showlegend": true,
           "textposition": "auto",
           "type": "bar",
           "x": [
            20
           ],
           "xaxis": "x",
           "y": [
            "FISKER"
           ],
           "yaxis": "y"
          },
          {
           "alignmentgroup": "True",
           "hovertemplate": "Make=%{y}<br>Model Year=2012<br>number_of_Vehicles=%{x}<extra></extra>",
           "legendgroup": "FORD",
           "marker": {
            "color": "#FECB52",
            "pattern": {
             "shape": ""
            }
           },
           "name": "FORD",
           "offsetgroup": "FORD",
           "orientation": "h",
           "showlegend": true,
           "textposition": "auto",
           "type": "bar",
           "x": [
            15
           ],
           "xaxis": "x",
           "y": [
            "FORD"
           ],
           "yaxis": "y"
          },
          {
           "alignmentgroup": "True",
           "hovertemplate": "Make=%{y}<br>Model Year=2012<br>number_of_Vehicles=%{x}<extra></extra>",
           "legendgroup": "MITSUBISHI",
           "marker": {
            "color": "#00cc96",
            "pattern": {
             "shape": ""
            }
           },
           "name": "MITSUBISHI",
           "offsetgroup": "MITSUBISHI",
           "orientation": "h",
           "showlegend": true,
           "textposition": "auto",
           "type": "bar",
           "x": [
            42
           ],
           "xaxis": "x",
           "y": [
            "MITSUBISHI"
           ],
           "yaxis": "y"
          },
          {
           "alignmentgroup": "True",
           "hovertemplate": "Make=%{y}<br>Model Year=2012<br>number_of_Vehicles=%{x}<extra></extra>",
           "legendgroup": "NISSAN",
           "marker": {
            "color": "#ab63fa",
            "pattern": {
             "shape": ""
            }
           },
           "name": "NISSAN",
           "offsetgroup": "NISSAN",
           "orientation": "h",
           "showlegend": true,
           "textposition": "auto",
           "type": "bar",
           "x": [
            610
           ],
           "xaxis": "x",
           "y": [
            "NISSAN"
           ],
           "yaxis": "y"
          },
          {
           "alignmentgroup": "True",
           "hovertemplate": "Make=%{y}<br>Model Year=2012<br>number_of_Vehicles=%{x}<extra></extra>",
           "legendgroup": "TESLA",
           "marker": {
            "color": "#FECB52",
            "pattern": {
             "shape": ""
            }
           },
           "name": "TESLA",
           "offsetgroup": "TESLA",
           "orientation": "h",
           "showlegend": true,
           "textposition": "auto",
           "type": "bar",
           "x": [
            134
           ],
           "xaxis": "x",
           "y": [
            "TESLA"
           ],
           "yaxis": "y"
          },
          {
           "alignmentgroup": "True",
           "hovertemplate": "Make=%{y}<br>Model Year=2012<br>number_of_Vehicles=%{x}<extra></extra>",
           "legendgroup": "TOYOTA",
           "marker": {
            "color": "#EF553B",
            "pattern": {
             "shape": ""
            }
           },
           "name": "TOYOTA",
           "offsetgroup": "TOYOTA",
           "orientation": "h",
           "showlegend": true,
           "textposition": "auto",
           "type": "bar",
           "x": [
            385
           ],
           "xaxis": "x",
           "y": [
            "TOYOTA"
           ],
           "yaxis": "y"
          }
         ],
         "name": "2012"
        },
        {
         "data": [
          {
           "alignmentgroup": "True",
           "hovertemplate": "Make=%{y}<br>Model Year=2014<br>number_of_Vehicles=%{x}<extra></extra>",
           "legendgroup": "BMW",
           "marker": {
            "color": "#ab63fa",
            "pattern": {
             "shape": ""
            }
           },
           "name": "BMW",
           "offsetgroup": "BMW",
           "orientation": "h",
           "showlegend": true,
           "textposition": "auto",
           "type": "bar",
           "x": [
            457
           ],
           "xaxis": "x",
           "y": [
            "BMW"
           ],
           "yaxis": "y"
          },
          {
           "alignmentgroup": "True",
           "hovertemplate": "Make=%{y}<br>Model Year=2014<br>number_of_Vehicles=%{x}<extra></extra>",
           "legendgroup": "CADILLAC",
           "marker": {
            "color": "#FFA15A",
            "pattern": {
             "shape": ""
            }
           },
           "name": "CADILLAC",
           "offsetgroup": "CADILLAC",
           "orientation": "h",
           "showlegend": true,
           "textposition": "auto",
           "type": "bar",
           "x": [
            58
           ],
           "xaxis": "x",
           "y": [
            "CADILLAC"
           ],
           "yaxis": "y"
          },
          {
           "alignmentgroup": "True",
           "hovertemplate": "Make=%{y}<br>Model Year=2014<br>number_of_Vehicles=%{x}<extra></extra>",
           "legendgroup": "CHEVROLET",
           "marker": {
            "color": "#19d3f3",
            "pattern": {
             "shape": ""
            }
           },
           "name": "CHEVROLET",
           "offsetgroup": "CHEVROLET",
           "orientation": "h",
           "showlegend": true,
           "textposition": "auto",
           "type": "bar",
           "x": [
            724
           ],
           "xaxis": "x",
           "y": [
            "CHEVROLET"
           ],
           "yaxis": "y"
          },
          {
           "alignmentgroup": "True",
           "hovertemplate": "Make=%{y}<br>Model Year=2014<br>number_of_Vehicles=%{x}<extra></extra>",
           "legendgroup": "FIAT",
           "marker": {
            "color": "#B6E880",
            "pattern": {
             "shape": ""
            }
           },
           "name": "FIAT",
           "offsetgroup": "FIAT",
           "orientation": "h",
           "showlegend": true,
           "textposition": "auto",
           "type": "bar",
           "x": [
            97
           ],
           "xaxis": "x",
           "y": [
            "FIAT"
           ],
           "yaxis": "y"
          },
          {
           "alignmentgroup": "True",
           "hovertemplate": "Make=%{y}<br>Model Year=2014<br>number_of_Vehicles=%{x}<extra></extra>",
           "legendgroup": "FORD",
           "marker": {
            "color": "#FECB52",
            "pattern": {
             "shape": ""
            }
           },
           "name": "FORD",
           "offsetgroup": "FORD",
           "orientation": "h",
           "showlegend": true,
           "textposition": "auto",
           "type": "bar",
           "x": [
            628
           ],
           "xaxis": "x",
           "y": [
            "FORD"
           ],
           "yaxis": "y"
          },
          {
           "alignmentgroup": "True",
           "hovertemplate": "Make=%{y}<br>Model Year=2014<br>number_of_Vehicles=%{x}<extra></extra>",
           "legendgroup": "HONDA",
           "marker": {
            "color": "#EF553B",
            "pattern": {
             "shape": ""
            }
           },
           "name": "HONDA",
           "offsetgroup": "HONDA",
           "orientation": "h",
           "showlegend": true,
           "textposition": "auto",
           "type": "bar",
           "x": [
            9
           ],
           "xaxis": "x",
           "y": [
            "HONDA"
           ],
           "yaxis": "y"
          },
          {
           "alignmentgroup": "True",
           "hovertemplate": "Make=%{y}<br>Model Year=2014<br>number_of_Vehicles=%{x}<extra></extra>",
           "legendgroup": "MERCEDES-BENZ",
           "marker": {
            "color": "#636efa",
            "pattern": {
             "shape": ""
            }
           },
           "name": "MERCEDES-BENZ",
           "offsetgroup": "MERCEDES-BENZ",
           "orientation": "h",
           "showlegend": true,
           "textposition": "auto",
           "type": "bar",
           "x": [
            31
           ],
           "xaxis": "x",
           "y": [
            "MERCEDES-BENZ"
           ],
           "yaxis": "y"
          },
          {
           "alignmentgroup": "True",
           "hovertemplate": "Make=%{y}<br>Model Year=2014<br>number_of_Vehicles=%{x}<extra></extra>",
           "legendgroup": "MITSUBISHI",
           "marker": {
            "color": "#00cc96",
            "pattern": {
             "shape": ""
            }
           },
           "name": "MITSUBISHI",
           "offsetgroup": "MITSUBISHI",
           "orientation": "h",
           "showlegend": true,
           "textposition": "auto",
           "type": "bar",
           "x": [
            10
           ],
           "xaxis": "x",
           "y": [
            "MITSUBISHI"
           ],
           "yaxis": "y"
          },
          {
           "alignmentgroup": "True",
           "hovertemplate": "Make=%{y}<br>Model Year=2014<br>number_of_Vehicles=%{x}<extra></extra>",
           "legendgroup": "NISSAN",
           "marker": {
            "color": "#ab63fa",
            "pattern": {
             "shape": ""
            }
           },
           "name": "NISSAN",
           "offsetgroup": "NISSAN",
           "orientation": "h",
           "showlegend": true,
           "textposition": "auto",
           "type": "bar",
           "x": [
            694
           ],
           "xaxis": "x",
           "y": [
            "NISSAN"
           ],
           "yaxis": "y"
          },
          {
           "alignmentgroup": "True",
           "hovertemplate": "Make=%{y}<br>Model Year=2014<br>number_of_Vehicles=%{x}<extra></extra>",
           "legendgroup": "PORSCHE",
           "marker": {
            "color": "#19d3f3",
            "pattern": {
             "shape": ""
            }
           },
           "name": "PORSCHE",
           "offsetgroup": "PORSCHE",
           "orientation": "h",
           "showlegend": true,
           "textposition": "auto",
           "type": "bar",
           "x": [
            8
           ],
           "xaxis": "x",
           "y": [
            "PORSCHE"
           ],
           "yaxis": "y"
          },
          {
           "alignmentgroup": "True",
           "hovertemplate": "Make=%{y}<br>Model Year=2014<br>number_of_Vehicles=%{x}<extra></extra>",
           "legendgroup": "SMART",
           "marker": {
            "color": "#B6E880",
            "pattern": {
             "shape": ""
            }
           },
           "name": "SMART",
           "offsetgroup": "SMART",
           "orientation": "h",
           "showlegend": true,
           "textposition": "auto",
           "type": "bar",
           "x": [
            71
           ],
           "xaxis": "x",
           "y": [
            "SMART"
           ],
           "yaxis": "y"
          },
          {
           "alignmentgroup": "True",
           "hovertemplate": "Make=%{y}<br>Model Year=2014<br>number_of_Vehicles=%{x}<extra></extra>",
           "legendgroup": "TESLA",
           "marker": {
            "color": "#FECB52",
            "pattern": {
             "shape": ""
            }
           },
           "name": "TESLA",
           "offsetgroup": "TESLA",
           "orientation": "h",
           "showlegend": true,
           "textposition": "auto",
           "type": "bar",
           "x": [
            683
           ],
           "xaxis": "x",
           "y": [
            "TESLA"
           ],
           "yaxis": "y"
          },
          {
           "alignmentgroup": "True",
           "hovertemplate": "Make=%{y}<br>Model Year=2014<br>number_of_Vehicles=%{x}<extra></extra>",
           "legendgroup": "TOYOTA",
           "marker": {
            "color": "#EF553B",
            "pattern": {
             "shape": ""
            }
           },
           "name": "TOYOTA",
           "offsetgroup": "TOYOTA",
           "orientation": "h",
           "showlegend": true,
           "textposition": "auto",
           "type": "bar",
           "x": [
            215
           ],
           "xaxis": "x",
           "y": [
            "TOYOTA"
           ],
           "yaxis": "y"
          }
         ],
         "name": "2014"
        },
        {
         "data": [
          {
           "alignmentgroup": "True",
           "hovertemplate": "Make=%{y}<br>Model Year=2015<br>number_of_Vehicles=%{x}<extra></extra>",
           "legendgroup": "BMW",
           "marker": {
            "color": "#ab63fa",
            "pattern": {
             "shape": ""
            }
           },
           "name": "BMW",
           "offsetgroup": "BMW",
           "orientation": "h",
           "showlegend": true,
           "textposition": "auto",
           "type": "bar",
           "x": [
            403
           ],
           "xaxis": "x",
           "y": [
            "BMW"
           ],
           "yaxis": "y"
          },
          {
           "alignmentgroup": "True",
           "hovertemplate": "Make=%{y}<br>Model Year=2015<br>number_of_Vehicles=%{x}<extra></extra>",
           "legendgroup": "CHEVROLET",
           "marker": {
            "color": "#19d3f3",
            "pattern": {
             "shape": ""
            }
           },
           "name": "CHEVROLET",
           "offsetgroup": "CHEVROLET",
           "orientation": "h",
           "showlegend": true,
           "textposition": "auto",
           "type": "bar",
           "x": [
            467
           ],
           "xaxis": "x",
           "y": [
            "CHEVROLET"
           ],
           "yaxis": "y"
          },
          {
           "alignmentgroup": "True",
           "hovertemplate": "Make=%{y}<br>Model Year=2015<br>number_of_Vehicles=%{x}<extra></extra>",
           "legendgroup": "FIAT",
           "marker": {
            "color": "#B6E880",
            "pattern": {
             "shape": ""
            }
           },
           "name": "FIAT",
           "offsetgroup": "FIAT",
           "orientation": "h",
           "showlegend": true,
           "textposition": "auto",
           "type": "bar",
           "x": [
            242
           ],
           "xaxis": "x",
           "y": [
            "FIAT"
           ],
           "yaxis": "y"
          },
          {
           "alignmentgroup": "True",
           "hovertemplate": "Make=%{y}<br>Model Year=2015<br>number_of_Vehicles=%{x}<extra></extra>",
           "legendgroup": "FORD",
           "marker": {
            "color": "#FECB52",
            "pattern": {
             "shape": ""
            }
           },
           "name": "FORD",
           "offsetgroup": "FORD",
           "orientation": "h",
           "showlegend": true,
           "textposition": "auto",
           "type": "bar",
           "x": [
            556
           ],
           "xaxis": "x",
           "y": [
            "FORD"
           ],
           "yaxis": "y"
          },
          {
           "alignmentgroup": "True",
           "hovertemplate": "Make=%{y}<br>Model Year=2015<br>number_of_Vehicles=%{x}<extra></extra>",
           "legendgroup": "KIA",
           "marker": {
            "color": "#19d3f3",
            "pattern": {
             "shape": ""
            }
           },
           "name": "KIA",
           "offsetgroup": "KIA",
           "orientation": "h",
           "showlegend": true,
           "textposition": "auto",
           "type": "bar",
           "x": [
            22
           ],
           "xaxis": "x",
           "y": [
            "KIA"
           ],
           "yaxis": "y"
          },
          {
           "alignmentgroup": "True",
           "hovertemplate": "Make=%{y}<br>Model Year=2015<br>number_of_Vehicles=%{x}<extra></extra>",
           "legendgroup": "MERCEDES-BENZ",
           "marker": {
            "color": "#636efa",
            "pattern": {
             "shape": ""
            }
           },
           "name": "MERCEDES-BENZ",
           "offsetgroup": "MERCEDES-BENZ",
           "orientation": "h",
           "showlegend": true,
           "textposition": "auto",
           "type": "bar",
           "x": [
            24
           ],
           "xaxis": "x",
           "y": [
            "MERCEDES-BENZ"
           ],
           "yaxis": "y"
          },
          {
           "alignmentgroup": "True",
           "hovertemplate": "Make=%{y}<br>Model Year=2015<br>number_of_Vehicles=%{x}<extra></extra>",
           "legendgroup": "NISSAN",
           "marker": {
            "color": "#ab63fa",
            "pattern": {
             "shape": ""
            }
           },
           "name": "NISSAN",
           "offsetgroup": "NISSAN",
           "orientation": "h",
           "showlegend": true,
           "textposition": "auto",
           "type": "bar",
           "x": [
            1839
           ],
           "xaxis": "x",
           "y": [
            "NISSAN"
           ],
           "yaxis": "y"
          },
          {
           "alignmentgroup": "True",
           "hovertemplate": "Make=%{y}<br>Model Year=2015<br>number_of_Vehicles=%{x}<extra></extra>",
           "legendgroup": "PORSCHE",
           "marker": {
            "color": "#19d3f3",
            "pattern": {
             "shape": ""
            }
           },
           "name": "PORSCHE",
           "offsetgroup": "PORSCHE",
           "orientation": "h",
           "showlegend": true,
           "textposition": "auto",
           "type": "bar",
           "x": [
            33
           ],
           "xaxis": "x",
           "y": [
            "PORSCHE"
           ],
           "yaxis": "y"
          },
          {
           "alignmentgroup": "True",
           "hovertemplate": "Make=%{y}<br>Model Year=2015<br>number_of_Vehicles=%{x}<extra></extra>",
           "legendgroup": "SMART",
           "marker": {
            "color": "#B6E880",
            "pattern": {
             "shape": ""
            }
           },
           "name": "SMART",
           "offsetgroup": "SMART",
           "orientation": "h",
           "showlegend": true,
           "textposition": "auto",
           "type": "bar",
           "x": [
            52
           ],
           "xaxis": "x",
           "y": [
            "SMART"
           ],
           "yaxis": "y"
          },
          {
           "alignmentgroup": "True",
           "hovertemplate": "Make=%{y}<br>Model Year=2015<br>number_of_Vehicles=%{x}<extra></extra>",
           "legendgroup": "TESLA",
           "marker": {
            "color": "#FECB52",
            "pattern": {
             "shape": ""
            }
           },
           "name": "TESLA",
           "offsetgroup": "TESLA",
           "orientation": "h",
           "showlegend": true,
           "textposition": "auto",
           "type": "bar",
           "x": [
            1089
           ],
           "xaxis": "x",
           "y": [
            "TESLA"
           ],
           "yaxis": "y"
          },
          {
           "alignmentgroup": "True",
           "hovertemplate": "Make=%{y}<br>Model Year=2015<br>number_of_Vehicles=%{x}<extra></extra>",
           "legendgroup": "TOYOTA",
           "marker": {
            "color": "#EF553B",
            "pattern": {
             "shape": ""
            }
           },
           "name": "TOYOTA",
           "offsetgroup": "TOYOTA",
           "orientation": "h",
           "showlegend": true,
           "textposition": "auto",
           "type": "bar",
           "x": [
            89
           ],
           "xaxis": "x",
           "y": [
            "TOYOTA"
           ],
           "yaxis": "y"
          },
          {
           "alignmentgroup": "True",
           "hovertemplate": "Make=%{y}<br>Model Year=2015<br>number_of_Vehicles=%{x}<extra></extra>",
           "legendgroup": "VOLKSWAGEN",
           "marker": {
            "color": "#00cc96",
            "pattern": {
             "shape": ""
            }
           },
           "name": "VOLKSWAGEN",
           "offsetgroup": "VOLKSWAGEN",
           "orientation": "h",
           "showlegend": true,
           "textposition": "auto",
           "type": "bar",
           "x": [
            124
           ],
           "xaxis": "x",
           "y": [
            "VOLKSWAGEN"
           ],
           "yaxis": "y"
          }
         ],
         "name": "2015"
        },
        {
         "data": [
          {
           "alignmentgroup": "True",
           "hovertemplate": "Make=%{y}<br>Model Year=1997<br>number_of_Vehicles=%{x}<extra></extra>",
           "legendgroup": "CHEVROLET",
           "marker": {
            "color": "#19d3f3",
            "pattern": {
             "shape": ""
            }
           },
           "name": "CHEVROLET",
           "offsetgroup": "CHEVROLET",
           "orientation": "h",
           "showlegend": true,
           "textposition": "auto",
           "type": "bar",
           "x": [
            1
           ],
           "xaxis": "x",
           "y": [
            "CHEVROLET"
           ],
           "yaxis": "y"
          }
         ],
         "name": "1997"
        },
        {
         "data": [
          {
           "alignmentgroup": "True",
           "hovertemplate": "Make=%{y}<br>Model Year=2013<br>number_of_Vehicles=%{x}<extra></extra>",
           "legendgroup": "CHEVROLET",
           "marker": {
            "color": "#19d3f3",
            "pattern": {
             "shape": ""
            }
           },
           "name": "CHEVROLET",
           "offsetgroup": "CHEVROLET",
           "orientation": "h",
           "showlegend": true,
           "textposition": "auto",
           "type": "bar",
           "x": [
            818
           ],
           "xaxis": "x",
           "y": [
            "CHEVROLET"
           ],
           "yaxis": "y"
          },
          {
           "alignmentgroup": "True",
           "hovertemplate": "Make=%{y}<br>Model Year=2013<br>number_of_Vehicles=%{x}<extra></extra>",
           "legendgroup": "FIAT",
           "marker": {
            "color": "#B6E880",
            "pattern": {
             "shape": ""
            }
           },
           "name": "FIAT",
           "offsetgroup": "FIAT",
           "orientation": "h",
           "showlegend": true,
           "textposition": "auto",
           "type": "bar",
           "x": [
            106
           ],
           "xaxis": "x",
           "y": [
            "FIAT"
           ],
           "yaxis": "y"
          },
          {
           "alignmentgroup": "True",
           "hovertemplate": "Make=%{y}<br>Model Year=2013<br>number_of_Vehicles=%{x}<extra></extra>",
           "legendgroup": "FORD",
           "marker": {
            "color": "#FECB52",
            "pattern": {
             "shape": ""
            }
           },
           "name": "FORD",
           "offsetgroup": "FORD",
           "orientation": "h",
           "showlegend": true,
           "textposition": "auto",
           "type": "bar",
           "x": [
            662
           ],
           "xaxis": "x",
           "y": [
            "FORD"
           ],
           "yaxis": "y"
          },
          {
           "alignmentgroup": "True",
           "hovertemplate": "Make=%{y}<br>Model Year=2013<br>number_of_Vehicles=%{x}<extra></extra>",
           "legendgroup": "NISSAN",
           "marker": {
            "color": "#ab63fa",
            "pattern": {
             "shape": ""
            }
           },
           "name": "NISSAN",
           "offsetgroup": "NISSAN",
           "orientation": "h",
           "showlegend": true,
           "textposition": "auto",
           "type": "bar",
           "x": [
            1966
           ],
           "xaxis": "x",
           "y": [
            "NISSAN"
           ],
           "yaxis": "y"
          },
          {
           "alignmentgroup": "True",
           "hovertemplate": "Make=%{y}<br>Model Year=2013<br>number_of_Vehicles=%{x}<extra></extra>",
           "legendgroup": "SMART",
           "marker": {
            "color": "#B6E880",
            "pattern": {
             "shape": ""
            }
           },
           "name": "SMART",
           "offsetgroup": "SMART",
           "orientation": "h",
           "showlegend": true,
           "textposition": "auto",
           "type": "bar",
           "x": [
            29
           ],
           "xaxis": "x",
           "y": [
            "SMART"
           ],
           "yaxis": "y"
          },
          {
           "alignmentgroup": "True",
           "hovertemplate": "Make=%{y}<br>Model Year=2013<br>number_of_Vehicles=%{x}<extra></extra>",
           "legendgroup": "TESLA",
           "marker": {
            "color": "#FECB52",
            "pattern": {
             "shape": ""
            }
           },
           "name": "TESLA",
           "offsetgroup": "TESLA",
           "orientation": "h",
           "showlegend": true,
           "textposition": "auto",
           "type": "bar",
           "x": [
            814
           ],
           "xaxis": "x",
           "y": [
            "TESLA"
           ],
           "yaxis": "y"
          },
          {
           "alignmentgroup": "True",
           "hovertemplate": "Make=%{y}<br>Model Year=2013<br>number_of_Vehicles=%{x}<extra></extra>",
           "legendgroup": "TOYOTA",
           "marker": {
            "color": "#EF553B",
            "pattern": {
             "shape": ""
            }
           },
           "name": "TOYOTA",
           "offsetgroup": "TOYOTA",
           "orientation": "h",
           "showlegend": true,
           "textposition": "auto",
           "type": "bar",
           "x": [
            296
           ],
           "xaxis": "x",
           "y": [
            "TOYOTA"
           ],
           "yaxis": "y"
          }
         ],
         "name": "2013"
        },
        {
         "data": [
          {
           "alignmentgroup": "True",
           "hovertemplate": "Make=%{y}<br>Model Year=1998<br>number_of_Vehicles=%{x}<extra></extra>",
           "legendgroup": "FORD",
           "marker": {
            "color": "#FECB52",
            "pattern": {
             "shape": ""
            }
           },
           "name": "FORD",
           "offsetgroup": "FORD",
           "orientation": "h",
           "showlegend": true,
           "textposition": "auto",
           "type": "bar",
           "x": [
            1
           ],
           "xaxis": "x",
           "y": [
            "FORD"
           ],
           "yaxis": "y"
          }
         ],
         "name": "1998"
        },
        {
         "data": [
          {
           "alignmentgroup": "True",
           "hovertemplate": "Make=%{y}<br>Model Year=1999<br>number_of_Vehicles=%{x}<extra></extra>",
           "legendgroup": "FORD",
           "marker": {
            "color": "#FECB52",
            "pattern": {
             "shape": ""
            }
           },
           "name": "FORD",
           "offsetgroup": "FORD",
           "orientation": "h",
           "showlegend": true,
           "textposition": "auto",
           "type": "bar",
           "x": [
            3
           ],
           "xaxis": "x",
           "y": [
            "FORD"
           ],
           "yaxis": "y"
          }
         ],
         "name": "1999"
        },
        {
         "data": [
          {
           "alignmentgroup": "True",
           "hovertemplate": "Make=%{y}<br>Model Year=2000<br>number_of_Vehicles=%{x}<extra></extra>",
           "legendgroup": "FORD",
           "marker": {
            "color": "#FECB52",
            "pattern": {
             "shape": ""
            }
           },
           "name": "FORD",
           "offsetgroup": "FORD",
           "orientation": "h",
           "showlegend": true,
           "textposition": "auto",
           "type": "bar",
           "x": [
            10
           ],
           "xaxis": "x",
           "y": [
            "FORD"
           ],
           "yaxis": "y"
          }
         ],
         "name": "2000"
        },
        {
         "data": [
          {
           "alignmentgroup": "True",
           "hovertemplate": "Make=%{y}<br>Model Year=2008<br>number_of_Vehicles=%{x}<extra></extra>",
           "legendgroup": "TESLA",
           "marker": {
            "color": "#FECB52",
            "pattern": {
             "shape": ""
            }
           },
           "name": "TESLA",
           "offsetgroup": "TESLA",
           "orientation": "h",
           "showlegend": true,
           "textposition": "auto",
           "type": "bar",
           "x": [
            23
           ],
           "xaxis": "x",
           "y": [
            "TESLA"
           ],
           "yaxis": "y"
          }
         ],
         "name": "2008"
        },
        {
         "data": [
          {
           "alignmentgroup": "True",
           "hovertemplate": "Make=%{y}<br>Model Year=2010<br>number_of_Vehicles=%{x}<extra></extra>",
           "legendgroup": "TESLA",
           "marker": {
            "color": "#FECB52",
            "pattern": {
             "shape": ""
            }
           },
           "name": "TESLA",
           "offsetgroup": "TESLA",
           "orientation": "h",
           "showlegend": true,
           "textposition": "auto",
           "type": "bar",
           "x": [
            24
           ],
           "xaxis": "x",
           "y": [
            "TESLA"
           ],
           "yaxis": "y"
          }
         ],
         "name": "2010"
        },
        {
         "data": [
          {
           "alignmentgroup": "True",
           "hovertemplate": "Make=%{y}<br>Model Year=2002<br>number_of_Vehicles=%{x}<extra></extra>",
           "legendgroup": "TOYOTA",
           "marker": {
            "color": "#EF553B",
            "pattern": {
             "shape": ""
            }
           },
           "name": "TOYOTA",
           "offsetgroup": "TOYOTA",
           "orientation": "h",
           "showlegend": true,
           "textposition": "auto",
           "type": "bar",
           "x": [
            2
           ],
           "xaxis": "x",
           "y": [
            "TOYOTA"
           ],
           "yaxis": "y"
          }
         ],
         "name": "2002"
        }
       ],
       "layout": {
        "barmode": "relative",
        "height": 600,
        "legend": {
         "title": {
          "text": "Make"
         },
         "tracegroupgap": 0
        },
        "margin": {
         "b": 50,
         "l": 50,
         "r": 50,
         "t": 50
        },
        "showlegend": true,
        "sliders": [
         {
          "active": 19,
          "currentvalue": {
           "prefix": "Model Year="
          },
          "len": 0.9,
          "pad": {
           "b": 10,
           "t": 60
          },
          "steps": [
           {
            "args": [
             [
              "2016"
             ],
             {
              "frame": {
               "duration": 0,
               "redraw": true
              },
              "fromcurrent": true,
              "mode": "immediate",
              "transition": {
               "duration": 0,
               "easing": "linear"
              }
             }
            ],
            "label": "2016",
            "method": "animate"
           },
           {
            "args": [
             [
              "2017"
             ],
             {
              "frame": {
               "duration": 0,
               "redraw": true
              },
              "fromcurrent": true,
              "mode": "immediate",
              "transition": {
               "duration": 0,
               "easing": "linear"
              }
             }
            ],
            "label": "2017",
            "method": "animate"
           },
           {
            "args": [
             [
              "2018"
             ],
             {
              "frame": {
               "duration": 0,
               "redraw": true
              },
              "fromcurrent": true,
              "mode": "immediate",
              "transition": {
               "duration": 0,
               "easing": "linear"
              }
             }
            ],
            "label": "2018",
            "method": "animate"
           },
           {
            "args": [
             [
              "2019"
             ],
             {
              "frame": {
               "duration": 0,
               "redraw": true
              },
              "fromcurrent": true,
              "mode": "immediate",
              "transition": {
               "duration": 0,
               "easing": "linear"
              }
             }
            ],
            "label": "2019",
            "method": "animate"
           },
           {
            "args": [
             [
              "2020"
             ],
             {
              "frame": {
               "duration": 0,
               "redraw": true
              },
              "fromcurrent": true,
              "mode": "immediate",
              "transition": {
               "duration": 0,
               "easing": "linear"
              }
             }
            ],
            "label": "2020",
            "method": "animate"
           },
           {
            "args": [
             [
              "2021"
             ],
             {
              "frame": {
               "duration": 0,
               "redraw": true
              },
              "fromcurrent": true,
              "mode": "immediate",
              "transition": {
               "duration": 0,
               "easing": "linear"
              }
             }
            ],
            "label": "2021",
            "method": "animate"
           },
           {
            "args": [
             [
              "2022"
             ],
             {
              "frame": {
               "duration": 0,
               "redraw": true
              },
              "fromcurrent": true,
              "mode": "immediate",
              "transition": {
               "duration": 0,
               "easing": "linear"
              }
             }
            ],
            "label": "2022",
            "method": "animate"
           },
           {
            "args": [
             [
              "2023"
             ],
             {
              "frame": {
               "duration": 0,
               "redraw": true
              },
              "fromcurrent": true,
              "mode": "immediate",
              "transition": {
               "duration": 0,
               "easing": "linear"
              }
             }
            ],
            "label": "2023",
            "method": "animate"
           },
           {
            "args": [
             [
              "2011"
             ],
             {
              "frame": {
               "duration": 0,
               "redraw": true
              },
              "fromcurrent": true,
              "mode": "immediate",
              "transition": {
               "duration": 0,
               "easing": "linear"
              }
             }
            ],
            "label": "2011",
            "method": "animate"
           },
           {
            "args": [
             [
              "2012"
             ],
             {
              "frame": {
               "duration": 0,
               "redraw": true
              },
              "fromcurrent": true,
              "mode": "immediate",
              "transition": {
               "duration": 0,
               "easing": "linear"
              }
             }
            ],
            "label": "2012",
            "method": "animate"
           },
           {
            "args": [
             [
              "2014"
             ],
             {
              "frame": {
               "duration": 0,
               "redraw": true
              },
              "fromcurrent": true,
              "mode": "immediate",
              "transition": {
               "duration": 0,
               "easing": "linear"
              }
             }
            ],
            "label": "2014",
            "method": "animate"
           },
           {
            "args": [
             [
              "2015"
             ],
             {
              "frame": {
               "duration": 0,
               "redraw": true
              },
              "fromcurrent": true,
              "mode": "immediate",
              "transition": {
               "duration": 0,
               "easing": "linear"
              }
             }
            ],
            "label": "2015",
            "method": "animate"
           },
           {
            "args": [
             [
              "1997"
             ],
             {
              "frame": {
               "duration": 0,
               "redraw": true
              },
              "fromcurrent": true,
              "mode": "immediate",
              "transition": {
               "duration": 0,
               "easing": "linear"
              }
             }
            ],
            "label": "1997",
            "method": "animate"
           },
           {
            "args": [
             [
              "2013"
             ],
             {
              "frame": {
               "duration": 0,
               "redraw": true
              },
              "fromcurrent": true,
              "mode": "immediate",
              "transition": {
               "duration": 0,
               "easing": "linear"
              }
             }
            ],
            "label": "2013",
            "method": "animate"
           },
           {
            "args": [
             [
              "1998"
             ],
             {
              "frame": {
               "duration": 0,
               "redraw": true
              },
              "fromcurrent": true,
              "mode": "immediate",
              "transition": {
               "duration": 0,
               "easing": "linear"
              }
             }
            ],
            "label": "1998",
            "method": "animate"
           },
           {
            "args": [
             [
              "1999"
             ],
             {
              "frame": {
               "duration": 0,
               "redraw": true
              },
              "fromcurrent": true,
              "mode": "immediate",
              "transition": {
               "duration": 0,
               "easing": "linear"
              }
             }
            ],
            "label": "1999",
            "method": "animate"
           },
           {
            "args": [
             [
              "2000"
             ],
             {
              "frame": {
               "duration": 0,
               "redraw": true
              },
              "fromcurrent": true,
              "mode": "immediate",
              "transition": {
               "duration": 0,
               "easing": "linear"
              }
             }
            ],
            "label": "2000",
            "method": "animate"
           },
           {
            "args": [
             [
              "2008"
             ],
             {
              "frame": {
               "duration": 0,
               "redraw": true
              },
              "fromcurrent": true,
              "mode": "immediate",
              "transition": {
               "duration": 0,
               "easing": "linear"
              }
             }
            ],
            "label": "2008",
            "method": "animate"
           },
           {
            "args": [
             [
              "2010"
             ],
             {
              "frame": {
               "duration": 0,
               "redraw": true
              },
              "fromcurrent": true,
              "mode": "immediate",
              "transition": {
               "duration": 0,
               "easing": "linear"
              }
             }
            ],
            "label": "2010",
            "method": "animate"
           },
           {
            "args": [
             [
              "2002"
             ],
             {
              "frame": {
               "duration": 0,
               "redraw": true
              },
              "fromcurrent": true,
              "mode": "immediate",
              "transition": {
               "duration": 0,
               "easing": "linear"
              }
             }
            ],
            "label": "2002",
            "method": "animate"
           }
          ],
          "x": 0.1,
          "xanchor": "left",
          "y": 0,
          "yanchor": "top"
         }
        ],
        "template": {
         "data": {
          "bar": [
           {
            "error_x": {
             "color": "#2a3f5f"
            },
            "error_y": {
             "color": "#2a3f5f"
            },
            "marker": {
             "line": {
              "color": "#E5ECF6",
              "width": 0.5
             },
             "pattern": {
              "fillmode": "overlay",
              "size": 10,
              "solidity": 0.2
             }
            },
            "type": "bar"
           }
          ],
          "barpolar": [
           {
            "marker": {
             "line": {
              "color": "#E5ECF6",
              "width": 0.5
             },
             "pattern": {
              "fillmode": "overlay",
              "size": 10,
              "solidity": 0.2
             }
            },
            "type": "barpolar"
           }
          ],
          "carpet": [
           {
            "aaxis": {
             "endlinecolor": "#2a3f5f",
             "gridcolor": "white",
             "linecolor": "white",
             "minorgridcolor": "white",
             "startlinecolor": "#2a3f5f"
            },
            "baxis": {
             "endlinecolor": "#2a3f5f",
             "gridcolor": "white",
             "linecolor": "white",
             "minorgridcolor": "white",
             "startlinecolor": "#2a3f5f"
            },
            "type": "carpet"
           }
          ],
          "choropleth": [
           {
            "colorbar": {
             "outlinewidth": 0,
             "ticks": ""
            },
            "type": "choropleth"
           }
          ],
          "contour": [
           {
            "colorbar": {
             "outlinewidth": 0,
             "ticks": ""
            },
            "colorscale": [
             [
              0,
              "#0d0887"
             ],
             [
              0.1111111111111111,
              "#46039f"
             ],
             [
              0.2222222222222222,
              "#7201a8"
             ],
             [
              0.3333333333333333,
              "#9c179e"
             ],
             [
              0.4444444444444444,
              "#bd3786"
             ],
             [
              0.5555555555555556,
              "#d8576b"
             ],
             [
              0.6666666666666666,
              "#ed7953"
             ],
             [
              0.7777777777777778,
              "#fb9f3a"
             ],
             [
              0.8888888888888888,
              "#fdca26"
             ],
             [
              1,
              "#f0f921"
             ]
            ],
            "type": "contour"
           }
          ],
          "contourcarpet": [
           {
            "colorbar": {
             "outlinewidth": 0,
             "ticks": ""
            },
            "type": "contourcarpet"
           }
          ],
          "heatmap": [
           {
            "colorbar": {
             "outlinewidth": 0,
             "ticks": ""
            },
            "colorscale": [
             [
              0,
              "#0d0887"
             ],
             [
              0.1111111111111111,
              "#46039f"
             ],
             [
              0.2222222222222222,
              "#7201a8"
             ],
             [
              0.3333333333333333,
              "#9c179e"
             ],
             [
              0.4444444444444444,
              "#bd3786"
             ],
             [
              0.5555555555555556,
              "#d8576b"
             ],
             [
              0.6666666666666666,
              "#ed7953"
             ],
             [
              0.7777777777777778,
              "#fb9f3a"
             ],
             [
              0.8888888888888888,
              "#fdca26"
             ],
             [
              1,
              "#f0f921"
             ]
            ],
            "type": "heatmap"
           }
          ],
          "heatmapgl": [
           {
            "colorbar": {
             "outlinewidth": 0,
             "ticks": ""
            },
            "colorscale": [
             [
              0,
              "#0d0887"
             ],
             [
              0.1111111111111111,
              "#46039f"
             ],
             [
              0.2222222222222222,
              "#7201a8"
             ],
             [
              0.3333333333333333,
              "#9c179e"
             ],
             [
              0.4444444444444444,
              "#bd3786"
             ],
             [
              0.5555555555555556,
              "#d8576b"
             ],
             [
              0.6666666666666666,
              "#ed7953"
             ],
             [
              0.7777777777777778,
              "#fb9f3a"
             ],
             [
              0.8888888888888888,
              "#fdca26"
             ],
             [
              1,
              "#f0f921"
             ]
            ],
            "type": "heatmapgl"
           }
          ],
          "histogram": [
           {
            "marker": {
             "pattern": {
              "fillmode": "overlay",
              "size": 10,
              "solidity": 0.2
             }
            },
            "type": "histogram"
           }
          ],
          "histogram2d": [
           {
            "colorbar": {
             "outlinewidth": 0,
             "ticks": ""
            },
            "colorscale": [
             [
              0,
              "#0d0887"
             ],
             [
              0.1111111111111111,
              "#46039f"
             ],
             [
              0.2222222222222222,
              "#7201a8"
             ],
             [
              0.3333333333333333,
              "#9c179e"
             ],
             [
              0.4444444444444444,
              "#bd3786"
             ],
             [
              0.5555555555555556,
              "#d8576b"
             ],
             [
              0.6666666666666666,
              "#ed7953"
             ],
             [
              0.7777777777777778,
              "#fb9f3a"
             ],
             [
              0.8888888888888888,
              "#fdca26"
             ],
             [
              1,
              "#f0f921"
             ]
            ],
            "type": "histogram2d"
           }
          ],
          "histogram2dcontour": [
           {
            "colorbar": {
             "outlinewidth": 0,
             "ticks": ""
            },
            "colorscale": [
             [
              0,
              "#0d0887"
             ],
             [
              0.1111111111111111,
              "#46039f"
             ],
             [
              0.2222222222222222,
              "#7201a8"
             ],
             [
              0.3333333333333333,
              "#9c179e"
             ],
             [
              0.4444444444444444,
              "#bd3786"
             ],
             [
              0.5555555555555556,
              "#d8576b"
             ],
             [
              0.6666666666666666,
              "#ed7953"
             ],
             [
              0.7777777777777778,
              "#fb9f3a"
             ],
             [
              0.8888888888888888,
              "#fdca26"
             ],
             [
              1,
              "#f0f921"
             ]
            ],
            "type": "histogram2dcontour"
           }
          ],
          "mesh3d": [
           {
            "colorbar": {
             "outlinewidth": 0,
             "ticks": ""
            },
            "type": "mesh3d"
           }
          ],
          "parcoords": [
           {
            "line": {
             "colorbar": {
              "outlinewidth": 0,
              "ticks": ""
             }
            },
            "type": "parcoords"
           }
          ],
          "pie": [
           {
            "automargin": true,
            "type": "pie"
           }
          ],
          "scatter": [
           {
            "fillpattern": {
             "fillmode": "overlay",
             "size": 10,
             "solidity": 0.2
            },
            "type": "scatter"
           }
          ],
          "scatter3d": [
           {
            "line": {
             "colorbar": {
              "outlinewidth": 0,
              "ticks": ""
             }
            },
            "marker": {
             "colorbar": {
              "outlinewidth": 0,
              "ticks": ""
             }
            },
            "type": "scatter3d"
           }
          ],
          "scattercarpet": [
           {
            "marker": {
             "colorbar": {
              "outlinewidth": 0,
              "ticks": ""
             }
            },
            "type": "scattercarpet"
           }
          ],
          "scattergeo": [
           {
            "marker": {
             "colorbar": {
              "outlinewidth": 0,
              "ticks": ""
             }
            },
            "type": "scattergeo"
           }
          ],
          "scattergl": [
           {
            "marker": {
             "colorbar": {
              "outlinewidth": 0,
              "ticks": ""
             }
            },
            "type": "scattergl"
           }
          ],
          "scattermapbox": [
           {
            "marker": {
             "colorbar": {
              "outlinewidth": 0,
              "ticks": ""
             }
            },
            "type": "scattermapbox"
           }
          ],
          "scatterpolar": [
           {
            "marker": {
             "colorbar": {
              "outlinewidth": 0,
              "ticks": ""
             }
            },
            "type": "scatterpolar"
           }
          ],
          "scatterpolargl": [
           {
            "marker": {
             "colorbar": {
              "outlinewidth": 0,
              "ticks": ""
             }
            },
            "type": "scatterpolargl"
           }
          ],
          "scatterternary": [
           {
            "marker": {
             "colorbar": {
              "outlinewidth": 0,
              "ticks": ""
             }
            },
            "type": "scatterternary"
           }
          ],
          "surface": [
           {
            "colorbar": {
             "outlinewidth": 0,
             "ticks": ""
            },
            "colorscale": [
             [
              0,
              "#0d0887"
             ],
             [
              0.1111111111111111,
              "#46039f"
             ],
             [
              0.2222222222222222,
              "#7201a8"
             ],
             [
              0.3333333333333333,
              "#9c179e"
             ],
             [
              0.4444444444444444,
              "#bd3786"
             ],
             [
              0.5555555555555556,
              "#d8576b"
             ],
             [
              0.6666666666666666,
              "#ed7953"
             ],
             [
              0.7777777777777778,
              "#fb9f3a"
             ],
             [
              0.8888888888888888,
              "#fdca26"
             ],
             [
              1,
              "#f0f921"
             ]
            ],
            "type": "surface"
           }
          ],
          "table": [
           {
            "cells": {
             "fill": {
              "color": "#EBF0F8"
             },
             "line": {
              "color": "white"
             }
            },
            "header": {
             "fill": {
              "color": "#C8D4E3"
             },
             "line": {
              "color": "white"
             }
            },
            "type": "table"
           }
          ]
         },
         "layout": {
          "annotationdefaults": {
           "arrowcolor": "#2a3f5f",
           "arrowhead": 0,
           "arrowwidth": 1
          },
          "autotypenumbers": "strict",
          "coloraxis": {
           "colorbar": {
            "outlinewidth": 0,
            "ticks": ""
           }
          },
          "colorscale": {
           "diverging": [
            [
             0,
             "#8e0152"
            ],
            [
             0.1,
             "#c51b7d"
            ],
            [
             0.2,
             "#de77ae"
            ],
            [
             0.3,
             "#f1b6da"
            ],
            [
             0.4,
             "#fde0ef"
            ],
            [
             0.5,
             "#f7f7f7"
            ],
            [
             0.6,
             "#e6f5d0"
            ],
            [
             0.7,
             "#b8e186"
            ],
            [
             0.8,
             "#7fbc41"
            ],
            [
             0.9,
             "#4d9221"
            ],
            [
             1,
             "#276419"
            ]
           ],
           "sequential": [
            [
             0,
             "#0d0887"
            ],
            [
             0.1111111111111111,
             "#46039f"
            ],
            [
             0.2222222222222222,
             "#7201a8"
            ],
            [
             0.3333333333333333,
             "#9c179e"
            ],
            [
             0.4444444444444444,
             "#bd3786"
            ],
            [
             0.5555555555555556,
             "#d8576b"
            ],
            [
             0.6666666666666666,
             "#ed7953"
            ],
            [
             0.7777777777777778,
             "#fb9f3a"
            ],
            [
             0.8888888888888888,
             "#fdca26"
            ],
            [
             1,
             "#f0f921"
            ]
           ],
           "sequentialminus": [
            [
             0,
             "#0d0887"
            ],
            [
             0.1111111111111111,
             "#46039f"
            ],
            [
             0.2222222222222222,
             "#7201a8"
            ],
            [
             0.3333333333333333,
             "#9c179e"
            ],
            [
             0.4444444444444444,
             "#bd3786"
            ],
            [
             0.5555555555555556,
             "#d8576b"
            ],
            [
             0.6666666666666666,
             "#ed7953"
            ],
            [
             0.7777777777777778,
             "#fb9f3a"
            ],
            [
             0.8888888888888888,
             "#fdca26"
            ],
            [
             1,
             "#f0f921"
            ]
           ]
          },
          "colorway": [
           "#636efa",
           "#EF553B",
           "#00cc96",
           "#ab63fa",
           "#FFA15A",
           "#19d3f3",
           "#FF6692",
           "#B6E880",
           "#FF97FF",
           "#FECB52"
          ],
          "font": {
           "color": "#2a3f5f"
          },
          "geo": {
           "bgcolor": "white",
           "lakecolor": "white",
           "landcolor": "#E5ECF6",
           "showlakes": true,
           "showland": true,
           "subunitcolor": "white"
          },
          "hoverlabel": {
           "align": "left"
          },
          "hovermode": "closest",
          "mapbox": {
           "style": "light"
          },
          "paper_bgcolor": "white",
          "plot_bgcolor": "#E5ECF6",
          "polar": {
           "angularaxis": {
            "gridcolor": "white",
            "linecolor": "white",
            "ticks": ""
           },
           "bgcolor": "#E5ECF6",
           "radialaxis": {
            "gridcolor": "white",
            "linecolor": "white",
            "ticks": ""
           }
          },
          "scene": {
           "xaxis": {
            "backgroundcolor": "#E5ECF6",
            "gridcolor": "white",
            "gridwidth": 2,
            "linecolor": "white",
            "showbackground": true,
            "ticks": "",
            "zerolinecolor": "white"
           },
           "yaxis": {
            "backgroundcolor": "#E5ECF6",
            "gridcolor": "white",
            "gridwidth": 2,
            "linecolor": "white",
            "showbackground": true,
            "ticks": "",
            "zerolinecolor": "white"
           },
           "zaxis": {
            "backgroundcolor": "#E5ECF6",
            "gridcolor": "white",
            "gridwidth": 2,
            "linecolor": "white",
            "showbackground": true,
            "ticks": "",
            "zerolinecolor": "white"
           }
          },
          "shapedefaults": {
           "line": {
            "color": "#2a3f5f"
           }
          },
          "ternary": {
           "aaxis": {
            "gridcolor": "white",
            "linecolor": "white",
            "ticks": ""
           },
           "baxis": {
            "gridcolor": "white",
            "linecolor": "white",
            "ticks": ""
           },
           "bgcolor": "#E5ECF6",
           "caxis": {
            "gridcolor": "white",
            "linecolor": "white",
            "ticks": ""
           }
          },
          "title": {
           "x": 0.05
          },
          "xaxis": {
           "automargin": true,
           "gridcolor": "white",
           "linecolor": "white",
           "ticks": "",
           "title": {
            "standoff": 15
           },
           "zerolinecolor": "white",
           "zerolinewidth": 2
          },
          "yaxis": {
           "automargin": true,
           "gridcolor": "white",
           "linecolor": "white",
           "ticks": "",
           "title": {
            "standoff": 15
           },
           "zerolinecolor": "white",
           "zerolinewidth": 2
          }
         }
        },
        "title": {
         "font": {
          "size": 20
         },
         "text": "EV Brand and their Count Over the Years",
         "x": 0.5
        },
        "updatemenus": [
         {
          "active": 0,
          "buttons": [
           {
            "args": [
             null,
             {
              "frame": {
               "duration": 500,
               "redraw": true
              },
              "fromcurrent": true,
              "mode": "immediate",
              "transition": {
               "duration": 500,
               "easing": "linear"
              }
             }
            ],
            "label": "&#9654;",
            "method": "animate"
           },
           {
            "args": [
             [
              null
             ],
             {
              "frame": {
               "duration": 0,
               "redraw": true
              },
              "fromcurrent": true,
              "mode": "immediate",
              "transition": {
               "duration": 0,
               "easing": "linear"
              }
             }
            ],
            "label": "&#9724;",
            "method": "animate"
           }
          ],
          "direction": "left",
          "pad": {
           "r": 10,
           "t": 70
          },
          "showactive": false,
          "type": "buttons",
          "x": 0.1,
          "xanchor": "right",
          "y": 0,
          "yanchor": "top"
         }
        ],
        "width": 800,
        "xaxis": {
         "anchor": "y",
         "domain": [
          0,
          1
         ],
         "gridcolor": "LightGray",
         "range": [
          0,
          3000
         ],
         "showgrid": true,
         "title": {
          "text": "Number of EV Vehicles"
         },
         "type": "linear"
        },
        "yaxis": {
         "anchor": "x",
         "autorange": true,
         "categoryarray": [
          "VOLVO",
          "VOLKSWAGEN",
          "TOYOTA",
          "TH!NK",
          "TESLA",
          "SUBARU",
          "SMART",
          "RIVIAN",
          "PORSCHE",
          "POLESTAR",
          "NISSAN",
          "MITSUBISHI",
          "MINI",
          "MERCEDES-BENZ",
          "LUCID MOTORS",
          "LINCOLN",
          "LEXUS",
          "LAND ROVER",
          "KIA",
          "JEEP",
          "JAGUAR",
          "HYUNDAI",
          "HONDA",
          "GENESIS",
          "FORD",
          "FISKER",
          "FIAT",
          "CHRYSLER",
          "CHEVROLET",
          "CADILLAC",
          "BMW",
          "BENTLEY",
          "AZURE DYNAMICS",
          "AUDI"
         ],
         "categoryorder": "array",
         "domain": [
          0,
          1
         ],
         "range": [
          -0.5,
          26.5
         ],
         "title": {
          "text": "Brand"
         },
         "type": "category"
        }
       }
      },
      "image/png": "[encoded data removed]",
      "text/html": [
       "<div>                            <div id=\"088322ff-6929-4115-9448-9564986a4ca2\" class=\"plotly-graph-div\" style=\"height:600px; width:800px;\"></div>            <script type=\"text/javascript\">                require([\"plotly\"], function(Plotly) {                    window.PLOTLYENV=window.PLOTLYENV || {};                                    if (document.getElementById(\"088322ff-6929-4115-9448-9564986a4ca2\")) {                    Plotly.newPlot(                        \"088322ff-6929-4115-9448-9564986a4ca2\",                        [{\"alignmentgroup\":\"True\",\"hovertemplate\":\"Make=%{y}\\u003cbr\\u003eModel Year=2016\\u003cbr\\u003enumber_of_Vehicles=%{x}\\u003cextra\\u003e\\u003c\\u002fextra\\u003e\",\"legendgroup\":\"AUDI\",\"marker\":{\"color\":\"#636efa\",\"pattern\":{\"shape\":\"\"}},\"name\":\"AUDI\",\"offsetgroup\":\"AUDI\",\"orientation\":\"h\",\"showlegend\":true,\"textposition\":\"outside\",\"x\":[214],\"xaxis\":\"x\",\"y\":[\"AUDI\"],\"yaxis\":\"y\",\"type\":\"bar\",\"textfont\":{\"size\":16},\"texttemplate\":\"%{x}\"},{\"alignmentgroup\":\"True\",\"hovertemplate\":\"Make=%{y}\\u003cbr\\u003eModel Year=2016\\u003cbr\\u003enumber_of_Vehicles=%{x}\\u003cextra\\u003e\\u003c\\u002fextra\\u003e\",\"legendgroup\":\"BMW\",\"marker\":{\"color\":\"#ab63fa\",\"pattern\":{\"shape\":\"\"}},\"name\":\"BMW\",\"offsetgroup\":\"BMW\",\"orientation\":\"h\",\"showlegend\":true,\"textposition\":\"outside\",\"x\":[383],\"xaxis\":\"x\",\"y\":[\"BMW\"],\"yaxis\":\"y\",\"type\":\"bar\",\"textfont\":{\"size\":16},\"texttemplate\":\"%{x}\"},{\"alignmentgroup\":\"True\",\"hovertemplate\":\"Make=%{y}\\u003cbr\\u003eModel Year=2016\\u003cbr\\u003enumber_of_Vehicles=%{x}\\u003cextra\\u003e\\u003c\\u002fextra\\u003e\",\"legendgroup\":\"CADILLAC\",\"marker\":{\"color\":\"#FFA15A\",\"pattern\":{\"shape\":\"\"}},\"name\":\"CADILLAC\",\"offsetgroup\":\"CADILLAC\",\"orientation\":\"h\",\"showlegend\":true,\"textposition\":\"outside\",\"x\":[18],\"xaxis\":\"x\",\"y\":[\"CADILLAC\"],\"yaxis\":\"y\",\"type\":\"bar\",\"textfont\":{\"size\":16},\"texttemplate\":\"%{x}\"},{\"alignmentgroup\":\"True\",\"hovertemplate\":\"Make=%{y}\\u003cbr\\u003eModel Year=2016\\u003cbr\\u003enumber_of_Vehicles=%{x}\\u003cextra\\u003e\\u003c\\u002fextra\\u003e\",\"legendgroup\":\"CHEVROLET\",\"marker\":{\"color\":\"#19d3f3\",\"pattern\":{\"shape\":\"\"}},\"name\":\"CHEVROLET\",\"offsetgroup\":\"CHEVROLET\",\"orientation\":\"h\",\"showlegend\":true,\"textposition\":\"outside\",\"x\":[309],\"xaxis\":\"x\",\"y\":[\"CHEVROLET\"],\"yaxis\":\"y\",\"type\":\"bar\",\"textfont\":{\"size\":16},\"texttemplate\":\"%{x}\"},{\"alignmentgroup\":\"True\",\"hovertemplate\":\"Make=%{y}\\u003cbr\\u003eModel Year=2016\\u003cbr\\u003enumber_of_Vehicles=%{x}\\u003cextra\\u003e\\u003c\\u002fextra\\u003e\",\"legendgroup\":\"FIAT\",\"marker\":{\"color\":\"#B6E880\",\"pattern\":{\"shape\":\"\"}},\"name\":\"FIAT\",\"offsetgroup\":\"FIAT\",\"orientation\":\"h\",\"showlegend\":true,\"textposition\":\"outside\",\"x\":[148],\"xaxis\":\"x\",\"y\":[\"FIAT\"],\"yaxis\":\"y\",\"type\":\"bar\",\"textfont\":{\"size\":16},\"texttemplate\":\"%{x}\"},{\"alignmentgroup\":\"True\",\"hovertemplate\":\"Make=%{y}\\u003cbr\\u003eModel Year=2016\\u003cbr\\u003enumber_of_Vehicles=%{x}\\u003cextra\\u003e\\u003c\\u002fextra\\u003e\",\"legendgroup\":\"FORD\",\"marker\":{\"color\":\"#FECB52\",\"pattern\":{\"shape\":\"\"}},\"name\":\"FORD\",\"offsetgroup\":\"FORD\",\"orientation\":\"h\",\"showlegend\":true,\"textposition\":\"outside\",\"x\":[778],\"xaxis\":\"x\",\"y\":[\"FORD\"],\"yaxis\":\"y\",\"type\":\"bar\",\"textfont\":{\"size\":16},\"texttemplate\":\"%{x}\"},{\"alignmentgroup\":\"True\",\"hovertemplate\":\"Make=%{y}\\u003cbr\\u003eModel Year=2016\\u003cbr\\u003enumber_of_Vehicles=%{x}\\u003cextra\\u003e\\u003c\\u002fextra\\u003e\",\"legendgroup\":\"HYUNDAI\",\"marker\":{\"color\":\"#00cc96\",\"pattern\":{\"shape\":\"\"}},\"name\":\"HYUNDAI\",\"offsetgroup\":\"HYUNDAI\",\"orientation\":\"h\",\"showlegend\":true,\"textposition\":\"outside\",\"x\":[44],\"xaxis\":\"x\",\"y\":[\"HYUNDAI\"],\"yaxis\":\"y\",\"type\":\"bar\",\"textfont\":{\"size\":16},\"texttemplate\":\"%{x}\"},{\"alignmentgroup\":\"True\",\"hovertemplate\":\"Make=%{y}\\u003cbr\\u003eModel Year=2016\\u003cbr\\u003enumber_of_Vehicles=%{x}\\u003cextra\\u003e\\u003c\\u002fextra\\u003e\",\"legendgroup\":\"KIA\",\"marker\":{\"color\":\"#19d3f3\",\"pattern\":{\"shape\":\"\"}},\"name\":\"KIA\",\"offsetgroup\":\"KIA\",\"orientation\":\"h\",\"showlegend\":true,\"textposition\":\"outside\",\"x\":[407],\"xaxis\":\"x\",\"y\":[\"KIA\"],\"yaxis\":\"y\",\"type\":\"bar\",\"textfont\":{\"size\":16},\"texttemplate\":\"%{x}\"},{\"alignmentgroup\":\"True\",\"hovertemplate\":\"Make=%{y}\\u003cbr\\u003eModel Year=2016\\u003cbr\\u003enumber_of_Vehicles=%{x}\\u003cextra\\u003e\\u003c\\u002fextra\\u003e\",\"legendgroup\":\"MERCEDES-BENZ\",\"marker\":{\"color\":\"#636efa\",\"pattern\":{\"shape\":\"\"}},\"name\":\"MERCEDES-BENZ\",\"offsetgroup\":\"MERCEDES-BENZ\",\"orientation\":\"h\",\"showlegend\":true,\"textposition\":\"outside\",\"x\":[35],\"xaxis\":\"x\",\"y\":[\"MERCEDES-BENZ\"],\"yaxis\":\"y\",\"type\":\"bar\",\"textfont\":{\"size\":16},\"texttemplate\":\"%{x}\"},{\"alignmentgroup\":\"True\",\"hovertemplate\":\"Make=%{y}\\u003cbr\\u003eModel Year=2016\\u003cbr\\u003enumber_of_Vehicles=%{x}\\u003cextra\\u003e\\u003c\\u002fextra\\u003e\",\"legendgroup\":\"MITSUBISHI\",\"marker\":{\"color\":\"#00cc96\",\"pattern\":{\"shape\":\"\"}},\"name\":\"MITSUBISHI\",\"offsetgroup\":\"MITSUBISHI\",\"orientation\":\"h\",\"showlegend\":true,\"textposition\":\"outside\",\"x\":[12],\"xaxis\":\"x\",\"y\":[\"MITSUBISHI\"],\"yaxis\":\"y\",\"type\":\"bar\",\"textfont\":{\"size\":16},\"texttemplate\":\"%{x}\"},{\"alignmentgroup\":\"True\",\"hovertemplate\":\"Make=%{y}\\u003cbr\\u003eModel Year=2016\\u003cbr\\u003enumber_of_Vehicles=%{x}\\u003cextra\\u003e\\u003c\\u002fextra\\u003e\",\"legendgroup\":\"NISSAN\",\"marker\":{\"color\":\"#ab63fa\",\"pattern\":{\"shape\":\"\"}},\"name\":\"NISSAN\",\"offsetgroup\":\"NISSAN\",\"orientation\":\"h\",\"showlegend\":true,\"textposition\":\"outside\",\"x\":[1208],\"xaxis\":\"x\",\"y\":[\"NISSAN\"],\"yaxis\":\"y\",\"type\":\"bar\",\"textfont\":{\"size\":16},\"texttemplate\":\"%{x}\"},{\"alignmentgroup\":\"True\",\"hovertemplate\":\"Make=%{y}\\u003cbr\\u003eModel Year=2016\\u003cbr\\u003enumber_of_Vehicles=%{x}\\u003cextra\\u003e\\u003c\\u002fextra\\u003e\",\"legendgroup\":\"PORSCHE\",\"marker\":{\"color\":\"#19d3f3\",\"pattern\":{\"shape\":\"\"}},\"name\":\"PORSCHE\",\"offsetgroup\":\"PORSCHE\",\"orientation\":\"h\",\"showlegend\":true,\"textposition\":\"outside\",\"x\":[78],\"xaxis\":\"x\",\"y\":[\"PORSCHE\"],\"yaxis\":\"y\",\"type\":\"bar\",\"textfont\":{\"size\":16},\"texttemplate\":\"%{x}\"},{\"alignmentgroup\":\"True\",\"hovertemplate\":\"Make=%{y}\\u003cbr\\u003eModel Year=2016\\u003cbr\\u003enumber_of_Vehicles=%{x}\\u003cextra\\u003e\\u003c\\u002fextra\\u003e\",\"legendgroup\":\"SMART\",\"marker\":{\"color\":\"#B6E880\",\"pattern\":{\"shape\":\"\"}},\"name\":\"SMART\",\"offsetgroup\":\"SMART\",\"orientation\":\"h\",\"showlegend\":true,\"textposition\":\"outside\",\"x\":[31],\"xaxis\":\"x\",\"y\":[\"SMART\"],\"yaxis\":\"y\",\"type\":\"bar\",\"textfont\":{\"size\":16},\"texttemplate\":\"%{x}\"},{\"alignmentgroup\":\"True\",\"hovertemplate\":\"Make=%{y}\\u003cbr\\u003eModel Year=2016\\u003cbr\\u003enumber_of_Vehicles=%{x}\\u003cextra\\u003e\\u003c\\u002fextra\\u003e\",\"legendgroup\":\"TESLA\",\"marker\":{\"color\":\"#FECB52\",\"pattern\":{\"shape\":\"\"}},\"name\":\"TESLA\",\"offsetgroup\":\"TESLA\",\"orientation\":\"h\",\"showlegend\":true,\"textposition\":\"outside\",\"x\":[1639],\"xaxis\":\"x\",\"y\":[\"TESLA\"],\"yaxis\":\"y\",\"type\":\"bar\",\"textfont\":{\"size\":16},\"texttemplate\":\"%{x}\"},{\"alignmentgroup\":\"True\",\"hovertemplate\":\"Make=%{y}\\u003cbr\\u003eModel Year=2016\\u003cbr\\u003enumber_of_Vehicles=%{x}\\u003cextra\\u003e\\u003c\\u002fextra\\u003e\",\"legendgroup\":\"VOLKSWAGEN\",\"marker\":{\"color\":\"#00cc96\",\"pattern\":{\"shape\":\"\"}},\"name\":\"VOLKSWAGEN\",\"offsetgroup\":\"VOLKSWAGEN\",\"orientation\":\"h\",\"showlegend\":true,\"textposition\":\"outside\",\"x\":[319],\"xaxis\":\"x\",\"y\":[\"VOLKSWAGEN\"],\"yaxis\":\"y\",\"type\":\"bar\",\"textfont\":{\"size\":16},\"texttemplate\":\"%{x}\"},{\"alignmentgroup\":\"True\",\"hovertemplate\":\"Make=%{y}\\u003cbr\\u003eModel Year=2016\\u003cbr\\u003enumber_of_Vehicles=%{x}\\u003cextra\\u003e\\u003c\\u002fextra\\u003e\",\"legendgroup\":\"VOLVO\",\"marker\":{\"color\":\"#ab63fa\",\"pattern\":{\"shape\":\"\"}},\"name\":\"VOLVO\",\"offsetgroup\":\"VOLVO\",\"orientation\":\"h\",\"showlegend\":true,\"textposition\":\"outside\",\"x\":[112],\"xaxis\":\"x\",\"y\":[\"VOLVO\"],\"yaxis\":\"y\",\"type\":\"bar\",\"textfont\":{\"size\":16},\"texttemplate\":\"%{x}\"}],                        {\"template\":{\"data\":{\"histogram2dcontour\":[{\"type\":\"histogram2dcontour\",\"colorbar\":{\"outlinewidth\":0,\"ticks\":\"\"},\"colorscale\":[[0.0,\"#0d0887\"],[0.1111111111111111,\"#46039f\"],[0.2222222222222222,\"#7201a8\"],[0.3333333333333333,\"#9c179e\"],[0.4444444444444444,\"#bd3786\"],[0.5555555555555556,\"#d8576b\"],[0.6666666666666666,\"#ed7953\"],[0.7777777777777778,\"#fb9f3a\"],[0.8888888888888888,\"#fdca26\"],[1.0,\"#f0f921\"]]}],\"choropleth\":[{\"type\":\"choropleth\",\"colorbar\":{\"outlinewidth\":0,\"ticks\":\"\"}}],\"histogram2d\":[{\"type\":\"histogram2d\",\"colorbar\":{\"outlinewidth\":0,\"ticks\":\"\"},\"colorscale\":[[0.0,\"#0d0887\"],[0.1111111111111111,\"#46039f\"],[0.2222222222222222,\"#7201a8\"],[0.3333333333333333,\"#9c179e\"],[0.4444444444444444,\"#bd3786\"],[0.5555555555555556,\"#d8576b\"],[0.6666666666666666,\"#ed7953\"],[0.7777777777777778,\"#fb9f3a\"],[0.8888888888888888,\"#fdca26\"],[1.0,\"#f0f921\"]]}],\"heatmap\":[{\"type\":\"heatmap\",\"colorbar\":{\"outlinewidth\":0,\"ticks\":\"\"},\"colorscale\":[[0.0,\"#0d0887\"],[0.1111111111111111,\"#46039f\"],[0.2222222222222222,\"#7201a8\"],[0.3333333333333333,\"#9c179e\"],[0.4444444444444444,\"#bd3786\"],[0.5555555555555556,\"#d8576b\"],[0.6666666666666666,\"#ed7953\"],[0.7777777777777778,\"#fb9f3a\"],[0.8888888888888888,\"#fdca26\"],[1.0,\"#f0f921\"]]}],\"heatmapgl\":[{\"type\":\"heatmapgl\",\"colorbar\":{\"outlinewidth\":0,\"ticks\":\"\"},\"colorscale\":[[0.0,\"#0d0887\"],[0.1111111111111111,\"#46039f\"],[0.2222222222222222,\"#7201a8\"],[0.3333333333333333,\"#9c179e\"],[0.4444444444444444,\"#bd3786\"],[0.5555555555555556,\"#d8576b\"],[0.6666666666666666,\"#ed7953\"],[0.7777777777777778,\"#fb9f3a\"],[0.8888888888888888,\"#fdca26\"],[1.0,\"#f0f921\"]]}],\"contourcarpet\":[{\"type\":\"contourcarpet\",\"colorbar\":{\"outlinewidth\":0,\"ticks\":\"\"}}],\"contour\":[{\"type\":\"contour\",\"colorbar\":{\"outlinewidth\":0,\"ticks\":\"\"},\"colorscale\":[[0.0,\"#0d0887\"],[0.1111111111111111,\"#46039f\"],[0.2222222222222222,\"#7201a8\"],[0.3333333333333333,\"#9c179e\"],[0.4444444444444444,\"#bd3786\"],[0.5555555555555556,\"#d8576b\"],[0.6666666666666666,\"#ed7953\"],[0.7777777777777778,\"#fb9f3a\"],[0.8888888888888888,\"#fdca26\"],[1.0,\"#f0f921\"]]}],\"surface\":[{\"type\":\"surface\",\"colorbar\":{\"outlinewidth\":0,\"ticks\":\"\"},\"colorscale\":[[0.0,\"#0d0887\"],[0.1111111111111111,\"#46039f\"],[0.2222222222222222,\"#7201a8\"],[0.3333333333333333,\"#9c179e\"],[0.4444444444444444,\"#bd3786\"],[0.5555555555555556,\"#d8576b\"],[0.6666666666666666,\"#ed7953\"],[0.7777777777777778,\"#fb9f3a\"],[0.8888888888888888,\"#fdca26\"],[1.0,\"#f0f921\"]]}],\"mesh3d\":[{\"type\":\"mesh3d\",\"colorbar\":{\"outlinewidth\":0,\"ticks\":\"\"}}],\"scatter\":[{\"fillpattern\":{\"fillmode\":\"overlay\",\"size\":10,\"solidity\":0.2},\"type\":\"scatter\"}],\"parcoords\":[{\"type\":\"parcoords\",\"line\":{\"colorbar\":{\"outlinewidth\":0,\"ticks\":\"\"}}}],\"scatterpolargl\":[{\"type\":\"scatterpolargl\",\"marker\":{\"colorbar\":{\"outlinewidth\":0,\"ticks\":\"\"}}}],\"bar\":[{\"error_x\":{\"color\":\"#2a3f5f\"},\"error_y\":{\"color\":\"#2a3f5f\"},\"marker\":{\"line\":{\"color\":\"#E5ECF6\",\"width\":0.5},\"pattern\":{\"fillmode\":\"overlay\",\"size\":10,\"solidity\":0.2}},\"type\":\"bar\"}],\"scattergeo\":[{\"type\":\"scattergeo\",\"marker\":{\"colorbar\":{\"outlinewidth\":0,\"ticks\":\"\"}}}],\"scatterpolar\":[{\"type\":\"scatterpolar\",\"marker\":{\"colorbar\":{\"outlinewidth\":0,\"ticks\":\"\"}}}],\"histogram\":[{\"marker\":{\"pattern\":{\"fillmode\":\"overlay\",\"size\":10,\"solidity\":0.2}},\"type\":\"histogram\"}],\"scattergl\":[{\"type\":\"scattergl\",\"marker\":{\"colorbar\":{\"outlinewidth\":0,\"ticks\":\"\"}}}],\"scatter3d\":[{\"type\":\"scatter3d\",\"line\":{\"colorbar\":{\"outlinewidth\":0,\"ticks\":\"\"}},\"marker\":{\"colorbar\":{\"outlinewidth\":0,\"ticks\":\"\"}}}],\"scattermapbox\":[{\"type\":\"scattermapbox\",\"marker\":{\"colorbar\":{\"outlinewidth\":0,\"ticks\":\"\"}}}],\"scatterternary\":[{\"type\":\"scatterternary\",\"marker\":{\"colorbar\":{\"outlinewidth\":0,\"ticks\":\"\"}}}],\"scattercarpet\":[{\"type\":\"scattercarpet\",\"marker\":{\"colorbar\":{\"outlinewidth\":0,\"ticks\":\"\"}}}],\"carpet\":[{\"aaxis\":{\"endlinecolor\":\"#2a3f5f\",\"gridcolor\":\"white\",\"linecolor\":\"white\",\"minorgridcolor\":\"white\",\"startlinecolor\":\"#2a3f5f\"},\"baxis\":{\"endlinecolor\":\"#2a3f5f\",\"gridcolor\":\"white\",\"linecolor\":\"white\",\"minorgridcolor\":\"white\",\"startlinecolor\":\"#2a3f5f\"},\"type\":\"carpet\"}],\"table\":[{\"cells\":{\"fill\":{\"color\":\"#EBF0F8\"},\"line\":{\"color\":\"white\"}},\"header\":{\"fill\":{\"color\":\"#C8D4E3\"},\"line\":{\"color\":\"white\"}},\"type\":\"table\"}],\"barpolar\":[{\"marker\":{\"line\":{\"color\":\"#E5ECF6\",\"width\":0.5},\"pattern\":{\"fillmode\":\"overlay\",\"size\":10,\"solidity\":0.2}},\"type\":\"barpolar\"}],\"pie\":[{\"automargin\":true,\"type\":\"pie\"}]},\"layout\":{\"autotypenumbers\":\"strict\",\"colorway\":[\"#636efa\",\"#EF553B\",\"#00cc96\",\"#ab63fa\",\"#FFA15A\",\"#19d3f3\",\"#FF6692\",\"#B6E880\",\"#FF97FF\",\"#FECB52\"],\"font\":{\"color\":\"#2a3f5f\"},\"hovermode\":\"closest\",\"hoverlabel\":{\"align\":\"left\"},\"paper_bgcolor\":\"white\",\"plot_bgcolor\":\"#E5ECF6\",\"polar\":{\"bgcolor\":\"#E5ECF6\",\"angularaxis\":{\"gridcolor\":\"white\",\"linecolor\":\"white\",\"ticks\":\"\"},\"radialaxis\":{\"gridcolor\":\"white\",\"linecolor\":\"white\",\"ticks\":\"\"}},\"ternary\":{\"bgcolor\":\"#E5ECF6\",\"aaxis\":{\"gridcolor\":\"white\",\"linecolor\":\"white\",\"ticks\":\"\"},\"baxis\":{\"gridcolor\":\"white\",\"linecolor\":\"white\",\"ticks\":\"\"},\"caxis\":{\"gridcolor\":\"white\",\"linecolor\":\"white\",\"ticks\":\"\"}},\"coloraxis\":{\"colorbar\":{\"outlinewidth\":0,\"ticks\":\"\"}},\"colorscale\":{\"sequential\":[[0.0,\"#0d0887\"],[0.1111111111111111,\"#46039f\"],[0.2222222222222222,\"#7201a8\"],[0.3333333333333333,\"#9c179e\"],[0.4444444444444444,\"#bd3786\"],[0.5555555555555556,\"#d8576b\"],[0.6666666666666666,\"#ed7953\"],[0.7777777777777778,\"#fb9f3a\"],[0.8888888888888888,\"#fdca26\"],[1.0,\"#f0f921\"]],\"sequentialminus\":[[0.0,\"#0d0887\"],[0.1111111111111111,\"#46039f\"],[0.2222222222222222,\"#7201a8\"],[0.3333333333333333,\"#9c179e\"],[0.4444444444444444,\"#bd3786\"],[0.5555555555555556,\"#d8576b\"],[0.6666666666666666,\"#ed7953\"],[0.7777777777777778,\"#fb9f3a\"],[0.8888888888888888,\"#fdca26\"],[1.0,\"#f0f921\"]],\"diverging\":[[0,\"#8e0152\"],[0.1,\"#c51b7d\"],[0.2,\"#de77ae\"],[0.3,\"#f1b6da\"],[0.4,\"#fde0ef\"],[0.5,\"#f7f7f7\"],[0.6,\"#e6f5d0\"],[0.7,\"#b8e186\"],[0.8,\"#7fbc41\"],[0.9,\"#4d9221\"],[1,\"#276419\"]]},\"xaxis\":{\"gridcolor\":\"white\",\"linecolor\":\"white\",\"ticks\":\"\",\"title\":{\"standoff\":15},\"zerolinecolor\":\"white\",\"automargin\":true,\"zerolinewidth\":2},\"yaxis\":{\"gridcolor\":\"white\",\"linecolor\":\"white\",\"ticks\":\"\",\"title\":{\"standoff\":15},\"zerolinecolor\":\"white\",\"automargin\":true,\"zerolinewidth\":2},\"scene\":{\"xaxis\":{\"backgroundcolor\":\"#E5ECF6\",\"gridcolor\":\"white\",\"linecolor\":\"white\",\"showbackground\":true,\"ticks\":\"\",\"zerolinecolor\":\"white\",\"gridwidth\":2},\"yaxis\":{\"backgroundcolor\":\"#E5ECF6\",\"gridcolor\":\"white\",\"linecolor\":\"white\",\"showbackground\":true,\"ticks\":\"\",\"zerolinecolor\":\"white\",\"gridwidth\":2},\"zaxis\":{\"backgroundcolor\":\"#E5ECF6\",\"gridcolor\":\"white\",\"linecolor\":\"white\",\"showbackground\":true,\"ticks\":\"\",\"zerolinecolor\":\"white\",\"gridwidth\":2}},\"shapedefaults\":{\"line\":{\"color\":\"#2a3f5f\"}},\"annotationdefaults\":{\"arrowcolor\":\"#2a3f5f\",\"arrowhead\":0,\"arrowwidth\":1},\"geo\":{\"bgcolor\":\"white\",\"landcolor\":\"#E5ECF6\",\"subunitcolor\":\"white\",\"showland\":true,\"showlakes\":true,\"lakecolor\":\"white\"},\"title\":{\"x\":0.05},\"mapbox\":{\"style\":\"light\"}}},\"xaxis\":{\"anchor\":\"y\",\"domain\":[0.0,1.0],\"title\":{\"text\":\"Number of EV Vehicles\"},\"range\":[0,3000],\"showgrid\":true,\"gridcolor\":\"LightGray\"},\"yaxis\":{\"anchor\":\"x\",\"domain\":[0.0,1.0],\"title\":{\"text\":\"Brand\"},\"categoryorder\":\"array\",\"categoryarray\":[\"VOLVO\",\"VOLKSWAGEN\",\"TOYOTA\",\"TH!NK\",\"TESLA\",\"SUBARU\",\"SMART\",\"RIVIAN\",\"PORSCHE\",\"POLESTAR\",\"NISSAN\",\"MITSUBISHI\",\"MINI\",\"MERCEDES-BENZ\",\"LUCID MOTORS\",\"LINCOLN\",\"LEXUS\",\"LAND ROVER\",\"KIA\",\"JEEP\",\"JAGUAR\",\"HYUNDAI\",\"HONDA\",\"GENESIS\",\"FORD\",\"FISKER\",\"FIAT\",\"CHRYSLER\",\"CHEVROLET\",\"CADILLAC\",\"BMW\",\"BENTLEY\",\"AZURE DYNAMICS\",\"AUDI\"]},\"legend\":{\"title\":{\"text\":\"Make\"},\"tracegroupgap\":0},\"title\":{\"text\":\"EV Brand and their Count Over the Years\",\"font\":{\"size\":20},\"x\":0.5},\"barmode\":\"relative\",\"updatemenus\":[{\"buttons\":[{\"args\":[null,{\"frame\":{\"duration\":500,\"redraw\":true},\"mode\":\"immediate\",\"fromcurrent\":true,\"transition\":{\"duration\":500,\"easing\":\"linear\"}}],\"label\":\"&#9654;\",\"method\":\"animate\"},{\"args\":[[null],{\"frame\":{\"duration\":0,\"redraw\":true},\"mode\":\"immediate\",\"fromcurrent\":true,\"transition\":{\"duration\":0,\"easing\":\"linear\"}}],\"label\":\"&#9724;\",\"method\":\"animate\"}],\"direction\":\"left\",\"pad\":{\"r\":10,\"t\":70},\"showactive\":false,\"type\":\"buttons\",\"x\":0.1,\"xanchor\":\"right\",\"y\":0,\"yanchor\":\"top\"}],\"sliders\":[{\"active\":0,\"currentvalue\":{\"prefix\":\"Model Year=\"},\"len\":0.9,\"pad\":{\"b\":10,\"t\":60},\"steps\":[{\"args\":[[\"2016\"],{\"frame\":{\"duration\":0,\"redraw\":true},\"mode\":\"immediate\",\"fromcurrent\":true,\"transition\":{\"duration\":0,\"easing\":\"linear\"}}],\"label\":\"2016\",\"method\":\"animate\"},{\"args\":[[\"2017\"],{\"frame\":{\"duration\":0,\"redraw\":true},\"mode\":\"immediate\",\"fromcurrent\":true,\"transition\":{\"duration\":0,\"easing\":\"linear\"}}],\"label\":\"2017\",\"method\":\"animate\"},{\"args\":[[\"2018\"],{\"frame\":{\"duration\":0,\"redraw\":true},\"mode\":\"immediate\",\"fromcurrent\":true,\"transition\":{\"duration\":0,\"easing\":\"linear\"}}],\"label\":\"2018\",\"method\":\"animate\"},{\"args\":[[\"2019\"],{\"frame\":{\"duration\":0,\"redraw\":true},\"mode\":\"immediate\",\"fromcurrent\":true,\"transition\":{\"duration\":0,\"easing\":\"linear\"}}],\"label\":\"2019\",\"method\":\"animate\"},{\"args\":[[\"2020\"],{\"frame\":{\"duration\":0,\"redraw\":true},\"mode\":\"immediate\",\"fromcurrent\":true,\"transition\":{\"duration\":0,\"easing\":\"linear\"}}],\"label\":\"2020\",\"method\":\"animate\"},{\"args\":[[\"2021\"],{\"frame\":{\"duration\":0,\"redraw\":true},\"mode\":\"immediate\",\"fromcurrent\":true,\"transition\":{\"duration\":0,\"easing\":\"linear\"}}],\"label\":\"2021\",\"method\":\"animate\"},{\"args\":[[\"2022\"],{\"frame\":{\"duration\":0,\"redraw\":true},\"mode\":\"immediate\",\"fromcurrent\":true,\"transition\":{\"duration\":0,\"easing\":\"linear\"}}],\"label\":\"2022\",\"method\":\"animate\"},{\"args\":[[\"2023\"],{\"frame\":{\"duration\":0,\"redraw\":true},\"mode\":\"immediate\",\"fromcurrent\":true,\"transition\":{\"duration\":0,\"easing\":\"linear\"}}],\"label\":\"2023\",\"method\":\"animate\"},{\"args\":[[\"2011\"],{\"frame\":{\"duration\":0,\"redraw\":true},\"mode\":\"immediate\",\"fromcurrent\":true,\"transition\":{\"duration\":0,\"easing\":\"linear\"}}],\"label\":\"2011\",\"method\":\"animate\"},{\"args\":[[\"2012\"],{\"frame\":{\"duration\":0,\"redraw\":true},\"mode\":\"immediate\",\"fromcurrent\":true,\"transition\":{\"duration\":0,\"easing\":\"linear\"}}],\"label\":\"2012\",\"method\":\"animate\"},{\"args\":[[\"2014\"],{\"frame\":{\"duration\":0,\"redraw\":true},\"mode\":\"immediate\",\"fromcurrent\":true,\"transition\":{\"duration\":0,\"easing\":\"linear\"}}],\"label\":\"2014\",\"method\":\"animate\"},{\"args\":[[\"2015\"],{\"frame\":{\"duration\":0,\"redraw\":true},\"mode\":\"immediate\",\"fromcurrent\":true,\"transition\":{\"duration\":0,\"easing\":\"linear\"}}],\"label\":\"2015\",\"method\":\"animate\"},{\"args\":[[\"1997\"],{\"frame\":{\"duration\":0,\"redraw\":true},\"mode\":\"immediate\",\"fromcurrent\":true,\"transition\":{\"duration\":0,\"easing\":\"linear\"}}],\"label\":\"1997\",\"method\":\"animate\"},{\"args\":[[\"2013\"],{\"frame\":{\"duration\":0,\"redraw\":true},\"mode\":\"immediate\",\"fromcurrent\":true,\"transition\":{\"duration\":0,\"easing\":\"linear\"}}],\"label\":\"2013\",\"method\":\"animate\"},{\"args\":[[\"1998\"],{\"frame\":{\"duration\":0,\"redraw\":true},\"mode\":\"immediate\",\"fromcurrent\":true,\"transition\":{\"duration\":0,\"easing\":\"linear\"}}],\"label\":\"1998\",\"method\":\"animate\"},{\"args\":[[\"1999\"],{\"frame\":{\"duration\":0,\"redraw\":true},\"mode\":\"immediate\",\"fromcurrent\":true,\"transition\":{\"duration\":0,\"easing\":\"linear\"}}],\"label\":\"1999\",\"method\":\"animate\"},{\"args\":[[\"2000\"],{\"frame\":{\"duration\":0,\"redraw\":true},\"mode\":\"immediate\",\"fromcurrent\":true,\"transition\":{\"duration\":0,\"easing\":\"linear\"}}],\"label\":\"2000\",\"method\":\"animate\"},{\"args\":[[\"2008\"],{\"frame\":{\"duration\":0,\"redraw\":true},\"mode\":\"immediate\",\"fromcurrent\":true,\"transition\":{\"duration\":0,\"easing\":\"linear\"}}],\"label\":\"2008\",\"method\":\"animate\"},{\"args\":[[\"2010\"],{\"frame\":{\"duration\":0,\"redraw\":true},\"mode\":\"immediate\",\"fromcurrent\":true,\"transition\":{\"duration\":0,\"easing\":\"linear\"}}],\"label\":\"2010\",\"method\":\"animate\"},{\"args\":[[\"2002\"],{\"frame\":{\"duration\":0,\"redraw\":true},\"mode\":\"immediate\",\"fromcurrent\":true,\"transition\":{\"duration\":0,\"easing\":\"linear\"}}],\"label\":\"2002\",\"method\":\"animate\"}],\"x\":0.1,\"xanchor\":\"left\",\"y\":0,\"yanchor\":\"top\"}],\"margin\":{\"l\":50,\"r\":50,\"t\":50,\"b\":50},\"showlegend\":true,\"width\":800,\"height\":600},                        {\"responsive\": true}                    ).then(function(){\n",
       "                            Plotly.addFrames('088322ff-6929-4115-9448-9564986a4ca2', [{\"data\":[{\"alignmentgroup\":\"True\",\"hovertemplate\":\"Make=%{y}\\u003cbr\\u003eModel Year=2016\\u003cbr\\u003enumber_of_Vehicles=%{x}\\u003cextra\\u003e\\u003c\\u002fextra\\u003e\",\"legendgroup\":\"AUDI\",\"marker\":{\"color\":\"#636efa\",\"pattern\":{\"shape\":\"\"}},\"name\":\"AUDI\",\"offsetgroup\":\"AUDI\",\"orientation\":\"h\",\"showlegend\":true,\"textposition\":\"auto\",\"x\":[214],\"xaxis\":\"x\",\"y\":[\"AUDI\"],\"yaxis\":\"y\",\"type\":\"bar\"},{\"alignmentgroup\":\"True\",\"hovertemplate\":\"Make=%{y}\\u003cbr\\u003eModel Year=2016\\u003cbr\\u003enumber_of_Vehicles=%{x}\\u003cextra\\u003e\\u003c\\u002fextra\\u003e\",\"legendgroup\":\"BMW\",\"marker\":{\"color\":\"#ab63fa\",\"pattern\":{\"shape\":\"\"}},\"name\":\"BMW\",\"offsetgroup\":\"BMW\",\"orientation\":\"h\",\"showlegend\":true,\"textposition\":\"auto\",\"x\":[383],\"xaxis\":\"x\",\"y\":[\"BMW\"],\"yaxis\":\"y\",\"type\":\"bar\"},{\"alignmentgroup\":\"True\",\"hovertemplate\":\"Make=%{y}\\u003cbr\\u003eModel Year=2016\\u003cbr\\u003enumber_of_Vehicles=%{x}\\u003cextra\\u003e\\u003c\\u002fextra\\u003e\",\"legendgroup\":\"CADILLAC\",\"marker\":{\"color\":\"#FFA15A\",\"pattern\":{\"shape\":\"\"}},\"name\":\"CADILLAC\",\"offsetgroup\":\"CADILLAC\",\"orientation\":\"h\",\"showlegend\":true,\"textposition\":\"auto\",\"x\":[18],\"xaxis\":\"x\",\"y\":[\"CADILLAC\"],\"yaxis\":\"y\",\"type\":\"bar\"},{\"alignmentgroup\":\"True\",\"hovertemplate\":\"Make=%{y}\\u003cbr\\u003eModel Year=2016\\u003cbr\\u003enumber_of_Vehicles=%{x}\\u003cextra\\u003e\\u003c\\u002fextra\\u003e\",\"legendgroup\":\"CHEVROLET\",\"marker\":{\"color\":\"#19d3f3\",\"pattern\":{\"shape\":\"\"}},\"name\":\"CHEVROLET\",\"offsetgroup\":\"CHEVROLET\",\"orientation\":\"h\",\"showlegend\":true,\"textposition\":\"auto\",\"x\":[309],\"xaxis\":\"x\",\"y\":[\"CHEVROLET\"],\"yaxis\":\"y\",\"type\":\"bar\"},{\"alignmentgroup\":\"True\",\"hovertemplate\":\"Make=%{y}\\u003cbr\\u003eModel Year=2016\\u003cbr\\u003enumber_of_Vehicles=%{x}\\u003cextra\\u003e\\u003c\\u002fextra\\u003e\",\"legendgroup\":\"FIAT\",\"marker\":{\"color\":\"#B6E880\",\"pattern\":{\"shape\":\"\"}},\"name\":\"FIAT\",\"offsetgroup\":\"FIAT\",\"orientation\":\"h\",\"showlegend\":true,\"textposition\":\"auto\",\"x\":[148],\"xaxis\":\"x\",\"y\":[\"FIAT\"],\"yaxis\":\"y\",\"type\":\"bar\"},{\"alignmentgroup\":\"True\",\"hovertemplate\":\"Make=%{y}\\u003cbr\\u003eModel Year=2016\\u003cbr\\u003enumber_of_Vehicles=%{x}\\u003cextra\\u003e\\u003c\\u002fextra\\u003e\",\"legendgroup\":\"FORD\",\"marker\":{\"color\":\"#FECB52\",\"pattern\":{\"shape\":\"\"}},\"name\":\"FORD\",\"offsetgroup\":\"FORD\",\"orientation\":\"h\",\"showlegend\":true,\"textposition\":\"auto\",\"x\":[778],\"xaxis\":\"x\",\"y\":[\"FORD\"],\"yaxis\":\"y\",\"type\":\"bar\"},{\"alignmentgroup\":\"True\",\"hovertemplate\":\"Make=%{y}\\u003cbr\\u003eModel Year=2016\\u003cbr\\u003enumber_of_Vehicles=%{x}\\u003cextra\\u003e\\u003c\\u002fextra\\u003e\",\"legendgroup\":\"HYUNDAI\",\"marker\":{\"color\":\"#00cc96\",\"pattern\":{\"shape\":\"\"}},\"name\":\"HYUNDAI\",\"offsetgroup\":\"HYUNDAI\",\"orientation\":\"h\",\"showlegend\":true,\"textposition\":\"auto\",\"x\":[44],\"xaxis\":\"x\",\"y\":[\"HYUNDAI\"],\"yaxis\":\"y\",\"type\":\"bar\"},{\"alignmentgroup\":\"True\",\"hovertemplate\":\"Make=%{y}\\u003cbr\\u003eModel Year=2016\\u003cbr\\u003enumber_of_Vehicles=%{x}\\u003cextra\\u003e\\u003c\\u002fextra\\u003e\",\"legendgroup\":\"KIA\",\"marker\":{\"color\":\"#19d3f3\",\"pattern\":{\"shape\":\"\"}},\"name\":\"KIA\",\"offsetgroup\":\"KIA\",\"orientation\":\"h\",\"showlegend\":true,\"textposition\":\"auto\",\"x\":[407],\"xaxis\":\"x\",\"y\":[\"KIA\"],\"yaxis\":\"y\",\"type\":\"bar\"},{\"alignmentgroup\":\"True\",\"hovertemplate\":\"Make=%{y}\\u003cbr\\u003eModel Year=2016\\u003cbr\\u003enumber_of_Vehicles=%{x}\\u003cextra\\u003e\\u003c\\u002fextra\\u003e\",\"legendgroup\":\"MERCEDES-BENZ\",\"marker\":{\"color\":\"#636efa\",\"pattern\":{\"shape\":\"\"}},\"name\":\"MERCEDES-BENZ\",\"offsetgroup\":\"MERCEDES-BENZ\",\"orientation\":\"h\",\"showlegend\":true,\"textposition\":\"auto\",\"x\":[35],\"xaxis\":\"x\",\"y\":[\"MERCEDES-BENZ\"],\"yaxis\":\"y\",\"type\":\"bar\"},{\"alignmentgroup\":\"True\",\"hovertemplate\":\"Make=%{y}\\u003cbr\\u003eModel Year=2016\\u003cbr\\u003enumber_of_Vehicles=%{x}\\u003cextra\\u003e\\u003c\\u002fextra\\u003e\",\"legendgroup\":\"MITSUBISHI\",\"marker\":{\"color\":\"#00cc96\",\"pattern\":{\"shape\":\"\"}},\"name\":\"MITSUBISHI\",\"offsetgroup\":\"MITSUBISHI\",\"orientation\":\"h\",\"showlegend\":true,\"textposition\":\"auto\",\"x\":[12],\"xaxis\":\"x\",\"y\":[\"MITSUBISHI\"],\"yaxis\":\"y\",\"type\":\"bar\"},{\"alignmentgroup\":\"True\",\"hovertemplate\":\"Make=%{y}\\u003cbr\\u003eModel Year=2016\\u003cbr\\u003enumber_of_Vehicles=%{x}\\u003cextra\\u003e\\u003c\\u002fextra\\u003e\",\"legendgroup\":\"NISSAN\",\"marker\":{\"color\":\"#ab63fa\",\"pattern\":{\"shape\":\"\"}},\"name\":\"NISSAN\",\"offsetgroup\":\"NISSAN\",\"orientation\":\"h\",\"showlegend\":true,\"textposition\":\"auto\",\"x\":[1208],\"xaxis\":\"x\",\"y\":[\"NISSAN\"],\"yaxis\":\"y\",\"type\":\"bar\"},{\"alignmentgroup\":\"True\",\"hovertemplate\":\"Make=%{y}\\u003cbr\\u003eModel Year=2016\\u003cbr\\u003enumber_of_Vehicles=%{x}\\u003cextra\\u003e\\u003c\\u002fextra\\u003e\",\"legendgroup\":\"PORSCHE\",\"marker\":{\"color\":\"#19d3f3\",\"pattern\":{\"shape\":\"\"}},\"name\":\"PORSCHE\",\"offsetgroup\":\"PORSCHE\",\"orientation\":\"h\",\"showlegend\":true,\"textposition\":\"auto\",\"x\":[78],\"xaxis\":\"x\",\"y\":[\"PORSCHE\"],\"yaxis\":\"y\",\"type\":\"bar\"},{\"alignmentgroup\":\"True\",\"hovertemplate\":\"Make=%{y}\\u003cbr\\u003eModel Year=2016\\u003cbr\\u003enumber_of_Vehicles=%{x}\\u003cextra\\u003e\\u003c\\u002fextra\\u003e\",\"legendgroup\":\"SMART\",\"marker\":{\"color\":\"#B6E880\",\"pattern\":{\"shape\":\"\"}},\"name\":\"SMART\",\"offsetgroup\":\"SMART\",\"orientation\":\"h\",\"showlegend\":true,\"textposition\":\"auto\",\"x\":[31],\"xaxis\":\"x\",\"y\":[\"SMART\"],\"yaxis\":\"y\",\"type\":\"bar\"},{\"alignmentgroup\":\"True\",\"hovertemplate\":\"Make=%{y}\\u003cbr\\u003eModel Year=2016\\u003cbr\\u003enumber_of_Vehicles=%{x}\\u003cextra\\u003e\\u003c\\u002fextra\\u003e\",\"legendgroup\":\"TESLA\",\"marker\":{\"color\":\"#FECB52\",\"pattern\":{\"shape\":\"\"}},\"name\":\"TESLA\",\"offsetgroup\":\"TESLA\",\"orientation\":\"h\",\"showlegend\":true,\"textposition\":\"auto\",\"x\":[1639],\"xaxis\":\"x\",\"y\":[\"TESLA\"],\"yaxis\":\"y\",\"type\":\"bar\"},{\"alignmentgroup\":\"True\",\"hovertemplate\":\"Make=%{y}\\u003cbr\\u003eModel Year=2016\\u003cbr\\u003enumber_of_Vehicles=%{x}\\u003cextra\\u003e\\u003c\\u002fextra\\u003e\",\"legendgroup\":\"VOLKSWAGEN\",\"marker\":{\"color\":\"#00cc96\",\"pattern\":{\"shape\":\"\"}},\"name\":\"VOLKSWAGEN\",\"offsetgroup\":\"VOLKSWAGEN\",\"orientation\":\"h\",\"showlegend\":true,\"textposition\":\"auto\",\"x\":[319],\"xaxis\":\"x\",\"y\":[\"VOLKSWAGEN\"],\"yaxis\":\"y\",\"type\":\"bar\"},{\"alignmentgroup\":\"True\",\"hovertemplate\":\"Make=%{y}\\u003cbr\\u003eModel Year=2016\\u003cbr\\u003enumber_of_Vehicles=%{x}\\u003cextra\\u003e\\u003c\\u002fextra\\u003e\",\"legendgroup\":\"VOLVO\",\"marker\":{\"color\":\"#ab63fa\",\"pattern\":{\"shape\":\"\"}},\"name\":\"VOLVO\",\"offsetgroup\":\"VOLVO\",\"orientation\":\"h\",\"showlegend\":true,\"textposition\":\"auto\",\"x\":[112],\"xaxis\":\"x\",\"y\":[\"VOLVO\"],\"yaxis\":\"y\",\"type\":\"bar\"}],\"name\":\"2016\"},{\"data\":[{\"alignmentgroup\":\"True\",\"hovertemplate\":\"Make=%{y}\\u003cbr\\u003eModel Year=2017\\u003cbr\\u003enumber_of_Vehicles=%{x}\\u003cextra\\u003e\\u003c\\u002fextra\\u003e\",\"legendgroup\":\"AUDI\",\"marker\":{\"color\":\"#636efa\",\"pattern\":{\"shape\":\"\"}},\"name\":\"AUDI\",\"offsetgroup\":\"AUDI\",\"orientation\":\"h\",\"showlegend\":true,\"textposition\":\"auto\",\"x\":[187],\"xaxis\":\"x\",\"y\":[\"AUDI\"],\"yaxis\":\"y\",\"type\":\"bar\"},{\"alignmentgroup\":\"True\",\"hovertemplate\":\"Make=%{y}\\u003cbr\\u003eModel Year=2017\\u003cbr\\u003enumber_of_Vehicles=%{x}\\u003cextra\\u003e\\u003c\\u002fextra\\u003e\",\"legendgroup\":\"BMW\",\"marker\":{\"color\":\"#ab63fa\",\"pattern\":{\"shape\":\"\"}},\"name\":\"BMW\",\"offsetgroup\":\"BMW\",\"orientation\":\"h\",\"showlegend\":true,\"textposition\":\"auto\",\"x\":[692],\"xaxis\":\"x\",\"y\":[\"BMW\"],\"yaxis\":\"y\",\"type\":\"bar\"},{\"alignmentgroup\":\"True\",\"hovertemplate\":\"Make=%{y}\\u003cbr\\u003eModel Year=2017\\u003cbr\\u003enumber_of_Vehicles=%{x}\\u003cextra\\u003e\\u003c\\u002fextra\\u003e\",\"legendgroup\":\"CADILLAC\",\"marker\":{\"color\":\"#FFA15A\",\"pattern\":{\"shape\":\"\"}},\"name\":\"CADILLAC\",\"offsetgroup\":\"CADILLAC\",\"orientation\":\"h\",\"showlegend\":true,\"textposition\":\"auto\",\"x\":[15],\"xaxis\":\"x\",\"y\":[\"CADILLAC\"],\"yaxis\":\"y\",\"type\":\"bar\"},{\"alignmentgroup\":\"True\",\"hovertemplate\":\"Make=%{y}\\u003cbr\\u003eModel Year=2017\\u003cbr\\u003enumber_of_Vehicles=%{x}\\u003cextra\\u003e\\u003c\\u002fextra\\u003e\",\"legendgroup\":\"CHEVROLET\",\"marker\":{\"color\":\"#19d3f3\",\"pattern\":{\"shape\":\"\"}},\"name\":\"CHEVROLET\",\"offsetgroup\":\"CHEVROLET\",\"orientation\":\"h\",\"showlegend\":true,\"textposition\":\"auto\",\"x\":[2744],\"xaxis\":\"x\",\"y\":[\"CHEVROLET\"],\"yaxis\":\"y\",\"type\":\"bar\"},{\"alignmentgroup\":\"True\",\"hovertemplate\":\"Make=%{y}\\u003cbr\\u003eModel Year=2017\\u003cbr\\u003enumber_of_Vehicles=%{x}\\u003cextra\\u003e\\u003c\\u002fextra\\u003e\",\"legendgroup\":\"CHRYSLER\",\"marker\":{\"color\":\"#FF6692\",\"pattern\":{\"shape\":\"\"}},\"name\":\"CHRYSLER\",\"offsetgroup\":\"CHRYSLER\",\"orientation\":\"h\",\"showlegend\":true,\"textposition\":\"auto\",\"x\":[94],\"xaxis\":\"x\",\"y\":[\"CHRYSLER\"],\"yaxis\":\"y\",\"type\":\"bar\"},{\"alignmentgroup\":\"True\",\"hovertemplate\":\"Make=%{y}\\u003cbr\\u003eModel Year=2017\\u003cbr\\u003enumber_of_Vehicles=%{x}\\u003cextra\\u003e\\u003c\\u002fextra\\u003e\",\"legendgroup\":\"FIAT\",\"marker\":{\"color\":\"#B6E880\",\"pattern\":{\"shape\":\"\"}},\"name\":\"FIAT\",\"offsetgroup\":\"FIAT\",\"orientation\":\"h\",\"showlegend\":true,\"textposition\":\"auto\",\"x\":[167],\"xaxis\":\"x\",\"y\":[\"FIAT\"],\"yaxis\":\"y\",\"type\":\"bar\"},{\"alignmentgroup\":\"True\",\"hovertemplate\":\"Make=%{y}\\u003cbr\\u003eModel Year=2017\\u003cbr\\u003enumber_of_Vehicles=%{x}\\u003cextra\\u003e\\u003c\\u002fextra\\u003e\",\"legendgroup\":\"FORD\",\"marker\":{\"color\":\"#FECB52\",\"pattern\":{\"shape\":\"\"}},\"name\":\"FORD\",\"offsetgroup\":\"FORD\",\"orientation\":\"h\",\"showlegend\":true,\"textposition\":\"auto\",\"x\":[659],\"xaxis\":\"x\",\"y\":[\"FORD\"],\"yaxis\":\"y\",\"type\":\"bar\"},{\"alignmentgroup\":\"True\",\"hovertemplate\":\"Make=%{y}\\u003cbr\\u003eModel Year=2017\\u003cbr\\u003enumber_of_Vehicles=%{x}\\u003cextra\\u003e\\u003c\\u002fextra\\u003e\",\"legendgroup\":\"HYUNDAI\",\"marker\":{\"color\":\"#00cc96\",\"pattern\":{\"shape\":\"\"}},\"name\":\"HYUNDAI\",\"offsetgroup\":\"HYUNDAI\",\"orientation\":\"h\",\"showlegend\":true,\"textposition\":\"auto\",\"x\":[46],\"xaxis\":\"x\",\"y\":[\"HYUNDAI\"],\"yaxis\":\"y\",\"type\":\"bar\"},{\"alignmentgroup\":\"True\",\"hovertemplate\":\"Make=%{y}\\u003cbr\\u003eModel Year=2017\\u003cbr\\u003enumber_of_Vehicles=%{x}\\u003cextra\\u003e\\u003c\\u002fextra\\u003e\",\"legendgroup\":\"KIA\",\"marker\":{\"color\":\"#19d3f3\",\"pattern\":{\"shape\":\"\"}},\"name\":\"KIA\",\"offsetgroup\":\"KIA\",\"orientation\":\"h\",\"showlegend\":true,\"textposition\":\"auto\",\"x\":[210],\"xaxis\":\"x\",\"y\":[\"KIA\"],\"yaxis\":\"y\",\"type\":\"bar\"},{\"alignmentgroup\":\"True\",\"hovertemplate\":\"Make=%{y}\\u003cbr\\u003eModel Year=2017\\u003cbr\\u003enumber_of_Vehicles=%{x}\\u003cextra\\u003e\\u003c\\u002fextra\\u003e\",\"legendgroup\":\"MERCEDES-BENZ\",\"marker\":{\"color\":\"#636efa\",\"pattern\":{\"shape\":\"\"}},\"name\":\"MERCEDES-BENZ\",\"offsetgroup\":\"MERCEDES-BENZ\",\"orientation\":\"h\",\"showlegend\":true,\"textposition\":\"auto\",\"x\":[45],\"xaxis\":\"x\",\"y\":[\"MERCEDES-BENZ\"],\"yaxis\":\"y\",\"type\":\"bar\"},{\"alignmentgroup\":\"True\",\"hovertemplate\":\"Make=%{y}\\u003cbr\\u003eModel Year=2017\\u003cbr\\u003enumber_of_Vehicles=%{x}\\u003cextra\\u003e\\u003c\\u002fextra\\u003e\",\"legendgroup\":\"MITSUBISHI\",\"marker\":{\"color\":\"#00cc96\",\"pattern\":{\"shape\":\"\"}},\"name\":\"MITSUBISHI\",\"offsetgroup\":\"MITSUBISHI\",\"orientation\":\"h\",\"showlegend\":true,\"textposition\":\"auto\",\"x\":[1],\"xaxis\":\"x\",\"y\":[\"MITSUBISHI\"],\"yaxis\":\"y\",\"type\":\"bar\"},{\"alignmentgroup\":\"True\",\"hovertemplate\":\"Make=%{y}\\u003cbr\\u003eModel Year=2017\\u003cbr\\u003enumber_of_Vehicles=%{x}\\u003cextra\\u003e\\u003c\\u002fextra\\u003e\",\"legendgroup\":\"NISSAN\",\"marker\":{\"color\":\"#ab63fa\",\"pattern\":{\"shape\":\"\"}},\"name\":\"NISSAN\",\"offsetgroup\":\"NISSAN\",\"orientation\":\"h\",\"showlegend\":true,\"textposition\":\"auto\",\"x\":[934],\"xaxis\":\"x\",\"y\":[\"NISSAN\"],\"yaxis\":\"y\",\"type\":\"bar\"},{\"alignmentgroup\":\"True\",\"hovertemplate\":\"Make=%{y}\\u003cbr\\u003eModel Year=2017\\u003cbr\\u003enumber_of_Vehicles=%{x}\\u003cextra\\u003e\\u003c\\u002fextra\\u003e\",\"legendgroup\":\"PORSCHE\",\"marker\":{\"color\":\"#19d3f3\",\"pattern\":{\"shape\":\"\"}},\"name\":\"PORSCHE\",\"offsetgroup\":\"PORSCHE\",\"orientation\":\"h\",\"showlegend\":true,\"textposition\":\"auto\",\"x\":[71],\"xaxis\":\"x\",\"y\":[\"PORSCHE\"],\"yaxis\":\"y\",\"type\":\"bar\"},{\"alignmentgroup\":\"True\",\"hovertemplate\":\"Make=%{y}\\u003cbr\\u003eModel Year=2017\\u003cbr\\u003enumber_of_Vehicles=%{x}\\u003cextra\\u003e\\u003c\\u002fextra\\u003e\",\"legendgroup\":\"SMART\",\"marker\":{\"color\":\"#B6E880\",\"pattern\":{\"shape\":\"\"}},\"name\":\"SMART\",\"offsetgroup\":\"SMART\",\"orientation\":\"h\",\"showlegend\":true,\"textposition\":\"auto\",\"x\":[34],\"xaxis\":\"x\",\"y\":[\"SMART\"],\"yaxis\":\"y\",\"type\":\"bar\"},{\"alignmentgroup\":\"True\",\"hovertemplate\":\"Make=%{y}\\u003cbr\\u003eModel Year=2017\\u003cbr\\u003enumber_of_Vehicles=%{x}\\u003cextra\\u003e\\u003c\\u002fextra\\u003e\",\"legendgroup\":\"TESLA\",\"marker\":{\"color\":\"#FECB52\",\"pattern\":{\"shape\":\"\"}},\"name\":\"TESLA\",\"offsetgroup\":\"TESLA\",\"orientation\":\"h\",\"showlegend\":true,\"textposition\":\"auto\",\"x\":[1679],\"xaxis\":\"x\",\"y\":[\"TESLA\"],\"yaxis\":\"y\",\"type\":\"bar\"},{\"alignmentgroup\":\"True\",\"hovertemplate\":\"Make=%{y}\\u003cbr\\u003eModel Year=2017\\u003cbr\\u003enumber_of_Vehicles=%{x}\\u003cextra\\u003e\\u003c\\u002fextra\\u003e\",\"legendgroup\":\"TOYOTA\",\"marker\":{\"color\":\"#EF553B\",\"pattern\":{\"shape\":\"\"}},\"name\":\"TOYOTA\",\"offsetgroup\":\"TOYOTA\",\"orientation\":\"h\",\"showlegend\":true,\"textposition\":\"auto\",\"x\":[899],\"xaxis\":\"x\",\"y\":[\"TOYOTA\"],\"yaxis\":\"y\",\"type\":\"bar\"},{\"alignmentgroup\":\"True\",\"hovertemplate\":\"Make=%{y}\\u003cbr\\u003eModel Year=2017\\u003cbr\\u003enumber_of_Vehicles=%{x}\\u003cextra\\u003e\\u003c\\u002fextra\\u003e\",\"legendgroup\":\"VOLKSWAGEN\",\"marker\":{\"color\":\"#00cc96\",\"pattern\":{\"shape\":\"\"}},\"name\":\"VOLKSWAGEN\",\"offsetgroup\":\"VOLKSWAGEN\",\"orientation\":\"h\",\"showlegend\":true,\"textposition\":\"auto\",\"x\":[52],\"xaxis\":\"x\",\"y\":[\"VOLKSWAGEN\"],\"yaxis\":\"y\",\"type\":\"bar\"},{\"alignmentgroup\":\"True\",\"hovertemplate\":\"Make=%{y}\\u003cbr\\u003eModel Year=2017\\u003cbr\\u003enumber_of_Vehicles=%{x}\\u003cextra\\u003e\\u003c\\u002fextra\\u003e\",\"legendgroup\":\"VOLVO\",\"marker\":{\"color\":\"#ab63fa\",\"pattern\":{\"shape\":\"\"}},\"name\":\"VOLVO\",\"offsetgroup\":\"VOLVO\",\"orientation\":\"h\",\"showlegend\":true,\"textposition\":\"auto\",\"x\":[115],\"xaxis\":\"x\",\"y\":[\"VOLVO\"],\"yaxis\":\"y\",\"type\":\"bar\"}],\"name\":\"2017\"},{\"data\":[{\"alignmentgroup\":\"True\",\"hovertemplate\":\"Make=%{y}\\u003cbr\\u003eModel Year=2018\\u003cbr\\u003enumber_of_Vehicles=%{x}\\u003cextra\\u003e\\u003c\\u002fextra\\u003e\",\"legendgroup\":\"AUDI\",\"marker\":{\"color\":\"#636efa\",\"pattern\":{\"shape\":\"\"}},\"name\":\"AUDI\",\"offsetgroup\":\"AUDI\",\"orientation\":\"h\",\"showlegend\":true,\"textposition\":\"auto\",\"x\":[174],\"xaxis\":\"x\",\"y\":[\"AUDI\"],\"yaxis\":\"y\",\"type\":\"bar\"},{\"alignmentgroup\":\"True\",\"hovertemplate\":\"Make=%{y}\\u003cbr\\u003eModel Year=2018\\u003cbr\\u003enumber_of_Vehicles=%{x}\\u003cextra\\u003e\\u003c\\u002fextra\\u003e\",\"legendgroup\":\"BMW\",\"marker\":{\"color\":\"#ab63fa\",\"pattern\":{\"shape\":\"\"}},\"name\":\"BMW\",\"offsetgroup\":\"BMW\",\"orientation\":\"h\",\"showlegend\":true,\"textposition\":\"auto\",\"x\":[710],\"xaxis\":\"x\",\"y\":[\"BMW\"],\"yaxis\":\"y\",\"type\":\"bar\"},{\"alignmentgroup\":\"True\",\"hovertemplate\":\"Make=%{y}\\u003cbr\\u003eModel Year=2018\\u003cbr\\u003enumber_of_Vehicles=%{x}\\u003cextra\\u003e\\u003c\\u002fextra\\u003e\",\"legendgroup\":\"CADILLAC\",\"marker\":{\"color\":\"#FFA15A\",\"pattern\":{\"shape\":\"\"}},\"name\":\"CADILLAC\",\"offsetgroup\":\"CADILLAC\",\"orientation\":\"h\",\"showlegend\":true,\"textposition\":\"auto\",\"x\":[17],\"xaxis\":\"x\",\"y\":[\"CADILLAC\"],\"yaxis\":\"y\",\"type\":\"bar\"},{\"alignmentgroup\":\"True\",\"hovertemplate\":\"Make=%{y}\\u003cbr\\u003eModel Year=2018\\u003cbr\\u003enumber_of_Vehicles=%{x}\\u003cextra\\u003e\\u003c\\u002fextra\\u003e\",\"legendgroup\":\"CHEVROLET\",\"marker\":{\"color\":\"#19d3f3\",\"pattern\":{\"shape\":\"\"}},\"name\":\"CHEVROLET\",\"offsetgroup\":\"CHEVROLET\",\"orientation\":\"h\",\"showlegend\":true,\"textposition\":\"auto\",\"x\":[1126],\"xaxis\":\"x\",\"y\":[\"CHEVROLET\"],\"yaxis\":\"y\",\"type\":\"bar\"},{\"alignmentgroup\":\"True\",\"hovertemplate\":\"Make=%{y}\\u003cbr\\u003eModel Year=2018\\u003cbr\\u003enumber_of_Vehicles=%{x}\\u003cextra\\u003e\\u003c\\u002fextra\\u003e\",\"legendgroup\":\"CHRYSLER\",\"marker\":{\"color\":\"#FF6692\",\"pattern\":{\"shape\":\"\"}},\"name\":\"CHRYSLER\",\"offsetgroup\":\"CHRYSLER\",\"orientation\":\"h\",\"showlegend\":true,\"textposition\":\"auto\",\"x\":[554],\"xaxis\":\"x\",\"y\":[\"CHRYSLER\"],\"yaxis\":\"y\",\"type\":\"bar\"},{\"alignmentgroup\":\"True\",\"hovertemplate\":\"Make=%{y}\\u003cbr\\u003eModel Year=2018\\u003cbr\\u003enumber_of_Vehicles=%{x}\\u003cextra\\u003e\\u003c\\u002fextra\\u003e\",\"legendgroup\":\"FIAT\",\"marker\":{\"color\":\"#B6E880\",\"pattern\":{\"shape\":\"\"}},\"name\":\"FIAT\",\"offsetgroup\":\"FIAT\",\"orientation\":\"h\",\"showlegend\":true,\"textposition\":\"auto\",\"x\":[53],\"xaxis\":\"x\",\"y\":[\"FIAT\"],\"yaxis\":\"y\",\"type\":\"bar\"},{\"alignmentgroup\":\"True\",\"hovertemplate\":\"Make=%{y}\\u003cbr\\u003eModel Year=2018\\u003cbr\\u003enumber_of_Vehicles=%{x}\\u003cextra\\u003e\\u003c\\u002fextra\\u003e\",\"legendgroup\":\"FORD\",\"marker\":{\"color\":\"#FECB52\",\"pattern\":{\"shape\":\"\"}},\"name\":\"FORD\",\"offsetgroup\":\"FORD\",\"orientation\":\"h\",\"showlegend\":true,\"textposition\":\"auto\",\"x\":[170],\"xaxis\":\"x\",\"y\":[\"FORD\"],\"yaxis\":\"y\",\"type\":\"bar\"},{\"alignmentgroup\":\"True\",\"hovertemplate\":\"Make=%{y}\\u003cbr\\u003eModel Year=2018\\u003cbr\\u003enumber_of_Vehicles=%{x}\\u003cextra\\u003e\\u003c\\u002fextra\\u003e\",\"legendgroup\":\"HONDA\",\"marker\":{\"color\":\"#EF553B\",\"pattern\":{\"shape\":\"\"}},\"name\":\"HONDA\",\"offsetgroup\":\"HONDA\",\"orientation\":\"h\",\"showlegend\":true,\"textposition\":\"auto\",\"x\":[614],\"xaxis\":\"x\",\"y\":[\"HONDA\"],\"yaxis\":\"y\",\"type\":\"bar\"},{\"alignmentgroup\":\"True\",\"hovertemplate\":\"Make=%{y}\\u003cbr\\u003eModel Year=2018\\u003cbr\\u003enumber_of_Vehicles=%{x}\\u003cextra\\u003e\\u003c\\u002fextra\\u003e\",\"legendgroup\":\"HYUNDAI\",\"marker\":{\"color\":\"#00cc96\",\"pattern\":{\"shape\":\"\"}},\"name\":\"HYUNDAI\",\"offsetgroup\":\"HYUNDAI\",\"orientation\":\"h\",\"showlegend\":true,\"textposition\":\"auto\",\"x\":[20],\"xaxis\":\"x\",\"y\":[\"HYUNDAI\"],\"yaxis\":\"y\",\"type\":\"bar\"},{\"alignmentgroup\":\"True\",\"hovertemplate\":\"Make=%{y}\\u003cbr\\u003eModel Year=2018\\u003cbr\\u003enumber_of_Vehicles=%{x}\\u003cextra\\u003e\\u003c\\u002fextra\\u003e\",\"legendgroup\":\"KIA\",\"marker\":{\"color\":\"#19d3f3\",\"pattern\":{\"shape\":\"\"}},\"name\":\"KIA\",\"offsetgroup\":\"KIA\",\"orientation\":\"h\",\"showlegend\":true,\"textposition\":\"auto\",\"x\":[322],\"xaxis\":\"x\",\"y\":[\"KIA\"],\"yaxis\":\"y\",\"type\":\"bar\"},{\"alignmentgroup\":\"True\",\"hovertemplate\":\"Make=%{y}\\u003cbr\\u003eModel Year=2018\\u003cbr\\u003enumber_of_Vehicles=%{x}\\u003cextra\\u003e\\u003c\\u002fextra\\u003e\",\"legendgroup\":\"MERCEDES-BENZ\",\"marker\":{\"color\":\"#636efa\",\"pattern\":{\"shape\":\"\"}},\"name\":\"MERCEDES-BENZ\",\"offsetgroup\":\"MERCEDES-BENZ\",\"orientation\":\"h\",\"showlegend\":true,\"textposition\":\"auto\",\"x\":[53],\"xaxis\":\"x\",\"y\":[\"MERCEDES-BENZ\"],\"yaxis\":\"y\",\"type\":\"bar\"},{\"alignmentgroup\":\"True\",\"hovertemplate\":\"Make=%{y}\\u003cbr\\u003eModel Year=2018\\u003cbr\\u003enumber_of_Vehicles=%{x}\\u003cextra\\u003e\\u003c\\u002fextra\\u003e\",\"legendgroup\":\"MINI\",\"marker\":{\"color\":\"#EF553B\",\"pattern\":{\"shape\":\"\"}},\"name\":\"MINI\",\"offsetgroup\":\"MINI\",\"orientation\":\"h\",\"showlegend\":true,\"textposition\":\"auto\",\"x\":[50],\"xaxis\":\"x\",\"y\":[\"MINI\"],\"yaxis\":\"y\",\"type\":\"bar\"},{\"alignmentgroup\":\"True\",\"hovertemplate\":\"Make=%{y}\\u003cbr\\u003eModel Year=2018\\u003cbr\\u003enumber_of_Vehicles=%{x}\\u003cextra\\u003e\\u003c\\u002fextra\\u003e\",\"legendgroup\":\"MITSUBISHI\",\"marker\":{\"color\":\"#00cc96\",\"pattern\":{\"shape\":\"\"}},\"name\":\"MITSUBISHI\",\"offsetgroup\":\"MITSUBISHI\",\"orientation\":\"h\",\"showlegend\":true,\"textposition\":\"auto\",\"x\":[183],\"xaxis\":\"x\",\"y\":[\"MITSUBISHI\"],\"yaxis\":\"y\",\"type\":\"bar\"},{\"alignmentgroup\":\"True\",\"hovertemplate\":\"Make=%{y}\\u003cbr\\u003eModel Year=2018\\u003cbr\\u003enumber_of_Vehicles=%{x}\\u003cextra\\u003e\\u003c\\u002fextra\\u003e\",\"legendgroup\":\"NISSAN\",\"marker\":{\"color\":\"#ab63fa\",\"pattern\":{\"shape\":\"\"}},\"name\":\"NISSAN\",\"offsetgroup\":\"NISSAN\",\"orientation\":\"h\",\"showlegend\":true,\"textposition\":\"auto\",\"x\":[1232],\"xaxis\":\"x\",\"y\":[\"NISSAN\"],\"yaxis\":\"y\",\"type\":\"bar\"},{\"alignmentgroup\":\"True\",\"hovertemplate\":\"Make=%{y}\\u003cbr\\u003eModel Year=2018\\u003cbr\\u003enumber_of_Vehicles=%{x}\\u003cextra\\u003e\\u003c\\u002fextra\\u003e\",\"legendgroup\":\"PORSCHE\",\"marker\":{\"color\":\"#19d3f3\",\"pattern\":{\"shape\":\"\"}},\"name\":\"PORSCHE\",\"offsetgroup\":\"PORSCHE\",\"orientation\":\"h\",\"showlegend\":true,\"textposition\":\"auto\",\"x\":[78],\"xaxis\":\"x\",\"y\":[\"PORSCHE\"],\"yaxis\":\"y\",\"type\":\"bar\"},{\"alignmentgroup\":\"True\",\"hovertemplate\":\"Make=%{y}\\u003cbr\\u003eModel Year=2018\\u003cbr\\u003enumber_of_Vehicles=%{x}\\u003cextra\\u003e\\u003c\\u002fextra\\u003e\",\"legendgroup\":\"SMART\",\"marker\":{\"color\":\"#B6E880\",\"pattern\":{\"shape\":\"\"}},\"name\":\"SMART\",\"offsetgroup\":\"SMART\",\"orientation\":\"h\",\"showlegend\":true,\"textposition\":\"auto\",\"x\":[47],\"xaxis\":\"x\",\"y\":[\"SMART\"],\"yaxis\":\"y\",\"type\":\"bar\"},{\"alignmentgroup\":\"True\",\"hovertemplate\":\"Make=%{y}\\u003cbr\\u003eModel Year=2018\\u003cbr\\u003enumber_of_Vehicles=%{x}\\u003cextra\\u003e\\u003c\\u002fextra\\u003e\",\"legendgroup\":\"TESLA\",\"marker\":{\"color\":\"#FECB52\",\"pattern\":{\"shape\":\"\"}},\"name\":\"TESLA\",\"offsetgroup\":\"TESLA\",\"orientation\":\"h\",\"showlegend\":true,\"textposition\":\"auto\",\"x\":[7919],\"xaxis\":\"x\",\"y\":[\"TESLA\"],\"yaxis\":\"y\",\"type\":\"bar\"},{\"alignmentgroup\":\"True\",\"hovertemplate\":\"Make=%{y}\\u003cbr\\u003eModel Year=2018\\u003cbr\\u003enumber_of_Vehicles=%{x}\\u003cextra\\u003e\\u003c\\u002fextra\\u003e\",\"legendgroup\":\"TOYOTA\",\"marker\":{\"color\":\"#EF553B\",\"pattern\":{\"shape\":\"\"}},\"name\":\"TOYOTA\",\"offsetgroup\":\"TOYOTA\",\"orientation\":\"h\",\"showlegend\":true,\"textposition\":\"auto\",\"x\":[659],\"xaxis\":\"x\",\"y\":[\"TOYOTA\"],\"yaxis\":\"y\",\"type\":\"bar\"},{\"alignmentgroup\":\"True\",\"hovertemplate\":\"Make=%{y}\\u003cbr\\u003eModel Year=2018\\u003cbr\\u003enumber_of_Vehicles=%{x}\\u003cextra\\u003e\\u003c\\u002fextra\\u003e\",\"legendgroup\":\"VOLKSWAGEN\",\"marker\":{\"color\":\"#00cc96\",\"pattern\":{\"shape\":\"\"}},\"name\":\"VOLKSWAGEN\",\"offsetgroup\":\"VOLKSWAGEN\",\"orientation\":\"h\",\"showlegend\":true,\"textposition\":\"auto\",\"x\":[39],\"xaxis\":\"x\",\"y\":[\"VOLKSWAGEN\"],\"yaxis\":\"y\",\"type\":\"bar\"},{\"alignmentgroup\":\"True\",\"hovertemplate\":\"Make=%{y}\\u003cbr\\u003eModel Year=2018\\u003cbr\\u003enumber_of_Vehicles=%{x}\\u003cextra\\u003e\\u003c\\u002fextra\\u003e\",\"legendgroup\":\"VOLVO\",\"marker\":{\"color\":\"#ab63fa\",\"pattern\":{\"shape\":\"\"}},\"name\":\"VOLVO\",\"offsetgroup\":\"VOLVO\",\"orientation\":\"h\",\"showlegend\":true,\"textposition\":\"auto\",\"x\":[226],\"xaxis\":\"x\",\"y\":[\"VOLVO\"],\"yaxis\":\"y\",\"type\":\"bar\"}],\"name\":\"2018\"},{\"data\":[{\"alignmentgroup\":\"True\",\"hovertemplate\":\"Make=%{y}\\u003cbr\\u003eModel Year=2019\\u003cbr\\u003enumber_of_Vehicles=%{x}\\u003cextra\\u003e\\u003c\\u002fextra\\u003e\",\"legendgroup\":\"AUDI\",\"marker\":{\"color\":\"#636efa\",\"pattern\":{\"shape\":\"\"}},\"name\":\"AUDI\",\"offsetgroup\":\"AUDI\",\"orientation\":\"h\",\"showlegend\":true,\"textposition\":\"auto\",\"x\":[392],\"xaxis\":\"x\",\"y\":[\"AUDI\"],\"yaxis\":\"y\",\"type\":\"bar\"},{\"alignmentgroup\":\"True\",\"hovertemplate\":\"Make=%{y}\\u003cbr\\u003eModel Year=2019\\u003cbr\\u003enumber_of_Vehicles=%{x}\\u003cextra\\u003e\\u003c\\u002fextra\\u003e\",\"legendgroup\":\"BMW\",\"marker\":{\"color\":\"#ab63fa\",\"pattern\":{\"shape\":\"\"}},\"name\":\"BMW\",\"offsetgroup\":\"BMW\",\"orientation\":\"h\",\"showlegend\":true,\"textposition\":\"auto\",\"x\":[279],\"xaxis\":\"x\",\"y\":[\"BMW\"],\"yaxis\":\"y\",\"type\":\"bar\"},{\"alignmentgroup\":\"True\",\"hovertemplate\":\"Make=%{y}\\u003cbr\\u003eModel Year=2019\\u003cbr\\u003enumber_of_Vehicles=%{x}\\u003cextra\\u003e\\u003c\\u002fextra\\u003e\",\"legendgroup\":\"CHEVROLET\",\"marker\":{\"color\":\"#19d3f3\",\"pattern\":{\"shape\":\"\"}},\"name\":\"CHEVROLET\",\"offsetgroup\":\"CHEVROLET\",\"orientation\":\"h\",\"showlegend\":true,\"textposition\":\"auto\",\"x\":[966],\"xaxis\":\"x\",\"y\":[\"CHEVROLET\"],\"yaxis\":\"y\",\"type\":\"bar\"},{\"alignmentgroup\":\"True\",\"hovertemplate\":\"Make=%{y}\\u003cbr\\u003eModel Year=2019\\u003cbr\\u003enumber_of_Vehicles=%{x}\\u003cextra\\u003e\\u003c\\u002fextra\\u003e\",\"legendgroup\":\"CHRYSLER\",\"marker\":{\"color\":\"#FF6692\",\"pattern\":{\"shape\":\"\"}},\"name\":\"CHRYSLER\",\"offsetgroup\":\"CHRYSLER\",\"orientation\":\"h\",\"showlegend\":true,\"textposition\":\"auto\",\"x\":[119],\"xaxis\":\"x\",\"y\":[\"CHRYSLER\"],\"yaxis\":\"y\",\"type\":\"bar\"},{\"alignmentgroup\":\"True\",\"hovertemplate\":\"Make=%{y}\\u003cbr\\u003eModel Year=2019\\u003cbr\\u003enumber_of_Vehicles=%{x}\\u003cextra\\u003e\\u003c\\u002fextra\\u003e\",\"legendgroup\":\"FIAT\",\"marker\":{\"color\":\"#B6E880\",\"pattern\":{\"shape\":\"\"}},\"name\":\"FIAT\",\"offsetgroup\":\"FIAT\",\"orientation\":\"h\",\"showlegend\":true,\"textposition\":\"auto\",\"x\":[9],\"xaxis\":\"x\",\"y\":[\"FIAT\"],\"yaxis\":\"y\",\"type\":\"bar\"},{\"alignmentgroup\":\"True\",\"hovertemplate\":\"Make=%{y}\\u003cbr\\u003eModel Year=2019\\u003cbr\\u003enumber_of_Vehicles=%{x}\\u003cextra\\u003e\\u003c\\u002fextra\\u003e\",\"legendgroup\":\"FORD\",\"marker\":{\"color\":\"#FECB52\",\"pattern\":{\"shape\":\"\"}},\"name\":\"FORD\",\"offsetgroup\":\"FORD\",\"orientation\":\"h\",\"showlegend\":true,\"textposition\":\"auto\",\"x\":[136],\"xaxis\":\"x\",\"y\":[\"FORD\"],\"yaxis\":\"y\",\"type\":\"bar\"},{\"alignmentgroup\":\"True\",\"hovertemplate\":\"Make=%{y}\\u003cbr\\u003eModel Year=2019\\u003cbr\\u003enumber_of_Vehicles=%{x}\\u003cextra\\u003e\\u003c\\u002fextra\\u003e\",\"legendgroup\":\"HONDA\",\"marker\":{\"color\":\"#EF553B\",\"pattern\":{\"shape\":\"\"}},\"name\":\"HONDA\",\"offsetgroup\":\"HONDA\",\"orientation\":\"h\",\"showlegend\":true,\"textposition\":\"auto\",\"x\":[73],\"xaxis\":\"x\",\"y\":[\"HONDA\"],\"yaxis\":\"y\",\"type\":\"bar\"},{\"alignmentgroup\":\"True\",\"hovertemplate\":\"Make=%{y}\\u003cbr\\u003eModel Year=2019\\u003cbr\\u003enumber_of_Vehicles=%{x}\\u003cextra\\u003e\\u003c\\u002fextra\\u003e\",\"legendgroup\":\"HYUNDAI\",\"marker\":{\"color\":\"#00cc96\",\"pattern\":{\"shape\":\"\"}},\"name\":\"HYUNDAI\",\"offsetgroup\":\"HYUNDAI\",\"orientation\":\"h\",\"showlegend\":true,\"textposition\":\"auto\",\"x\":[116],\"xaxis\":\"x\",\"y\":[\"HYUNDAI\"],\"yaxis\":\"y\",\"type\":\"bar\"},{\"alignmentgroup\":\"True\",\"hovertemplate\":\"Make=%{y}\\u003cbr\\u003eModel Year=2019\\u003cbr\\u003enumber_of_Vehicles=%{x}\\u003cextra\\u003e\\u003c\\u002fextra\\u003e\",\"legendgroup\":\"JAGUAR\",\"marker\":{\"color\":\"#ab63fa\",\"pattern\":{\"shape\":\"\"}},\"name\":\"JAGUAR\",\"offsetgroup\":\"JAGUAR\",\"orientation\":\"h\",\"showlegend\":true,\"textposition\":\"auto\",\"x\":[120],\"xaxis\":\"x\",\"y\":[\"JAGUAR\"],\"yaxis\":\"y\",\"type\":\"bar\"},{\"alignmentgroup\":\"True\",\"hovertemplate\":\"Make=%{y}\\u003cbr\\u003eModel Year=2019\\u003cbr\\u003enumber_of_Vehicles=%{x}\\u003cextra\\u003e\\u003c\\u002fextra\\u003e\",\"legendgroup\":\"KIA\",\"marker\":{\"color\":\"#19d3f3\",\"pattern\":{\"shape\":\"\"}},\"name\":\"KIA\",\"offsetgroup\":\"KIA\",\"orientation\":\"h\",\"showlegend\":true,\"textposition\":\"auto\",\"x\":[681],\"xaxis\":\"x\",\"y\":[\"KIA\"],\"yaxis\":\"y\",\"type\":\"bar\"},{\"alignmentgroup\":\"True\",\"hovertemplate\":\"Make=%{y}\\u003cbr\\u003eModel Year=2019\\u003cbr\\u003enumber_of_Vehicles=%{x}\\u003cextra\\u003e\\u003c\\u002fextra\\u003e\",\"legendgroup\":\"MERCEDES-BENZ\",\"marker\":{\"color\":\"#636efa\",\"pattern\":{\"shape\":\"\"}},\"name\":\"MERCEDES-BENZ\",\"offsetgroup\":\"MERCEDES-BENZ\",\"orientation\":\"h\",\"showlegend\":true,\"textposition\":\"auto\",\"x\":[133],\"xaxis\":\"x\",\"y\":[\"MERCEDES-BENZ\"],\"yaxis\":\"y\",\"type\":\"bar\"},{\"alignmentgroup\":\"True\",\"hovertemplate\":\"Make=%{y}\\u003cbr\\u003eModel Year=2019\\u003cbr\\u003enumber_of_Vehicles=%{x}\\u003cextra\\u003e\\u003c\\u002fextra\\u003e\",\"legendgroup\":\"MINI\",\"marker\":{\"color\":\"#EF553B\",\"pattern\":{\"shape\":\"\"}},\"name\":\"MINI\",\"offsetgroup\":\"MINI\",\"orientation\":\"h\",\"showlegend\":true,\"textposition\":\"auto\",\"x\":[100],\"xaxis\":\"x\",\"y\":[\"MINI\"],\"yaxis\":\"y\",\"type\":\"bar\"},{\"alignmentgroup\":\"True\",\"hovertemplate\":\"Make=%{y}\\u003cbr\\u003eModel Year=2019\\u003cbr\\u003enumber_of_Vehicles=%{x}\\u003cextra\\u003e\\u003c\\u002fextra\\u003e\",\"legendgroup\":\"MITSUBISHI\",\"marker\":{\"color\":\"#00cc96\",\"pattern\":{\"shape\":\"\"}},\"name\":\"MITSUBISHI\",\"offsetgroup\":\"MITSUBISHI\",\"orientation\":\"h\",\"showlegend\":true,\"textposition\":\"auto\",\"x\":[146],\"xaxis\":\"x\",\"y\":[\"MITSUBISHI\"],\"yaxis\":\"y\",\"type\":\"bar\"},{\"alignmentgroup\":\"True\",\"hovertemplate\":\"Make=%{y}\\u003cbr\\u003eModel Year=2019\\u003cbr\\u003enumber_of_Vehicles=%{x}\\u003cextra\\u003e\\u003c\\u002fextra\\u003e\",\"legendgroup\":\"NISSAN\",\"marker\":{\"color\":\"#ab63fa\",\"pattern\":{\"shape\":\"\"}},\"name\":\"NISSAN\",\"offsetgroup\":\"NISSAN\",\"orientation\":\"h\",\"showlegend\":true,\"textposition\":\"auto\",\"x\":[1409],\"xaxis\":\"x\",\"y\":[\"NISSAN\"],\"yaxis\":\"y\",\"type\":\"bar\"},{\"alignmentgroup\":\"True\",\"hovertemplate\":\"Make=%{y}\\u003cbr\\u003eModel Year=2019\\u003cbr\\u003enumber_of_Vehicles=%{x}\\u003cextra\\u003e\\u003c\\u002fextra\\u003e\",\"legendgroup\":\"PORSCHE\",\"marker\":{\"color\":\"#19d3f3\",\"pattern\":{\"shape\":\"\"}},\"name\":\"PORSCHE\",\"offsetgroup\":\"PORSCHE\",\"orientation\":\"h\",\"showlegend\":true,\"textposition\":\"auto\",\"x\":[62],\"xaxis\":\"x\",\"y\":[\"PORSCHE\"],\"yaxis\":\"y\",\"type\":\"bar\"},{\"alignmentgroup\":\"True\",\"hovertemplate\":\"Make=%{y}\\u003cbr\\u003eModel Year=2019\\u003cbr\\u003enumber_of_Vehicles=%{x}\\u003cextra\\u003e\\u003c\\u002fextra\\u003e\",\"legendgroup\":\"SMART\",\"marker\":{\"color\":\"#B6E880\",\"pattern\":{\"shape\":\"\"}},\"name\":\"SMART\",\"offsetgroup\":\"SMART\",\"orientation\":\"h\",\"showlegend\":true,\"textposition\":\"auto\",\"x\":[9],\"xaxis\":\"x\",\"y\":[\"SMART\"],\"yaxis\":\"y\",\"type\":\"bar\"},{\"alignmentgroup\":\"True\",\"hovertemplate\":\"Make=%{y}\\u003cbr\\u003eModel Year=2019\\u003cbr\\u003enumber_of_Vehicles=%{x}\\u003cextra\\u003e\\u003c\\u002fextra\\u003e\",\"legendgroup\":\"SUBARU\",\"marker\":{\"color\":\"#FF97FF\",\"pattern\":{\"shape\":\"\"}},\"name\":\"SUBARU\",\"offsetgroup\":\"SUBARU\",\"orientation\":\"h\",\"showlegend\":true,\"textposition\":\"auto\",\"x\":[58],\"xaxis\":\"x\",\"y\":[\"SUBARU\"],\"yaxis\":\"y\",\"type\":\"bar\"},{\"alignmentgroup\":\"True\",\"hovertemplate\":\"Make=%{y}\\u003cbr\\u003eModel Year=2019\\u003cbr\\u003enumber_of_Vehicles=%{x}\\u003cextra\\u003e\\u003c\\u002fextra\\u003e\",\"legendgroup\":\"TESLA\",\"marker\":{\"color\":\"#FECB52\",\"pattern\":{\"shape\":\"\"}},\"name\":\"TESLA\",\"offsetgroup\":\"TESLA\",\"orientation\":\"h\",\"showlegend\":true,\"textposition\":\"auto\",\"x\":[4583],\"xaxis\":\"x\",\"y\":[\"TESLA\"],\"yaxis\":\"y\",\"type\":\"bar\"},{\"alignmentgroup\":\"True\",\"hovertemplate\":\"Make=%{y}\\u003cbr\\u003eModel Year=2019\\u003cbr\\u003enumber_of_Vehicles=%{x}\\u003cextra\\u003e\\u003c\\u002fextra\\u003e\",\"legendgroup\":\"TOYOTA\",\"marker\":{\"color\":\"#EF553B\",\"pattern\":{\"shape\":\"\"}},\"name\":\"TOYOTA\",\"offsetgroup\":\"TOYOTA\",\"orientation\":\"h\",\"showlegend\":true,\"textposition\":\"auto\",\"x\":[190],\"xaxis\":\"x\",\"y\":[\"TOYOTA\"],\"yaxis\":\"y\",\"type\":\"bar\"},{\"alignmentgroup\":\"True\",\"hovertemplate\":\"Make=%{y}\\u003cbr\\u003eModel Year=2019\\u003cbr\\u003enumber_of_Vehicles=%{x}\\u003cextra\\u003e\\u003c\\u002fextra\\u003e\",\"legendgroup\":\"VOLKSWAGEN\",\"marker\":{\"color\":\"#00cc96\",\"pattern\":{\"shape\":\"\"}},\"name\":\"VOLKSWAGEN\",\"offsetgroup\":\"VOLKSWAGEN\",\"orientation\":\"h\",\"showlegend\":true,\"textposition\":\"auto\",\"x\":[495],\"xaxis\":\"x\",\"y\":[\"VOLKSWAGEN\"],\"yaxis\":\"y\",\"type\":\"bar\"},{\"alignmentgroup\":\"True\",\"hovertemplate\":\"Make=%{y}\\u003cbr\\u003eModel Year=2019\\u003cbr\\u003enumber_of_Vehicles=%{x}\\u003cextra\\u003e\\u003c\\u002fextra\\u003e\",\"legendgroup\":\"VOLVO\",\"marker\":{\"color\":\"#ab63fa\",\"pattern\":{\"shape\":\"\"}},\"name\":\"VOLVO\",\"offsetgroup\":\"VOLVO\",\"orientation\":\"h\",\"showlegend\":true,\"textposition\":\"auto\",\"x\":[190],\"xaxis\":\"x\",\"y\":[\"VOLVO\"],\"yaxis\":\"y\",\"type\":\"bar\"}],\"name\":\"2019\"},{\"data\":[{\"alignmentgroup\":\"True\",\"hovertemplate\":\"Make=%{y}\\u003cbr\\u003eModel Year=2020\\u003cbr\\u003enumber_of_Vehicles=%{x}\\u003cextra\\u003e\\u003c\\u002fextra\\u003e\",\"legendgroup\":\"AUDI\",\"marker\":{\"color\":\"#636efa\",\"pattern\":{\"shape\":\"\"}},\"name\":\"AUDI\",\"offsetgroup\":\"AUDI\",\"orientation\":\"h\",\"showlegend\":true,\"textposition\":\"auto\",\"x\":[224],\"xaxis\":\"x\",\"y\":[\"AUDI\"],\"yaxis\":\"y\",\"type\":\"bar\"},{\"alignmentgroup\":\"True\",\"hovertemplate\":\"Make=%{y}\\u003cbr\\u003eModel Year=2020\\u003cbr\\u003enumber_of_Vehicles=%{x}\\u003cextra\\u003e\\u003c\\u002fextra\\u003e\",\"legendgroup\":\"BENTLEY\",\"marker\":{\"color\":\"#00cc96\",\"pattern\":{\"shape\":\"\"}},\"name\":\"BENTLEY\",\"offsetgroup\":\"BENTLEY\",\"orientation\":\"h\",\"showlegend\":true,\"textposition\":\"auto\",\"x\":[1],\"xaxis\":\"x\",\"y\":[\"BENTLEY\"],\"yaxis\":\"y\",\"type\":\"bar\"},{\"alignmentgroup\":\"True\",\"hovertemplate\":\"Make=%{y}\\u003cbr\\u003eModel Year=2020\\u003cbr\\u003enumber_of_Vehicles=%{x}\\u003cextra\\u003e\\u003c\\u002fextra\\u003e\",\"legendgroup\":\"BMW\",\"marker\":{\"color\":\"#ab63fa\",\"pattern\":{\"shape\":\"\"}},\"name\":\"BMW\",\"offsetgroup\":\"BMW\",\"orientation\":\"h\",\"showlegend\":true,\"textposition\":\"auto\",\"x\":[143],\"xaxis\":\"x\",\"y\":[\"BMW\"],\"yaxis\":\"y\",\"type\":\"bar\"},{\"alignmentgroup\":\"True\",\"hovertemplate\":\"Make=%{y}\\u003cbr\\u003eModel Year=2020\\u003cbr\\u003enumber_of_Vehicles=%{x}\\u003cextra\\u003e\\u003c\\u002fextra\\u003e\",\"legendgroup\":\"CHEVROLET\",\"marker\":{\"color\":\"#19d3f3\",\"pattern\":{\"shape\":\"\"}},\"name\":\"CHEVROLET\",\"offsetgroup\":\"CHEVROLET\",\"orientation\":\"h\",\"showlegend\":true,\"textposition\":\"auto\",\"x\":[1014],\"xaxis\":\"x\",\"y\":[\"CHEVROLET\"],\"yaxis\":\"y\",\"type\":\"bar\"},{\"alignmentgroup\":\"True\",\"hovertemplate\":\"Make=%{y}\\u003cbr\\u003eModel Year=2020\\u003cbr\\u003enumber_of_Vehicles=%{x}\\u003cextra\\u003e\\u003c\\u002fextra\\u003e\",\"legendgroup\":\"CHRYSLER\",\"marker\":{\"color\":\"#FF6692\",\"pattern\":{\"shape\":\"\"}},\"name\":\"CHRYSLER\",\"offsetgroup\":\"CHRYSLER\",\"orientation\":\"h\",\"showlegend\":true,\"textposition\":\"auto\",\"x\":[286],\"xaxis\":\"x\",\"y\":[\"CHRYSLER\"],\"yaxis\":\"y\",\"type\":\"bar\"},{\"alignmentgroup\":\"True\",\"hovertemplate\":\"Make=%{y}\\u003cbr\\u003eModel Year=2020\\u003cbr\\u003enumber_of_Vehicles=%{x}\\u003cextra\\u003e\\u003c\\u002fextra\\u003e\",\"legendgroup\":\"FORD\",\"marker\":{\"color\":\"#FECB52\",\"pattern\":{\"shape\":\"\"}},\"name\":\"FORD\",\"offsetgroup\":\"FORD\",\"orientation\":\"h\",\"showlegend\":true,\"textposition\":\"auto\",\"x\":[65],\"xaxis\":\"x\",\"y\":[\"FORD\"],\"yaxis\":\"y\",\"type\":\"bar\"},{\"alignmentgroup\":\"True\",\"hovertemplate\":\"Make=%{y}\\u003cbr\\u003eModel Year=2020\\u003cbr\\u003enumber_of_Vehicles=%{x}\\u003cextra\\u003e\\u003c\\u002fextra\\u003e\",\"legendgroup\":\"HONDA\",\"marker\":{\"color\":\"#EF553B\",\"pattern\":{\"shape\":\"\"}},\"name\":\"HONDA\",\"offsetgroup\":\"HONDA\",\"orientation\":\"h\",\"showlegend\":true,\"textposition\":\"auto\",\"x\":[79],\"xaxis\":\"x\",\"y\":[\"HONDA\"],\"yaxis\":\"y\",\"type\":\"bar\"},{\"alignmentgroup\":\"True\",\"hovertemplate\":\"Make=%{y}\\u003cbr\\u003eModel Year=2020\\u003cbr\\u003enumber_of_Vehicles=%{x}\\u003cextra\\u003e\\u003c\\u002fextra\\u003e\",\"legendgroup\":\"HYUNDAI\",\"marker\":{\"color\":\"#00cc96\",\"pattern\":{\"shape\":\"\"}},\"name\":\"HYUNDAI\",\"offsetgroup\":\"HYUNDAI\",\"orientation\":\"h\",\"showlegend\":true,\"textposition\":\"auto\",\"x\":[212],\"xaxis\":\"x\",\"y\":[\"HYUNDAI\"],\"yaxis\":\"y\",\"type\":\"bar\"},{\"alignmentgroup\":\"True\",\"hovertemplate\":\"Make=%{y}\\u003cbr\\u003eModel Year=2020\\u003cbr\\u003enumber_of_Vehicles=%{x}\\u003cextra\\u003e\\u003c\\u002fextra\\u003e\",\"legendgroup\":\"JAGUAR\",\"marker\":{\"color\":\"#ab63fa\",\"pattern\":{\"shape\":\"\"}},\"name\":\"JAGUAR\",\"offsetgroup\":\"JAGUAR\",\"orientation\":\"h\",\"showlegend\":true,\"textposition\":\"auto\",\"x\":[74],\"xaxis\":\"x\",\"y\":[\"JAGUAR\"],\"yaxis\":\"y\",\"type\":\"bar\"},{\"alignmentgroup\":\"True\",\"hovertemplate\":\"Make=%{y}\\u003cbr\\u003eModel Year=2020\\u003cbr\\u003enumber_of_Vehicles=%{x}\\u003cextra\\u003e\\u003c\\u002fextra\\u003e\",\"legendgroup\":\"KIA\",\"marker\":{\"color\":\"#19d3f3\",\"pattern\":{\"shape\":\"\"}},\"name\":\"KIA\",\"offsetgroup\":\"KIA\",\"orientation\":\"h\",\"showlegend\":true,\"textposition\":\"auto\",\"x\":[535],\"xaxis\":\"x\",\"y\":[\"KIA\"],\"yaxis\":\"y\",\"type\":\"bar\"},{\"alignmentgroup\":\"True\",\"hovertemplate\":\"Make=%{y}\\u003cbr\\u003eModel Year=2020\\u003cbr\\u003enumber_of_Vehicles=%{x}\\u003cextra\\u003e\\u003c\\u002fextra\\u003e\",\"legendgroup\":\"LAND ROVER\",\"marker\":{\"color\":\"#FF6692\",\"pattern\":{\"shape\":\"\"}},\"name\":\"LAND ROVER\",\"offsetgroup\":\"LAND ROVER\",\"orientation\":\"h\",\"showlegend\":true,\"textposition\":\"auto\",\"x\":[30],\"xaxis\":\"x\",\"y\":[\"LAND ROVER\"],\"yaxis\":\"y\",\"type\":\"bar\"},{\"alignmentgroup\":\"True\",\"hovertemplate\":\"Make=%{y}\\u003cbr\\u003eModel Year=2020\\u003cbr\\u003enumber_of_Vehicles=%{x}\\u003cextra\\u003e\\u003c\\u002fextra\\u003e\",\"legendgroup\":\"LINCOLN\",\"marker\":{\"color\":\"#FF97FF\",\"pattern\":{\"shape\":\"\"}},\"name\":\"LINCOLN\",\"offsetgroup\":\"LINCOLN\",\"orientation\":\"h\",\"showlegend\":true,\"textposition\":\"auto\",\"x\":[29],\"xaxis\":\"x\",\"y\":[\"LINCOLN\"],\"yaxis\":\"y\",\"type\":\"bar\"},{\"alignmentgroup\":\"True\",\"hovertemplate\":\"Make=%{y}\\u003cbr\\u003eModel Year=2020\\u003cbr\\u003enumber_of_Vehicles=%{x}\\u003cextra\\u003e\\u003c\\u002fextra\\u003e\",\"legendgroup\":\"MERCEDES-BENZ\",\"marker\":{\"color\":\"#636efa\",\"pattern\":{\"shape\":\"\"}},\"name\":\"MERCEDES-BENZ\",\"offsetgroup\":\"MERCEDES-BENZ\",\"orientation\":\"h\",\"showlegend\":true,\"textposition\":\"auto\",\"x\":[32],\"xaxis\":\"x\",\"y\":[\"MERCEDES-BENZ\"],\"yaxis\":\"y\",\"type\":\"bar\"},{\"alignmentgroup\":\"True\",\"hovertemplate\":\"Make=%{y}\\u003cbr\\u003eModel Year=2020\\u003cbr\\u003enumber_of_Vehicles=%{x}\\u003cextra\\u003e\\u003c\\u002fextra\\u003e\",\"legendgroup\":\"MINI\",\"marker\":{\"color\":\"#EF553B\",\"pattern\":{\"shape\":\"\"}},\"name\":\"MINI\",\"offsetgroup\":\"MINI\",\"orientation\":\"h\",\"showlegend\":true,\"textposition\":\"auto\",\"x\":[3],\"xaxis\":\"x\",\"y\":[\"MINI\"],\"yaxis\":\"y\",\"type\":\"bar\"},{\"alignmentgroup\":\"True\",\"hovertemplate\":\"Make=%{y}\\u003cbr\\u003eModel Year=2020\\u003cbr\\u003enumber_of_Vehicles=%{x}\\u003cextra\\u003e\\u003c\\u002fextra\\u003e\",\"legendgroup\":\"MITSUBISHI\",\"marker\":{\"color\":\"#00cc96\",\"pattern\":{\"shape\":\"\"}},\"name\":\"MITSUBISHI\",\"offsetgroup\":\"MITSUBISHI\",\"orientation\":\"h\",\"showlegend\":true,\"textposition\":\"auto\",\"x\":[97],\"xaxis\":\"x\",\"y\":[\"MITSUBISHI\"],\"yaxis\":\"y\",\"type\":\"bar\"},{\"alignmentgroup\":\"True\",\"hovertemplate\":\"Make=%{y}\\u003cbr\\u003eModel Year=2020\\u003cbr\\u003enumber_of_Vehicles=%{x}\\u003cextra\\u003e\\u003c\\u002fextra\\u003e\",\"legendgroup\":\"NISSAN\",\"marker\":{\"color\":\"#ab63fa\",\"pattern\":{\"shape\":\"\"}},\"name\":\"NISSAN\",\"offsetgroup\":\"NISSAN\",\"orientation\":\"h\",\"showlegend\":true,\"textposition\":\"auto\",\"x\":[580],\"xaxis\":\"x\",\"y\":[\"NISSAN\"],\"yaxis\":\"y\",\"type\":\"bar\"},{\"alignmentgroup\":\"True\",\"hovertemplate\":\"Make=%{y}\\u003cbr\\u003eModel Year=2020\\u003cbr\\u003enumber_of_Vehicles=%{x}\\u003cextra\\u003e\\u003c\\u002fextra\\u003e\",\"legendgroup\":\"PORSCHE\",\"marker\":{\"color\":\"#19d3f3\",\"pattern\":{\"shape\":\"\"}},\"name\":\"PORSCHE\",\"offsetgroup\":\"PORSCHE\",\"orientation\":\"h\",\"showlegend\":true,\"textposition\":\"auto\",\"x\":[143],\"xaxis\":\"x\",\"y\":[\"PORSCHE\"],\"yaxis\":\"y\",\"type\":\"bar\"},{\"alignmentgroup\":\"True\",\"hovertemplate\":\"Make=%{y}\\u003cbr\\u003eModel Year=2020\\u003cbr\\u003enumber_of_Vehicles=%{x}\\u003cextra\\u003e\\u003c\\u002fextra\\u003e\",\"legendgroup\":\"TESLA\",\"marker\":{\"color\":\"#FECB52\",\"pattern\":{\"shape\":\"\"}},\"name\":\"TESLA\",\"offsetgroup\":\"TESLA\",\"orientation\":\"h\",\"showlegend\":true,\"textposition\":\"auto\",\"x\":[7018],\"xaxis\":\"x\",\"y\":[\"TESLA\"],\"yaxis\":\"y\",\"type\":\"bar\"},{\"alignmentgroup\":\"True\",\"hovertemplate\":\"Make=%{y}\\u003cbr\\u003eModel Year=2020\\u003cbr\\u003enumber_of_Vehicles=%{x}\\u003cextra\\u003e\\u003c\\u002fextra\\u003e\",\"legendgroup\":\"TOYOTA\",\"marker\":{\"color\":\"#EF553B\",\"pattern\":{\"shape\":\"\"}},\"name\":\"TOYOTA\",\"offsetgroup\":\"TOYOTA\",\"orientation\":\"h\",\"showlegend\":true,\"textposition\":\"auto\",\"x\":[311],\"xaxis\":\"x\",\"y\":[\"TOYOTA\"],\"yaxis\":\"y\",\"type\":\"bar\"},{\"alignmentgroup\":\"True\",\"hovertemplate\":\"Make=%{y}\\u003cbr\\u003eModel Year=2020\\u003cbr\\u003enumber_of_Vehicles=%{x}\\u003cextra\\u003e\\u003c\\u002fextra\\u003e\",\"legendgroup\":\"VOLVO\",\"marker\":{\"color\":\"#ab63fa\",\"pattern\":{\"shape\":\"\"}},\"name\":\"VOLVO\",\"offsetgroup\":\"VOLVO\",\"orientation\":\"h\",\"showlegend\":true,\"textposition\":\"auto\",\"x\":[162],\"xaxis\":\"x\",\"y\":[\"VOLVO\"],\"yaxis\":\"y\",\"type\":\"bar\"}],\"name\":\"2020\"},{\"data\":[{\"alignmentgroup\":\"True\",\"hovertemplate\":\"Make=%{y}\\u003cbr\\u003eModel Year=2021\\u003cbr\\u003enumber_of_Vehicles=%{x}\\u003cextra\\u003e\\u003c\\u002fextra\\u003e\",\"legendgroup\":\"AUDI\",\"marker\":{\"color\":\"#636efa\",\"pattern\":{\"shape\":\"\"}},\"name\":\"AUDI\",\"offsetgroup\":\"AUDI\",\"orientation\":\"h\",\"showlegend\":true,\"textposition\":\"auto\",\"x\":[544],\"xaxis\":\"x\",\"y\":[\"AUDI\"],\"yaxis\":\"y\",\"type\":\"bar\"},{\"alignmentgroup\":\"True\",\"hovertemplate\":\"Make=%{y}\\u003cbr\\u003eModel Year=2021\\u003cbr\\u003enumber_of_Vehicles=%{x}\\u003cextra\\u003e\\u003c\\u002fextra\\u003e\",\"legendgroup\":\"BENTLEY\",\"marker\":{\"color\":\"#00cc96\",\"pattern\":{\"shape\":\"\"}},\"name\":\"BENTLEY\",\"offsetgroup\":\"BENTLEY\",\"orientation\":\"h\",\"showlegend\":true,\"textposition\":\"auto\",\"x\":[1],\"xaxis\":\"x\",\"y\":[\"BENTLEY\"],\"yaxis\":\"y\",\"type\":\"bar\"},{\"alignmentgroup\":\"True\",\"hovertemplate\":\"Make=%{y}\\u003cbr\\u003eModel Year=2021\\u003cbr\\u003enumber_of_Vehicles=%{x}\\u003cextra\\u003e\\u003c\\u002fextra\\u003e\",\"legendgroup\":\"BMW\",\"marker\":{\"color\":\"#ab63fa\",\"pattern\":{\"shape\":\"\"}},\"name\":\"BMW\",\"offsetgroup\":\"BMW\",\"orientation\":\"h\",\"showlegend\":true,\"textposition\":\"auto\",\"x\":[635],\"xaxis\":\"x\",\"y\":[\"BMW\"],\"yaxis\":\"y\",\"type\":\"bar\"},{\"alignmentgroup\":\"True\",\"hovertemplate\":\"Make=%{y}\\u003cbr\\u003eModel Year=2021\\u003cbr\\u003enumber_of_Vehicles=%{x}\\u003cextra\\u003e\\u003c\\u002fextra\\u003e\",\"legendgroup\":\"CHEVROLET\",\"marker\":{\"color\":\"#19d3f3\",\"pattern\":{\"shape\":\"\"}},\"name\":\"CHEVROLET\",\"offsetgroup\":\"CHEVROLET\",\"orientation\":\"h\",\"showlegend\":true,\"textposition\":\"auto\",\"x\":[377],\"xaxis\":\"x\",\"y\":[\"CHEVROLET\"],\"yaxis\":\"y\",\"type\":\"bar\"},{\"alignmentgroup\":\"True\",\"hovertemplate\":\"Make=%{y}\\u003cbr\\u003eModel Year=2021\\u003cbr\\u003enumber_of_Vehicles=%{x}\\u003cextra\\u003e\\u003c\\u002fextra\\u003e\",\"legendgroup\":\"CHRYSLER\",\"marker\":{\"color\":\"#FF6692\",\"pattern\":{\"shape\":\"\"}},\"name\":\"CHRYSLER\",\"offsetgroup\":\"CHRYSLER\",\"orientation\":\"h\",\"showlegend\":true,\"textposition\":\"auto\",\"x\":[504],\"xaxis\":\"x\",\"y\":[\"CHRYSLER\"],\"yaxis\":\"y\",\"type\":\"bar\"},{\"alignmentgroup\":\"True\",\"hovertemplate\":\"Make=%{y}\\u003cbr\\u003eModel Year=2021\\u003cbr\\u003enumber_of_Vehicles=%{x}\\u003cextra\\u003e\\u003c\\u002fextra\\u003e\",\"legendgroup\":\"FORD\",\"marker\":{\"color\":\"#FECB52\",\"pattern\":{\"shape\":\"\"}},\"name\":\"FORD\",\"offsetgroup\":\"FORD\",\"orientation\":\"h\",\"showlegend\":true,\"textposition\":\"auto\",\"x\":[882],\"xaxis\":\"x\",\"y\":[\"FORD\"],\"yaxis\":\"y\",\"type\":\"bar\"},{\"alignmentgroup\":\"True\",\"hovertemplate\":\"Make=%{y}\\u003cbr\\u003eModel Year=2021\\u003cbr\\u003enumber_of_Vehicles=%{x}\\u003cextra\\u003e\\u003c\\u002fextra\\u003e\",\"legendgroup\":\"HONDA\",\"marker\":{\"color\":\"#EF553B\",\"pattern\":{\"shape\":\"\"}},\"name\":\"HONDA\",\"offsetgroup\":\"HONDA\",\"orientation\":\"h\",\"showlegend\":true,\"textposition\":\"auto\",\"x\":[17],\"xaxis\":\"x\",\"y\":[\"HONDA\"],\"yaxis\":\"y\",\"type\":\"bar\"},{\"alignmentgroup\":\"True\",\"hovertemplate\":\"Make=%{y}\\u003cbr\\u003eModel Year=2021\\u003cbr\\u003enumber_of_Vehicles=%{x}\\u003cextra\\u003e\\u003c\\u002fextra\\u003e\",\"legendgroup\":\"HYUNDAI\",\"marker\":{\"color\":\"#00cc96\",\"pattern\":{\"shape\":\"\"}},\"name\":\"HYUNDAI\",\"offsetgroup\":\"HYUNDAI\",\"orientation\":\"h\",\"showlegend\":true,\"textposition\":\"auto\",\"x\":[187],\"xaxis\":\"x\",\"y\":[\"HYUNDAI\"],\"yaxis\":\"y\",\"type\":\"bar\"},{\"alignmentgroup\":\"True\",\"hovertemplate\":\"Make=%{y}\\u003cbr\\u003eModel Year=2021\\u003cbr\\u003enumber_of_Vehicles=%{x}\\u003cextra\\u003e\\u003c\\u002fextra\\u003e\",\"legendgroup\":\"JAGUAR\",\"marker\":{\"color\":\"#ab63fa\",\"pattern\":{\"shape\":\"\"}},\"name\":\"JAGUAR\",\"offsetgroup\":\"JAGUAR\",\"orientation\":\"h\",\"showlegend\":true,\"textposition\":\"auto\",\"x\":[6],\"xaxis\":\"x\",\"y\":[\"JAGUAR\"],\"yaxis\":\"y\",\"type\":\"bar\"},{\"alignmentgroup\":\"True\",\"hovertemplate\":\"Make=%{y}\\u003cbr\\u003eModel Year=2021\\u003cbr\\u003enumber_of_Vehicles=%{x}\\u003cextra\\u003e\\u003c\\u002fextra\\u003e\",\"legendgroup\":\"JEEP\",\"marker\":{\"color\":\"#FFA15A\",\"pattern\":{\"shape\":\"\"}},\"name\":\"JEEP\",\"offsetgroup\":\"JEEP\",\"orientation\":\"h\",\"showlegend\":true,\"textposition\":\"auto\",\"x\":[629],\"xaxis\":\"x\",\"y\":[\"JEEP\"],\"yaxis\":\"y\",\"type\":\"bar\"},{\"alignmentgroup\":\"True\",\"hovertemplate\":\"Make=%{y}\\u003cbr\\u003eModel Year=2021\\u003cbr\\u003enumber_of_Vehicles=%{x}\\u003cextra\\u003e\\u003c\\u002fextra\\u003e\",\"legendgroup\":\"KIA\",\"marker\":{\"color\":\"#19d3f3\",\"pattern\":{\"shape\":\"\"}},\"name\":\"KIA\",\"offsetgroup\":\"KIA\",\"orientation\":\"h\",\"showlegend\":true,\"textposition\":\"auto\",\"x\":[74],\"xaxis\":\"x\",\"y\":[\"KIA\"],\"yaxis\":\"y\",\"type\":\"bar\"},{\"alignmentgroup\":\"True\",\"hovertemplate\":\"Make=%{y}\\u003cbr\\u003eModel Year=2021\\u003cbr\\u003enumber_of_Vehicles=%{x}\\u003cextra\\u003e\\u003c\\u002fextra\\u003e\",\"legendgroup\":\"LAND ROVER\",\"marker\":{\"color\":\"#FF6692\",\"pattern\":{\"shape\":\"\"}},\"name\":\"LAND ROVER\",\"offsetgroup\":\"LAND ROVER\",\"orientation\":\"h\",\"showlegend\":true,\"textposition\":\"auto\",\"x\":[8],\"xaxis\":\"x\",\"y\":[\"LAND ROVER\"],\"yaxis\":\"y\",\"type\":\"bar\"},{\"alignmentgroup\":\"True\",\"hovertemplate\":\"Make=%{y}\\u003cbr\\u003eModel Year=2021\\u003cbr\\u003enumber_of_Vehicles=%{x}\\u003cextra\\u003e\\u003c\\u002fextra\\u003e\",\"legendgroup\":\"LINCOLN\",\"marker\":{\"color\":\"#FF97FF\",\"pattern\":{\"shape\":\"\"}},\"name\":\"LINCOLN\",\"offsetgroup\":\"LINCOLN\",\"orientation\":\"h\",\"showlegend\":true,\"textposition\":\"auto\",\"x\":[41],\"xaxis\":\"x\",\"y\":[\"LINCOLN\"],\"yaxis\":\"y\",\"type\":\"bar\"},{\"alignmentgroup\":\"True\",\"hovertemplate\":\"Make=%{y}\\u003cbr\\u003eModel Year=2021\\u003cbr\\u003enumber_of_Vehicles=%{x}\\u003cextra\\u003e\\u003c\\u002fextra\\u003e\",\"legendgroup\":\"MINI\",\"marker\":{\"color\":\"#EF553B\",\"pattern\":{\"shape\":\"\"}},\"name\":\"MINI\",\"offsetgroup\":\"MINI\",\"orientation\":\"h\",\"showlegend\":true,\"textposition\":\"auto\",\"x\":[143],\"xaxis\":\"x\",\"y\":[\"MINI\"],\"yaxis\":\"y\",\"type\":\"bar\"},{\"alignmentgroup\":\"True\",\"hovertemplate\":\"Make=%{y}\\u003cbr\\u003eModel Year=2021\\u003cbr\\u003enumber_of_Vehicles=%{x}\\u003cextra\\u003e\\u003c\\u002fextra\\u003e\",\"legendgroup\":\"MITSUBISHI\",\"marker\":{\"color\":\"#00cc96\",\"pattern\":{\"shape\":\"\"}},\"name\":\"MITSUBISHI\",\"offsetgroup\":\"MITSUBISHI\",\"orientation\":\"h\",\"showlegend\":true,\"textposition\":\"auto\",\"x\":[8],\"xaxis\":\"x\",\"y\":[\"MITSUBISHI\"],\"yaxis\":\"y\",\"type\":\"bar\"},{\"alignmentgroup\":\"True\",\"hovertemplate\":\"Make=%{y}\\u003cbr\\u003eModel Year=2021\\u003cbr\\u003enumber_of_Vehicles=%{x}\\u003cextra\\u003e\\u003c\\u002fextra\\u003e\",\"legendgroup\":\"NISSAN\",\"marker\":{\"color\":\"#ab63fa\",\"pattern\":{\"shape\":\"\"}},\"name\":\"NISSAN\",\"offsetgroup\":\"NISSAN\",\"orientation\":\"h\",\"showlegend\":true,\"textposition\":\"auto\",\"x\":[534],\"xaxis\":\"x\",\"y\":[\"NISSAN\"],\"yaxis\":\"y\",\"type\":\"bar\"},{\"alignmentgroup\":\"True\",\"hovertemplate\":\"Make=%{y}\\u003cbr\\u003eModel Year=2021\\u003cbr\\u003enumber_of_Vehicles=%{x}\\u003cextra\\u003e\\u003c\\u002fextra\\u003e\",\"legendgroup\":\"POLESTAR\",\"marker\":{\"color\":\"#FFA15A\",\"pattern\":{\"shape\":\"\"}},\"name\":\"POLESTAR\",\"offsetgroup\":\"POLESTAR\",\"orientation\":\"h\",\"showlegend\":true,\"textposition\":\"auto\",\"x\":[98],\"xaxis\":\"x\",\"y\":[\"POLESTAR\"],\"yaxis\":\"y\",\"type\":\"bar\"},{\"alignmentgroup\":\"True\",\"hovertemplate\":\"Make=%{y}\\u003cbr\\u003eModel Year=2021\\u003cbr\\u003enumber_of_Vehicles=%{x}\\u003cextra\\u003e\\u003c\\u002fextra\\u003e\",\"legendgroup\":\"PORSCHE\",\"marker\":{\"color\":\"#19d3f3\",\"pattern\":{\"shape\":\"\"}},\"name\":\"PORSCHE\",\"offsetgroup\":\"PORSCHE\",\"orientation\":\"h\",\"showlegend\":true,\"textposition\":\"auto\",\"x\":[145],\"xaxis\":\"x\",\"y\":[\"PORSCHE\"],\"yaxis\":\"y\",\"type\":\"bar\"},{\"alignmentgroup\":\"True\",\"hovertemplate\":\"Make=%{y}\\u003cbr\\u003eModel Year=2021\\u003cbr\\u003enumber_of_Vehicles=%{x}\\u003cextra\\u003e\\u003c\\u002fextra\\u003e\",\"legendgroup\":\"TESLA\",\"marker\":{\"color\":\"#FECB52\",\"pattern\":{\"shape\":\"\"}},\"name\":\"TESLA\",\"offsetgroup\":\"TESLA\",\"orientation\":\"h\",\"showlegend\":true,\"textposition\":\"auto\",\"x\":[11028],\"xaxis\":\"x\",\"y\":[\"TESLA\"],\"yaxis\":\"y\",\"type\":\"bar\"},{\"alignmentgroup\":\"True\",\"hovertemplate\":\"Make=%{y}\\u003cbr\\u003eModel Year=2021\\u003cbr\\u003enumber_of_Vehicles=%{x}\\u003cextra\\u003e\\u003c\\u002fextra\\u003e\",\"legendgroup\":\"TOYOTA\",\"marker\":{\"color\":\"#EF553B\",\"pattern\":{\"shape\":\"\"}},\"name\":\"TOYOTA\",\"offsetgroup\":\"TOYOTA\",\"orientation\":\"h\",\"showlegend\":true,\"textposition\":\"auto\",\"x\":[935],\"xaxis\":\"x\",\"y\":[\"TOYOTA\"],\"yaxis\":\"y\",\"type\":\"bar\"},{\"alignmentgroup\":\"True\",\"hovertemplate\":\"Make=%{y}\\u003cbr\\u003eModel Year=2021\\u003cbr\\u003enumber_of_Vehicles=%{x}\\u003cextra\\u003e\\u003c\\u002fextra\\u003e\",\"legendgroup\":\"VOLKSWAGEN\",\"marker\":{\"color\":\"#00cc96\",\"pattern\":{\"shape\":\"\"}},\"name\":\"VOLKSWAGEN\",\"offsetgroup\":\"VOLKSWAGEN\",\"orientation\":\"h\",\"showlegend\":true,\"textposition\":\"auto\",\"x\":[988],\"xaxis\":\"x\",\"y\":[\"VOLKSWAGEN\"],\"yaxis\":\"y\",\"type\":\"bar\"},{\"alignmentgroup\":\"True\",\"hovertemplate\":\"Make=%{y}\\u003cbr\\u003eModel Year=2021\\u003cbr\\u003enumber_of_Vehicles=%{x}\\u003cextra\\u003e\\u003c\\u002fextra\\u003e\",\"legendgroup\":\"VOLVO\",\"marker\":{\"color\":\"#ab63fa\",\"pattern\":{\"shape\":\"\"}},\"name\":\"VOLVO\",\"offsetgroup\":\"VOLVO\",\"orientation\":\"h\",\"showlegend\":true,\"textposition\":\"auto\",\"x\":[580],\"xaxis\":\"x\",\"y\":[\"VOLVO\"],\"yaxis\":\"y\",\"type\":\"bar\"}],\"name\":\"2021\"},{\"data\":[{\"alignmentgroup\":\"True\",\"hovertemplate\":\"Make=%{y}\\u003cbr\\u003eModel Year=2022\\u003cbr\\u003enumber_of_Vehicles=%{x}\\u003cextra\\u003e\\u003c\\u002fextra\\u003e\",\"legendgroup\":\"AUDI\",\"marker\":{\"color\":\"#636efa\",\"pattern\":{\"shape\":\"\"}},\"name\":\"AUDI\",\"offsetgroup\":\"AUDI\",\"orientation\":\"h\",\"showlegend\":true,\"textposition\":\"auto\",\"x\":[585],\"xaxis\":\"x\",\"y\":[\"AUDI\"],\"yaxis\":\"y\",\"type\":\"bar\"},{\"alignmentgroup\":\"True\",\"hovertemplate\":\"Make=%{y}\\u003cbr\\u003eModel Year=2022\\u003cbr\\u003enumber_of_Vehicles=%{x}\\u003cextra\\u003e\\u003c\\u002fextra\\u003e\",\"legendgroup\":\"BENTLEY\",\"marker\":{\"color\":\"#00cc96\",\"pattern\":{\"shape\":\"\"}},\"name\":\"BENTLEY\",\"offsetgroup\":\"BENTLEY\",\"orientation\":\"h\",\"showlegend\":true,\"textposition\":\"auto\",\"x\":[1],\"xaxis\":\"x\",\"y\":[\"BENTLEY\"],\"yaxis\":\"y\",\"type\":\"bar\"},{\"alignmentgroup\":\"True\",\"hovertemplate\":\"Make=%{y}\\u003cbr\\u003eModel Year=2022\\u003cbr\\u003enumber_of_Vehicles=%{x}\\u003cextra\\u003e\\u003c\\u002fextra\\u003e\",\"legendgroup\":\"BMW\",\"marker\":{\"color\":\"#ab63fa\",\"pattern\":{\"shape\":\"\"}},\"name\":\"BMW\",\"offsetgroup\":\"BMW\",\"orientation\":\"h\",\"showlegend\":true,\"textposition\":\"auto\",\"x\":[905],\"xaxis\":\"x\",\"y\":[\"BMW\"],\"yaxis\":\"y\",\"type\":\"bar\"},{\"alignmentgroup\":\"True\",\"hovertemplate\":\"Make=%{y}\\u003cbr\\u003eModel Year=2022\\u003cbr\\u003enumber_of_Vehicles=%{x}\\u003cextra\\u003e\\u003c\\u002fextra\\u003e\",\"legendgroup\":\"CHEVROLET\",\"marker\":{\"color\":\"#19d3f3\",\"pattern\":{\"shape\":\"\"}},\"name\":\"CHEVROLET\",\"offsetgroup\":\"CHEVROLET\",\"orientation\":\"h\",\"showlegend\":true,\"textposition\":\"auto\",\"x\":[892],\"xaxis\":\"x\",\"y\":[\"CHEVROLET\"],\"yaxis\":\"y\",\"type\":\"bar\"},{\"alignmentgroup\":\"True\",\"hovertemplate\":\"Make=%{y}\\u003cbr\\u003eModel Year=2022\\u003cbr\\u003enumber_of_Vehicles=%{x}\\u003cextra\\u003e\\u003c\\u002fextra\\u003e\",\"legendgroup\":\"CHRYSLER\",\"marker\":{\"color\":\"#FF6692\",\"pattern\":{\"shape\":\"\"}},\"name\":\"CHRYSLER\",\"offsetgroup\":\"CHRYSLER\",\"orientation\":\"h\",\"showlegend\":true,\"textposition\":\"auto\",\"x\":[237],\"xaxis\":\"x\",\"y\":[\"CHRYSLER\"],\"yaxis\":\"y\",\"type\":\"bar\"},{\"alignmentgroup\":\"True\",\"hovertemplate\":\"Make=%{y}\\u003cbr\\u003eModel Year=2022\\u003cbr\\u003enumber_of_Vehicles=%{x}\\u003cextra\\u003e\\u003c\\u002fextra\\u003e\",\"legendgroup\":\"FORD\",\"marker\":{\"color\":\"#FECB52\",\"pattern\":{\"shape\":\"\"}},\"name\":\"FORD\",\"offsetgroup\":\"FORD\",\"orientation\":\"h\",\"showlegend\":true,\"textposition\":\"auto\",\"x\":[1250],\"xaxis\":\"x\",\"y\":[\"FORD\"],\"yaxis\":\"y\",\"type\":\"bar\"},{\"alignmentgroup\":\"True\",\"hovertemplate\":\"Make=%{y}\\u003cbr\\u003eModel Year=2022\\u003cbr\\u003enumber_of_Vehicles=%{x}\\u003cextra\\u003e\\u003c\\u002fextra\\u003e\",\"legendgroup\":\"HYUNDAI\",\"marker\":{\"color\":\"#00cc96\",\"pattern\":{\"shape\":\"\"}},\"name\":\"HYUNDAI\",\"offsetgroup\":\"HYUNDAI\",\"orientation\":\"h\",\"showlegend\":true,\"textposition\":\"auto\",\"x\":[633],\"xaxis\":\"x\",\"y\":[\"HYUNDAI\"],\"yaxis\":\"y\",\"type\":\"bar\"},{\"alignmentgroup\":\"True\",\"hovertemplate\":\"Make=%{y}\\u003cbr\\u003eModel Year=2022\\u003cbr\\u003enumber_of_Vehicles=%{x}\\u003cextra\\u003e\\u003c\\u002fextra\\u003e\",\"legendgroup\":\"JAGUAR\",\"marker\":{\"color\":\"#ab63fa\",\"pattern\":{\"shape\":\"\"}},\"name\":\"JAGUAR\",\"offsetgroup\":\"JAGUAR\",\"orientation\":\"h\",\"showlegend\":true,\"textposition\":\"auto\",\"x\":[19],\"xaxis\":\"x\",\"y\":[\"JAGUAR\"],\"yaxis\":\"y\",\"type\":\"bar\"},{\"alignmentgroup\":\"True\",\"hovertemplate\":\"Make=%{y}\\u003cbr\\u003eModel Year=2022\\u003cbr\\u003enumber_of_Vehicles=%{x}\\u003cextra\\u003e\\u003c\\u002fextra\\u003e\",\"legendgroup\":\"JEEP\",\"marker\":{\"color\":\"#FFA15A\",\"pattern\":{\"shape\":\"\"}},\"name\":\"JEEP\",\"offsetgroup\":\"JEEP\",\"orientation\":\"h\",\"showlegend\":true,\"textposition\":\"auto\",\"x\":[523],\"xaxis\":\"x\",\"y\":[\"JEEP\"],\"yaxis\":\"y\",\"type\":\"bar\"},{\"alignmentgroup\":\"True\",\"hovertemplate\":\"Make=%{y}\\u003cbr\\u003eModel Year=2022\\u003cbr\\u003enumber_of_Vehicles=%{x}\\u003cextra\\u003e\\u003c\\u002fextra\\u003e\",\"legendgroup\":\"KIA\",\"marker\":{\"color\":\"#19d3f3\",\"pattern\":{\"shape\":\"\"}},\"name\":\"KIA\",\"offsetgroup\":\"KIA\",\"orientation\":\"h\",\"showlegend\":true,\"textposition\":\"auto\",\"x\":[2153],\"xaxis\":\"x\",\"y\":[\"KIA\"],\"yaxis\":\"y\",\"type\":\"bar\"},{\"alignmentgroup\":\"True\",\"hovertemplate\":\"Make=%{y}\\u003cbr\\u003eModel Year=2022\\u003cbr\\u003enumber_of_Vehicles=%{x}\\u003cextra\\u003e\\u003c\\u002fextra\\u003e\",\"legendgroup\":\"LEXUS\",\"marker\":{\"color\":\"#B6E880\",\"pattern\":{\"shape\":\"\"}},\"name\":\"LEXUS\",\"offsetgroup\":\"LEXUS\",\"orientation\":\"h\",\"showlegend\":true,\"textposition\":\"auto\",\"x\":[33],\"xaxis\":\"x\",\"y\":[\"LEXUS\"],\"yaxis\":\"y\",\"type\":\"bar\"},{\"alignmentgroup\":\"True\",\"hovertemplate\":\"Make=%{y}\\u003cbr\\u003eModel Year=2022\\u003cbr\\u003enumber_of_Vehicles=%{x}\\u003cextra\\u003e\\u003c\\u002fextra\\u003e\",\"legendgroup\":\"LINCOLN\",\"marker\":{\"color\":\"#FF97FF\",\"pattern\":{\"shape\":\"\"}},\"name\":\"LINCOLN\",\"offsetgroup\":\"LINCOLN\",\"orientation\":\"h\",\"showlegend\":true,\"textposition\":\"auto\",\"x\":[94],\"xaxis\":\"x\",\"y\":[\"LINCOLN\"],\"yaxis\":\"y\",\"type\":\"bar\"},{\"alignmentgroup\":\"True\",\"hovertemplate\":\"Make=%{y}\\u003cbr\\u003eModel Year=2022\\u003cbr\\u003enumber_of_Vehicles=%{x}\\u003cextra\\u003e\\u003c\\u002fextra\\u003e\",\"legendgroup\":\"LUCID MOTORS\",\"marker\":{\"color\":\"#FECB52\",\"pattern\":{\"shape\":\"\"}},\"name\":\"LUCID MOTORS\",\"offsetgroup\":\"LUCID MOTORS\",\"orientation\":\"h\",\"showlegend\":true,\"textposition\":\"auto\",\"x\":[65],\"xaxis\":\"x\",\"y\":[\"LUCID MOTORS\"],\"yaxis\":\"y\",\"type\":\"bar\"},{\"alignmentgroup\":\"True\",\"hovertemplate\":\"Make=%{y}\\u003cbr\\u003eModel Year=2022\\u003cbr\\u003enumber_of_Vehicles=%{x}\\u003cextra\\u003e\\u003c\\u002fextra\\u003e\",\"legendgroup\":\"MERCEDES-BENZ\",\"marker\":{\"color\":\"#636efa\",\"pattern\":{\"shape\":\"\"}},\"name\":\"MERCEDES-BENZ\",\"offsetgroup\":\"MERCEDES-BENZ\",\"orientation\":\"h\",\"showlegend\":true,\"textposition\":\"auto\",\"x\":[130],\"xaxis\":\"x\",\"y\":[\"MERCEDES-BENZ\"],\"yaxis\":\"y\",\"type\":\"bar\"},{\"alignmentgroup\":\"True\",\"hovertemplate\":\"Make=%{y}\\u003cbr\\u003eModel Year=2022\\u003cbr\\u003enumber_of_Vehicles=%{x}\\u003cextra\\u003e\\u003c\\u002fextra\\u003e\",\"legendgroup\":\"MINI\",\"marker\":{\"color\":\"#EF553B\",\"pattern\":{\"shape\":\"\"}},\"name\":\"MINI\",\"offsetgroup\":\"MINI\",\"orientation\":\"h\",\"showlegend\":true,\"textposition\":\"auto\",\"x\":[212],\"xaxis\":\"x\",\"y\":[\"MINI\"],\"yaxis\":\"y\",\"type\":\"bar\"},{\"alignmentgroup\":\"True\",\"hovertemplate\":\"Make=%{y}\\u003cbr\\u003eModel Year=2022\\u003cbr\\u003enumber_of_Vehicles=%{x}\\u003cextra\\u003e\\u003c\\u002fextra\\u003e\",\"legendgroup\":\"MITSUBISHI\",\"marker\":{\"color\":\"#00cc96\",\"pattern\":{\"shape\":\"\"}},\"name\":\"MITSUBISHI\",\"offsetgroup\":\"MITSUBISHI\",\"orientation\":\"h\",\"showlegend\":true,\"textposition\":\"auto\",\"x\":[89],\"xaxis\":\"x\",\"y\":[\"MITSUBISHI\"],\"yaxis\":\"y\",\"type\":\"bar\"},{\"alignmentgroup\":\"True\",\"hovertemplate\":\"Make=%{y}\\u003cbr\\u003eModel Year=2022\\u003cbr\\u003enumber_of_Vehicles=%{x}\\u003cextra\\u003e\\u003c\\u002fextra\\u003e\",\"legendgroup\":\"NISSAN\",\"marker\":{\"color\":\"#ab63fa\",\"pattern\":{\"shape\":\"\"}},\"name\":\"NISSAN\",\"offsetgroup\":\"NISSAN\",\"orientation\":\"h\",\"showlegend\":true,\"textposition\":\"auto\",\"x\":[970],\"xaxis\":\"x\",\"y\":[\"NISSAN\"],\"yaxis\":\"y\",\"type\":\"bar\"},{\"alignmentgroup\":\"True\",\"hovertemplate\":\"Make=%{y}\\u003cbr\\u003eModel Year=2022\\u003cbr\\u003enumber_of_Vehicles=%{x}\\u003cextra\\u003e\\u003c\\u002fextra\\u003e\",\"legendgroup\":\"POLESTAR\",\"marker\":{\"color\":\"#FFA15A\",\"pattern\":{\"shape\":\"\"}},\"name\":\"POLESTAR\",\"offsetgroup\":\"POLESTAR\",\"orientation\":\"h\",\"showlegend\":true,\"textposition\":\"auto\",\"x\":[372],\"xaxis\":\"x\",\"y\":[\"POLESTAR\"],\"yaxis\":\"y\",\"type\":\"bar\"},{\"alignmentgroup\":\"True\",\"hovertemplate\":\"Make=%{y}\\u003cbr\\u003eModel Year=2022\\u003cbr\\u003enumber_of_Vehicles=%{x}\\u003cextra\\u003e\\u003c\\u002fextra\\u003e\",\"legendgroup\":\"PORSCHE\",\"marker\":{\"color\":\"#19d3f3\",\"pattern\":{\"shape\":\"\"}},\"name\":\"PORSCHE\",\"offsetgroup\":\"PORSCHE\",\"orientation\":\"h\",\"showlegend\":true,\"textposition\":\"auto\",\"x\":[200],\"xaxis\":\"x\",\"y\":[\"PORSCHE\"],\"yaxis\":\"y\",\"type\":\"bar\"},{\"alignmentgroup\":\"True\",\"hovertemplate\":\"Make=%{y}\\u003cbr\\u003eModel Year=2022\\u003cbr\\u003enumber_of_Vehicles=%{x}\\u003cextra\\u003e\\u003c\\u002fextra\\u003e\",\"legendgroup\":\"RIVIAN\",\"marker\":{\"color\":\"#FF6692\",\"pattern\":{\"shape\":\"\"}},\"name\":\"RIVIAN\",\"offsetgroup\":\"RIVIAN\",\"orientation\":\"h\",\"showlegend\":true,\"textposition\":\"auto\",\"x\":[885],\"xaxis\":\"x\",\"y\":[\"RIVIAN\"],\"yaxis\":\"y\",\"type\":\"bar\"},{\"alignmentgroup\":\"True\",\"hovertemplate\":\"Make=%{y}\\u003cbr\\u003eModel Year=2022\\u003cbr\\u003enumber_of_Vehicles=%{x}\\u003cextra\\u003e\\u003c\\u002fextra\\u003e\",\"legendgroup\":\"TESLA\",\"marker\":{\"color\":\"#FECB52\",\"pattern\":{\"shape\":\"\"}},\"name\":\"TESLA\",\"offsetgroup\":\"TESLA\",\"orientation\":\"h\",\"showlegend\":true,\"textposition\":\"auto\",\"x\":[14548],\"xaxis\":\"x\",\"y\":[\"TESLA\"],\"yaxis\":\"y\",\"type\":\"bar\"},{\"alignmentgroup\":\"True\",\"hovertemplate\":\"Make=%{y}\\u003cbr\\u003eModel Year=2022\\u003cbr\\u003enumber_of_Vehicles=%{x}\\u003cextra\\u003e\\u003c\\u002fextra\\u003e\",\"legendgroup\":\"TOYOTA\",\"marker\":{\"color\":\"#EF553B\",\"pattern\":{\"shape\":\"\"}},\"name\":\"TOYOTA\",\"offsetgroup\":\"TOYOTA\",\"orientation\":\"h\",\"showlegend\":true,\"textposition\":\"auto\",\"x\":[424],\"xaxis\":\"x\",\"y\":[\"TOYOTA\"],\"yaxis\":\"y\",\"type\":\"bar\"},{\"alignmentgroup\":\"True\",\"hovertemplate\":\"Make=%{y}\\u003cbr\\u003eModel Year=2022\\u003cbr\\u003enumber_of_Vehicles=%{x}\\u003cextra\\u003e\\u003c\\u002fextra\\u003e\",\"legendgroup\":\"VOLKSWAGEN\",\"marker\":{\"color\":\"#00cc96\",\"pattern\":{\"shape\":\"\"}},\"name\":\"VOLKSWAGEN\",\"offsetgroup\":\"VOLKSWAGEN\",\"orientation\":\"h\",\"showlegend\":true,\"textposition\":\"auto\",\"x\":[428],\"xaxis\":\"x\",\"y\":[\"VOLKSWAGEN\"],\"yaxis\":\"y\",\"type\":\"bar\"},{\"alignmentgroup\":\"True\",\"hovertemplate\":\"Make=%{y}\\u003cbr\\u003eModel Year=2022\\u003cbr\\u003enumber_of_Vehicles=%{x}\\u003cextra\\u003e\\u003c\\u002fextra\\u003e\",\"legendgroup\":\"VOLVO\",\"marker\":{\"color\":\"#ab63fa\",\"pattern\":{\"shape\":\"\"}},\"name\":\"VOLVO\",\"offsetgroup\":\"VOLVO\",\"orientation\":\"h\",\"showlegend\":true,\"textposition\":\"auto\",\"x\":[882],\"xaxis\":\"x\",\"y\":[\"VOLVO\"],\"yaxis\":\"y\",\"type\":\"bar\"}],\"name\":\"2022\"},{\"data\":[{\"alignmentgroup\":\"True\",\"hovertemplate\":\"Make=%{y}\\u003cbr\\u003eModel Year=2023\\u003cbr\\u003enumber_of_Vehicles=%{x}\\u003cextra\\u003e\\u003c\\u002fextra\\u003e\",\"legendgroup\":\"AUDI\",\"marker\":{\"color\":\"#636efa\",\"pattern\":{\"shape\":\"\"}},\"name\":\"AUDI\",\"offsetgroup\":\"AUDI\",\"orientation\":\"h\",\"showlegend\":true,\"textposition\":\"auto\",\"x\":[12],\"xaxis\":\"x\",\"y\":[\"AUDI\"],\"yaxis\":\"y\",\"type\":\"bar\"},{\"alignmentgroup\":\"True\",\"hovertemplate\":\"Make=%{y}\\u003cbr\\u003eModel Year=2023\\u003cbr\\u003enumber_of_Vehicles=%{x}\\u003cextra\\u003e\\u003c\\u002fextra\\u003e\",\"legendgroup\":\"BMW\",\"marker\":{\"color\":\"#ab63fa\",\"pattern\":{\"shape\":\"\"}},\"name\":\"BMW\",\"offsetgroup\":\"BMW\",\"orientation\":\"h\",\"showlegend\":true,\"textposition\":\"auto\",\"x\":[73],\"xaxis\":\"x\",\"y\":[\"BMW\"],\"yaxis\":\"y\",\"type\":\"bar\"},{\"alignmentgroup\":\"True\",\"hovertemplate\":\"Make=%{y}\\u003cbr\\u003eModel Year=2023\\u003cbr\\u003enumber_of_Vehicles=%{x}\\u003cextra\\u003e\\u003c\\u002fextra\\u003e\",\"legendgroup\":\"CHEVROLET\",\"marker\":{\"color\":\"#19d3f3\",\"pattern\":{\"shape\":\"\"}},\"name\":\"CHEVROLET\",\"offsetgroup\":\"CHEVROLET\",\"orientation\":\"h\",\"showlegend\":true,\"textposition\":\"auto\",\"x\":[177],\"xaxis\":\"x\",\"y\":[\"CHEVROLET\"],\"yaxis\":\"y\",\"type\":\"bar\"},{\"alignmentgroup\":\"True\",\"hovertemplate\":\"Make=%{y}\\u003cbr\\u003eModel Year=2023\\u003cbr\\u003enumber_of_Vehicles=%{x}\\u003cextra\\u003e\\u003c\\u002fextra\\u003e\",\"legendgroup\":\"FORD\",\"marker\":{\"color\":\"#FECB52\",\"pattern\":{\"shape\":\"\"}},\"name\":\"FORD\",\"offsetgroup\":\"FORD\",\"orientation\":\"h\",\"showlegend\":true,\"textposition\":\"auto\",\"x\":[4],\"xaxis\":\"x\",\"y\":[\"FORD\"],\"yaxis\":\"y\",\"type\":\"bar\"},{\"alignmentgroup\":\"True\",\"hovertemplate\":\"Make=%{y}\\u003cbr\\u003eModel Year=2023\\u003cbr\\u003enumber_of_Vehicles=%{x}\\u003cextra\\u003e\\u003c\\u002fextra\\u003e\",\"legendgroup\":\"GENESIS\",\"marker\":{\"color\":\"#636efa\",\"pattern\":{\"shape\":\"\"}},\"name\":\"GENESIS\",\"offsetgroup\":\"GENESIS\",\"orientation\":\"h\",\"showlegend\":true,\"textposition\":\"auto\",\"x\":[18],\"xaxis\":\"x\",\"y\":[\"GENESIS\"],\"yaxis\":\"y\",\"type\":\"bar\"},{\"alignmentgroup\":\"True\",\"hovertemplate\":\"Make=%{y}\\u003cbr\\u003eModel Year=2023\\u003cbr\\u003enumber_of_Vehicles=%{x}\\u003cextra\\u003e\\u003c\\u002fextra\\u003e\",\"legendgroup\":\"HYUNDAI\",\"marker\":{\"color\":\"#00cc96\",\"pattern\":{\"shape\":\"\"}},\"name\":\"HYUNDAI\",\"offsetgroup\":\"HYUNDAI\",\"orientation\":\"h\",\"showlegend\":true,\"textposition\":\"auto\",\"x\":[154],\"xaxis\":\"x\",\"y\":[\"HYUNDAI\"],\"yaxis\":\"y\",\"type\":\"bar\"},{\"alignmentgroup\":\"True\",\"hovertemplate\":\"Make=%{y}\\u003cbr\\u003eModel Year=2023\\u003cbr\\u003enumber_of_Vehicles=%{x}\\u003cextra\\u003e\\u003c\\u002fextra\\u003e\",\"legendgroup\":\"KIA\",\"marker\":{\"color\":\"#19d3f3\",\"pattern\":{\"shape\":\"\"}},\"name\":\"KIA\",\"offsetgroup\":\"KIA\",\"orientation\":\"h\",\"showlegend\":true,\"textposition\":\"auto\",\"x\":[79],\"xaxis\":\"x\",\"y\":[\"KIA\"],\"yaxis\":\"y\",\"type\":\"bar\"},{\"alignmentgroup\":\"True\",\"hovertemplate\":\"Make=%{y}\\u003cbr\\u003eModel Year=2023\\u003cbr\\u003enumber_of_Vehicles=%{x}\\u003cextra\\u003e\\u003c\\u002fextra\\u003e\",\"legendgroup\":\"LINCOLN\",\"marker\":{\"color\":\"#FF97FF\",\"pattern\":{\"shape\":\"\"}},\"name\":\"LINCOLN\",\"offsetgroup\":\"LINCOLN\",\"orientation\":\"h\",\"showlegend\":true,\"textposition\":\"auto\",\"x\":[4],\"xaxis\":\"x\",\"y\":[\"LINCOLN\"],\"yaxis\":\"y\",\"type\":\"bar\"},{\"alignmentgroup\":\"True\",\"hovertemplate\":\"Make=%{y}\\u003cbr\\u003eModel Year=2023\\u003cbr\\u003enumber_of_Vehicles=%{x}\\u003cextra\\u003e\\u003c\\u002fextra\\u003e\",\"legendgroup\":\"MERCEDES-BENZ\",\"marker\":{\"color\":\"#636efa\",\"pattern\":{\"shape\":\"\"}},\"name\":\"MERCEDES-BENZ\",\"offsetgroup\":\"MERCEDES-BENZ\",\"orientation\":\"h\",\"showlegend\":true,\"textposition\":\"auto\",\"x\":[23],\"xaxis\":\"x\",\"y\":[\"MERCEDES-BENZ\"],\"yaxis\":\"y\",\"type\":\"bar\"},{\"alignmentgroup\":\"True\",\"hovertemplate\":\"Make=%{y}\\u003cbr\\u003eModel Year=2023\\u003cbr\\u003enumber_of_Vehicles=%{x}\\u003cextra\\u003e\\u003c\\u002fextra\\u003e\",\"legendgroup\":\"MINI\",\"marker\":{\"color\":\"#EF553B\",\"pattern\":{\"shape\":\"\"}},\"name\":\"MINI\",\"offsetgroup\":\"MINI\",\"orientation\":\"h\",\"showlegend\":true,\"textposition\":\"auto\",\"x\":[124],\"xaxis\":\"x\",\"y\":[\"MINI\"],\"yaxis\":\"y\",\"type\":\"bar\"},{\"alignmentgroup\":\"True\",\"hovertemplate\":\"Make=%{y}\\u003cbr\\u003eModel Year=2023\\u003cbr\\u003enumber_of_Vehicles=%{x}\\u003cextra\\u003e\\u003c\\u002fextra\\u003e\",\"legendgroup\":\"NISSAN\",\"marker\":{\"color\":\"#ab63fa\",\"pattern\":{\"shape\":\"\"}},\"name\":\"NISSAN\",\"offsetgroup\":\"NISSAN\",\"orientation\":\"h\",\"showlegend\":true,\"textposition\":\"auto\",\"x\":[149],\"xaxis\":\"x\",\"y\":[\"NISSAN\"],\"yaxis\":\"y\",\"type\":\"bar\"},{\"alignmentgroup\":\"True\",\"hovertemplate\":\"Make=%{y}\\u003cbr\\u003eModel Year=2023\\u003cbr\\u003enumber_of_Vehicles=%{x}\\u003cextra\\u003e\\u003c\\u002fextra\\u003e\",\"legendgroup\":\"POLESTAR\",\"marker\":{\"color\":\"#FFA15A\",\"pattern\":{\"shape\":\"\"}},\"name\":\"POLESTAR\",\"offsetgroup\":\"POLESTAR\",\"orientation\":\"h\",\"showlegend\":true,\"textposition\":\"auto\",\"x\":[88],\"xaxis\":\"x\",\"y\":[\"POLESTAR\"],\"yaxis\":\"y\",\"type\":\"bar\"},{\"alignmentgroup\":\"True\",\"hovertemplate\":\"Make=%{y}\\u003cbr\\u003eModel Year=2023\\u003cbr\\u003enumber_of_Vehicles=%{x}\\u003cextra\\u003e\\u003c\\u002fextra\\u003e\",\"legendgroup\":\"SUBARU\",\"marker\":{\"color\":\"#FF97FF\",\"pattern\":{\"shape\":\"\"}},\"name\":\"SUBARU\",\"offsetgroup\":\"SUBARU\",\"orientation\":\"h\",\"showlegend\":true,\"textposition\":\"auto\",\"x\":[1],\"xaxis\":\"x\",\"y\":[\"SUBARU\"],\"yaxis\":\"y\",\"type\":\"bar\"},{\"alignmentgroup\":\"True\",\"hovertemplate\":\"Make=%{y}\\u003cbr\\u003eModel Year=2023\\u003cbr\\u003enumber_of_Vehicles=%{x}\\u003cextra\\u003e\\u003c\\u002fextra\\u003e\",\"legendgroup\":\"TESLA\",\"marker\":{\"color\":\"#FECB52\",\"pattern\":{\"shape\":\"\"}},\"name\":\"TESLA\",\"offsetgroup\":\"TESLA\",\"orientation\":\"h\",\"showlegend\":true,\"textposition\":\"auto\",\"x\":[890],\"xaxis\":\"x\",\"y\":[\"TESLA\"],\"yaxis\":\"y\",\"type\":\"bar\"},{\"alignmentgroup\":\"True\",\"hovertemplate\":\"Make=%{y}\\u003cbr\\u003eModel Year=2023\\u003cbr\\u003enumber_of_Vehicles=%{x}\\u003cextra\\u003e\\u003c\\u002fextra\\u003e\",\"legendgroup\":\"VOLKSWAGEN\",\"marker\":{\"color\":\"#00cc96\",\"pattern\":{\"shape\":\"\"}},\"name\":\"VOLKSWAGEN\",\"offsetgroup\":\"VOLKSWAGEN\",\"orientation\":\"h\",\"showlegend\":true,\"textposition\":\"auto\",\"x\":[69],\"xaxis\":\"x\",\"y\":[\"VOLKSWAGEN\"],\"yaxis\":\"y\",\"type\":\"bar\"},{\"alignmentgroup\":\"True\",\"hovertemplate\":\"Make=%{y}\\u003cbr\\u003eModel Year=2023\\u003cbr\\u003enumber_of_Vehicles=%{x}\\u003cextra\\u003e\\u003c\\u002fextra\\u003e\",\"legendgroup\":\"VOLVO\",\"marker\":{\"color\":\"#ab63fa\",\"pattern\":{\"shape\":\"\"}},\"name\":\"VOLVO\",\"offsetgroup\":\"VOLVO\",\"orientation\":\"h\",\"showlegend\":true,\"textposition\":\"auto\",\"x\":[21],\"xaxis\":\"x\",\"y\":[\"VOLVO\"],\"yaxis\":\"y\",\"type\":\"bar\"}],\"name\":\"2023\"},{\"data\":[{\"alignmentgroup\":\"True\",\"hovertemplate\":\"Make=%{y}\\u003cbr\\u003eModel Year=2011\\u003cbr\\u003enumber_of_Vehicles=%{x}\\u003cextra\\u003e\\u003c\\u002fextra\\u003e\",\"legendgroup\":\"AZURE DYNAMICS\",\"marker\":{\"color\":\"#EF553B\",\"pattern\":{\"shape\":\"\"}},\"name\":\"AZURE DYNAMICS\",\"offsetgroup\":\"AZURE DYNAMICS\",\"orientation\":\"h\",\"showlegend\":true,\"textposition\":\"auto\",\"x\":[4],\"xaxis\":\"x\",\"y\":[\"AZURE DYNAMICS\"],\"yaxis\":\"y\",\"type\":\"bar\"},{\"alignmentgroup\":\"True\",\"hovertemplate\":\"Make=%{y}\\u003cbr\\u003eModel Year=2011\\u003cbr\\u003enumber_of_Vehicles=%{x}\\u003cextra\\u003e\\u003c\\u002fextra\\u003e\",\"legendgroup\":\"CHEVROLET\",\"marker\":{\"color\":\"#19d3f3\",\"pattern\":{\"shape\":\"\"}},\"name\":\"CHEVROLET\",\"offsetgroup\":\"CHEVROLET\",\"orientation\":\"h\",\"showlegend\":true,\"textposition\":\"auto\",\"x\":[71],\"xaxis\":\"x\",\"y\":[\"CHEVROLET\"],\"yaxis\":\"y\",\"type\":\"bar\"},{\"alignmentgroup\":\"True\",\"hovertemplate\":\"Make=%{y}\\u003cbr\\u003eModel Year=2011\\u003cbr\\u003enumber_of_Vehicles=%{x}\\u003cextra\\u003e\\u003c\\u002fextra\\u003e\",\"legendgroup\":\"NISSAN\",\"marker\":{\"color\":\"#ab63fa\",\"pattern\":{\"shape\":\"\"}},\"name\":\"NISSAN\",\"offsetgroup\":\"NISSAN\",\"orientation\":\"h\",\"showlegend\":true,\"textposition\":\"auto\",\"x\":[755],\"xaxis\":\"x\",\"y\":[\"NISSAN\"],\"yaxis\":\"y\",\"type\":\"bar\"},{\"alignmentgroup\":\"True\",\"hovertemplate\":\"Make=%{y}\\u003cbr\\u003eModel Year=2011\\u003cbr\\u003enumber_of_Vehicles=%{x}\\u003cextra\\u003e\\u003c\\u002fextra\\u003e\",\"legendgroup\":\"TESLA\",\"marker\":{\"color\":\"#FECB52\",\"pattern\":{\"shape\":\"\"}},\"name\":\"TESLA\",\"offsetgroup\":\"TESLA\",\"orientation\":\"h\",\"showlegend\":true,\"textposition\":\"auto\",\"x\":[7],\"xaxis\":\"x\",\"y\":[\"TESLA\"],\"yaxis\":\"y\",\"type\":\"bar\"},{\"alignmentgroup\":\"True\",\"hovertemplate\":\"Make=%{y}\\u003cbr\\u003eModel Year=2011\\u003cbr\\u003enumber_of_Vehicles=%{x}\\u003cextra\\u003e\\u003c\\u002fextra\\u003e\",\"legendgroup\":\"TH!NK\",\"marker\":{\"color\":\"#636efa\",\"pattern\":{\"shape\":\"\"}},\"name\":\"TH!NK\",\"offsetgroup\":\"TH!NK\",\"orientation\":\"h\",\"showlegend\":true,\"textposition\":\"auto\",\"x\":[3],\"xaxis\":\"x\",\"y\":[\"TH!NK\"],\"yaxis\":\"y\",\"type\":\"bar\"}],\"name\":\"2011\"},{\"data\":[{\"alignmentgroup\":\"True\",\"hovertemplate\":\"Make=%{y}\\u003cbr\\u003eModel Year=2012\\u003cbr\\u003enumber_of_Vehicles=%{x}\\u003cextra\\u003e\\u003c\\u002fextra\\u003e\",\"legendgroup\":\"AZURE DYNAMICS\",\"marker\":{\"color\":\"#EF553B\",\"pattern\":{\"shape\":\"\"}},\"name\":\"AZURE DYNAMICS\",\"offsetgroup\":\"AZURE DYNAMICS\",\"orientation\":\"h\",\"showlegend\":true,\"textposition\":\"auto\",\"x\":[3],\"xaxis\":\"x\",\"y\":[\"AZURE DYNAMICS\"],\"yaxis\":\"y\",\"type\":\"bar\"},{\"alignmentgroup\":\"True\",\"hovertemplate\":\"Make=%{y}\\u003cbr\\u003eModel Year=2012\\u003cbr\\u003enumber_of_Vehicles=%{x}\\u003cextra\\u003e\\u003c\\u002fextra\\u003e\",\"legendgroup\":\"CHEVROLET\",\"marker\":{\"color\":\"#19d3f3\",\"pattern\":{\"shape\":\"\"}},\"name\":\"CHEVROLET\",\"offsetgroup\":\"CHEVROLET\",\"orientation\":\"h\",\"showlegend\":true,\"textposition\":\"auto\",\"x\":[496],\"xaxis\":\"x\",\"y\":[\"CHEVROLET\"],\"yaxis\":\"y\",\"type\":\"bar\"},{\"alignmentgroup\":\"True\",\"hovertemplate\":\"Make=%{y}\\u003cbr\\u003eModel Year=2012\\u003cbr\\u003enumber_of_Vehicles=%{x}\\u003cextra\\u003e\\u003c\\u002fextra\\u003e\",\"legendgroup\":\"FISKER\",\"marker\":{\"color\":\"#FF97FF\",\"pattern\":{\"shape\":\"\"}},\"name\":\"FISKER\",\"offsetgroup\":\"FISKER\",\"orientation\":\"h\",\"showlegend\":true,\"textposition\":\"auto\",\"x\":[20],\"xaxis\":\"x\",\"y\":[\"FISKER\"],\"yaxis\":\"y\",\"type\":\"bar\"},{\"alignmentgroup\":\"True\",\"hovertemplate\":\"Make=%{y}\\u003cbr\\u003eModel Year=2012\\u003cbr\\u003enumber_of_Vehicles=%{x}\\u003cextra\\u003e\\u003c\\u002fextra\\u003e\",\"legendgroup\":\"FORD\",\"marker\":{\"color\":\"#FECB52\",\"pattern\":{\"shape\":\"\"}},\"name\":\"FORD\",\"offsetgroup\":\"FORD\",\"orientation\":\"h\",\"showlegend\":true,\"textposition\":\"auto\",\"x\":[15],\"xaxis\":\"x\",\"y\":[\"FORD\"],\"yaxis\":\"y\",\"type\":\"bar\"},{\"alignmentgroup\":\"True\",\"hovertemplate\":\"Make=%{y}\\u003cbr\\u003eModel Year=2012\\u003cbr\\u003enumber_of_Vehicles=%{x}\\u003cextra\\u003e\\u003c\\u002fextra\\u003e\",\"legendgroup\":\"MITSUBISHI\",\"marker\":{\"color\":\"#00cc96\",\"pattern\":{\"shape\":\"\"}},\"name\":\"MITSUBISHI\",\"offsetgroup\":\"MITSUBISHI\",\"orientation\":\"h\",\"showlegend\":true,\"textposition\":\"auto\",\"x\":[42],\"xaxis\":\"x\",\"y\":[\"MITSUBISHI\"],\"yaxis\":\"y\",\"type\":\"bar\"},{\"alignmentgroup\":\"True\",\"hovertemplate\":\"Make=%{y}\\u003cbr\\u003eModel Year=2012\\u003cbr\\u003enumber_of_Vehicles=%{x}\\u003cextra\\u003e\\u003c\\u002fextra\\u003e\",\"legendgroup\":\"NISSAN\",\"marker\":{\"color\":\"#ab63fa\",\"pattern\":{\"shape\":\"\"}},\"name\":\"NISSAN\",\"offsetgroup\":\"NISSAN\",\"orientation\":\"h\",\"showlegend\":true,\"textposition\":\"auto\",\"x\":[610],\"xaxis\":\"x\",\"y\":[\"NISSAN\"],\"yaxis\":\"y\",\"type\":\"bar\"},{\"alignmentgroup\":\"True\",\"hovertemplate\":\"Make=%{y}\\u003cbr\\u003eModel Year=2012\\u003cbr\\u003enumber_of_Vehicles=%{x}\\u003cextra\\u003e\\u003c\\u002fextra\\u003e\",\"legendgroup\":\"TESLA\",\"marker\":{\"color\":\"#FECB52\",\"pattern\":{\"shape\":\"\"}},\"name\":\"TESLA\",\"offsetgroup\":\"TESLA\",\"orientation\":\"h\",\"showlegend\":true,\"textposition\":\"auto\",\"x\":[134],\"xaxis\":\"x\",\"y\":[\"TESLA\"],\"yaxis\":\"y\",\"type\":\"bar\"},{\"alignmentgroup\":\"True\",\"hovertemplate\":\"Make=%{y}\\u003cbr\\u003eModel Year=2012\\u003cbr\\u003enumber_of_Vehicles=%{x}\\u003cextra\\u003e\\u003c\\u002fextra\\u003e\",\"legendgroup\":\"TOYOTA\",\"marker\":{\"color\":\"#EF553B\",\"pattern\":{\"shape\":\"\"}},\"name\":\"TOYOTA\",\"offsetgroup\":\"TOYOTA\",\"orientation\":\"h\",\"showlegend\":true,\"textposition\":\"auto\",\"x\":[385],\"xaxis\":\"x\",\"y\":[\"TOYOTA\"],\"yaxis\":\"y\",\"type\":\"bar\"}],\"name\":\"2012\"},{\"data\":[{\"alignmentgroup\":\"True\",\"hovertemplate\":\"Make=%{y}\\u003cbr\\u003eModel Year=2014\\u003cbr\\u003enumber_of_Vehicles=%{x}\\u003cextra\\u003e\\u003c\\u002fextra\\u003e\",\"legendgroup\":\"BMW\",\"marker\":{\"color\":\"#ab63fa\",\"pattern\":{\"shape\":\"\"}},\"name\":\"BMW\",\"offsetgroup\":\"BMW\",\"orientation\":\"h\",\"showlegend\":true,\"textposition\":\"auto\",\"x\":[457],\"xaxis\":\"x\",\"y\":[\"BMW\"],\"yaxis\":\"y\",\"type\":\"bar\"},{\"alignmentgroup\":\"True\",\"hovertemplate\":\"Make=%{y}\\u003cbr\\u003eModel Year=2014\\u003cbr\\u003enumber_of_Vehicles=%{x}\\u003cextra\\u003e\\u003c\\u002fextra\\u003e\",\"legendgroup\":\"CADILLAC\",\"marker\":{\"color\":\"#FFA15A\",\"pattern\":{\"shape\":\"\"}},\"name\":\"CADILLAC\",\"offsetgroup\":\"CADILLAC\",\"orientation\":\"h\",\"showlegend\":true,\"textposition\":\"auto\",\"x\":[58],\"xaxis\":\"x\",\"y\":[\"CADILLAC\"],\"yaxis\":\"y\",\"type\":\"bar\"},{\"alignmentgroup\":\"True\",\"hovertemplate\":\"Make=%{y}\\u003cbr\\u003eModel Year=2014\\u003cbr\\u003enumber_of_Vehicles=%{x}\\u003cextra\\u003e\\u003c\\u002fextra\\u003e\",\"legendgroup\":\"CHEVROLET\",\"marker\":{\"color\":\"#19d3f3\",\"pattern\":{\"shape\":\"\"}},\"name\":\"CHEVROLET\",\"offsetgroup\":\"CHEVROLET\",\"orientation\":\"h\",\"showlegend\":true,\"textposition\":\"auto\",\"x\":[724],\"xaxis\":\"x\",\"y\":[\"CHEVROLET\"],\"yaxis\":\"y\",\"type\":\"bar\"},{\"alignmentgroup\":\"True\",\"hovertemplate\":\"Make=%{y}\\u003cbr\\u003eModel Year=2014\\u003cbr\\u003enumber_of_Vehicles=%{x}\\u003cextra\\u003e\\u003c\\u002fextra\\u003e\",\"legendgroup\":\"FIAT\",\"marker\":{\"color\":\"#B6E880\",\"pattern\":{\"shape\":\"\"}},\"name\":\"FIAT\",\"offsetgroup\":\"FIAT\",\"orientation\":\"h\",\"showlegend\":true,\"textposition\":\"auto\",\"x\":[97],\"xaxis\":\"x\",\"y\":[\"FIAT\"],\"yaxis\":\"y\",\"type\":\"bar\"},{\"alignmentgroup\":\"True\",\"hovertemplate\":\"Make=%{y}\\u003cbr\\u003eModel Year=2014\\u003cbr\\u003enumber_of_Vehicles=%{x}\\u003cextra\\u003e\\u003c\\u002fextra\\u003e\",\"legendgroup\":\"FORD\",\"marker\":{\"color\":\"#FECB52\",\"pattern\":{\"shape\":\"\"}},\"name\":\"FORD\",\"offsetgroup\":\"FORD\",\"orientation\":\"h\",\"showlegend\":true,\"textposition\":\"auto\",\"x\":[628],\"xaxis\":\"x\",\"y\":[\"FORD\"],\"yaxis\":\"y\",\"type\":\"bar\"},{\"alignmentgroup\":\"True\",\"hovertemplate\":\"Make=%{y}\\u003cbr\\u003eModel Year=2014\\u003cbr\\u003enumber_of_Vehicles=%{x}\\u003cextra\\u003e\\u003c\\u002fextra\\u003e\",\"legendgroup\":\"HONDA\",\"marker\":{\"color\":\"#EF553B\",\"pattern\":{\"shape\":\"\"}},\"name\":\"HONDA\",\"offsetgroup\":\"HONDA\",\"orientation\":\"h\",\"showlegend\":true,\"textposition\":\"auto\",\"x\":[9],\"xaxis\":\"x\",\"y\":[\"HONDA\"],\"yaxis\":\"y\",\"type\":\"bar\"},{\"alignmentgroup\":\"True\",\"hovertemplate\":\"Make=%{y}\\u003cbr\\u003eModel Year=2014\\u003cbr\\u003enumber_of_Vehicles=%{x}\\u003cextra\\u003e\\u003c\\u002fextra\\u003e\",\"legendgroup\":\"MERCEDES-BENZ\",\"marker\":{\"color\":\"#636efa\",\"pattern\":{\"shape\":\"\"}},\"name\":\"MERCEDES-BENZ\",\"offsetgroup\":\"MERCEDES-BENZ\",\"orientation\":\"h\",\"showlegend\":true,\"textposition\":\"auto\",\"x\":[31],\"xaxis\":\"x\",\"y\":[\"MERCEDES-BENZ\"],\"yaxis\":\"y\",\"type\":\"bar\"},{\"alignmentgroup\":\"True\",\"hovertemplate\":\"Make=%{y}\\u003cbr\\u003eModel Year=2014\\u003cbr\\u003enumber_of_Vehicles=%{x}\\u003cextra\\u003e\\u003c\\u002fextra\\u003e\",\"legendgroup\":\"MITSUBISHI\",\"marker\":{\"color\":\"#00cc96\",\"pattern\":{\"shape\":\"\"}},\"name\":\"MITSUBISHI\",\"offsetgroup\":\"MITSUBISHI\",\"orientation\":\"h\",\"showlegend\":true,\"textposition\":\"auto\",\"x\":[10],\"xaxis\":\"x\",\"y\":[\"MITSUBISHI\"],\"yaxis\":\"y\",\"type\":\"bar\"},{\"alignmentgroup\":\"True\",\"hovertemplate\":\"Make=%{y}\\u003cbr\\u003eModel Year=2014\\u003cbr\\u003enumber_of_Vehicles=%{x}\\u003cextra\\u003e\\u003c\\u002fextra\\u003e\",\"legendgroup\":\"NISSAN\",\"marker\":{\"color\":\"#ab63fa\",\"pattern\":{\"shape\":\"\"}},\"name\":\"NISSAN\",\"offsetgroup\":\"NISSAN\",\"orientation\":\"h\",\"showlegend\":true,\"textposition\":\"auto\",\"x\":[694],\"xaxis\":\"x\",\"y\":[\"NISSAN\"],\"yaxis\":\"y\",\"type\":\"bar\"},{\"alignmentgroup\":\"True\",\"hovertemplate\":\"Make=%{y}\\u003cbr\\u003eModel Year=2014\\u003cbr\\u003enumber_of_Vehicles=%{x}\\u003cextra\\u003e\\u003c\\u002fextra\\u003e\",\"legendgroup\":\"PORSCHE\",\"marker\":{\"color\":\"#19d3f3\",\"pattern\":{\"shape\":\"\"}},\"name\":\"PORSCHE\",\"offsetgroup\":\"PORSCHE\",\"orientation\":\"h\",\"showlegend\":true,\"textposition\":\"auto\",\"x\":[8],\"xaxis\":\"x\",\"y\":[\"PORSCHE\"],\"yaxis\":\"y\",\"type\":\"bar\"},{\"alignmentgroup\":\"True\",\"hovertemplate\":\"Make=%{y}\\u003cbr\\u003eModel Year=2014\\u003cbr\\u003enumber_of_Vehicles=%{x}\\u003cextra\\u003e\\u003c\\u002fextra\\u003e\",\"legendgroup\":\"SMART\",\"marker\":{\"color\":\"#B6E880\",\"pattern\":{\"shape\":\"\"}},\"name\":\"SMART\",\"offsetgroup\":\"SMART\",\"orientation\":\"h\",\"showlegend\":true,\"textposition\":\"auto\",\"x\":[71],\"xaxis\":\"x\",\"y\":[\"SMART\"],\"yaxis\":\"y\",\"type\":\"bar\"},{\"alignmentgroup\":\"True\",\"hovertemplate\":\"Make=%{y}\\u003cbr\\u003eModel Year=2014\\u003cbr\\u003enumber_of_Vehicles=%{x}\\u003cextra\\u003e\\u003c\\u002fextra\\u003e\",\"legendgroup\":\"TESLA\",\"marker\":{\"color\":\"#FECB52\",\"pattern\":{\"shape\":\"\"}},\"name\":\"TESLA\",\"offsetgroup\":\"TESLA\",\"orientation\":\"h\",\"showlegend\":true,\"textposition\":\"auto\",\"x\":[683],\"xaxis\":\"x\",\"y\":[\"TESLA\"],\"yaxis\":\"y\",\"type\":\"bar\"},{\"alignmentgroup\":\"True\",\"hovertemplate\":\"Make=%{y}\\u003cbr\\u003eModel Year=2014\\u003cbr\\u003enumber_of_Vehicles=%{x}\\u003cextra\\u003e\\u003c\\u002fextra\\u003e\",\"legendgroup\":\"TOYOTA\",\"marker\":{\"color\":\"#EF553B\",\"pattern\":{\"shape\":\"\"}},\"name\":\"TOYOTA\",\"offsetgroup\":\"TOYOTA\",\"orientation\":\"h\",\"showlegend\":true,\"textposition\":\"auto\",\"x\":[215],\"xaxis\":\"x\",\"y\":[\"TOYOTA\"],\"yaxis\":\"y\",\"type\":\"bar\"}],\"name\":\"2014\"},{\"data\":[{\"alignmentgroup\":\"True\",\"hovertemplate\":\"Make=%{y}\\u003cbr\\u003eModel Year=2015\\u003cbr\\u003enumber_of_Vehicles=%{x}\\u003cextra\\u003e\\u003c\\u002fextra\\u003e\",\"legendgroup\":\"BMW\",\"marker\":{\"color\":\"#ab63fa\",\"pattern\":{\"shape\":\"\"}},\"name\":\"BMW\",\"offsetgroup\":\"BMW\",\"orientation\":\"h\",\"showlegend\":true,\"textposition\":\"auto\",\"x\":[403],\"xaxis\":\"x\",\"y\":[\"BMW\"],\"yaxis\":\"y\",\"type\":\"bar\"},{\"alignmentgroup\":\"True\",\"hovertemplate\":\"Make=%{y}\\u003cbr\\u003eModel Year=2015\\u003cbr\\u003enumber_of_Vehicles=%{x}\\u003cextra\\u003e\\u003c\\u002fextra\\u003e\",\"legendgroup\":\"CHEVROLET\",\"marker\":{\"color\":\"#19d3f3\",\"pattern\":{\"shape\":\"\"}},\"name\":\"CHEVROLET\",\"offsetgroup\":\"CHEVROLET\",\"orientation\":\"h\",\"showlegend\":true,\"textposition\":\"auto\",\"x\":[467],\"xaxis\":\"x\",\"y\":[\"CHEVROLET\"],\"yaxis\":\"y\",\"type\":\"bar\"},{\"alignmentgroup\":\"True\",\"hovertemplate\":\"Make=%{y}\\u003cbr\\u003eModel Year=2015\\u003cbr\\u003enumber_of_Vehicles=%{x}\\u003cextra\\u003e\\u003c\\u002fextra\\u003e\",\"legendgroup\":\"FIAT\",\"marker\":{\"color\":\"#B6E880\",\"pattern\":{\"shape\":\"\"}},\"name\":\"FIAT\",\"offsetgroup\":\"FIAT\",\"orientation\":\"h\",\"showlegend\":true,\"textposition\":\"auto\",\"x\":[242],\"xaxis\":\"x\",\"y\":[\"FIAT\"],\"yaxis\":\"y\",\"type\":\"bar\"},{\"alignmentgroup\":\"True\",\"hovertemplate\":\"Make=%{y}\\u003cbr\\u003eModel Year=2015\\u003cbr\\u003enumber_of_Vehicles=%{x}\\u003cextra\\u003e\\u003c\\u002fextra\\u003e\",\"legendgroup\":\"FORD\",\"marker\":{\"color\":\"#FECB52\",\"pattern\":{\"shape\":\"\"}},\"name\":\"FORD\",\"offsetgroup\":\"FORD\",\"orientation\":\"h\",\"showlegend\":true,\"textposition\":\"auto\",\"x\":[556],\"xaxis\":\"x\",\"y\":[\"FORD\"],\"yaxis\":\"y\",\"type\":\"bar\"},{\"alignmentgroup\":\"True\",\"hovertemplate\":\"Make=%{y}\\u003cbr\\u003eModel Year=2015\\u003cbr\\u003enumber_of_Vehicles=%{x}\\u003cextra\\u003e\\u003c\\u002fextra\\u003e\",\"legendgroup\":\"KIA\",\"marker\":{\"color\":\"#19d3f3\",\"pattern\":{\"shape\":\"\"}},\"name\":\"KIA\",\"offsetgroup\":\"KIA\",\"orientation\":\"h\",\"showlegend\":true,\"textposition\":\"auto\",\"x\":[22],\"xaxis\":\"x\",\"y\":[\"KIA\"],\"yaxis\":\"y\",\"type\":\"bar\"},{\"alignmentgroup\":\"True\",\"hovertemplate\":\"Make=%{y}\\u003cbr\\u003eModel Year=2015\\u003cbr\\u003enumber_of_Vehicles=%{x}\\u003cextra\\u003e\\u003c\\u002fextra\\u003e\",\"legendgroup\":\"MERCEDES-BENZ\",\"marker\":{\"color\":\"#636efa\",\"pattern\":{\"shape\":\"\"}},\"name\":\"MERCEDES-BENZ\",\"offsetgroup\":\"MERCEDES-BENZ\",\"orientation\":\"h\",\"showlegend\":true,\"textposition\":\"auto\",\"x\":[24],\"xaxis\":\"x\",\"y\":[\"MERCEDES-BENZ\"],\"yaxis\":\"y\",\"type\":\"bar\"},{\"alignmentgroup\":\"True\",\"hovertemplate\":\"Make=%{y}\\u003cbr\\u003eModel Year=2015\\u003cbr\\u003enumber_of_Vehicles=%{x}\\u003cextra\\u003e\\u003c\\u002fextra\\u003e\",\"legendgroup\":\"NISSAN\",\"marker\":{\"color\":\"#ab63fa\",\"pattern\":{\"shape\":\"\"}},\"name\":\"NISSAN\",\"offsetgroup\":\"NISSAN\",\"orientation\":\"h\",\"showlegend\":true,\"textposition\":\"auto\",\"x\":[1839],\"xaxis\":\"x\",\"y\":[\"NISSAN\"],\"yaxis\":\"y\",\"type\":\"bar\"},{\"alignmentgroup\":\"True\",\"hovertemplate\":\"Make=%{y}\\u003cbr\\u003eModel Year=2015\\u003cbr\\u003enumber_of_Vehicles=%{x}\\u003cextra\\u003e\\u003c\\u002fextra\\u003e\",\"legendgroup\":\"PORSCHE\",\"marker\":{\"color\":\"#19d3f3\",\"pattern\":{\"shape\":\"\"}},\"name\":\"PORSCHE\",\"offsetgroup\":\"PORSCHE\",\"orientation\":\"h\",\"showlegend\":true,\"textposition\":\"auto\",\"x\":[33],\"xaxis\":\"x\",\"y\":[\"PORSCHE\"],\"yaxis\":\"y\",\"type\":\"bar\"},{\"alignmentgroup\":\"True\",\"hovertemplate\":\"Make=%{y}\\u003cbr\\u003eModel Year=2015\\u003cbr\\u003enumber_of_Vehicles=%{x}\\u003cextra\\u003e\\u003c\\u002fextra\\u003e\",\"legendgroup\":\"SMART\",\"marker\":{\"color\":\"#B6E880\",\"pattern\":{\"shape\":\"\"}},\"name\":\"SMART\",\"offsetgroup\":\"SMART\",\"orientation\":\"h\",\"showlegend\":true,\"textposition\":\"auto\",\"x\":[52],\"xaxis\":\"x\",\"y\":[\"SMART\"],\"yaxis\":\"y\",\"type\":\"bar\"},{\"alignmentgroup\":\"True\",\"hovertemplate\":\"Make=%{y}\\u003cbr\\u003eModel Year=2015\\u003cbr\\u003enumber_of_Vehicles=%{x}\\u003cextra\\u003e\\u003c\\u002fextra\\u003e\",\"legendgroup\":\"TESLA\",\"marker\":{\"color\":\"#FECB52\",\"pattern\":{\"shape\":\"\"}},\"name\":\"TESLA\",\"offsetgroup\":\"TESLA\",\"orientation\":\"h\",\"showlegend\":true,\"textposition\":\"auto\",\"x\":[1089],\"xaxis\":\"x\",\"y\":[\"TESLA\"],\"yaxis\":\"y\",\"type\":\"bar\"},{\"alignmentgroup\":\"True\",\"hovertemplate\":\"Make=%{y}\\u003cbr\\u003eModel Year=2015\\u003cbr\\u003enumber_of_Vehicles=%{x}\\u003cextra\\u003e\\u003c\\u002fextra\\u003e\",\"legendgroup\":\"TOYOTA\",\"marker\":{\"color\":\"#EF553B\",\"pattern\":{\"shape\":\"\"}},\"name\":\"TOYOTA\",\"offsetgroup\":\"TOYOTA\",\"orientation\":\"h\",\"showlegend\":true,\"textposition\":\"auto\",\"x\":[89],\"xaxis\":\"x\",\"y\":[\"TOYOTA\"],\"yaxis\":\"y\",\"type\":\"bar\"},{\"alignmentgroup\":\"True\",\"hovertemplate\":\"Make=%{y}\\u003cbr\\u003eModel Year=2015\\u003cbr\\u003enumber_of_Vehicles=%{x}\\u003cextra\\u003e\\u003c\\u002fextra\\u003e\",\"legendgroup\":\"VOLKSWAGEN\",\"marker\":{\"color\":\"#00cc96\",\"pattern\":{\"shape\":\"\"}},\"name\":\"VOLKSWAGEN\",\"offsetgroup\":\"VOLKSWAGEN\",\"orientation\":\"h\",\"showlegend\":true,\"textposition\":\"auto\",\"x\":[124],\"xaxis\":\"x\",\"y\":[\"VOLKSWAGEN\"],\"yaxis\":\"y\",\"type\":\"bar\"}],\"name\":\"2015\"},{\"data\":[{\"alignmentgroup\":\"True\",\"hovertemplate\":\"Make=%{y}\\u003cbr\\u003eModel Year=1997\\u003cbr\\u003enumber_of_Vehicles=%{x}\\u003cextra\\u003e\\u003c\\u002fextra\\u003e\",\"legendgroup\":\"CHEVROLET\",\"marker\":{\"color\":\"#19d3f3\",\"pattern\":{\"shape\":\"\"}},\"name\":\"CHEVROLET\",\"offsetgroup\":\"CHEVROLET\",\"orientation\":\"h\",\"showlegend\":true,\"textposition\":\"auto\",\"x\":[1],\"xaxis\":\"x\",\"y\":[\"CHEVROLET\"],\"yaxis\":\"y\",\"type\":\"bar\"}],\"name\":\"1997\"},{\"data\":[{\"alignmentgroup\":\"True\",\"hovertemplate\":\"Make=%{y}\\u003cbr\\u003eModel Year=2013\\u003cbr\\u003enumber_of_Vehicles=%{x}\\u003cextra\\u003e\\u003c\\u002fextra\\u003e\",\"legendgroup\":\"CHEVROLET\",\"marker\":{\"color\":\"#19d3f3\",\"pattern\":{\"shape\":\"\"}},\"name\":\"CHEVROLET\",\"offsetgroup\":\"CHEVROLET\",\"orientation\":\"h\",\"showlegend\":true,\"textposition\":\"auto\",\"x\":[818],\"xaxis\":\"x\",\"y\":[\"CHEVROLET\"],\"yaxis\":\"y\",\"type\":\"bar\"},{\"alignmentgroup\":\"True\",\"hovertemplate\":\"Make=%{y}\\u003cbr\\u003eModel Year=2013\\u003cbr\\u003enumber_of_Vehicles=%{x}\\u003cextra\\u003e\\u003c\\u002fextra\\u003e\",\"legendgroup\":\"FIAT\",\"marker\":{\"color\":\"#B6E880\",\"pattern\":{\"shape\":\"\"}},\"name\":\"FIAT\",\"offsetgroup\":\"FIAT\",\"orientation\":\"h\",\"showlegend\":true,\"textposition\":\"auto\",\"x\":[106],\"xaxis\":\"x\",\"y\":[\"FIAT\"],\"yaxis\":\"y\",\"type\":\"bar\"},{\"alignmentgroup\":\"True\",\"hovertemplate\":\"Make=%{y}\\u003cbr\\u003eModel Year=2013\\u003cbr\\u003enumber_of_Vehicles=%{x}\\u003cextra\\u003e\\u003c\\u002fextra\\u003e\",\"legendgroup\":\"FORD\",\"marker\":{\"color\":\"#FECB52\",\"pattern\":{\"shape\":\"\"}},\"name\":\"FORD\",\"offsetgroup\":\"FORD\",\"orientation\":\"h\",\"showlegend\":true,\"textposition\":\"auto\",\"x\":[662],\"xaxis\":\"x\",\"y\":[\"FORD\"],\"yaxis\":\"y\",\"type\":\"bar\"},{\"alignmentgroup\":\"True\",\"hovertemplate\":\"Make=%{y}\\u003cbr\\u003eModel Year=2013\\u003cbr\\u003enumber_of_Vehicles=%{x}\\u003cextra\\u003e\\u003c\\u002fextra\\u003e\",\"legendgroup\":\"NISSAN\",\"marker\":{\"color\":\"#ab63fa\",\"pattern\":{\"shape\":\"\"}},\"name\":\"NISSAN\",\"offsetgroup\":\"NISSAN\",\"orientation\":\"h\",\"showlegend\":true,\"textposition\":\"auto\",\"x\":[1966],\"xaxis\":\"x\",\"y\":[\"NISSAN\"],\"yaxis\":\"y\",\"type\":\"bar\"},{\"alignmentgroup\":\"True\",\"hovertemplate\":\"Make=%{y}\\u003cbr\\u003eModel Year=2013\\u003cbr\\u003enumber_of_Vehicles=%{x}\\u003cextra\\u003e\\u003c\\u002fextra\\u003e\",\"legendgroup\":\"SMART\",\"marker\":{\"color\":\"#B6E880\",\"pattern\":{\"shape\":\"\"}},\"name\":\"SMART\",\"offsetgroup\":\"SMART\",\"orientation\":\"h\",\"showlegend\":true,\"textposition\":\"auto\",\"x\":[29],\"xaxis\":\"x\",\"y\":[\"SMART\"],\"yaxis\":\"y\",\"type\":\"bar\"},{\"alignmentgroup\":\"True\",\"hovertemplate\":\"Make=%{y}\\u003cbr\\u003eModel Year=2013\\u003cbr\\u003enumber_of_Vehicles=%{x}\\u003cextra\\u003e\\u003c\\u002fextra\\u003e\",\"legendgroup\":\"TESLA\",\"marker\":{\"color\":\"#FECB52\",\"pattern\":{\"shape\":\"\"}},\"name\":\"TESLA\",\"offsetgroup\":\"TESLA\",\"orientation\":\"h\",\"showlegend\":true,\"textposition\":\"auto\",\"x\":[814],\"xaxis\":\"x\",\"y\":[\"TESLA\"],\"yaxis\":\"y\",\"type\":\"bar\"},{\"alignmentgroup\":\"True\",\"hovertemplate\":\"Make=%{y}\\u003cbr\\u003eModel Year=2013\\u003cbr\\u003enumber_of_Vehicles=%{x}\\u003cextra\\u003e\\u003c\\u002fextra\\u003e\",\"legendgroup\":\"TOYOTA\",\"marker\":{\"color\":\"#EF553B\",\"pattern\":{\"shape\":\"\"}},\"name\":\"TOYOTA\",\"offsetgroup\":\"TOYOTA\",\"orientation\":\"h\",\"showlegend\":true,\"textposition\":\"auto\",\"x\":[296],\"xaxis\":\"x\",\"y\":[\"TOYOTA\"],\"yaxis\":\"y\",\"type\":\"bar\"}],\"name\":\"2013\"},{\"data\":[{\"alignmentgroup\":\"True\",\"hovertemplate\":\"Make=%{y}\\u003cbr\\u003eModel Year=1998\\u003cbr\\u003enumber_of_Vehicles=%{x}\\u003cextra\\u003e\\u003c\\u002fextra\\u003e\",\"legendgroup\":\"FORD\",\"marker\":{\"color\":\"#FECB52\",\"pattern\":{\"shape\":\"\"}},\"name\":\"FORD\",\"offsetgroup\":\"FORD\",\"orientation\":\"h\",\"showlegend\":true,\"textposition\":\"auto\",\"x\":[1],\"xaxis\":\"x\",\"y\":[\"FORD\"],\"yaxis\":\"y\",\"type\":\"bar\"}],\"name\":\"1998\"},{\"data\":[{\"alignmentgroup\":\"True\",\"hovertemplate\":\"Make=%{y}\\u003cbr\\u003eModel Year=1999\\u003cbr\\u003enumber_of_Vehicles=%{x}\\u003cextra\\u003e\\u003c\\u002fextra\\u003e\",\"legendgroup\":\"FORD\",\"marker\":{\"color\":\"#FECB52\",\"pattern\":{\"shape\":\"\"}},\"name\":\"FORD\",\"offsetgroup\":\"FORD\",\"orientation\":\"h\",\"showlegend\":true,\"textposition\":\"auto\",\"x\":[3],\"xaxis\":\"x\",\"y\":[\"FORD\"],\"yaxis\":\"y\",\"type\":\"bar\"}],\"name\":\"1999\"},{\"data\":[{\"alignmentgroup\":\"True\",\"hovertemplate\":\"Make=%{y}\\u003cbr\\u003eModel Year=2000\\u003cbr\\u003enumber_of_Vehicles=%{x}\\u003cextra\\u003e\\u003c\\u002fextra\\u003e\",\"legendgroup\":\"FORD\",\"marker\":{\"color\":\"#FECB52\",\"pattern\":{\"shape\":\"\"}},\"name\":\"FORD\",\"offsetgroup\":\"FORD\",\"orientation\":\"h\",\"showlegend\":true,\"textposition\":\"auto\",\"x\":[10],\"xaxis\":\"x\",\"y\":[\"FORD\"],\"yaxis\":\"y\",\"type\":\"bar\"}],\"name\":\"2000\"},{\"data\":[{\"alignmentgroup\":\"True\",\"hovertemplate\":\"Make=%{y}\\u003cbr\\u003eModel Year=2008\\u003cbr\\u003enumber_of_Vehicles=%{x}\\u003cextra\\u003e\\u003c\\u002fextra\\u003e\",\"legendgroup\":\"TESLA\",\"marker\":{\"color\":\"#FECB52\",\"pattern\":{\"shape\":\"\"}},\"name\":\"TESLA\",\"offsetgroup\":\"TESLA\",\"orientation\":\"h\",\"showlegend\":true,\"textposition\":\"auto\",\"x\":[23],\"xaxis\":\"x\",\"y\":[\"TESLA\"],\"yaxis\":\"y\",\"type\":\"bar\"}],\"name\":\"2008\"},{\"data\":[{\"alignmentgroup\":\"True\",\"hovertemplate\":\"Make=%{y}\\u003cbr\\u003eModel Year=2010\\u003cbr\\u003enumber_of_Vehicles=%{x}\\u003cextra\\u003e\\u003c\\u002fextra\\u003e\",\"legendgroup\":\"TESLA\",\"marker\":{\"color\":\"#FECB52\",\"pattern\":{\"shape\":\"\"}},\"name\":\"TESLA\",\"offsetgroup\":\"TESLA\",\"orientation\":\"h\",\"showlegend\":true,\"textposition\":\"auto\",\"x\":[24],\"xaxis\":\"x\",\"y\":[\"TESLA\"],\"yaxis\":\"y\",\"type\":\"bar\"}],\"name\":\"2010\"},{\"data\":[{\"alignmentgroup\":\"True\",\"hovertemplate\":\"Make=%{y}\\u003cbr\\u003eModel Year=2002\\u003cbr\\u003enumber_of_Vehicles=%{x}\\u003cextra\\u003e\\u003c\\u002fextra\\u003e\",\"legendgroup\":\"TOYOTA\",\"marker\":{\"color\":\"#EF553B\",\"pattern\":{\"shape\":\"\"}},\"name\":\"TOYOTA\",\"offsetgroup\":\"TOYOTA\",\"orientation\":\"h\",\"showlegend\":true,\"textposition\":\"auto\",\"x\":[2],\"xaxis\":\"x\",\"y\":[\"TOYOTA\"],\"yaxis\":\"y\",\"type\":\"bar\"}],\"name\":\"2002\"}]);\n",
       "                        }).then(function(){\n",
       "                            \n",
       "var gd = document.getElementById('088322ff-6929-4115-9448-9564986a4ca2');\n",
       "var x = new MutationObserver(function (mutations, observer) {{\n",
       "        var display = window.getComputedStyle(gd).display;\n",
       "        if (!display || display === 'none') {{\n",
       "            console.log([gd, 'removed!']);\n",
       "            Plotly.purge(gd);\n",
       "            observer.disconnect();\n",
       "        }}\n",
       "}});\n",
       "\n",
       "// Listen for the removal of the full notebook cells\n",
       "var notebookContainer = gd.closest('#notebook-container');\n",
       "if (notebookContainer) {{\n",
       "    x.observe(notebookContainer, {childList: true});\n",
       "}}\n",
       "\n",
       "// Listen for the clearing of the current output cell\n",
       "var outputEl = gd.closest('.output');\n",
       "if (outputEl) {{\n",
       "    x.observe(outputEl, {childList: true});\n",
       "}}\n",
       "\n",
       "                        })                };                });            </script>        </div>"
      ]
     },
     "metadata": {},
     "output_type": "display_data"
    }
   ],
   "source": [
    "fig = px.bar(evcar_per_year,\n",
    "             y='Make',  \n",
    "             x='number_of_Vehicles',  \n",
    "             color='Make',  \n",
    "             animation_frame='Model Year',  \n",
    "             orientation='h',  \n",
    "             title='EV Brand and their Count Over the Years',\n",
    "             labels={'Number_of_Vehicles': 'Number of EV Vehicles'},\n",
    "             range_x=[0, 3000]\n",
    "            )\n",
    "\n",
    "fig.update_traces(texttemplate='%{x}',  \n",
    "                  textposition='outside',  \n",
    "                  textfont_size=16)  \n",
    "\n",
    "fig.update_layout(\n",
    "    xaxis=dict(showgrid=True, gridcolor='LightGray'),  \n",
    "    yaxis_title='Brand',\n",
    "    xaxis_title='Number of EV Vehicles',\n",
    "    showlegend=True,  \n",
    "    title_x=0.5,  \n",
    "    title_font=dict(size=20),  \n",
    "    margin=dict(l=50, r=50, t=50, b=50),  \n",
    "    width=800,  \n",
    "    height=600 \n",
    ")\n",
    "\n",
    "fig.show()"
   ]
  },
  {
   "cell_type": "code",
   "execution_count": null,
   "id": "83e26a5a-2450-419c-951c-27a8bc937de4",
   "metadata": {},
   "outputs": [],
   "source": []
  }
 ],
 "metadata": {
  "kernelspec": {
   "display_name": "Python 3 (ipykernel)",
   "language": "python",
   "name": "python3"
  },
  "language_info": {
   "codemirror_mode": {
    "name": "ipython",
    "version": 3
   },
   "file_extension": ".py",
   "mimetype": "text/x-python",
   "name": "python",
   "nbconvert_exporter": "python",
   "pygments_lexer": "ipython3",
   "version": "3.12.4"
  }
 },
 "nbformat": 4,
 "nbformat_minor": 5
}
